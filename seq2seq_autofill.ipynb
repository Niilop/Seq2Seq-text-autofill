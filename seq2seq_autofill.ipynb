{
  "cells": [
    {
      "cell_type": "markdown",
      "metadata": {
        "id": "view-in-github",
        "colab_type": "text"
      },
      "source": [
        "<a href=\"https://colab.research.google.com/github/Niilop/Seq2Seq-text-autofill/blob/main/seq2seq_autofill.ipynb\" target=\"_parent\"><img src=\"https://colab.research.google.com/assets/colab-badge.svg\" alt=\"Open In Colab\"/></a>"
      ]
    },
    {
      "cell_type": "markdown",
      "metadata": {
        "id": "uGS6I7UqN6ZI"
      },
      "source": [
        "This is a auto fill project made seq2seq model with attention which is trained by email data. The model is trained with source and target pairs, where source is the start sequence of sentence and the target is the ending sequence of a sentence. For example a user might write \"it is nice to\" and the model would predict \"meet you!\". My future plan for this project is to develop runnable code on github which could be ran in a server and then used in a web UI.\n",
        "\n",
        "\n",
        "Inspiration in time of need taken from:\n",
        "\n",
        "https://dl.acm.org/doi/abs/10.1145/3292500.3330723\n",
        "\n",
        "and\n",
        "\n",
        "https://blog.jiayihu.net/gmail-smart-compose-in-keras-and-tensorflow-js/\n"
      ]
    },
    {
      "cell_type": "code",
      "execution_count": null,
      "metadata": {
        "id": "WWDicPSgN8Yj"
      },
      "outputs": [],
      "source": [
        "import torch\n",
        "import torch.nn as nn\n",
        "import torch.optim as optim\n",
        "\n",
        "from torchtext import data, datasets\n",
        "\n",
        "import spacy\n",
        "import numpy as np\n",
        "\n",
        "import random\n",
        "import math\n",
        "import time"
      ]
    },
    {
      "cell_type": "markdown",
      "metadata": {
        "id": "E8M1bWnDN9A2"
      },
      "source": [
        "Random seed for deterministic results if needed"
      ]
    },
    {
      "cell_type": "code",
      "execution_count": null,
      "metadata": {
        "id": "a8xcCq9dN9JP"
      },
      "outputs": [],
      "source": [
        "SEED = 1234\n",
        "\n",
        "random.seed(SEED)\n",
        "np.random.seed(SEED)\n",
        "torch.manual_seed(SEED)\n",
        "torch.cuda.manual_seed(SEED)\n",
        "torch.backends.cudnn.deterministic = True"
      ]
    },
    {
      "cell_type": "markdown",
      "metadata": {
        "id": "e-_W1S40OCVc"
      },
      "source": [
        "We use Spacy tokenizer for this project"
      ]
    },
    {
      "cell_type": "code",
      "execution_count": null,
      "metadata": {
        "colab": {
          "base_uri": "https://localhost:8080/"
        },
        "id": "-P03HcXfOGkt",
        "outputId": "c2128867-128a-4ae1-aed6-bc9b353ca668"
      },
      "outputs": [
        {
          "name": "stdout",
          "output_type": "stream",
          "text": [
            "2024-01-20 23:33:49.273406: E external/local_xla/xla/stream_executor/cuda/cuda_dnn.cc:9261] Unable to register cuDNN factory: Attempting to register factory for plugin cuDNN when one has already been registered\n",
            "2024-01-20 23:33:49.273463: E external/local_xla/xla/stream_executor/cuda/cuda_fft.cc:607] Unable to register cuFFT factory: Attempting to register factory for plugin cuFFT when one has already been registered\n",
            "2024-01-20 23:33:49.275090: E external/local_xla/xla/stream_executor/cuda/cuda_blas.cc:1515] Unable to register cuBLAS factory: Attempting to register factory for plugin cuBLAS when one has already been registered\n",
            "2024-01-20 23:33:51.463276: W tensorflow/compiler/tf2tensorrt/utils/py_utils.cc:38] TF-TRT Warning: Could not find TensorRT\n",
            "Collecting en-core-web-sm==3.6.0\n",
            "  Downloading https://github.com/explosion/spacy-models/releases/download/en_core_web_sm-3.6.0/en_core_web_sm-3.6.0-py3-none-any.whl (12.8 MB)\n",
            "\u001b[2K     \u001b[90m━━━━━━━━━━━━━━━━━━━━━━━━━━━━━━━━━━━━━━━━\u001b[0m \u001b[32m12.8/12.8 MB\u001b[0m \u001b[31m48.7 MB/s\u001b[0m eta \u001b[36m0:00:00\u001b[0m\n",
            "\u001b[?25hRequirement already satisfied: spacy<3.7.0,>=3.6.0 in /usr/local/lib/python3.10/dist-packages (from en-core-web-sm==3.6.0) (3.6.1)\n",
            "Requirement already satisfied: spacy-legacy<3.1.0,>=3.0.11 in /usr/local/lib/python3.10/dist-packages (from spacy<3.7.0,>=3.6.0->en-core-web-sm==3.6.0) (3.0.12)\n",
            "Requirement already satisfied: spacy-loggers<2.0.0,>=1.0.0 in /usr/local/lib/python3.10/dist-packages (from spacy<3.7.0,>=3.6.0->en-core-web-sm==3.6.0) (1.0.5)\n",
            "Requirement already satisfied: murmurhash<1.1.0,>=0.28.0 in /usr/local/lib/python3.10/dist-packages (from spacy<3.7.0,>=3.6.0->en-core-web-sm==3.6.0) (1.0.10)\n",
            "Requirement already satisfied: cymem<2.1.0,>=2.0.2 in /usr/local/lib/python3.10/dist-packages (from spacy<3.7.0,>=3.6.0->en-core-web-sm==3.6.0) (2.0.8)\n",
            "Requirement already satisfied: preshed<3.1.0,>=3.0.2 in /usr/local/lib/python3.10/dist-packages (from spacy<3.7.0,>=3.6.0->en-core-web-sm==3.6.0) (3.0.9)\n",
            "Requirement already satisfied: thinc<8.2.0,>=8.1.8 in /usr/local/lib/python3.10/dist-packages (from spacy<3.7.0,>=3.6.0->en-core-web-sm==3.6.0) (8.1.12)\n",
            "Requirement already satisfied: wasabi<1.2.0,>=0.9.1 in /usr/local/lib/python3.10/dist-packages (from spacy<3.7.0,>=3.6.0->en-core-web-sm==3.6.0) (1.1.2)\n",
            "Requirement already satisfied: srsly<3.0.0,>=2.4.3 in /usr/local/lib/python3.10/dist-packages (from spacy<3.7.0,>=3.6.0->en-core-web-sm==3.6.0) (2.4.8)\n",
            "Requirement already satisfied: catalogue<2.1.0,>=2.0.6 in /usr/local/lib/python3.10/dist-packages (from spacy<3.7.0,>=3.6.0->en-core-web-sm==3.6.0) (2.0.10)\n",
            "Requirement already satisfied: typer<0.10.0,>=0.3.0 in /usr/local/lib/python3.10/dist-packages (from spacy<3.7.0,>=3.6.0->en-core-web-sm==3.6.0) (0.9.0)\n",
            "Requirement already satisfied: pathy>=0.10.0 in /usr/local/lib/python3.10/dist-packages (from spacy<3.7.0,>=3.6.0->en-core-web-sm==3.6.0) (0.11.0)\n",
            "Requirement already satisfied: smart-open<7.0.0,>=5.2.1 in /usr/local/lib/python3.10/dist-packages (from spacy<3.7.0,>=3.6.0->en-core-web-sm==3.6.0) (6.4.0)\n",
            "Requirement already satisfied: tqdm<5.0.0,>=4.38.0 in /usr/local/lib/python3.10/dist-packages (from spacy<3.7.0,>=3.6.0->en-core-web-sm==3.6.0) (4.66.1)\n",
            "Requirement already satisfied: numpy>=1.15.0 in /usr/local/lib/python3.10/dist-packages (from spacy<3.7.0,>=3.6.0->en-core-web-sm==3.6.0) (1.23.5)\n",
            "Requirement already satisfied: requests<3.0.0,>=2.13.0 in /usr/local/lib/python3.10/dist-packages (from spacy<3.7.0,>=3.6.0->en-core-web-sm==3.6.0) (2.31.0)\n",
            "Requirement already satisfied: pydantic!=1.8,!=1.8.1,<3.0.0,>=1.7.4 in /usr/local/lib/python3.10/dist-packages (from spacy<3.7.0,>=3.6.0->en-core-web-sm==3.6.0) (1.10.13)\n",
            "Requirement already satisfied: jinja2 in /usr/local/lib/python3.10/dist-packages (from spacy<3.7.0,>=3.6.0->en-core-web-sm==3.6.0) (3.1.3)\n",
            "Requirement already satisfied: setuptools in /usr/local/lib/python3.10/dist-packages (from spacy<3.7.0,>=3.6.0->en-core-web-sm==3.6.0) (67.7.2)\n",
            "Requirement already satisfied: packaging>=20.0 in /usr/local/lib/python3.10/dist-packages (from spacy<3.7.0,>=3.6.0->en-core-web-sm==3.6.0) (23.2)\n",
            "Requirement already satisfied: langcodes<4.0.0,>=3.2.0 in /usr/local/lib/python3.10/dist-packages (from spacy<3.7.0,>=3.6.0->en-core-web-sm==3.6.0) (3.3.0)\n",
            "Requirement already satisfied: pathlib-abc==0.1.1 in /usr/local/lib/python3.10/dist-packages (from pathy>=0.10.0->spacy<3.7.0,>=3.6.0->en-core-web-sm==3.6.0) (0.1.1)\n",
            "Requirement already satisfied: typing-extensions>=4.2.0 in /usr/local/lib/python3.10/dist-packages (from pydantic!=1.8,!=1.8.1,<3.0.0,>=1.7.4->spacy<3.7.0,>=3.6.0->en-core-web-sm==3.6.0) (4.5.0)\n",
            "Requirement already satisfied: charset-normalizer<4,>=2 in /usr/local/lib/python3.10/dist-packages (from requests<3.0.0,>=2.13.0->spacy<3.7.0,>=3.6.0->en-core-web-sm==3.6.0) (3.3.2)\n",
            "Requirement already satisfied: idna<4,>=2.5 in /usr/local/lib/python3.10/dist-packages (from requests<3.0.0,>=2.13.0->spacy<3.7.0,>=3.6.0->en-core-web-sm==3.6.0) (3.6)\n",
            "Requirement already satisfied: urllib3<3,>=1.21.1 in /usr/local/lib/python3.10/dist-packages (from requests<3.0.0,>=2.13.0->spacy<3.7.0,>=3.6.0->en-core-web-sm==3.6.0) (2.0.7)\n",
            "Requirement already satisfied: certifi>=2017.4.17 in /usr/local/lib/python3.10/dist-packages (from requests<3.0.0,>=2.13.0->spacy<3.7.0,>=3.6.0->en-core-web-sm==3.6.0) (2023.11.17)\n",
            "Requirement already satisfied: blis<0.8.0,>=0.7.8 in /usr/local/lib/python3.10/dist-packages (from thinc<8.2.0,>=8.1.8->spacy<3.7.0,>=3.6.0->en-core-web-sm==3.6.0) (0.7.11)\n",
            "Requirement already satisfied: confection<1.0.0,>=0.0.1 in /usr/local/lib/python3.10/dist-packages (from thinc<8.2.0,>=8.1.8->spacy<3.7.0,>=3.6.0->en-core-web-sm==3.6.0) (0.1.4)\n",
            "Requirement already satisfied: click<9.0.0,>=7.1.1 in /usr/local/lib/python3.10/dist-packages (from typer<0.10.0,>=0.3.0->spacy<3.7.0,>=3.6.0->en-core-web-sm==3.6.0) (8.1.7)\n",
            "Requirement already satisfied: MarkupSafe>=2.0 in /usr/local/lib/python3.10/dist-packages (from jinja2->spacy<3.7.0,>=3.6.0->en-core-web-sm==3.6.0) (2.1.3)\n",
            "\u001b[38;5;2m✔ Download and installation successful\u001b[0m\n",
            "You can now load the package via spacy.load('en_core_web_sm')\n",
            "2024-01-20 23:34:08.856417: E external/local_xla/xla/stream_executor/cuda/cuda_dnn.cc:9261] Unable to register cuDNN factory: Attempting to register factory for plugin cuDNN when one has already been registered\n",
            "2024-01-20 23:34:08.856475: E external/local_xla/xla/stream_executor/cuda/cuda_fft.cc:607] Unable to register cuFFT factory: Attempting to register factory for plugin cuFFT when one has already been registered\n",
            "2024-01-20 23:34:08.857686: E external/local_xla/xla/stream_executor/cuda/cuda_blas.cc:1515] Unable to register cuBLAS factory: Attempting to register factory for plugin cuBLAS when one has already been registered\n",
            "2024-01-20 23:34:09.950989: W tensorflow/compiler/tf2tensorrt/utils/py_utils.cc:38] TF-TRT Warning: Could not find TensorRT\n",
            "Collecting en-core-web-lg==3.6.0\n",
            "  Downloading https://github.com/explosion/spacy-models/releases/download/en_core_web_lg-3.6.0/en_core_web_lg-3.6.0-py3-none-any.whl (587.7 MB)\n",
            "\u001b[2K     \u001b[90m━━━━━━━━━━━━━━━━━━━━━━━━━━━━━━━━━━━━━━━━\u001b[0m \u001b[32m587.7/587.7 MB\u001b[0m \u001b[31m2.9 MB/s\u001b[0m eta \u001b[36m0:00:00\u001b[0m\n",
            "\u001b[?25hRequirement already satisfied: spacy<3.7.0,>=3.6.0 in /usr/local/lib/python3.10/dist-packages (from en-core-web-lg==3.6.0) (3.6.1)\n",
            "Requirement already satisfied: spacy-legacy<3.1.0,>=3.0.11 in /usr/local/lib/python3.10/dist-packages (from spacy<3.7.0,>=3.6.0->en-core-web-lg==3.6.0) (3.0.12)\n",
            "Requirement already satisfied: spacy-loggers<2.0.0,>=1.0.0 in /usr/local/lib/python3.10/dist-packages (from spacy<3.7.0,>=3.6.0->en-core-web-lg==3.6.0) (1.0.5)\n",
            "Requirement already satisfied: murmurhash<1.1.0,>=0.28.0 in /usr/local/lib/python3.10/dist-packages (from spacy<3.7.0,>=3.6.0->en-core-web-lg==3.6.0) (1.0.10)\n",
            "Requirement already satisfied: cymem<2.1.0,>=2.0.2 in /usr/local/lib/python3.10/dist-packages (from spacy<3.7.0,>=3.6.0->en-core-web-lg==3.6.0) (2.0.8)\n",
            "Requirement already satisfied: preshed<3.1.0,>=3.0.2 in /usr/local/lib/python3.10/dist-packages (from spacy<3.7.0,>=3.6.0->en-core-web-lg==3.6.0) (3.0.9)\n",
            "Requirement already satisfied: thinc<8.2.0,>=8.1.8 in /usr/local/lib/python3.10/dist-packages (from spacy<3.7.0,>=3.6.0->en-core-web-lg==3.6.0) (8.1.12)\n",
            "Requirement already satisfied: wasabi<1.2.0,>=0.9.1 in /usr/local/lib/python3.10/dist-packages (from spacy<3.7.0,>=3.6.0->en-core-web-lg==3.6.0) (1.1.2)\n",
            "Requirement already satisfied: srsly<3.0.0,>=2.4.3 in /usr/local/lib/python3.10/dist-packages (from spacy<3.7.0,>=3.6.0->en-core-web-lg==3.6.0) (2.4.8)\n",
            "Requirement already satisfied: catalogue<2.1.0,>=2.0.6 in /usr/local/lib/python3.10/dist-packages (from spacy<3.7.0,>=3.6.0->en-core-web-lg==3.6.0) (2.0.10)\n",
            "Requirement already satisfied: typer<0.10.0,>=0.3.0 in /usr/local/lib/python3.10/dist-packages (from spacy<3.7.0,>=3.6.0->en-core-web-lg==3.6.0) (0.9.0)\n",
            "Requirement already satisfied: pathy>=0.10.0 in /usr/local/lib/python3.10/dist-packages (from spacy<3.7.0,>=3.6.0->en-core-web-lg==3.6.0) (0.11.0)\n",
            "Requirement already satisfied: smart-open<7.0.0,>=5.2.1 in /usr/local/lib/python3.10/dist-packages (from spacy<3.7.0,>=3.6.0->en-core-web-lg==3.6.0) (6.4.0)\n",
            "Requirement already satisfied: tqdm<5.0.0,>=4.38.0 in /usr/local/lib/python3.10/dist-packages (from spacy<3.7.0,>=3.6.0->en-core-web-lg==3.6.0) (4.66.1)\n",
            "Requirement already satisfied: numpy>=1.15.0 in /usr/local/lib/python3.10/dist-packages (from spacy<3.7.0,>=3.6.0->en-core-web-lg==3.6.0) (1.23.5)\n",
            "Requirement already satisfied: requests<3.0.0,>=2.13.0 in /usr/local/lib/python3.10/dist-packages (from spacy<3.7.0,>=3.6.0->en-core-web-lg==3.6.0) (2.31.0)\n",
            "Requirement already satisfied: pydantic!=1.8,!=1.8.1,<3.0.0,>=1.7.4 in /usr/local/lib/python3.10/dist-packages (from spacy<3.7.0,>=3.6.0->en-core-web-lg==3.6.0) (1.10.13)\n",
            "Requirement already satisfied: jinja2 in /usr/local/lib/python3.10/dist-packages (from spacy<3.7.0,>=3.6.0->en-core-web-lg==3.6.0) (3.1.3)\n",
            "Requirement already satisfied: setuptools in /usr/local/lib/python3.10/dist-packages (from spacy<3.7.0,>=3.6.0->en-core-web-lg==3.6.0) (67.7.2)\n",
            "Requirement already satisfied: packaging>=20.0 in /usr/local/lib/python3.10/dist-packages (from spacy<3.7.0,>=3.6.0->en-core-web-lg==3.6.0) (23.2)\n",
            "Requirement already satisfied: langcodes<4.0.0,>=3.2.0 in /usr/local/lib/python3.10/dist-packages (from spacy<3.7.0,>=3.6.0->en-core-web-lg==3.6.0) (3.3.0)\n",
            "Requirement already satisfied: pathlib-abc==0.1.1 in /usr/local/lib/python3.10/dist-packages (from pathy>=0.10.0->spacy<3.7.0,>=3.6.0->en-core-web-lg==3.6.0) (0.1.1)\n",
            "Requirement already satisfied: typing-extensions>=4.2.0 in /usr/local/lib/python3.10/dist-packages (from pydantic!=1.8,!=1.8.1,<3.0.0,>=1.7.4->spacy<3.7.0,>=3.6.0->en-core-web-lg==3.6.0) (4.5.0)\n",
            "Requirement already satisfied: charset-normalizer<4,>=2 in /usr/local/lib/python3.10/dist-packages (from requests<3.0.0,>=2.13.0->spacy<3.7.0,>=3.6.0->en-core-web-lg==3.6.0) (3.3.2)\n",
            "Requirement already satisfied: idna<4,>=2.5 in /usr/local/lib/python3.10/dist-packages (from requests<3.0.0,>=2.13.0->spacy<3.7.0,>=3.6.0->en-core-web-lg==3.6.0) (3.6)\n",
            "Requirement already satisfied: urllib3<3,>=1.21.1 in /usr/local/lib/python3.10/dist-packages (from requests<3.0.0,>=2.13.0->spacy<3.7.0,>=3.6.0->en-core-web-lg==3.6.0) (2.0.7)\n",
            "Requirement already satisfied: certifi>=2017.4.17 in /usr/local/lib/python3.10/dist-packages (from requests<3.0.0,>=2.13.0->spacy<3.7.0,>=3.6.0->en-core-web-lg==3.6.0) (2023.11.17)\n",
            "Requirement already satisfied: blis<0.8.0,>=0.7.8 in /usr/local/lib/python3.10/dist-packages (from thinc<8.2.0,>=8.1.8->spacy<3.7.0,>=3.6.0->en-core-web-lg==3.6.0) (0.7.11)\n",
            "Requirement already satisfied: confection<1.0.0,>=0.0.1 in /usr/local/lib/python3.10/dist-packages (from thinc<8.2.0,>=8.1.8->spacy<3.7.0,>=3.6.0->en-core-web-lg==3.6.0) (0.1.4)\n",
            "Requirement already satisfied: click<9.0.0,>=7.1.1 in /usr/local/lib/python3.10/dist-packages (from typer<0.10.0,>=0.3.0->spacy<3.7.0,>=3.6.0->en-core-web-lg==3.6.0) (8.1.7)\n",
            "Requirement already satisfied: MarkupSafe>=2.0 in /usr/local/lib/python3.10/dist-packages (from jinja2->spacy<3.7.0,>=3.6.0->en-core-web-lg==3.6.0) (2.1.3)\n",
            "Installing collected packages: en-core-web-lg\n",
            "Successfully installed en-core-web-lg-3.6.0\n",
            "\u001b[38;5;2m✔ Download and installation successful\u001b[0m\n",
            "You can now load the package via spacy.load('en_core_web_lg')\n"
          ]
        }
      ],
      "source": [
        "!python3 -m spacy download en_core_web_sm\n",
        "!python3 -m spacy download en_core_web_lg"
      ]
    },
    {
      "cell_type": "markdown",
      "metadata": {
        "id": "6qOLs15vORMe"
      },
      "source": []
    },
    {
      "cell_type": "markdown",
      "metadata": {
        "id": "YZxYF5pIP-sQ"
      },
      "source": [
        "Downloading Amazon product dataset from Kaggle"
      ]
    },
    {
      "cell_type": "code",
      "execution_count": null,
      "metadata": {
        "colab": {
          "base_uri": "https://localhost:8080/"
        },
        "id": "w7u3hsgUQAzW",
        "outputId": "bbf32dea-7268-4330-f33c-90c3226d4c62"
      },
      "outputs": [
        {
          "name": "stdout",
          "output_type": "stream",
          "text": [
            "Requirement already satisfied: kaggle in /usr/local/lib/python3.10/dist-packages (1.5.16)\n",
            "Requirement already satisfied: six>=1.10 in /usr/local/lib/python3.10/dist-packages (from kaggle) (1.16.0)\n",
            "Requirement already satisfied: certifi in /usr/local/lib/python3.10/dist-packages (from kaggle) (2023.11.17)\n",
            "Requirement already satisfied: python-dateutil in /usr/local/lib/python3.10/dist-packages (from kaggle) (2.8.2)\n",
            "Requirement already satisfied: requests in /usr/local/lib/python3.10/dist-packages (from kaggle) (2.31.0)\n",
            "Requirement already satisfied: tqdm in /usr/local/lib/python3.10/dist-packages (from kaggle) (4.66.1)\n",
            "Requirement already satisfied: python-slugify in /usr/local/lib/python3.10/dist-packages (from kaggle) (8.0.1)\n",
            "Requirement already satisfied: urllib3 in /usr/local/lib/python3.10/dist-packages (from kaggle) (2.0.7)\n",
            "Requirement already satisfied: bleach in /usr/local/lib/python3.10/dist-packages (from kaggle) (6.1.0)\n",
            "Requirement already satisfied: webencodings in /usr/local/lib/python3.10/dist-packages (from bleach->kaggle) (0.5.1)\n",
            "Requirement already satisfied: text-unidecode>=1.3 in /usr/local/lib/python3.10/dist-packages (from python-slugify->kaggle) (1.3)\n",
            "Requirement already satisfied: charset-normalizer<4,>=2 in /usr/local/lib/python3.10/dist-packages (from requests->kaggle) (3.3.2)\n",
            "Requirement already satisfied: idna<4,>=2.5 in /usr/local/lib/python3.10/dist-packages (from requests->kaggle) (3.6)\n"
          ]
        }
      ],
      "source": [
        "!pip install kaggle"
      ]
    },
    {
      "cell_type": "markdown",
      "metadata": {
        "id": "prVq-3kfRk7b"
      },
      "source": [
        "Upload Kaggle API token from local files"
      ]
    },
    {
      "cell_type": "code",
      "execution_count": null,
      "metadata": {
        "colab": {
          "base_uri": "https://localhost:8080/",
          "height": 91
        },
        "id": "D3alyC7vQyNI",
        "outputId": "57783407-eab3-4053-ac8e-8d9b60a165e0"
      },
      "outputs": [
        {
          "data": {
            "text/html": [
              "\n",
              "     <input type=\"file\" id=\"files-f0482899-5d87-4dd9-acb9-bc699d3163e4\" name=\"files[]\" multiple disabled\n",
              "        style=\"border:none\" />\n",
              "     <output id=\"result-f0482899-5d87-4dd9-acb9-bc699d3163e4\">\n",
              "      Upload widget is only available when the cell has been executed in the\n",
              "      current browser session. Please rerun this cell to enable.\n",
              "      </output>\n",
              "      <script>// Copyright 2017 Google LLC\n",
              "//\n",
              "// Licensed under the Apache License, Version 2.0 (the \"License\");\n",
              "// you may not use this file except in compliance with the License.\n",
              "// You may obtain a copy of the License at\n",
              "//\n",
              "//      http://www.apache.org/licenses/LICENSE-2.0\n",
              "//\n",
              "// Unless required by applicable law or agreed to in writing, software\n",
              "// distributed under the License is distributed on an \"AS IS\" BASIS,\n",
              "// WITHOUT WARRANTIES OR CONDITIONS OF ANY KIND, either express or implied.\n",
              "// See the License for the specific language governing permissions and\n",
              "// limitations under the License.\n",
              "\n",
              "/**\n",
              " * @fileoverview Helpers for google.colab Python module.\n",
              " */\n",
              "(function(scope) {\n",
              "function span(text, styleAttributes = {}) {\n",
              "  const element = document.createElement('span');\n",
              "  element.textContent = text;\n",
              "  for (const key of Object.keys(styleAttributes)) {\n",
              "    element.style[key] = styleAttributes[key];\n",
              "  }\n",
              "  return element;\n",
              "}\n",
              "\n",
              "// Max number of bytes which will be uploaded at a time.\n",
              "const MAX_PAYLOAD_SIZE = 100 * 1024;\n",
              "\n",
              "function _uploadFiles(inputId, outputId) {\n",
              "  const steps = uploadFilesStep(inputId, outputId);\n",
              "  const outputElement = document.getElementById(outputId);\n",
              "  // Cache steps on the outputElement to make it available for the next call\n",
              "  // to uploadFilesContinue from Python.\n",
              "  outputElement.steps = steps;\n",
              "\n",
              "  return _uploadFilesContinue(outputId);\n",
              "}\n",
              "\n",
              "// This is roughly an async generator (not supported in the browser yet),\n",
              "// where there are multiple asynchronous steps and the Python side is going\n",
              "// to poll for completion of each step.\n",
              "// This uses a Promise to block the python side on completion of each step,\n",
              "// then passes the result of the previous step as the input to the next step.\n",
              "function _uploadFilesContinue(outputId) {\n",
              "  const outputElement = document.getElementById(outputId);\n",
              "  const steps = outputElement.steps;\n",
              "\n",
              "  const next = steps.next(outputElement.lastPromiseValue);\n",
              "  return Promise.resolve(next.value.promise).then((value) => {\n",
              "    // Cache the last promise value to make it available to the next\n",
              "    // step of the generator.\n",
              "    outputElement.lastPromiseValue = value;\n",
              "    return next.value.response;\n",
              "  });\n",
              "}\n",
              "\n",
              "/**\n",
              " * Generator function which is called between each async step of the upload\n",
              " * process.\n",
              " * @param {string} inputId Element ID of the input file picker element.\n",
              " * @param {string} outputId Element ID of the output display.\n",
              " * @return {!Iterable<!Object>} Iterable of next steps.\n",
              " */\n",
              "function* uploadFilesStep(inputId, outputId) {\n",
              "  const inputElement = document.getElementById(inputId);\n",
              "  inputElement.disabled = false;\n",
              "\n",
              "  const outputElement = document.getElementById(outputId);\n",
              "  outputElement.innerHTML = '';\n",
              "\n",
              "  const pickedPromise = new Promise((resolve) => {\n",
              "    inputElement.addEventListener('change', (e) => {\n",
              "      resolve(e.target.files);\n",
              "    });\n",
              "  });\n",
              "\n",
              "  const cancel = document.createElement('button');\n",
              "  inputElement.parentElement.appendChild(cancel);\n",
              "  cancel.textContent = 'Cancel upload';\n",
              "  const cancelPromise = new Promise((resolve) => {\n",
              "    cancel.onclick = () => {\n",
              "      resolve(null);\n",
              "    };\n",
              "  });\n",
              "\n",
              "  // Wait for the user to pick the files.\n",
              "  const files = yield {\n",
              "    promise: Promise.race([pickedPromise, cancelPromise]),\n",
              "    response: {\n",
              "      action: 'starting',\n",
              "    }\n",
              "  };\n",
              "\n",
              "  cancel.remove();\n",
              "\n",
              "  // Disable the input element since further picks are not allowed.\n",
              "  inputElement.disabled = true;\n",
              "\n",
              "  if (!files) {\n",
              "    return {\n",
              "      response: {\n",
              "        action: 'complete',\n",
              "      }\n",
              "    };\n",
              "  }\n",
              "\n",
              "  for (const file of files) {\n",
              "    const li = document.createElement('li');\n",
              "    li.append(span(file.name, {fontWeight: 'bold'}));\n",
              "    li.append(span(\n",
              "        `(${file.type || 'n/a'}) - ${file.size} bytes, ` +\n",
              "        `last modified: ${\n",
              "            file.lastModifiedDate ? file.lastModifiedDate.toLocaleDateString() :\n",
              "                                    'n/a'} - `));\n",
              "    const percent = span('0% done');\n",
              "    li.appendChild(percent);\n",
              "\n",
              "    outputElement.appendChild(li);\n",
              "\n",
              "    const fileDataPromise = new Promise((resolve) => {\n",
              "      const reader = new FileReader();\n",
              "      reader.onload = (e) => {\n",
              "        resolve(e.target.result);\n",
              "      };\n",
              "      reader.readAsArrayBuffer(file);\n",
              "    });\n",
              "    // Wait for the data to be ready.\n",
              "    let fileData = yield {\n",
              "      promise: fileDataPromise,\n",
              "      response: {\n",
              "        action: 'continue',\n",
              "      }\n",
              "    };\n",
              "\n",
              "    // Use a chunked sending to avoid message size limits. See b/62115660.\n",
              "    let position = 0;\n",
              "    do {\n",
              "      const length = Math.min(fileData.byteLength - position, MAX_PAYLOAD_SIZE);\n",
              "      const chunk = new Uint8Array(fileData, position, length);\n",
              "      position += length;\n",
              "\n",
              "      const base64 = btoa(String.fromCharCode.apply(null, chunk));\n",
              "      yield {\n",
              "        response: {\n",
              "          action: 'append',\n",
              "          file: file.name,\n",
              "          data: base64,\n",
              "        },\n",
              "      };\n",
              "\n",
              "      let percentDone = fileData.byteLength === 0 ?\n",
              "          100 :\n",
              "          Math.round((position / fileData.byteLength) * 100);\n",
              "      percent.textContent = `${percentDone}% done`;\n",
              "\n",
              "    } while (position < fileData.byteLength);\n",
              "  }\n",
              "\n",
              "  // All done.\n",
              "  yield {\n",
              "    response: {\n",
              "      action: 'complete',\n",
              "    }\n",
              "  };\n",
              "}\n",
              "\n",
              "scope.google = scope.google || {};\n",
              "scope.google.colab = scope.google.colab || {};\n",
              "scope.google.colab._files = {\n",
              "  _uploadFiles,\n",
              "  _uploadFilesContinue,\n",
              "};\n",
              "})(self);\n",
              "</script> "
            ],
            "text/plain": [
              "<IPython.core.display.HTML object>"
            ]
          },
          "metadata": {},
          "output_type": "display_data"
        },
        {
          "name": "stdout",
          "output_type": "stream",
          "text": [
            "Saving kaggle.json to kaggle.json\n"
          ]
        },
        {
          "data": {
            "text/plain": [
              "{'kaggle.json': b'{\"username\":\"niilopkknen\",\"key\":\"a64107e80baeabe4f3bbb08d1cb21ac4\"}'}"
            ]
          },
          "execution_count": 5,
          "metadata": {},
          "output_type": "execute_result"
        }
      ],
      "source": [
        "from google.colab import files\n",
        "files.upload()"
      ]
    },
    {
      "cell_type": "code",
      "execution_count": null,
      "metadata": {
        "id": "0ukvcyhEQy3r"
      },
      "outputs": [],
      "source": [
        "!mkdir ~/.kaggle\n",
        "!cp kaggle.json ~/.kaggle/\n",
        "!chmod 600 ~/.kaggle/kaggle.json"
      ]
    },
    {
      "cell_type": "markdown",
      "metadata": {
        "id": "OP-6sOobQ2Ks"
      },
      "source": [
        "Download required data using Kaggle API"
      ]
    },
    {
      "cell_type": "code",
      "execution_count": null,
      "metadata": {
        "colab": {
          "base_uri": "https://localhost:8080/",
          "height": 35
        },
        "id": "Py83Vgq_Q1WT",
        "outputId": "fe43d44d-cfd5-4cc6-872d-7cf6108d6278"
      },
      "outputs": [
        {
          "data": {
            "application/vnd.google.colaboratory.intrinsic+json": {
              "type": "string"
            },
            "text/plain": [
              "'\\n!mkdir amazon_data\\n!kaggle datasets download -d lokeshparab/amazon-products-dataset\\n!unzip /content/amazon-products-dataset.zip -d /content/amazon_data\\n'"
            ]
          },
          "execution_count": 7,
          "metadata": {},
          "output_type": "execute_result"
        }
      ],
      "source": [
        "'''\n",
        "!mkdir amazon_data\n",
        "!kaggle datasets download -d lokeshparab/amazon-products-dataset\n",
        "!unzip /content/amazon-products-dataset.zip -d /content/amazon_data\n",
        "'''"
      ]
    },
    {
      "cell_type": "code",
      "execution_count": null,
      "metadata": {
        "colab": {
          "base_uri": "https://localhost:8080/"
        },
        "id": "-1g2aulLLtnU",
        "outputId": "1638f1c7-51a5-43f2-c35d-50af107f3733"
      },
      "outputs": [
        {
          "name": "stdout",
          "output_type": "stream",
          "text": [
            "Downloading enron-email-dataset.zip to /content\n",
            "100% 357M/358M [00:09<00:00, 45.1MB/s]\n",
            "100% 358M/358M [00:09<00:00, 40.1MB/s]\n"
          ]
        }
      ],
      "source": [
        "!mkdir email_data\n",
        "!kaggle datasets download -d wcukierski/enron-email-dataset"
      ]
    },
    {
      "cell_type": "code",
      "execution_count": null,
      "metadata": {
        "colab": {
          "base_uri": "https://localhost:8080/"
        },
        "id": "7wpqXEG6M0sz",
        "outputId": "92d91d52-9395-4cda-c0e7-c775b840246d"
      },
      "outputs": [
        {
          "name": "stdout",
          "output_type": "stream",
          "text": [
            "Archive:  /content/enron-email-dataset.zip\n",
            "  inflating: /content/email_data/emails.csv  \n"
          ]
        }
      ],
      "source": [
        "!unzip /content/enron-email-dataset.zip -d /content/email_data"
      ]
    },
    {
      "cell_type": "markdown",
      "metadata": {
        "id": "QKfAJ3g8UgZ0"
      },
      "source": [
        "Earlier, I used amazon product data but it leads to weird results. Let's change the data to email data and try to train our model to autofill rest of the sentence."
      ]
    },
    {
      "cell_type": "code",
      "execution_count": null,
      "metadata": {
        "colab": {
          "base_uri": "https://localhost:8080/"
        },
        "id": "aC5_Q0b6VOsF",
        "outputId": "221f418f-9f94-4714-c79e-f9502d6b1a41"
      },
      "outputs": [
        {
          "name": "stdout",
          "output_type": "stream",
          "text": [
            "/content\n"
          ]
        }
      ],
      "source": [
        "import os\n",
        "current_directory = os.getcwd()\n",
        "print(current_directory)"
      ]
    },
    {
      "cell_type": "code",
      "execution_count": null,
      "metadata": {
        "id": "BhmQ4pWzUyLc"
      },
      "outputs": [],
      "source": [
        "import numpy as np\n",
        "import pandas as pd\n",
        "import matplotlib.pyplot as plt\n",
        "\n",
        "emails_df = pd.read_csv('/content/email_data/emails.csv')\n",
        "# Smaller size\n",
        "# emails_df = emails_df[:1000]"
      ]
    },
    {
      "cell_type": "code",
      "execution_count": null,
      "metadata": {
        "colab": {
          "base_uri": "https://localhost:8080/",
          "height": 424
        },
        "id": "H0bHmgnUV0jq",
        "outputId": "3ca492d3-c502-46a5-d682-c657b59769dc"
      },
      "outputs": [
        {
          "data": {
            "text/html": [
              "\n",
              "  <div id=\"df-5325eb5d-80bf-4f71-a36a-4174a0a6ec7d\" class=\"colab-df-container\">\n",
              "    <div>\n",
              "<style scoped>\n",
              "    .dataframe tbody tr th:only-of-type {\n",
              "        vertical-align: middle;\n",
              "    }\n",
              "\n",
              "    .dataframe tbody tr th {\n",
              "        vertical-align: top;\n",
              "    }\n",
              "\n",
              "    .dataframe thead th {\n",
              "        text-align: right;\n",
              "    }\n",
              "</style>\n",
              "<table border=\"1\" class=\"dataframe\">\n",
              "  <thead>\n",
              "    <tr style=\"text-align: right;\">\n",
              "      <th></th>\n",
              "      <th>file</th>\n",
              "      <th>message</th>\n",
              "    </tr>\n",
              "  </thead>\n",
              "  <tbody>\n",
              "    <tr>\n",
              "      <th>0</th>\n",
              "      <td>allen-p/_sent_mail/1.</td>\n",
              "      <td>Message-ID: &lt;18782981.1075855378110.JavaMail.e...</td>\n",
              "    </tr>\n",
              "    <tr>\n",
              "      <th>1</th>\n",
              "      <td>allen-p/_sent_mail/10.</td>\n",
              "      <td>Message-ID: &lt;15464986.1075855378456.JavaMail.e...</td>\n",
              "    </tr>\n",
              "    <tr>\n",
              "      <th>2</th>\n",
              "      <td>allen-p/_sent_mail/100.</td>\n",
              "      <td>Message-ID: &lt;24216240.1075855687451.JavaMail.e...</td>\n",
              "    </tr>\n",
              "    <tr>\n",
              "      <th>3</th>\n",
              "      <td>allen-p/_sent_mail/1000.</td>\n",
              "      <td>Message-ID: &lt;13505866.1075863688222.JavaMail.e...</td>\n",
              "    </tr>\n",
              "    <tr>\n",
              "      <th>4</th>\n",
              "      <td>allen-p/_sent_mail/1001.</td>\n",
              "      <td>Message-ID: &lt;30922949.1075863688243.JavaMail.e...</td>\n",
              "    </tr>\n",
              "    <tr>\n",
              "      <th>...</th>\n",
              "      <td>...</td>\n",
              "      <td>...</td>\n",
              "    </tr>\n",
              "    <tr>\n",
              "      <th>517396</th>\n",
              "      <td>zufferli-j/sent_items/95.</td>\n",
              "      <td>Message-ID: &lt;26807948.1075842029936.JavaMail.e...</td>\n",
              "    </tr>\n",
              "    <tr>\n",
              "      <th>517397</th>\n",
              "      <td>zufferli-j/sent_items/96.</td>\n",
              "      <td>Message-ID: &lt;25835861.1075842029959.JavaMail.e...</td>\n",
              "    </tr>\n",
              "    <tr>\n",
              "      <th>517398</th>\n",
              "      <td>zufferli-j/sent_items/97.</td>\n",
              "      <td>Message-ID: &lt;28979867.1075842029988.JavaMail.e...</td>\n",
              "    </tr>\n",
              "    <tr>\n",
              "      <th>517399</th>\n",
              "      <td>zufferli-j/sent_items/98.</td>\n",
              "      <td>Message-ID: &lt;22052556.1075842030013.JavaMail.e...</td>\n",
              "    </tr>\n",
              "    <tr>\n",
              "      <th>517400</th>\n",
              "      <td>zufferli-j/sent_items/99.</td>\n",
              "      <td>Message-ID: &lt;28618979.1075842030037.JavaMail.e...</td>\n",
              "    </tr>\n",
              "  </tbody>\n",
              "</table>\n",
              "<p>517401 rows × 2 columns</p>\n",
              "</div>\n",
              "    <div class=\"colab-df-buttons\">\n",
              "\n",
              "  <div class=\"colab-df-container\">\n",
              "    <button class=\"colab-df-convert\" onclick=\"convertToInteractive('df-5325eb5d-80bf-4f71-a36a-4174a0a6ec7d')\"\n",
              "            title=\"Convert this dataframe to an interactive table.\"\n",
              "            style=\"display:none;\">\n",
              "\n",
              "  <svg xmlns=\"http://www.w3.org/2000/svg\" height=\"24px\" viewBox=\"0 -960 960 960\">\n",
              "    <path d=\"M120-120v-720h720v720H120Zm60-500h600v-160H180v160Zm220 220h160v-160H400v160Zm0 220h160v-160H400v160ZM180-400h160v-160H180v160Zm440 0h160v-160H620v160ZM180-180h160v-160H180v160Zm440 0h160v-160H620v160Z\"/>\n",
              "  </svg>\n",
              "    </button>\n",
              "\n",
              "  <style>\n",
              "    .colab-df-container {\n",
              "      display:flex;\n",
              "      gap: 12px;\n",
              "    }\n",
              "\n",
              "    .colab-df-convert {\n",
              "      background-color: #E8F0FE;\n",
              "      border: none;\n",
              "      border-radius: 50%;\n",
              "      cursor: pointer;\n",
              "      display: none;\n",
              "      fill: #1967D2;\n",
              "      height: 32px;\n",
              "      padding: 0 0 0 0;\n",
              "      width: 32px;\n",
              "    }\n",
              "\n",
              "    .colab-df-convert:hover {\n",
              "      background-color: #E2EBFA;\n",
              "      box-shadow: 0px 1px 2px rgba(60, 64, 67, 0.3), 0px 1px 3px 1px rgba(60, 64, 67, 0.15);\n",
              "      fill: #174EA6;\n",
              "    }\n",
              "\n",
              "    .colab-df-buttons div {\n",
              "      margin-bottom: 4px;\n",
              "    }\n",
              "\n",
              "    [theme=dark] .colab-df-convert {\n",
              "      background-color: #3B4455;\n",
              "      fill: #D2E3FC;\n",
              "    }\n",
              "\n",
              "    [theme=dark] .colab-df-convert:hover {\n",
              "      background-color: #434B5C;\n",
              "      box-shadow: 0px 1px 3px 1px rgba(0, 0, 0, 0.15);\n",
              "      filter: drop-shadow(0px 1px 2px rgba(0, 0, 0, 0.3));\n",
              "      fill: #FFFFFF;\n",
              "    }\n",
              "  </style>\n",
              "\n",
              "    <script>\n",
              "      const buttonEl =\n",
              "        document.querySelector('#df-5325eb5d-80bf-4f71-a36a-4174a0a6ec7d button.colab-df-convert');\n",
              "      buttonEl.style.display =\n",
              "        google.colab.kernel.accessAllowed ? 'block' : 'none';\n",
              "\n",
              "      async function convertToInteractive(key) {\n",
              "        const element = document.querySelector('#df-5325eb5d-80bf-4f71-a36a-4174a0a6ec7d');\n",
              "        const dataTable =\n",
              "          await google.colab.kernel.invokeFunction('convertToInteractive',\n",
              "                                                    [key], {});\n",
              "        if (!dataTable) return;\n",
              "\n",
              "        const docLinkHtml = 'Like what you see? Visit the ' +\n",
              "          '<a target=\"_blank\" href=https://colab.research.google.com/notebooks/data_table.ipynb>data table notebook</a>'\n",
              "          + ' to learn more about interactive tables.';\n",
              "        element.innerHTML = '';\n",
              "        dataTable['output_type'] = 'display_data';\n",
              "        await google.colab.output.renderOutput(dataTable, element);\n",
              "        const docLink = document.createElement('div');\n",
              "        docLink.innerHTML = docLinkHtml;\n",
              "        element.appendChild(docLink);\n",
              "      }\n",
              "    </script>\n",
              "  </div>\n",
              "\n",
              "\n",
              "<div id=\"df-7cfa1412-aa14-4980-8dcf-37608ad98b12\">\n",
              "  <button class=\"colab-df-quickchart\" onclick=\"quickchart('df-7cfa1412-aa14-4980-8dcf-37608ad98b12')\"\n",
              "            title=\"Suggest charts\"\n",
              "            style=\"display:none;\">\n",
              "\n",
              "<svg xmlns=\"http://www.w3.org/2000/svg\" height=\"24px\"viewBox=\"0 0 24 24\"\n",
              "     width=\"24px\">\n",
              "    <g>\n",
              "        <path d=\"M19 3H5c-1.1 0-2 .9-2 2v14c0 1.1.9 2 2 2h14c1.1 0 2-.9 2-2V5c0-1.1-.9-2-2-2zM9 17H7v-7h2v7zm4 0h-2V7h2v10zm4 0h-2v-4h2v4z\"/>\n",
              "    </g>\n",
              "</svg>\n",
              "  </button>\n",
              "\n",
              "<style>\n",
              "  .colab-df-quickchart {\n",
              "      --bg-color: #E8F0FE;\n",
              "      --fill-color: #1967D2;\n",
              "      --hover-bg-color: #E2EBFA;\n",
              "      --hover-fill-color: #174EA6;\n",
              "      --disabled-fill-color: #AAA;\n",
              "      --disabled-bg-color: #DDD;\n",
              "  }\n",
              "\n",
              "  [theme=dark] .colab-df-quickchart {\n",
              "      --bg-color: #3B4455;\n",
              "      --fill-color: #D2E3FC;\n",
              "      --hover-bg-color: #434B5C;\n",
              "      --hover-fill-color: #FFFFFF;\n",
              "      --disabled-bg-color: #3B4455;\n",
              "      --disabled-fill-color: #666;\n",
              "  }\n",
              "\n",
              "  .colab-df-quickchart {\n",
              "    background-color: var(--bg-color);\n",
              "    border: none;\n",
              "    border-radius: 50%;\n",
              "    cursor: pointer;\n",
              "    display: none;\n",
              "    fill: var(--fill-color);\n",
              "    height: 32px;\n",
              "    padding: 0;\n",
              "    width: 32px;\n",
              "  }\n",
              "\n",
              "  .colab-df-quickchart:hover {\n",
              "    background-color: var(--hover-bg-color);\n",
              "    box-shadow: 0 1px 2px rgba(60, 64, 67, 0.3), 0 1px 3px 1px rgba(60, 64, 67, 0.15);\n",
              "    fill: var(--button-hover-fill-color);\n",
              "  }\n",
              "\n",
              "  .colab-df-quickchart-complete:disabled,\n",
              "  .colab-df-quickchart-complete:disabled:hover {\n",
              "    background-color: var(--disabled-bg-color);\n",
              "    fill: var(--disabled-fill-color);\n",
              "    box-shadow: none;\n",
              "  }\n",
              "\n",
              "  .colab-df-spinner {\n",
              "    border: 2px solid var(--fill-color);\n",
              "    border-color: transparent;\n",
              "    border-bottom-color: var(--fill-color);\n",
              "    animation:\n",
              "      spin 1s steps(1) infinite;\n",
              "  }\n",
              "\n",
              "  @keyframes spin {\n",
              "    0% {\n",
              "      border-color: transparent;\n",
              "      border-bottom-color: var(--fill-color);\n",
              "      border-left-color: var(--fill-color);\n",
              "    }\n",
              "    20% {\n",
              "      border-color: transparent;\n",
              "      border-left-color: var(--fill-color);\n",
              "      border-top-color: var(--fill-color);\n",
              "    }\n",
              "    30% {\n",
              "      border-color: transparent;\n",
              "      border-left-color: var(--fill-color);\n",
              "      border-top-color: var(--fill-color);\n",
              "      border-right-color: var(--fill-color);\n",
              "    }\n",
              "    40% {\n",
              "      border-color: transparent;\n",
              "      border-right-color: var(--fill-color);\n",
              "      border-top-color: var(--fill-color);\n",
              "    }\n",
              "    60% {\n",
              "      border-color: transparent;\n",
              "      border-right-color: var(--fill-color);\n",
              "    }\n",
              "    80% {\n",
              "      border-color: transparent;\n",
              "      border-right-color: var(--fill-color);\n",
              "      border-bottom-color: var(--fill-color);\n",
              "    }\n",
              "    90% {\n",
              "      border-color: transparent;\n",
              "      border-bottom-color: var(--fill-color);\n",
              "    }\n",
              "  }\n",
              "</style>\n",
              "\n",
              "  <script>\n",
              "    async function quickchart(key) {\n",
              "      const quickchartButtonEl =\n",
              "        document.querySelector('#' + key + ' button');\n",
              "      quickchartButtonEl.disabled = true;  // To prevent multiple clicks.\n",
              "      quickchartButtonEl.classList.add('colab-df-spinner');\n",
              "      try {\n",
              "        const charts = await google.colab.kernel.invokeFunction(\n",
              "            'suggestCharts', [key], {});\n",
              "      } catch (error) {\n",
              "        console.error('Error during call to suggestCharts:', error);\n",
              "      }\n",
              "      quickchartButtonEl.classList.remove('colab-df-spinner');\n",
              "      quickchartButtonEl.classList.add('colab-df-quickchart-complete');\n",
              "    }\n",
              "    (() => {\n",
              "      let quickchartButtonEl =\n",
              "        document.querySelector('#df-7cfa1412-aa14-4980-8dcf-37608ad98b12 button');\n",
              "      quickchartButtonEl.style.display =\n",
              "        google.colab.kernel.accessAllowed ? 'block' : 'none';\n",
              "    })();\n",
              "  </script>\n",
              "</div>\n",
              "    </div>\n",
              "  </div>\n"
            ],
            "text/plain": [
              "                             file  \\\n",
              "0           allen-p/_sent_mail/1.   \n",
              "1          allen-p/_sent_mail/10.   \n",
              "2         allen-p/_sent_mail/100.   \n",
              "3        allen-p/_sent_mail/1000.   \n",
              "4        allen-p/_sent_mail/1001.   \n",
              "...                           ...   \n",
              "517396  zufferli-j/sent_items/95.   \n",
              "517397  zufferli-j/sent_items/96.   \n",
              "517398  zufferli-j/sent_items/97.   \n",
              "517399  zufferli-j/sent_items/98.   \n",
              "517400  zufferli-j/sent_items/99.   \n",
              "\n",
              "                                                  message  \n",
              "0       Message-ID: <18782981.1075855378110.JavaMail.e...  \n",
              "1       Message-ID: <15464986.1075855378456.JavaMail.e...  \n",
              "2       Message-ID: <24216240.1075855687451.JavaMail.e...  \n",
              "3       Message-ID: <13505866.1075863688222.JavaMail.e...  \n",
              "4       Message-ID: <30922949.1075863688243.JavaMail.e...  \n",
              "...                                                   ...  \n",
              "517396  Message-ID: <26807948.1075842029936.JavaMail.e...  \n",
              "517397  Message-ID: <25835861.1075842029959.JavaMail.e...  \n",
              "517398  Message-ID: <28979867.1075842029988.JavaMail.e...  \n",
              "517399  Message-ID: <22052556.1075842030013.JavaMail.e...  \n",
              "517400  Message-ID: <28618979.1075842030037.JavaMail.e...  \n",
              "\n",
              "[517401 rows x 2 columns]"
            ]
          },
          "execution_count": 12,
          "metadata": {},
          "output_type": "execute_result"
        }
      ],
      "source": [
        "emails_df"
      ]
    },
    {
      "cell_type": "markdown",
      "metadata": {
        "id": "RV0sBpRQWAbG"
      },
      "source": [
        "We only want name of the products"
      ]
    },
    {
      "cell_type": "code",
      "execution_count": null,
      "metadata": {
        "colab": {
          "base_uri": "https://localhost:8080/"
        },
        "id": "3vDhax9-V83p",
        "outputId": "e103909d-f993-4d70-95d9-08842bb9755f"
      },
      "outputs": [
        {
          "data": {
            "text/plain": [
              "0         Message-ID: <18782981.1075855378110.JavaMail.e...\n",
              "1         Message-ID: <15464986.1075855378456.JavaMail.e...\n",
              "2         Message-ID: <24216240.1075855687451.JavaMail.e...\n",
              "3         Message-ID: <13505866.1075863688222.JavaMail.e...\n",
              "4         Message-ID: <30922949.1075863688243.JavaMail.e...\n",
              "                                ...                        \n",
              "517396    Message-ID: <26807948.1075842029936.JavaMail.e...\n",
              "517397    Message-ID: <25835861.1075842029959.JavaMail.e...\n",
              "517398    Message-ID: <28979867.1075842029988.JavaMail.e...\n",
              "517399    Message-ID: <22052556.1075842030013.JavaMail.e...\n",
              "517400    Message-ID: <28618979.1075842030037.JavaMail.e...\n",
              "Name: message, Length: 517401, dtype: object"
            ]
          },
          "execution_count": 13,
          "metadata": {},
          "output_type": "execute_result"
        }
      ],
      "source": [
        "emails_df['message']"
      ]
    },
    {
      "cell_type": "code",
      "execution_count": null,
      "metadata": {
        "colab": {
          "base_uri": "https://localhost:8080/"
        },
        "id": "bFkUsBCfPNE_",
        "outputId": "132ccd6b-e2a1-40dc-d9ef-c29e57d3c37b"
      },
      "outputs": [
        {
          "name": "stdout",
          "output_type": "stream",
          "text": [
            "Message-ID: <30795301.1075855687494.JavaMail.evans@thyme>\n",
            "Date: Mon, 16 Oct 2000 06:44:00 -0700 (PDT)\n",
            "From: phillip.allen@enron.com\n",
            "To: zimam@enron.com\n",
            "Subject: FW: fixed forward or other Collar floor gas price terms\n",
            "Mime-Version: 1.0\n",
            "Content-Type: text/plain; charset=us-ascii\n",
            "Content-Transfer-Encoding: 7bit\n",
            "X-From: Phillip K Allen\n",
            "X-To: zimam@enron.com\n",
            "X-cc: \n",
            "X-bcc: \n",
            "X-Folder: \\Phillip_Allen_Dec2000\\Notes Folders\\'sent mail\n",
            "X-Origin: Allen-P\n",
            "X-FileName: pallen.nsf\n",
            "\n",
            "---------------------- Forwarded by Phillip K Allen/HOU/ECT on 10/16/2000 \n",
            "01:42 PM ---------------------------\n",
            "\n",
            "\n",
            "\"Buckner, Buck\" <buck.buckner@honeywell.com> on 10/12/2000 01:12:21 PM\n",
            "To: \"'Pallen@Enron.com'\" <Pallen@Enron.com>\n",
            "cc:  \n",
            "Subject: FW: fixed forward or other Collar floor gas price terms\n",
            "\n",
            "\n",
            "Phillip,\n",
            "\n",
            "> As discussed  during our phone conversation, In a Parallon 75 microturbine\n",
            "> power generation deal for a national accounts customer, I am developing a\n",
            "> proposal to sell power to customer at fixed or collar/floor price. To do\n",
            "> so I need a corresponding term gas price for same. Microturbine is an\n",
            "> onsite generation product developed by Honeywell to generate electricity\n",
            "> on customer site (degen). using natural gas. In doing so,  I need your\n",
            "> best fixed price forward gas price deal for 1, 3, 5, 7 and 10 years for\n",
            "> annual/seasonal supply to microturbines to generate fixed kWh for\n",
            "> customer. We have the opportunity to sell customer kWh 's using\n",
            "> microturbine or sell them turbines themselves. kWh deal must have limited/\n",
            "> no risk forward gas price to make deal work. Therein comes Sempra energy\n",
            "> gas trading, truly you.\n",
            ">\n",
            "> We are proposing installing 180 - 240 units across a large number of\n",
            "> stores (60-100) in San Diego.\n",
            "> Store number varies because of installation hurdles face at small percent.\n",
            ">\n",
            "> For 6-8 hours a day  Microturbine run time:\n",
            "> Gas requirement for 180 microturbines 227 - 302 MMcf per year\n",
            "> Gas requirement for 240 microturbines 302 - 403 MMcf per year\n",
            ">\n",
            "> Gas will likely be consumed from May through September, during peak\n",
            "> electric period.\n",
            "> Gas price required: Burnertip price behind (LDC) San Diego Gas & Electric\n",
            "> Need detail breakout of commodity and transport cost (firm or\n",
            "> interruptible).\n",
            ">\n",
            "> Should you have additional questions, give me a call.\n",
            "> Let me assure you, this is real deal!!\n",
            ">\n",
            "> Buck Buckner, P.E., MBA\n",
            "> Manager, Business Development and Planning\n",
            "> Big Box Retail Sales\n",
            "> Honeywell Power Systems, Inc.\n",
            "> 8725 Pan American Frwy\n",
            "> Albuquerque, NM 87113\n",
            "> 505-798-6424\n",
            "> 505-798-6050x\n",
            "> 505-220-4129\n",
            "> 888/501-3145\n",
            "> \n",
            "\n"
          ]
        }
      ],
      "source": [
        "print(emails_df.iloc[9,1])"
      ]
    },
    {
      "cell_type": "code",
      "execution_count": null,
      "metadata": {
        "id": "f3rcT2lGW5T6"
      },
      "outputs": [],
      "source": [
        "import email\n",
        "# Function to extract email body from the raw email message\n",
        "def extract_email_body(raw_email):\n",
        "    msg = email.message_from_string(raw_email)\n",
        "    return msg.get_payload()\n",
        "\n",
        "# Apply the function to the 'email_message' column\n",
        "emails_df['message'] = emails_df['message'].apply(extract_email_body)"
      ]
    },
    {
      "cell_type": "code",
      "execution_count": null,
      "metadata": {
        "id": "xUTndw1wcK3t"
      },
      "outputs": [],
      "source": [
        "emails = emails_df['message']"
      ]
    },
    {
      "cell_type": "markdown",
      "metadata": {
        "id": "ZKeJfS895s1T"
      },
      "source": [
        "Some emails are very long, so lets restrict them to 1000"
      ]
    },
    {
      "cell_type": "code",
      "execution_count": null,
      "metadata": {
        "colab": {
          "base_uri": "https://localhost:8080/"
        },
        "id": "Zl0vn-jmcZuA",
        "outputId": "5ff01204-c91e-476f-c718-963ed8d177f3"
      },
      "outputs": [
        {
          "name": "stdout",
          "output_type": "stream",
          "text": [
            "517401\n",
            "[  23  786   30 ...  326  170 3694]\n",
            "12612\n",
            "11628\n",
            "Mean length of emails: 1845.3729563723302\n"
          ]
        }
      ],
      "source": [
        "#filtered_emails = emails[~emails.str.contains('--------------------------', case=False) & (emails.str.len() <= 1000)]\n",
        "array_emails = emails.values\n",
        "\n",
        "lengths = np.vectorize(len)(array_emails)\n",
        "index_of_longest = np.argmax(array_emails)\n",
        "\n",
        "print(len(array_emails))\n",
        "print(lengths)\n",
        "print(index_of_longest)\n",
        "print(len(array_emails[index_of_longest]))\n",
        "\n",
        "mean_length = emails.str.len().mean()\n",
        "\n",
        "# Example usage:\n",
        "print(\"Mean length of emails:\", mean_length)"
      ]
    },
    {
      "cell_type": "code",
      "execution_count": null,
      "metadata": {
        "id": "2bM2_qZLXOTf"
      },
      "outputs": [],
      "source": [
        "#products = electronics_df['name']\n",
        "# Test with smaller batch\n",
        "#filtered_emails = filtered_emails[:50000]"
      ]
    },
    {
      "cell_type": "markdown",
      "metadata": {
        "id": "0dwKh1SvZ4aU"
      },
      "source": [
        "Lets filter all messages that contain \"---------------------------\" as they are very messy."
      ]
    },
    {
      "cell_type": "code",
      "execution_count": null,
      "metadata": {
        "id": "kBfGMwxGdIXp"
      },
      "outputs": [],
      "source": [
        "spacy_en = spacy.load('en_core_web_sm')"
      ]
    },
    {
      "cell_type": "markdown",
      "metadata": {
        "id": "kSfXop4mc_xf"
      },
      "source": [
        "Tokenizer function"
      ]
    },
    {
      "cell_type": "code",
      "execution_count": null,
      "metadata": {
        "id": "ir1URtDTc-Kr"
      },
      "outputs": [],
      "source": [
        "def tokeniser(text):\n",
        "  return[tok.text for tok in spacy_en.tokenizer(str(text))]"
      ]
    },
    {
      "cell_type": "code",
      "execution_count": null,
      "metadata": {
        "id": "4uTc4odCfnaK"
      },
      "outputs": [],
      "source": [
        "import re\n",
        "import string\n",
        "from nltk.corpus import stopwords\n",
        "\n",
        "def normalize_df(data):\n",
        "  # Lowercasing\n",
        "  data = data.lower()\n",
        "  # Removing special characters and punctuation\n",
        "  data = re.sub(r'([.,!?]+)', r\" \\1 \", data)\n",
        "  data = re.sub(r\"[^a-zA-Z?.!,']+\", \" \", data)\n",
        "  data = re.sub(r'[\" \"]+', \" \", data)\n",
        "\n",
        "  # Remove forwarded text\n",
        "  data = data.split('forwarded by')[0]\n",
        "\n",
        "  cleaned_data = data.strip()\n",
        "\n",
        "  return cleaned_data\n",
        "\n",
        "def normalize_input(text):\n",
        "\n",
        "  #text = text.lower()\n",
        "  #text = str(text)\n",
        "  #normalized_text = re.sub(r'[^\\w\\s]', '', text)\n",
        "  text = text.lower()\n",
        "  text = re.sub(r'([.,!?]+)', r\" \\1 \", text)\n",
        "  text = re.sub(r\"[^a-zA-Z?.!,']+\", \" \", text)\n",
        "  text = re.sub(r'[\" \"]+', \" \", text)\n",
        "\n",
        "  # Remove forwarded text\n",
        "  text = text.split('forwarded by')[0]\n",
        "\n",
        "  cleaned_text = text.strip()\n",
        "\n",
        "  #cleaned_text = np.char.strip(np.char.replace(cleaned_text, '\\n', ' '))\n",
        "  #cleaned_text = np.char.strip(np.char.replace(cleaned_text, '\\t', ' '))\n",
        "  #normalized_text = np.char.replace(text, '[^\\w\\s]', '')\n",
        "\n",
        "  return cleaned_text"
      ]
    },
    {
      "cell_type": "code",
      "execution_count": null,
      "metadata": {
        "id": "oWcls0wqgWDV"
      },
      "outputs": [],
      "source": [
        "processed_data = list(map(normalize_df, emails))"
      ]
    },
    {
      "cell_type": "markdown",
      "metadata": {
        "id": "gSqQ-yTPeI6_"
      },
      "source": [
        "Generate data set\n",
        "\n",
        "We want to split all sentences to pairs in such way:\n",
        "\n",
        "lets shoot for tuesday at 1145\n",
        "\n",
        "\n",
        "'&lt;sos&gt; lets shoot &lt;eos&gt;' , '&lt;sos&gt; for tuesday at 1145 &lt;eos&gt;'\n",
        "\n",
        "'&lt;sos&gt; lets shoot for &lt;eos&gt;' , '&lt;sos&gt; tuesday at 1145 &lt;eos&gt;'"
      ]
    },
    {
      "cell_type": "code",
      "execution_count": null,
      "metadata": {
        "id": "rNgG_ugkeK-l"
      },
      "outputs": [],
      "source": [
        "import spacy\n",
        "nlp = spacy.load(\"en_core_web_lg\")\n",
        "\n",
        "max_words = 20\n",
        "\n",
        "def replace_names_with_token(words):\n",
        "  # Back to one sentence\n",
        "  sentence = ' '.join(words)\n",
        "  doc = nlp(sentence)\n",
        "\n",
        "  words = []\n",
        "\n",
        "  for token in doc:\n",
        "\n",
        "    if token.ent_type_ == \"PERSON\":\n",
        "      words.append(\"<name>\")\n",
        "    else:\n",
        "      words.append(token.text)\n",
        "  return words\n",
        "\n",
        "def generate_dataset (data):\n",
        "  pairs = []\n",
        "  SRC = []\n",
        "  TRG = []\n",
        "  all_sentences = []\n",
        "\n",
        "  for text in data:\n",
        "\n",
        "    # Skip text that have over 100 words\n",
        "    if len(text) > 100:\n",
        "      continue\n",
        "\n",
        "    # Let's split the emails into sentences\n",
        "    sentences = text.split(' . ')\n",
        "\n",
        "\n",
        "    for sentence in sentences:\n",
        "\n",
        "      all_sentences.append(sentence)\n",
        "\n",
        "      # Lets try to remove names from the emails\n",
        "      sentence = re.sub(\"^\\w+\\s,\\s\", \"\", sentence)  # Remove from the start\n",
        "      sentence = re.sub(r'\\s*,\\s*\\w+\\s*$', '', sentence)  # Remove from the end\n",
        "\n",
        "      words = sentence.split(' ')\n",
        "\n",
        "      # Remove sentences that are over 20 words and sentences that are less than 2 words.\n",
        "      if len(words) > max_words or len(words) < 2:\n",
        "          continue\n",
        "\n",
        "      # For any names in the text, we can replace the names with <name> token using spacy\n",
        "      # ADD THIS LATER TO SEE IF RESULTS ARE BETTER (VERY COMPUTATIONAL)!!\n",
        "      #words = replace_names_with_token(words)\n",
        "\n",
        "      for i in range(1, len(words) - 1):\n",
        "\n",
        "          input_data = ' '.join(words[:i+1])\n",
        "          output_data = ' '.join(words[i+1:])\n",
        "\n",
        "          #SRC.append(input_data)\n",
        "          #TRG.append(output_data)\n",
        "          data = (input_data, output_data)\n",
        "          pairs.append(data)\n",
        "\n",
        "  return pairs, all_sentences"
      ]
    },
    {
      "cell_type": "code",
      "execution_count": null,
      "metadata": {
        "colab": {
          "base_uri": "https://localhost:8080/"
        },
        "id": "1GCeWaMkpJo0",
        "outputId": "91f8c4b4-4a0f-4b0a-de5d-c33594182371"
      },
      "outputs": [
        {
          "name": "stdout",
          "output_type": "stream",
          "text": [
            "['greg , how about either next tuesday or thursday ? phillip']\n"
          ]
        }
      ],
      "source": [
        "test = [processed_data[5]]\n",
        "print(test)"
      ]
    },
    {
      "cell_type": "code",
      "execution_count": null,
      "metadata": {
        "colab": {
          "base_uri": "https://localhost:8080/"
        },
        "id": "VYnjVLL4pO8x",
        "outputId": "f08fb1db-b2ef-4ccf-dba9-2e8b5a03be71"
      },
      "outputs": [
        {
          "data": {
            "text/plain": [
              "[('how about', 'either next tuesday or thursday ? phillip'),\n",
              " ('how about either', 'next tuesday or thursday ? phillip'),\n",
              " ('how about either next', 'tuesday or thursday ? phillip'),\n",
              " ('how about either next tuesday', 'or thursday ? phillip'),\n",
              " ('how about either next tuesday or', 'thursday ? phillip'),\n",
              " ('how about either next tuesday or thursday', '? phillip'),\n",
              " ('how about either next tuesday or thursday ?', 'phillip')]"
            ]
          },
          "execution_count": 25,
          "metadata": {},
          "output_type": "execute_result"
        }
      ],
      "source": [
        "example = generate_dataset(test)\n",
        "example[0]"
      ]
    },
    {
      "cell_type": "markdown",
      "metadata": {
        "id": "xJPEbft-vK_z"
      },
      "source": [
        "Generating pairs from the whole dataset\n",
        "\n",
        "Parsing though the dataset and replacing names with <name> tag does take a lot of time so I might have to remove it.\n",
        "\n",
        "runtime for generating datasets was 9 minutes."
      ]
    },
    {
      "cell_type": "code",
      "execution_count": null,
      "metadata": {
        "colab": {
          "base_uri": "https://localhost:8080/"
        },
        "id": "9EkgMghCvP5l",
        "outputId": "fa3860b0-46ea-4ea5-eb14-370d5b487dcf"
      },
      "outputs": [
        {
          "name": "stdout",
          "output_type": "stream",
          "text": [
            "AMOUNT OF PAIRS:  509912\n",
            "AMOUNT OF SENTENCES:  174377\n"
          ]
        }
      ],
      "source": [
        "pairs, all_sentences = generate_dataset(processed_data)\n",
        "print(\"AMOUNT OF PAIRS: \", len(pairs))\n",
        "print(\"AMOUNT OF SENTENCES: \", len(all_sentences))"
      ]
    },
    {
      "cell_type": "code",
      "execution_count": null,
      "metadata": {
        "colab": {
          "base_uri": "https://localhost:8080/"
        },
        "id": "hiR_1bmXaDjJ",
        "outputId": "4fb76e53-c57f-44ff-f51b-7cd977259b9d"
      },
      "outputs": [
        {
          "data": {
            "text/plain": [
              "[('here is', 'our forecast'),\n",
              " ('here is our', 'forecast'),\n",
              " ('way to', 'go !!!'),\n",
              " ('way to go', '!!!'),\n",
              " (\"let's shoot\", 'for tuesday at .'),\n",
              " (\"let's shoot for\", 'tuesday at .'),\n",
              " (\"let's shoot for tuesday\", 'at .'),\n",
              " (\"let's shoot for tuesday at\", '.'),\n",
              " ('how about', 'either next tuesday or thursday ? phillip'),\n",
              " ('how about either', 'next tuesday or thursday ? phillip'),\n",
              " ('how about either next', 'tuesday or thursday ? phillip'),\n",
              " ('how about either next tuesday', 'or thursday ? phillip'),\n",
              " ('how about either next tuesday or', 'thursday ? phillip'),\n",
              " ('how about either next tuesday or thursday', '? phillip'),\n",
              " ('how about either next tuesday or thursday ?', 'phillip'),\n",
              " ('any morning', 'between and'),\n",
              " ('any morning between', 'and'),\n",
              " ('million is', 'fine phillip'),\n",
              " ('million is fine', 'phillip'),\n",
              " ('i think', 'fletch has a good cpa'),\n",
              " ('i think fletch', 'has a good cpa'),\n",
              " ('i think fletch has', 'a good cpa'),\n",
              " ('i think fletch has a', 'good cpa'),\n",
              " ('i think fletch has a good', 'cpa'),\n",
              " ('i am', 'still doing my own .')]"
            ]
          },
          "execution_count": 27,
          "metadata": {},
          "output_type": "execute_result"
        }
      ],
      "source": [
        "pairs[:25]"
      ]
    },
    {
      "cell_type": "markdown",
      "metadata": {
        "id": "0CD9n8R-rElw"
      },
      "source": []
    },
    {
      "cell_type": "code",
      "execution_count": null,
      "metadata": {
        "id": "eHjf2IUfcSVX"
      },
      "outputs": [],
      "source": [
        "from torchtext.vocab import build_vocab_from_iterator\n",
        "\n",
        "def yield_tokens(data):\n",
        "  for sentence in data:\n",
        "    yield tokeniser(sentence)\n",
        "\n",
        "vocab = build_vocab_from_iterator(yield_tokens(all_sentences), specials=['<unk>', '<pad>', '<sos>', '<eos>', '<name>'], min_freq=10)\n",
        "vocab.set_default_index(vocab[\"<unk>\"])\n"
      ]
    },
    {
      "cell_type": "code",
      "execution_count": null,
      "metadata": {
        "colab": {
          "base_uri": "https://localhost:8080/"
        },
        "id": "kd4BvmdUdxXJ",
        "outputId": "9af02ad4-9537-4b5e-f261-e2f182081554"
      },
      "outputs": [
        {
          "name": "stdout",
          "output_type": "stream",
          "text": [
            "The length of the vocab is 4272\n",
            "The index of '<unk>' is 0\n",
            "['<unk>', '<pad>', '<sos>', '<eos>', '<name>', ',', 'the', '.', 'i', 'you', 'to', '?', 'is', 'this', 'for', 'please', 'thanks', 'a', 'fyi', 'on', '!', 'and', 'me', 'of', 'attached', 'in', \"'s\", 'have', 'it', 'are', 'we', 'here', 'your', 'see', 'with', 'my', 'at', 'do', 'be', 'will', 'enron', 'that', 'can', 'from', 'if', 'xls', 'call', 'what', 'vince', 'com', 'know', 'get', \"n't\", 'any', 'let', 'kay', 'am', 'as', 'http', 'not', 'up', 'out', 'jeff', 'mark', 'just', 'need', 'hourahead', '...', 'deal', 'file', 'fax', 'did', 'about', 'print', 'was', 'time', 'www', 'today', 'meeting', 'date', 'good', 'would', 'schedule', 'think', 'one', 'go', 'when', 'sent', 'like', 'send', 'regards', 'doc', 'our', 'start', 'phone', 'has', 'hpl', 'by', 'these', \"'m\", 'eb', 'should', 'how', 'or', 'there', 'all', 'carol', 'st', 'an', 'new', 'gas', 'per', 'so', 'pm', 'ben', 'm', 'download', 'going', 'd', 'email', 'want', 'e', 'find', 'no', \"'ll\", 'list', 'us', 'task', 'but', 'hour', 'mike', 'john', 'review', 'pl', 'report', 'mail', 'thank', 'questions', 'required', 'df', 'chris', 'failed', 'manual', 'sorry', 'intervention', 'hpln', 'give', 'week', 'take', 'look', 'could', 'some', 'clair', 'help', 'below', 'sara', 'corp', 'work', 'th', 'make', 'best', 'comments', 'hi', 'x', 'got', 'where', 'day', 'he', 'more', 'forward', 'put', 'delainey', 'number', 'copy', 'message', 'now', 'c', 'check', 'jpg', 'draft', 'tomorrow', 'back', 'may', 'request', 'been', 'looks', 'office', 'info', 'last', 'they', 'blackberry', 'calendar', 'great', 'pls', 'ok', 'memo', 'management', 'jim', 'letter', '....', 'monday', 'discuss', 'shirley', 'still', 'version', 'rick', 'well', 'thought', 'bob', 'guys', 'steve', 'sure', 'ca', 'latest', 'set', 'information', 'html', 'talk', 'next', 'had', 'friday', 'tel', 'who', 'net', 'anything', 'sue', 'hey', 'does', 'attachment', 'power', 'revised', 'houston', 'also', 'them', 'teco', 'hope', 'daily', 'off', 'note', 'change', 'changes', 'dave', 'deals', 'p', 'agreement', 'yes', 'home', 'mara', 'tap', 'canada', 'tonight', 'him', 'w', 'very', 'address', 'update', 'might', 'central', 'weekend', 'msn', 'were', 'try', \"'re\", 'again', 's', 'morning', 'presentation', 'first', 'her', 'credit', 'group', 'name', 'add', 'dg', 'yet', 'received', 'down', 'fine', 'following', 'b', 're', 'love', 'contract', 'status', 'lunch', 'final', 'updated', 'cell', 'document', 'explorer', 'much', 'tuesday', 'due', 'done', 'gmt', 'keep', 'right', 'wireless', 'handheld', 'eric', 'sally', 'only', 'over', 'read', 'sounds', 'attend', 'into', 'working', 'after', 'contact', 'too', 'free', 'thursday', 'michelle', 'night', 'kevin', 'bill', 'requested', 'ercot', 'his', 'interest', 'price', 'desk', 'k', 'already', 'asp', 'kim', 'meet', 'david', 'use', 'she', 'two', 'another', 'joe', 'conference', 'news', 'mw', 'dan', 'ss', 'robin', 'assignment', 'discussed', 'form', 'energy', 'trading', 'chance', 'changed', 'resume', 'why', 'image', 'regarding', 'enjoy', 'asap', 'available', 'doing', \"'\", \"'ve\", 'happy', 'trade', 'wednesday', 'follow', 'ken', 'broker', 'congratulations', 'weekly', 'wanted', 'open', 'scott', 'ect', 'eol', 'looking', 'asked', 'forgot', 'something', 'through', 'book', 'subject', 'summary', 'kate', 'before', 'heard', 'come', 'january', 'tana', 'buy', 'greg', 'jan', 'soon', 'case', 'around', 'job', 'htm', 'other', 'susan', 'sheet', 'legal', 'care', 'interested', 'priority', 'way', 'year', 'approved', 'smith', 'numbers', 'else', 'getting', 'response', 'tx', '..', 'paul', 'model', 'guy', 'game', 'missing', 'handle', 'march', 'room', 'completed', 'test', 'article', 'stinson', 'works', 'yesterday', 'o', 'coming', 'ena', 'really', 'daren', 'ees', 'made', 'market', 'north', 'anyone', 'april', 'ls', 'stuff', 'afternoon', 'fun', 'phillip', 'plan', 'discussion', 'tell', '.....', 'cc', 'mary', 'which', 'current', 'lets', 'little', 'ces', 'errol', 'until', 'funny', 'gngr', 'iferc', 'lisa', 'confirm', 'texas', 'access', 'tom', 't', 'documents', 'issues', 'october', 'place', 'someone', 'west', 'america', 'bid', 'elizabeth', 'same', 'later', 'fletch', 'pdf', 'seen', 'sending', 'voice', 'don', 'nice', 'order', 'then', 'california', 'distribution', 'point', 'l', 'left', 'team', 'company', 'articles', 'page', 'flow', 'index', 'password', 'being', 'correct', 'july', 'services', 'late', 'respond', 'everyone', 'problem', 'scheduled', 'dinner', 'interview', 'project', 'total', 'vacation', 'hear', 'notice', 'say', 'their', 'guess', 'hunter', 'issue', 'thoughts', 'approve', 'luck', 'ic', 'lsk', 'able', 'august', 'long', 'points', 'volume', 'better', 'called', 'include', 'those', 'load', 'sell', 'f', 'nt', \"'d\", 'details', 'talking', 'term', 'believe', 'maybe', 'oh', 'probably', 'sign', 'wrong', 'june', 'pretty', 'reminder', 'town', 'both', 'pass', 'tim', 'big', 'brian', 'interesting', 'molly', 'previous', 'sp', 'intl', 'person', 'taking', 'u', 'data', 'earlier', 'word', 'ferc', 'agree', 'original', 'never', 'options', 'peak', 'street', 'added', 'play', 'site', 'yahoo', 'gary', 'location', 'most', 'needs', 'pick', 'risk', 'h', 'sunday', 'enrononline', 'idea', 'referenced', 'click', 'few', 'people', 'together', 'attachments', 'link', 'q', 'remember', 'said', 'sold', 'further', 'kathy', 'notes', 'oct', 'days', 'executive', 'j', 'show', 'analysis', 'december', 'dt', 'feb', 'leave', 'party', 'assistant', 'section', 'its', 'lot', 'andy', 'month', 'nd', 'return', 'sheila', 'spreadsheet', 'early', 'provide', 'ready', 'system', '......', 'east', 'than', 'dec', 'ever', 'february', 'leslie', 'november', 'picture', 'saturday', 'above', 'code', 'rob', 'counterparty', 'language', 'possible', 'ed', 'nymex', 'tickets', 'co', 'comment', 'inc', 'isda', 'man', 'thing', 'bring', 'lay', 'n', 'copies', 'process', 'things', 'under', 'approval', 'ext', 'minutes', 'question', 'master', 'advise', 'cal', 'brad', 'feel', 'org', 'reports', 'couple', 'responses', 'color', 'eff', 'sat', 'agg', 'ask', 'np', 'portfolio', 'run', 'tw', 'post', 'pwr', 'richard', 'trying', 'recent', 'ticket', 'business', 'crd', 'talked', 'while', 'aga', 'delivery', 'everything', 'larry', 'positions', 'problems', 'board', 'doug', 'mentioned', 'jennifer', 'trip', 'lynn', 'okay', 'prepare', 'shows', 'disregard', 'effective', 'volumes', 'deserved', 'peter', 'worksheet', 'gif', 'pager', 'confirmation', 'contracts', 'files', 'firm', 'gerald', 'lavo', 'matt', 'mr', 'alan', 'counsel', 'janet', 'michael', 'basis', 'cool', 'hou', 'johnson', 'linda', 'meter', 'nov', 'signed', 'story', 'end', 'house', 'v', 'embedded', 'forwarded', 'yours', 'ckm', 'far', 'held', 'offer', 'taylor', 'wo', 'join', 'prices', 'since', 'sitara', 'wants', 'instead', 'part', 'thx', 'view', 'edu', 'laura', 'stacy', 'voicemail', 'fees', 'format', 'forwarding', 'gave', 'julie', 'r', 'real', 'answer', 'bad', 'leaving', 'louise', 'told', 'yeah', 'attending', 'forget', 'george', 'golf', 'many', 'money', 'products', 'promised', 'red', 'robert', 'clean', 'created', 'found', 'glad', 'million', 'went', 'hard', 'lc', 'product', 'revisions', 'because', 'financial', 'fri', 'having', 'mid', 'old', 'pay', 'stephanie', 'cp', 'rate', 'action', 'congrats', 'expense', 'promotion', 'reading', 'stop', 'weeks', 'along', 'always', 'committee', 'davis', 'fixed', 'hello', 'jason', 'martin', 'mean', 'transaction', 'agenda', 'bought', 'came', 'future', 'karen', 'docs', 'ina', 'september', 'delay', 'frank', 'kaminski', 'lee', 'moore', 'receive', 'thinking', 'baby', 'el', 'gov', 'paper', 'shall', 'amy', 'appreciate', 'cost', 'mm', 'pat', 'pleasure', 'position', 'stay', 'conversation', 'maureen', 'move', 'sch', 'top', 'bruce', 'either', 'fuel', 'grant', 'rod', 'weather', 'james', 'na', 'press', 'car', 'ge', 'mat', 'storage', 'thanx', 'williams', 'heather', 'jerry', 'jones', 'london', 'mtg', 'second', 'swap', 'updates', 'al', 'dth', 'emails', 'ending', 'girl', 'holiday', 'meetings', 'needed', 'online', 'proposed', 'release', 'assume', 'brant', 'exe', 'ny', 'plans', 'posted', 'affairs', 'beth', 'brent', 'chart', 'cindy', 'mar', 'times', 'birthday', 'currently', 'margaret', 'must', 'peggy', 'reply', 'vasant', 'ahead', 'dad', 'ecs', 'messages', 'mind', 'ph', 'results', 'sale', 'srs', 'staff', 'agreements', 'bottom', 'chat', 'fee', 'goes', 'invitation', 'les', 'randy', 'round', 'website', 'between', 'brown', 'included', 'line', 'progress', 'sager', 'ya', 'z', 'books', 'building', 'capacity', 'cover', 'invite', 'minute', 'receipt', 'wait', 'duke', 'helpful', 'marketing', 'moved', 'nancy', 'remind', 'var', 'web', 'electronic', 'ets', 'hit', 'natural', 'pages', 'short', 'twanda', 'waiting', 'amendment', 'debra', 'floor', 'folks', 'kelly', 'pge', 'quick', 'seems', 'though', 'trades', 'accomplishments', 'lo', 'marie', 'mc', 'mhc', 'oops', 'register', 'suzanne', 'taken', 'type', 'based', 'boy', 'reference', 'save', 'appointment', 'budget', 'names', 'pg', 'says', 'shortly', 'close', 'russell', 'san', 'shit', 'three', 'g', 'litigation', 'missed', 'mvc', 'nat', 'plus', 'senior', 'sweet', 'welcome', 'against', 'busy', 'demand', 'filed', 'prebon', 'purchase', 'research', 'sound', 'touch', 'tried', 'apologies', 'cancelled', 'full', 'ideas', 'jay', 'kind', 'liz', 'making', 'melissa', 'mom', 'nothing', 'rsvp', 'support', 'aware', 'cd', 'cgi', 'conf', 'faxed', 'folder', 'fred', 'piece', 'stacey', 'brief', 'checking', 'dc', 'gc', 'invoice', 'kyle', 'llc', 'loop', 'ted', 'arrange', 'danny', 'global', 'grigsby', 'planning', 'prior', 'sometime', 'speak', 'starting', 'tanya', 'terms', 'thurs', 'worked', 'account', 'dale', 'each', 'justin', 'nelson', 'rd', 'service', 'skilling', 'trader', 'travis', 'used', 'bit', 'broadband', 'card', 'dates', 'item', 'mcs', 'phil', 'redlined', 'sharon', 'tax', 'took', 'url', 'additional', 'black', 'class', 'course', 'cut', 'cute', 'executed', 'finance', 'gets', 'mobile', 'patti', 'plz', 'public', 'sr', 'tracy', 'aol', 'corrected', 'fill', 'markets', 'none', 'oil', 'opinion', 'rose', 'craig', 'default', 'jean', 'pictures', 'ppt', 'small', 'taffy', 'testing', '........', 'beck', 'bt', 'carolyn', 'correction', 'feedback', 'haedicke', 'handling', 'nom', 'pete', 'stan', 'stock', 'transport', 'analyst', 'anderson', 'coordinate', 'customer', 'dp', 'moving', 'physical', 'portland', 'private', 'rest', 'spoke', 'state', 'suggestions', 'amerex', 'dial', 'evening', 'every', 'main', 'southern', 'tues', 'user', 'value', 'y', 'anyway', 'calpine', 'cash', 'christi', 'database', 'during', 'figure', 'internal', 'iso', 'jane', 'katy', 'kean', 'lavorato', 'minor', 'noon', 'prepared', 'quotes', 'ray', 'rr', 'saw', 'sun', 'tony', 'anytime', 'attach', 'cheryl', 'control', 'directly', 'dog', 'filing', 'gtc', 'hotel', 'mine', 'miss', 'myself', 'production', 'proposal', 'reach', 'confirmed', 'different', 'government', 'high', 'hopefully', 'mistake', 'ng', 'palo', 'recall', 'regulatory', 'sam', 'shari', 'via', 'accounting', 'chicago', 'christmas', 'confirms', 'ft', 'happened', 'harry', 'hoskins', 'makes', 'meant', 'newsletter', 'once', 'rain', 'related', 'share', 'supposed', 'traders', 'away', 'barry', 'briefing', 'error', 'etc', 'matter', 'remove', 'ryan', 'scheduling', 'text', 'win', 'bet', 'cng', 'commercial', 'computer', 'ditto', 'florida', 'forms', 'monika', 'paso', 'policy', 'resend', 'slide', 'tco', 'transco', 'unit', 'candidate', 'gregg', 'hold', 'keiser', 'lm', 'mckinney', 'non', 'reviewed', 'sep', 'thxs', 'zone', 'aug', 'bev', 'calling', 'closing', 'counterparties', 'even', 'hearing', 'hours', 'mmbtu', 'pool', 'prc', 'redline', 'terry', 'world', 'americas', 'andrew', 'bank', 'charge', 'cob', 'cst', 'dana', 'description', 'drive', 'ene', 'including', 'joann', 'kaye', 'lance', 'ps', 'sales', 'york', 'zimin', 'anne', 'apr', 'barbara', 'enovate', 'est', 'fit', 'god', 'green', 'hot', 'je', 'lost', 'owe', 'pre', 'rt', 'sept', 'detail', 'direct', 'kudlow', 'la', 'life', 'outage', 'playing', 'running', 'sean', 'suggested', 'turn', 'uk', 'wholesale', 'zip', 'appropriate', 'arnold', 'balance', 'beverly', 'brenda', 'confidential', 'decided', 'extra', 'happen', 'heads', 'jmf', 'match', 'metafile', 'monthly', 'participate', 'program', 'pv', 'seem', 'slides', 'structure', 'stuart', 'true', 'txu', 'wanna', 'white', 'write', 'alex', 'allen', 'approvals', 'booked', 'carlos', 'cera', 'cpuc', 'director', 'drew', 'gillaspie', 'guaranty', 'holly', 'ignore', 'kam', 'krishna', 'least', 'losses', 'mcmahon', 'pipeline', 'showing', 'signature', 'turbine', 'unplanned', 'using', 'whether', 'ami', 'biz', 'buddy', 'carson', 'count', 'customers', 'dear', 'enough', 'er', 'hotmail', 'invited', 'mccarty', 'pricing', 'profile', 'thru', 'track', 'understand', 'unless', 'worry', 'worth', 'ago', 'catch', 'charlie', 'curve', 'denver', 'flight', 'general', 'igsupdate', 'internet', 'items', 'letters', 'mitch', 'preliminary', 'rebecca', 'staying', 'vote', 'years', 'burns', 'club', 'confidentiality', 'department', 'dr', 'exhibits', 'fix', 'half', 'instructions', 'keith', 'lotus', 'option', 'reason', 'rescheduled', 'screen', 'sense', 'area', 'checked', 'clickpaper', 'drafts', 'hate', 'japan', 'length', 'morgan', 'reflect', 'resending', 'ron', 'school', 'spot', 'stephen', 'strategy', 'tee', 'txt', 'vegas', '.......', 'dallas', 'dow', 'dude', 'ews', 'involved', 'mon', 'months', 'opening', 'opps', 'outline', 'printed', 'rates', 'reviewing', 'static', 'unable', 'wendi', 'advisory', 'amount', 'clark', 'decision', 'ds', 'enpower', 'eta', 'except', 'exhibit', 'helps', 'initial', 'light', 'loss', 'nomination', 'payment', 'started', 'versions', 'visit', 'watch', 'wife', 'wish', 'without', 'agreed', 'austin', 'binder', 'blue', 'canadian', 'costs', 'donna', 'freeman', 'germany', 'gon', 'gone', 'huh', 'lebrocq', 'log', 'lots', 'mails', 'members', 'ne', 'opened', 'outside', 'paula', 'pr', 'presentations', 'sanders', 'sheri', 'starts', 'stories', 'survey', 'systems', 'ta', 'actually', 'ai', 'angela', 'ann', 'authorized', 'beer', 'cancel', 'corporate', 'council', 'decide', 'dick', 'enclosed', 'finished', 'input', 'login', 'parking', 'performance', 'quote', 'richter', 'security', 'south', 'wes', 'asking', 'caiso', 'cn', 'continue', 'development', 'drop', 'electricity', 'estimate', 'itinerary', 'kill', 'longer', 'looked', 'met', 'nw', 'plant', 'requests', 'responding', 'revision', 'sarah', 'speaking', 'thanksgiving', 'tva', 'wilson', 'woman', 'apb', 'appreciated', 'attendees', 'chad', 'coal', 'complete', 'cynthia', 'diane', 'distribute', 'drink', 'dynegy', 'gd', 'graves', 'hr', 'law', 'lawyer', 'nda', 'nyiso', 'obviously', 'rather', 'steffes', 'summer', 'tab', 'theresa', 'wk', 'wonderful', 'aparna', 'apologize', 'bio', 'city', 'clear', 'deliver', 'dev', 'fin', 'follows', 'friend', 'host', 'lesson', 'presto', 'px', 'rice', 'safe', 'selling', 'stand', 'tyrell', 'volumetric', 'bin', 'concerns', 'employees', 'et', 'exactly', 'given', 'harrison', 'head', 'impact', 'listed', 'map', 'marcus', 'materials', 'moment', 'ones', 'palmer', 'perlingiere', 'president', 'settlement', 'suite', 'unfortunately', 'wayne', 'activity', 'background', 'box', 'charges', 'chip', 'comparison', 'copied', 'cpa', 'dorland', 'dpr', 'facts', 'fly', 'forecast', 'four', 'friends', 'front', 'greetings', 'holidays', 'however', 'kitchen', 'links', 'manager', 'media', 'origination', 'ou', 'personal', 'pull', 'quarter', 'rajaram', 'somewhere', 'tammy', 'topic', 'training', 'transactions', 'usual', 'wow', 'annex', 'associate', 'bp', 'buying', 'ch', 'entergy', 'especially', 'extend', 'jp', 'maria', 'means', 'opportunity', 'period', 'pps', 'reached', 'sempra', 'shackleton', 'useful', 'video', 'wire', 'bunch', 'canceled', 'captioned', 'damn', 'detailed', 'dq', 'earnings', 'entered', 'family', 'hell', 'ii', 'irena', 'judy', 'kidding', 'mt', 'rogers', 'sample', 'sg', 'shona', 'side', 'special', 'tenn', 'tommorrow', 'att', 'autoschedule', 'cathy', 'cgas', 'coral', 'court', 'curves', 'definitely', 'derek', 'dutch', 'event', 'exchange', 'flat', 'fran', 'hillings', 'https', 'important', 'lists', 'path', 'picks', 'pjm', 'retail', 'roll', 'sandeep', 'saying', 'schedules', 'schneider', 'search', 'seeing', 'tech', 'verde', 'abb', 'appears', 'audrey', 'break', 'center', 'chief', 'contacts', 'covered', 'dept', 'diana', 'drinks', 'enter', 'espn', 'excel', 'experiencing', 'explain', 'football', 'ha', 'jr', 'kimberly', 'king', 'olson', 'past', 'perfect', 'refer', 'ride', 'sick', 'sk', 'speed', 'swaps', 'washington', 'wood', '...........', 'ass', 'assignments', 'begin', 'bloomberg', 'chrebet', 'confirmations', 'delete', 'delta', 'discussions', 'dunn', 'electric', 'fx', 'gracias', 'hedge', 'jack', 'jar', 'kids', 'mention', 'mirant', 'monica', 'mws', 'neal', 'package', 'rb', 'reserve', 'resumes', 'returning', 'roger', 'route', 'saved', 'sit', 'thomas', 'transfer', 'vkaminski', 'whalley', \"'em\", '.........', 'advice', 'anymore', 'beach', 'behalf', 'caps', 'christie', 'excellent', 'execution', 'fortune', 'groups', 'hand', 'happening', 'hill', 'hodge', 'jackson', 'jordan', 'keeping', 'killed', 'kristin', 'letterhead', 'marc', 'mccullough', 'mclaughlin', 'memorandum', 'nicole', 'nng', 'nyc', 'own', 'park', 'provided', 'regular', 'resources', 'sce', 'sheets', 'supply', 'tonite', 'trouble', 'virginia', 'vng', 'wade', 'yo', 'adams', 'arrive', 'asst', 'availability', 'bass', 'calls', 'charles', 'da', 'expected', 'eye', 'gcp', 'generation', 'giving', 'gorelieberman', 'grab', 'greatest', 'harris', 'incorrect', 'independent', 'key', 'koch', 'lydia', 'messenger', 'microsoft', 'ms', 'national', 'necessary', 'ours', 'pa', 'perhaps', 'protest', 'reschedule', 'resolution', 'schroeder', 'served', 'shanna', 'statements', 'suck', 'swing', 'trco', 'utilities', 'aa', 'adam', 'almost', 'attorney', 'ava', 'bored', 'bullets', 'closed', 'cnn', 'commodity', 'corporation', 'dawn', 'delivered', 'diego', 'finally', 'framework', 'janine', 'julia', 'knew', 'laugh', 'lawyers', 'msg', 'operating', 'papers', 'pics', 'rm', 'rock', 'seat', 'sherry', 'such', 'title', 'water', 'willing', 'wpd', 'aep', 'allegheny', 'announcement', 'blackline', 'cheers', 'circulate', 'concerning', 'directions', 'earthlink', 'efforts', 'field', 'finish', 'fundamentals', 'fw', 'joseph', 'limit', 'logistics', 'northwestern', 'outlook', 'patrick', 'photo', 'projects', 'purposes', 'rcr', 'record', 'records', 'renew', 'sap', 'sessions', 'spread', 'stanford', 'submitted', 'sucks', 'suit', 'telephone', 'traded', 'vm', 'vs', 'whole', 'accept', 'aimee', 'annual', 'ballot', 'base', 'behind', 'boss', 'bryan', 'bullet', 'carrie', 'comes', 'dasovich', 'deadline', 'doctor', 'feeling', 'foster', 'gay', 'gift', 'glenn', 'heat', 'hub', 'increase', 'insurance', 'international', 'jen', 'joan', 'married', 'material', 'near', 'norma', 'offices', 'passcode', 'posting', 'receiving', 'rush', 'season', 'several', 'shop', 'strong', 'tilney', 'tjae', 'tori', 'unsubscribe', 'urgent', 'victor', 'within', '..........', 'actual', 'amanda', 'andrea', 'appt', 'atcfinalcomp', 'bond', 'cglf', 'consideration', 'crude', 'denise', 'drinking', 'edit', 'edits', 'endhour', 'expect', 'hang', 'highlighted', 'includes', 'informed', 'interviewing', 'jackie', 'joke', 'knows', 'large', 'lately', 'li', 'lorraine', 'lou', 'lucy', 'maggi', 'marked', 'marks', 'mcconnell', 'meredith', 'museum', 'newenergy', 'nx', 'oasis', 'osb', 'otherwise', 'prompt', 'quickly', 'recommendation', 'referring', 'reportdate', 'scroll', 'sec', 'shapiro', 'space', 'starthour', 'statement', 'swerzbin', 'template', 'ubs', 'union', 'verify', 'viola', 'westdesksupport', 'wharton', 'won', 'woody', 'words', 'allocation', 'anybody', 'bag', 'bowl', 'bradford', 'bye', 'cara', 'cards', 'carter', 'cnt', 'column', 'conflicts', 'connection', 'de', 'dead', 'deleted', 'driving', 'ecthou', 'edison', 'edr', 'effort', 'extension', 'fast', 'figured', 'garage', 'gasfundy', 'hood', 'investor', 'jinsung', 'jon', 'kent', 'live', 'loi', 'louis', 'ltd', 'mdq', 'merry', 'mexico', 'miller', 'mp', 'network', 'oak', 'palm', 'paying', 'pip', 'released', 'reliant', 'rgds', 'secretary', 'shelley', 'stab', 'symes', 'texoma', 'thompson', 'tis', 'walk', 'webcl', 'wrote', 'according', 'advance', 'amendments', 'bailey', 'becky', 'become', 'billing', 'cap', 'chk', 'commerce', 'conflict', 'content', 'darren', 'dated', 'documentation', 'dperlin', 'dwr', 'eat', 'eott', 'ga', 'games', 'genco', 'hain', 'handled', 'hire', 'hollis', 'jds', 'keeps', 'kick', 'mailing', 'mann', 'mo', 'monitor', 'nicolay', 'nope', 'organization', 'originals', 'paid', 'paragraph', 'pereira', 'procedures', 'purchased', 'pw', 'reck', 'responded', 'role', 'sites', 'standard', 'submit', 'termination', 'transmission', 'veronica', 'wall', 'whatever', 'additions', 'agency', 'alberta', 'anita', 'argentina', 'arm', 'assistance', 'audit', 'awesome', 'blank', 'boys', 'brazil', 'breakdown', 'bringing', 'claim', 'cliff', 'consulting', 'correspondence', 'cs', 'deb', 'deliveries', 'derrick', 'epsa', 'evaluation', 'frontera', 'gentlemen', 'hanson', 'hartsoe', 'herman', 'howard', 'janette', 'jeremy', 'jury', 'kelli', 'kid', 'machine', 'mg', 'netting', 'officer', 'official', 'pacificorp', 'participant', 'printer', 'relations', 'reviews', 'roberts', 'rodeo', 'row', 'samantha', 'santa', 'shelly', 'sports', 'suggest', 'super', 'tabs', 'testimony', 'tv', 'typo', 'vp', 'yep', 'affect', 'apparently', 'billy', 'body', 'bookouts', 'border', 'cfm', 'choice', 'cleaned', 'communications', 'convenience', 'double', 'ecn', 'entire', 'entity', 'epmi', 'evergreen', 'fed', 'fedex', 'gang', 'gen', 'gisb', 'hall', 'heading', 'hilarious', 'imbalance', 'iris', 'journal', 'kathleen', 'kerri', 'lake', 'less', 'level', 'located', 'miami', 'mpg', 'ngpl', 'noms', 'operations', 'originally', 'pacific', 'patrice', 'portion', 'prefer', 'proud', 'putting', 'quite', 'reagan', 'remaining', 'reservations', 'returned', 'rosalee', 'scoop', 'sf', 'sharron', 'specific', 'sportsline', 'strip', 'tabors', 'telluride', 'throw', 'tks', 'upcoming', 'valley', 'values', 'wmr', 'wr', 'wsj', \"ya'll\", 'absence', 'act', 'adjust', 'adjustment', 'aes', 'alvarez', 'annuity', 'anr', 'answers', 'apply', 'art', 'assets', 'assigned', 'assist', 'associates', 'bar', 'bd', 'bert', 'bills', 'bitch', 'bois', 'casey', 'cat', 'chante', 'charts', 'contains', 'crazy', 'daniel', 'developments', 'dsc', 'ebs', 'egm', 'example', 'face', 'familiar', 'fat', 'fis', 'fischer', 'goodell', 'grace', 'hair', 'harmon', 'headcount', 'hillis', 'hogan', 'india', 'investment', 'jill', 'kenneth', 'kerry', 'legs', 'math', 'matrix', 'men', 'mieux', 'minn', 'mou', 'nord', 'offered', 'orig', 'others', 'paulo', 'peco', 'peoples', 'phase', 'pic', 'pie', 'pizza', 'plane', 'portal', 'proceed', 'rc', 'redraft', 'reg', 'reservation', 'reset', 'restricted', 'rich', 'rosie', 'rough', 'ruth', 'scot', 'sherriff', 'shtml', 'sid', 'socal', 'sort', 'spelled', 'table', 'till', 'tired', 'transportation', 'travel', 'turbines', 'upon', 'usually', 'views', 'young', 'addition', 'adr', 'amazing', 'amended', 'anthony', 'attention', 'beat', 'bonus', 'burton', 'buys', 'ceo', 'chairman', 'colleen', 'comp', 'correctly', 'countries', 'db', 'det', 'devon', 'dll', 'entex', 'ex', 'fuck', 'funds', 'fwd', 'garner', 'goals', 'henry', 'honey', 'hsc', 'iep', 'immediately', 'joannie', 'kayla', 'likely', 'lindy', 'luncheon', 'min', 'movie', 'mpeg', 'overlay', 'parties', 'pro', 'referred', 'reporting', 'ring', 'rosemary', 'scope', 'separately', 'shoot', 'shot', 'shout', 'situation', 'stack', 'standards', 'teaser', 'tk', 'tm', 'tough', 'transwestern', 'twice', 'vanessa', 'ward', 'watching', 'women', 'yourself', 'ac', 'anywhere', 'appointments', 'arrangements', 'attaching', 'autry', 'blanca', 'bookout', 'bus', 'bush', 'calger', 'capital', 'carroll', 'celeste', 'chick', 'coh', 'csfb', 'darron', 'decrease', 'definately', 'dj', 'followup', 'frame', 'futures', 'genia', 'gina', 'girls', 'halloween', 'hicks', 'hk', 'iii', 'indian', 'iv', 'lara', 'laurel', 'lead', 'lindsay', 'membership', 'mieco', 'neon', 'overview', 'parents', 'perspective', 'pipelines', 'processing', 'psa', 'pt', 'recently', 'recommendations', 'ref', 'seminar', 'senate', 'senator', 'shankman', 'shell', 'software', 'square', 'steven', 'stewart', 'temp', 'tetco', 'upgrade', 'whom', 'wondering', 'air', 'american', 'australia', 'bb', 'blessed', 'bpa', 'bug', 'button', 'buyback', 'calc', 'carl', 'chambers', 'consider', 'consumers', 'create', 'cross', 'darn', 'deemed', 'diligence', 'dirty', 'duty', 'elena', 'ellen', 'ended', 'esa', 'eugenio', 'exact', 'finding', 'flights', 'force', 'fucking', 'gasmsgboard', 'generators', 'golden', 'governor', 'helen', 'hesitate', 'ice', 'inside', 'jose', 'ladies', 'launch', 'lewis', 'listen', 'managing', 'marlene', 'mb', 'md', 'melba', 'meters', 'midc', 'midwest', 'miles', 'nm', 'offers', 'outstanding', 'phy', 'picking', 'pin', 'poll', 'pooh', 'potential', 'preparing', 'pursuant', 'rac', 'raptor', 'registration', 'resolve', 'river', 'ross', 'rsn', 'rtf', 'rules', 'setup', 'size', 'smile', 'solution', 'spp', 'sw', 'tagg', 'tease', 'third', 'tj', 'tommorow', 'trust', 'ups', 'vegasinsider', 'wedding', 'written', 'antonio', 'aquila', 'arts', 'association', 'badeer', 'beautiful', 'cdwr', 'certainly', 'christian', 'cleca', 'college', 'commissioner', 'confused', 'country', 'dean', 'dentist', 'door', 'downstairs', 'ebay', 'eei', 'en', 'entry', 'estimated', 'everybody', 'exist', 'fair', 'faxing', 'federal', 'geoff', 'greenberg', 'hertzberg', 'huber', 'humor', 'hunt', 'intranet', 'johnny', 'juan', 'kept', 'lincoln', 'lloyd', 'lsu', 'lv', 'managers', 'marty', 'masters', 'megan', 'moran', 'morris', 'nesbitt', 'opportunities', 'overnight', 'pac', 'parks', 'participants', 'patty', 'pep', 'phillips', 'pop', 'prebid', 'pub', 'quiz', 'ravi', 'reed', 'replacement', 'reported', 'requirements', 'resolved', 'ricardo', 'rto', 'sacramento', 'scheduler', 'sharing', 'shawn', 'similar', 'ski', 'supervisor', 'sweater', 'tix', 'toomer', 'vepco', 'vice', 'watson', 'wide', 'accounts', 'actuals', 'anjam', 'avista', 'bbc', 'belden', 'bids', 'bigger', 'blair', 'bledsoe', 'bobbi', 'bot', 'bounced', 'bracewell', 'cdt', 'cinergy', 'cips', 'clarification', 'client', 'cong', 'cooper', 'crra', 'csa', 'deregulation', 'derivatives', 'device', 'ebayisapi', 'emailing', 'establish', 'european', 'events', 'exceed', 'execute', 'existing', 'eyeforenergy', 'ff', 'francisco', 'giants', 'hands', 'hotels', 'hourly', 'hurry', 'illinois', 'incorporate', 'indicated', 'intra', 'inventory', 'invoices', 'island', 'jared', 'joining', 'katrina', 'kern', 'kitty', 'kk', 'laurie', 'lawsuit', 'local', 'mellencamp', 'member', 'mission', 'mpe', 'nj', 'orleans', 'participating', 'piper', 'ppa', 'pts', 'puc', 'pulp', 'query', 'registered', 'removed', 'respect', 'rita', 'robertson', \"rsvp'd\", 'russ', 'salmon', 'schedulers', 'screwed', 'session', 'sevil', 'shares', 'sierra', 'skygen', 'speech', 'tenaska', 'terri', 'tiger', 'toni', 'tractebel', 'trent', 'truth', 'turbopark', 'typical', 'usa', 'username', 'viewitem', 'vlady', 'whenever', 'winter', 'xmas', '............', 'absolutely', 'addresses', 'alhamd', 'alkhayat', 'allyson', 'alport', 'angie', 'application', 'archives', 'attendance', 'basket', 'bates', 'berkeley', 'bf', 'bmp', 'bolivia', 'brandee', 'calender', 'ce', 'chair', 'changing', 'confirming', 'cook', 'coordinating', 'core', 'county', 'daddy', 'dennis', 'distributed', 'dominion', 'driscoll', 'eas', 'edition', 'english', 'europe', 'expired', 'exposure', 'fallon', 'foward', 'goldman', 'grandma', 'gray', 'hawaii', 'hayslett', 'howdy', 'incorporated', 'increased', 'industrial', 'jae', 'kh', 'kimat', 'kr', 'kysa', 'liked', 'lillian', 'listing', 'loan', 'mallory', 'margin', 'max', 'mgmt', 'minus', 'ml', 'motley', 'orders', 'override', 'oxley', 'pam', 'parsons', 'pastoria', 'pc', 'pdx', 'primary', 'promise', 'regional', 'regrets', 'rolling', 'rolodex', 'sandra', 'sections', 'separate', 'server', 'significant', 'sleep', 'spend', 'strike', 'symbol', 'tbd', 'terminated', 'thinks', 'timing', 'tip', 'tokyo', 'troy', 'unwind', 'wake', 'warner', 'whoever', 'william', 'wonder', 'woodlands', 'activities', 'admin', 'alexander', 'alot', 'amounts', 'anna', 'ap', 'apartment', 'asf', 'average', 'boat', 'bobby', 'boo', 'brokerage', 'btu', 'cason', 'citibank', 'clinton', 'clips', 'columbia', 'compare', 'compliments', 'concert', 'dabhol', 'dailynews', 'debbie', 'dina', 'domestic', 'drawing', 'editorial', 'eh', 'emergency', 'estate', 'explanation', 'facility', 'fault', 'felicia', 'floating', 'flowed', 'flynn', 'formula', 'ftp', 'fuels', 'geof', 'ginger', 'gives', 'gold', 'govt', 'greenwich', 'gross', 'haas', 'hanging', 'hiring', 'holding', 'holli', 'ily', 'indexes', 'insights', 'intended', 'japanese', 'jd', 'kelley', 'lawless', 'lb', 'lease', 'letting', 'lower', 'luis', 'lynch', 'maggie', 'mainline', 'mcnabb', 'memorial', 'merger', 'merrill', 'michele', 'motion', 'nick', 'noticed', 'notifications', 'nq', 'nuts', 'nymx', 'ohio', 'omnibus', 'packet', 'pants', 'passed', 'peaker', 'philippe', 'pig', 'postponed', 'prentice', 'quality', 'quoted', 'raymond', 'reasonable', 'region', 'renaud', 'rent', 'rerun', 'reserved', 'rfp', 'rodney', 'scared', 'sd', 'seller', 'simmons', 'somebody', 'sonat', 'spoken', 'stokley', 'storey', 'study', 'surprise', 'tammie', 'tariff', 'tennis', 'thu', 'tina', 'tolling', 'toronto', 'treatment', 'uae', 'utility', 'walter', 'wrap', 'yvan', 'activate', 'ag', 'apt', 'assessment', 'australian', 'azurix', 'bang', 'bbs', 'bear', 'bike', 'bitmap', 'bowen', 'broncos', 'brother', 'calendars', 'calgary', 'career', 'cartoon', 'cheap', 'chic', 'chron', 'church', 'cle', 'colorado', 'confusion', 'continues', 'converted', 'covering', 'creek', 'crisis', 'culpepper', 'direction', 'dollars', 'dropped', 'dropping', 'duplicate', 'easter', 'eddie', 'ellis', 'epc', 'escrow', 'excited', 'extended', 'figures', 'fired', 'fleming', 'food', 'fundies', 'gathering', 'gdp', 'gloria', 'griffith', 'guest', 'health', 'heart', 'hedy', 'heidi', 'historical', 'horton', 'huge', 'impressive', 'income', 'install', 'interviews', 'jessica', 'jody', 'jonathan', 'kayne', 'kinney', 'leaves', 'low', 'major', 'majority', 'manage', 'mckay', 'mrs', 'multiple', 'named', 'nui', \"o'neal\", 'occur', 'opic', 'overinjection', 'owes', 'paige', 'paste', 'port', 'previously', 'profit', 'provisions', 'psco', 'pulled', 'qb', 'qf', 'recovery', 'requesting', 'rf', 'rhonda', 'ricky', 'road', 'rusty', 'saludos', 'score', 'seabron', 'shirt', 'shut', 'silicon', 'sister', 'sithe', 'six', 'slow', 'son', 'sooner', 'staffing', 'stanley', 'states', 'subscription', 'tape', 'tb', 'technical', 'teresa', 'therefore', 'thur', 'tp', 'tricia', 'uh', 'updating', 'vance', 'variance', 'volsam', 'walker', 'wptf', 'zipper', 'applicable', 'arthur', 'ashley', 'atty', 'aw', 'babe', 'bankruptcy', 'bbq', 'bcf', 'bjorn', 'blacklined', 'blew', 'bom', 'boone', 'brady', 'brett', 'buffalo', 'cda', 'cec', 'chang', 'cheer', 'chicks', 'claims', 'clarify', 'coke', 'colin', 'commentary', 'competition', 'competitive', 'concerned', 'contacted', 'coordinator', 'corey', 'cox', 'cuts', 'del', 'deltas', 'den', 'diamond', 'ding', 'eastpower', 'ebb', 'edwards', 'enable', 'enjoyed', 'exciting', 'exec', 'feinstein', 'finalize', 'fisher', 'forum', 'fourth', 'frevert', 'gaskill', 'gates', 'giron', 'gulf', 'hd', 'hgm', 'himself', 'history', 'hook', 'hottie', 'hrs', 'hts', 'huble', 'ie', 'ignoring', 'impacts', 'improve', 'interconnect', 'irs', 'ish', 'janice', 'jarrod', 'julian', 'kc', 'keegan', 'ki', 'lady', 'le', 'lined', 'lng', 'loretta', 'lorna', 'lyons', 'maps', 'marg', 'marketers', 'meadmktplace', 'mendez', 'merchant', 'michigan', 'milly', 'minds', 'mit', 'modified', 'mother', 'nerc', 'networks', 'nite', 'notices', 'novosel', 'nrg', 'op', 'operator', 'ordered', 'ought', 'packers', 'panel', 'paribas', 'penalty', 'pierce', 'player', 'pleas', 'poor', 'possibility', 'push', 'puts', 'quiet', 'recognize', 'recommend', 'redmond', 'refers', 'replace', 'reporter', 'rid', 'rp', 'salinas', 'sandi', 'sb', 'seats', 'sees', 'self', 'sells', 'shiring', 'single', 'sniff', 'specialist', 'split', 'sponsor', 'spring', 'stage', 'star', 'station', 'step', 'straight', 'summaries', 'suspect', 'takes', 'tara', 'te', 'technology', 'tid', 'totally', 'truck', 'turned', 'understood', 'userid', 'verified', 'viewing', 'vladi', 'wear', 'window', 'wishes', 'writing', 'ww', 'zoom', '.............', '...............', 'adding', 'affiliate', 'amoco', 'angle', 'ashland', 'attempt', 'auction', 'avg', 'avs', 'bears', 'beginning', 'bellsouth', 'breakfast', 'bright', 'burn', 'burst', 'camera', 'cause', 'causey', 'cha', 'champ', 'chapman', 'chaun', 'christopher', 'chronicle', 'clayton', 'clement', 'col', 'communication', 'conclusion', 'connie', 'consultant', 'corrections', 'crescendo', 'curious', 'cv', 'cypress', 'dash', 'deborah', 'decoration', 'descriptions', 'deserve', 'doctors', 'dsl', 'eagle', 'easier', 'easy', 'edmund', 'em', 'emily', 'employee', 'enroll', 'ernie', 'estimates', 'evf', 'eweb', 'excuse', 'expenses', 'experience', 'farmer', 'favor', 'fbo', 'festival', 'flowing', 'fool', 'formosa', 'fully', 'fund', 'gavin', 'globalflash', 'graphics', 'guinn', 'heath', 'hebert', 'helping', 'hetrick', 'hickerson', 'highly', 'horrible', 'hover', 'hyatt', 'individual', 'interstate', 'jeanette', 'jere', 'jobs', 'joel', 'jul', 'kicked', 'koehler', 'kroll', 'kucher', 'lane', 'league', 'liane', 'livelink', 'locate', 'logo', 'matthew', 'mess', 'mobil', 'msgframe', 'multi', 'newport', 'newsid', 'normally', 'notification', 'oba', 'objectives', 'opt', 'osman', 'ouch', 'participation', 'paycheck', 'pencil', 'photos', 'pilot', 'preference', 'professional', 'providing', 'purpose', 'rachel', 'raise', 'rakesh', 'ramesh', 'rebook', 'reflects', 'rental', 'result', 'richardson', 'riley', 'rolled', 'ruggles', 'ruling', 'rumor', 'runs', 'salary', 'sandy', 'select', 'sen', 'sentence', 'sherri', 'shipper', 'shively', 'sight', 'sincerely', 'sir', 'slot', 'softball', 'speaker', 'spelling', 'stagecoach', 'students', 'subpoena', 'swf', 'sydney', 'tag', 'todd', 'tommy', 'tour', 'tournament', 'turning', 'users', 'ut', 'valid', 'visited', 'vkamins', 'webb', 'wellhead', 'western', 'wil', 'wright', 'wyden', 'yikes', 'zero', 'zisman', 'accepted', 'accomplishment', 'adm', 'administrative', 'administrator', 'advisors', 'ahmad', 'alliance', 'allison', 'alternate', 'alternative', 'annuities', 'anthology', 'argument', 'asset', 'assuming', 'assumptions', 'authority', 'ave', 'awaiting', 'baylor', 'beasley', 'beers', 'bettis', 'block', 'bold', 'bryson', 'build', 'burrito', 'calculation', 'caledonia', 'cams', 'castaneda', 'celebrate', 'cellular', 'charlotte', 'children', 'chinese', 'christina', 'christine', 'citysearch', 'claire', 'closely', 'closer', 'coast', 'companies', 'compensation', 'completely', 'completes', 'continental', 'cotton', 'coverage', 'crap', 'ct', 'determine', 'difficult', 'donald', 'doolan', 'drawer', 'duran', 'ea', 'edaily', 'emissions', 'enfolio', 'engram', 'ensure', 'equitrans', 'ev', 'ewrm', 'fall', 'fans', 'fbc', 'fell', 'filled', 'fire', 'flying', 'focus', 'forster', 'gail', 'gba', 'generator', 'golfing', 'gordon', 'gotten', 'gq', 'graph', 'grateful', 'grid', 'hamd', 'handy', 'happens', 'heating', 'hector', 'hist', 'horn', 'hq', 'ian', 'imbalances', 'inadvertently', 'inquiry', 'jacques', 'jana', 'jeanie', 'jeffrey', 'jersey', 'jesse', 'jm', 'jo', 'joanie', 'joint', 'josh', 'jt', 'kaufman', 'keneally', 'kinda', 'labor', 'lastest', 'leach', 'legislation', 'legislator', 'leppard', 'living', 'ljun', 'lobby', 'logon', 'lsp', 'lucky', 'ludmila', 'macleod', 'madison', 'mahoney', 'marathon', 'marchris', 'markup', 'marquart', 'mason', 'maya', 'mds', 'mentions', 'mintz', 'mis', 'mona', 'moon', 'mostly', 'mrha', 'msy', 'nada', 'netco', 'ni', 'nimo', 'notified', 'nowlan', 'officially', 'oglethorpe', 'oneok', 'oregon', 'paralegal', 'payments', 'php', 'plants', 'plays', 'possibly', 'preparation', 'present', 'printing', 'producers', 'programs', 'prudency', 'pudget', 'qbr', 'quaker', 'range', 'raymont', 'recap', 'recommended', 'relates', 'renewal', 'resent', 'rev', 'reverse', 'revise', 'revising', 'richmond', 'ro', 'rom', 'rrsp', 'rufino', 'sami', 'sbx', 'secret', 'securities', 'sensitive', 'settles', 'shooter', 'snow', 'solo', 'sportingnews', 'steps', 'stm', 'sturm', 'target', 'terrie', 'texassports', 'tfs', 'tiempo', 'til', 'tlr', 'toby', 'torrey', 'tran', 'transalta', 'translated', 'treasury', 'tt', 'tuned', 'turnaround', 'united', 'university', 'unsolicited', 'upload', 'uses', 'vhtml', 'vikki', 'vol', 'wash', 'watters', 'weil', 'whomever', 'winner', 'worse', 'writes', 'yoder', 'zl', 'acceptable', 'accompanying', 'accountant', 'addressed', 'addressee', 'adjusted', 'ae', 'aeco', 'afterwards', 'agent', 'ah', 'alfredo', 'allow', 'alma', 'alone', 'alright', 'although', 'approach', 'arizona', 'arrived', 'articulate', 'asleep', 'asses', 'assign', 'astra', 'auto', 'backgrounder', 'backs', 'band', 'baughman', 'benjamin', 'bidding', 'bilal', 'blvd', 'boyd', 'bradley', 'brain', 'breakout', 'brighten', 'britt', 'broad', 'broke', 'bs', 'buff', 'cact', 'calander', 'careful', 'carefully', 'category', 'cf', 'checks', 'chuck', 'cig', 'clay', 'clg', 'clint', 'clue', 'collateral', 'collect', 'columns', 'compared', 'con', 'cookies', 'corpus', 'cougar', 'creative', 'dancing', 'daughter', 'dealing', 'definitions', 'described', 'dexter', 'dig', 'directory', 'discussing', 'doll', 'dollar', 'dorie', 'downtown', 'dpc', 'drafted', 'dwight', 'economics', 'effect', 'elba', 'enaresearch', 'england', 'enterprise', 'epe', 'equipment', 'executables', 'exotics', 'expansion', 'facilities', 'factor', 'farewell', 'fellow', 'five', 'flowers', 'forest', 'fpl', 'gallery', 'gilbert', 'graham', 'graphs', 'griese', 'griff', 'gs', 'gt', 'guides', 'gw', 'hap', 'hero', 'hess', 'hills', 'hm', 'holst', 'hurt', 'iah', 'imelda', 'inconvenience', 'incorrectly', 'individuals', 'informational', 'ingaa', 'instant', 'investments', 'issued', 'jacket', 'jedi', 'jerome', 'kenny', 'kisses', 'known', 'latimes', 'lawrence', 'lcampbel', 'leboe', 'lenhart', 'limited', 'liquids', 'lone', 'louisiana', 'luchas', 'lysa', 'margo', 'marriott', 'matters', 'mdea', 'metropolitan', 'middle', 'miguel', 'mil', 'mills', 'milnthorp', 'mins', 'moss', 'mprsdntn', 'music', 'mutual', 'nap', 'nasty', 'nbpl', 'ndas', 'negotiations', 'neil', 'nemec', 'nh', 'nobody', 'opinionjournal', 'pairs', 'parts', 'patient', 'petro', 'pinnacle', 'pipecomp', 'powers', 'prayers', 'presented', 'priced', 'priceless', 'promising', 'promotions', 'pulse', 'pursue', 'pushing', 'putt', 'qualify', 'que', 'radford', 'reception', 'recruiting', 'redlines', 'reflecting', 'relevant', 'remarks', 'renee', 'rep', 'resort', 'responsible', 'reuters', 'ricki', 'rl', 'rubena', 'salt', 'scanned', 'schoppe', 'screens', 'sellers', 'semperger', 'serc', 'shed', 'shonnie', 'si', 'slightly', 'sluts', 'smiling', 'soft', 'sometimes', 'song', 'stfin', 'structures', 'stupid', 'suggestion', 'sullivan', 'supporting', 'swbell', 'sylvia', 'teb', 'tells', 'terminating', 'texaco', 'thorough', 'tips', 'topics', 'tracking', 'trans', 'transcript', 'transporation', 'tree', 'ts', 'tweed', 'um', 'various', 'village', 'vincent', 'vine', 'vk', 'voila', 'wallpaper', 'walls', 'westinghouse', 'worksheets', 'yana', '..............', 'absolute', 'acquisition', 'across', 'aig', 'alive', 'amend', 'americans', 'analysts', 'ankle', 'appear', 'approximately', 'assumption', 'auburn', 'authored', 'authorization', 'bachelor', 'barrett', 'baxter', 'bay', 'bc', 'bcc', 'birthdays', 'blanks', 'blazers', 'bnaweb', 'bobbie', 'booze', 'bother', 'bridge', 'bucks', 'businesses', 'buyer', 'bw', 'carla', 'carmen', 'cars', 'cats', 'chain', 'champagne', 'chances', 'checkbook', 'checkout', 'chiefs', 'cipco', 'clem', 'clev', 'cms', 'cnbc', 'cnr', 'codes', 'coffee', 'cole', 'columnists', 'cominco', 'commission', 'commodities', 'common', 'conferences', 'conn', 'convenient', 'convince', 'counts', 'cracks', 'crawford', 'cycle', 'dark', 'davies', 'dd', 'dedicated', 'demo', 'detroit', 'diff', 'directed', 'discard', 'dispute', 'doubt', 'downloaded', 'eastrans', 'ectpdx', 'edward', 'eldon', 'electile', 'eliz', 'emailed', 'employment', 'enrondlr', 'entities', 'equity', 'evil', 'extras', 'facsimile', 'fantastic', 'fastow', 'father', 'feeds', 'filings', 'financing', 'fishing', 'flash', 'flip', 'flipped', 'fn', 'ford', 'forever', 'fowler', 'fr', 'functional', 'functions', 'gain', 'gee', 'gonzalez', 'grasshopper', 'grief', 'guests', 'guide', 'guzman', 'hee', 'hehub', 'hernandez', 'higher', 'hl', 'hmmm', 'holden', 'hole', 'hoping', 'hugs', 'hung', 'icf', 'improved', 'incorporating', 'indices', 'inspection', 'intelligence', 'inviting', 'jake', 'jeanne', 'jeez', 'jenkins', 'jesus', 'joey', 'jolly', 'josey', 'junk', 'kal', 'kenneally', 'kindall', 'kinder', 'kit', 'kori', 'kudos', 'leg', 'library', 'lk', 'ln', 'lockyer', 'lokay', 'lose', 'loud', 'lt', 'lu', 'lying', 'mack', 'maine', 'memories', 'mercer', 'migden', 'models', 'modifications', 'morons', 'natsource', 'ncf', 'nebraska', 'nfl', 'ngx', 'nogid', 'norm', 'normal', 'offsite', 'often', 'onion', 'ontario', 'organizational', 'owner', 'passing', 'pb', 'pcb', 'pdt', 'peters', 'phoenix', 'phys', 'picked', 'pipes', 'political', 'pompano', 'ponder', 'popcorn', 'porn', 'prepay', 'presenting', 'pseg', 'punch', 'purchases', 'rbc', 'rec', 'redeliveries', 'reduction', 'regard', 'remote', 'reyna', 'rh', 'rooms', 'rostant', 'rows', 'sac', 'sail', 'savita', 'schools', 'script', 'serious', 'serve', 'setting', 'settle', 'shoulder', 'showed', 'shults', 'solve', 'somewhat', 'sonia', 'staci', 'starwars', 'stevens', 'sub', 'summarized', 'survivor', 'sushi', 'switched', 'talent', 'targeted', 'tba', 'thankyou', 'theonion', 'thome', 'tie', 'tijuana', 'tools', 'transferred', 'trial', 'tribolet', 'tsa', 'typos', 'unarchive', 'unbelievable', 'uncertainty', 'unchanged', 'understanding', 'vail', 'valencia', 'van', 'variances', 'vicky', 'voices', 'volleyball', 'voucher', 'walt', 'wanda', 'wanting', 'wave', 'weird', 'whoops', 'wild', 'wins', 'winston', 'wtih', 'yippeee', 'yr']\n"
          ]
        }
      ],
      "source": [
        "print(\"The length of the vocab is\", len(vocab))\n",
        "print(f\"The index of '<unk>' is {vocab.get_stoi()['<unk>']}\")\n",
        "print(vocab.get_itos())"
      ]
    },
    {
      "cell_type": "markdown",
      "metadata": {
        "id": "RdImbgne6TD6"
      },
      "source": [
        "Process he data. We turn all words in to tokens and change the data type to torch tensors for the PyTorch neural network."
      ]
    },
    {
      "cell_type": "code",
      "execution_count": null,
      "metadata": {
        "colab": {
          "base_uri": "https://localhost:8080/"
        },
        "id": "45kfdB-Mw4ZS",
        "outputId": "10480dbe-1f1a-475e-93c7-c84c0877f3ca"
      },
      "outputs": [
        {
          "name": "stdout",
          "output_type": "stream",
          "text": [
            "509912\n"
          ]
        }
      ],
      "source": [
        "def data_process(pairs):\n",
        "  data = []\n",
        "  for (src, trg) in pairs:\n",
        "\n",
        "    src_tensor = torch.tensor([vocab[token] for token in tokeniser(src)],\n",
        "                            dtype=torch.long)\n",
        "\n",
        "    trg_tensor = torch.tensor([vocab[token] for token in tokeniser(trg)],\n",
        "                            dtype=torch.long)\n",
        "    data.append((src_tensor, trg_tensor))\n",
        "  return data\n",
        "\n",
        "def input_process(input):\n",
        "\n",
        "  input_tensor = torch.tensor([vocab[token] for token in tokeniser(input)],\n",
        "                              dtype=torch.long)\n",
        "  return input_tensor\n",
        "\n",
        "full_data = data_process(pairs)\n",
        "print(len(full_data))"
      ]
    },
    {
      "cell_type": "markdown",
      "metadata": {
        "id": "sJ13PbUZw4tX"
      },
      "source": [
        "Tokenize the set of pairs to source and target data in a way that the neural network can use"
      ]
    },
    {
      "cell_type": "code",
      "execution_count": null,
      "metadata": {
        "colab": {
          "base_uri": "https://localhost:8080/"
        },
        "id": "wmpPqTgOxEJj",
        "outputId": "112d9a4f-1dc1-4975-fc91-194661f1bef5"
      },
      "outputs": [
        {
          "name": "stdout",
          "output_type": "stream",
          "text": [
            "(tensor([31, 12]), tensor([  92, 1624]))\n",
            "['here', 'is']\n",
            "['our', 'forecast']\n"
          ]
        }
      ],
      "source": [
        "print(full_data[0])\n",
        "\n",
        "for sentence in full_data[0]:\n",
        "  words = [vocab.get_itos()[token] for token in sentence]\n",
        "  print(words)"
      ]
    },
    {
      "cell_type": "markdown",
      "metadata": {
        "id": "Rde5K3GH4MjZ"
      },
      "source": [
        "Data Loader\n",
        "\n",
        "We generate batches for training using a DataLoader and add sos and eos tokens to the sentences."
      ]
    },
    {
      "cell_type": "code",
      "execution_count": null,
      "metadata": {
        "colab": {
          "base_uri": "https://localhost:8080/"
        },
        "id": "8-zaouZ44Ofo",
        "outputId": "d78fb69f-c3f0-4070-f036-60ff58305c78"
      },
      "outputs": [
        {
          "name": "stdout",
          "output_type": "stream",
          "text": [
            "509912 458920 25496\n"
          ]
        }
      ],
      "source": [
        "from torch.nn.utils.rnn import pad_sequence\n",
        "from torch.utils.data import DataLoader, random_split\n",
        "\n",
        "device = torch.device('cuda' if torch.cuda.is_available() else 'cpu')\n",
        "BATCH_SIZE = 512\n",
        "#BATCH_SIZE = 256\n",
        "PAD_IDX = vocab['<pad>']\n",
        "SOS_IDX = vocab['<sos>']\n",
        "EOS_IDX = vocab['<eos>']\n",
        "\n",
        "def generate_batch(data_batch):\n",
        "  src_batch, trg_batch = [], []\n",
        "\n",
        "  for (src_item, trg_item) in data_batch:\n",
        "    src_batch.append(torch.cat([torch.tensor([SOS_IDX]), src_item, torch.tensor([EOS_IDX])], dim=0))\n",
        "    trg_batch.append(torch.cat([torch.tensor([SOS_IDX]), trg_item, torch.tensor([EOS_IDX])], dim=0))\n",
        "\n",
        "  src_batch = pad_sequence(src_batch, padding_value=PAD_IDX)\n",
        "  trg_batch = pad_sequence(trg_batch, padding_value=PAD_IDX)\n",
        "  return src_batch, trg_batch\n",
        "\n",
        "def generate_input_sequence(input_data):\n",
        "  input_data = torch.cat([torch.tensor([SOS_IDX]), input_data, torch.tensor([EOS_IDX])]).to(device)\n",
        "  return input_data\n",
        "\n",
        "# Split the data to train, eval and test\n",
        "\n",
        "size = len(full_data)\n",
        "\n",
        "train_size = int(0.9 * size)\n",
        "test_eval_size = (size - train_size) // 2\n",
        "\n",
        "val_size = size - train_size - test_eval_size*2\n",
        "\n",
        "print(size, train_size, test_eval_size)\n",
        "\n",
        "train_data, test_data, val_data = random_split(full_data, [train_size+val_size, test_eval_size, test_eval_size])\n",
        "\n",
        "\n",
        "train_iter = DataLoader(train_data, batch_size=BATCH_SIZE,\n",
        "                        shuffle=True,\n",
        "                        collate_fn=generate_batch)\n",
        "\n",
        "test_iter = DataLoader(test_data, batch_size=BATCH_SIZE,\n",
        "                        shuffle=True,\n",
        "                        collate_fn=generate_batch)\n",
        "\n",
        "val_iter = DataLoader(val_data, batch_size=BATCH_SIZE,\n",
        "                        shuffle=True,\n",
        "                        collate_fn=generate_batch)"
      ]
    },
    {
      "cell_type": "code",
      "execution_count": null,
      "metadata": {
        "id": "Gq3-8VTIdkbl"
      },
      "outputs": [],
      "source": []
    },
    {
      "cell_type": "markdown",
      "metadata": {
        "id": "c7_ymLDPbjWr"
      },
      "source": [
        "## Encoder"
      ]
    },
    {
      "cell_type": "code",
      "execution_count": null,
      "metadata": {
        "id": "IDUkPaFmbjeW"
      },
      "outputs": [],
      "source": [
        "import random\n",
        "from typing import Tuple\n",
        "\n",
        "import torch.nn as nn\n",
        "import torch.optim as optim\n",
        "import torch.nn.functional as F\n",
        "from torch import tensor\n",
        "\n",
        "\n",
        "class Encoder(nn.Module):\n",
        "    def __init__(self,\n",
        "                 input_dim: int,\n",
        "                 emb_dim: int,\n",
        "                 enc_hid_dim: int,\n",
        "                 dec_hid_dim: int,\n",
        "                 dropout: float):\n",
        "        super().__init__()\n",
        "\n",
        "        self.input_dim = input_dim\n",
        "        self.emb_dim = emb_dim\n",
        "        self.enc_hid_dim = enc_hid_dim\n",
        "        self.dec_hid_dim = dec_hid_dim\n",
        "        self.dropout = dropout\n",
        "\n",
        "        # Embedding layer\n",
        "        self.embedding = nn.Embedding(input_dim, emb_dim)\n",
        "\n",
        "        # GRU\n",
        "        self.rnn = nn.GRU(emb_dim, enc_hid_dim, bidirectional = True)\n",
        "\n",
        "        # Fully connected layer\n",
        "        self.fc = nn.Linear(enc_hid_dim * 2, dec_hid_dim)\n",
        "\n",
        "        self.dropout = nn.Dropout(dropout)\n",
        "\n",
        "    def forward(self,\n",
        "                src: tensor) -> Tuple[tensor]:\n",
        "\n",
        "        embedded = self.dropout(self.embedding(src))\n",
        "\n",
        "        # Forward pass through GRU\n",
        "        outputs, hidden = self.rnn(embedded)\n",
        "\n",
        "        hidden_concat = torch.cat((hidden[-2,:,:], hidden[-1,:,:]), dim = 1)\n",
        "\n",
        "        hidden = torch.tanh(self.fc(hidden_concat))\n",
        "\n",
        "        return outputs, hidden"
      ]
    },
    {
      "cell_type": "markdown",
      "metadata": {
        "id": "T1nCT34KblDl"
      },
      "source": [
        "## Attention"
      ]
    },
    {
      "cell_type": "code",
      "execution_count": null,
      "metadata": {
        "id": "wPWLziUpblHP"
      },
      "outputs": [],
      "source": [
        "class Attention(nn.Module):\n",
        "    def __init__(self,\n",
        "                 enc_hid_dim: int,\n",
        "                 dec_hid_dim: int,\n",
        "                 attn_dim: int):\n",
        "        super().__init__()\n",
        "\n",
        "        self.enc_hid_dim = enc_hid_dim\n",
        "        self.dec_hid_dim = dec_hid_dim\n",
        "\n",
        "        self.attn_in = (enc_hid_dim * 2) + dec_hid_dim\n",
        "\n",
        "        self.attn = nn.Linear(self.attn_in, attn_dim)\n",
        "\n",
        "    def forward(self,\n",
        "                decoder_hidden: tensor,\n",
        "                encoder_outputs: tensor) -> tensor:\n",
        "\n",
        "        src_len = encoder_outputs.shape[0]\n",
        "\n",
        "        repeated_decoder_hidden = decoder_hidden.unsqueeze(1).repeat(1, src_len, 1)\n",
        "\n",
        "        encoder_outputs = encoder_outputs.permute(1, 0, 2)\n",
        "\n",
        "        a_score = torch.tanh(self.attn(torch.cat((\n",
        "            repeated_decoder_hidden,\n",
        "            encoder_outputs),\n",
        "            dim = 2)))\n",
        "\n",
        "        attention = torch.sum(a_score, dim=2)\n",
        "\n",
        "        # This gives us the attention over the source sentence\n",
        "        return F.softmax(attention, dim=1)"
      ]
    },
    {
      "cell_type": "markdown",
      "metadata": {
        "id": "BQvx3DfnblMG"
      },
      "source": [
        "## Decoder"
      ]
    },
    {
      "cell_type": "code",
      "execution_count": null,
      "metadata": {
        "id": "RkKpNTPLblTD"
      },
      "outputs": [],
      "source": [
        "class Decoder(nn.Module):\n",
        "    def __init__(self,\n",
        "                 output_dim: int,\n",
        "                 emb_dim: int,\n",
        "                 enc_hid_dim: int,\n",
        "                 dec_hid_dim: int,\n",
        "                 dropout: int,\n",
        "                 attention: nn.Module):\n",
        "        super().__init__()\n",
        "\n",
        "        self.emb_dim = emb_dim\n",
        "        self.enc_hid_dim = enc_hid_dim\n",
        "        self.dec_hid_dim = dec_hid_dim\n",
        "        self.output_dim = output_dim\n",
        "        self.dropout = dropout\n",
        "        self.attention = attention\n",
        "\n",
        "        self.embedding = nn.Embedding(output_dim, emb_dim)\n",
        "\n",
        "        self.rnn = nn.GRU((enc_hid_dim * 2) + emb_dim, dec_hid_dim)\n",
        "\n",
        "        self.out = nn.Linear(self.attention.attn_in + emb_dim, output_dim)\n",
        "\n",
        "        self.dropout = nn.Dropout(dropout)\n",
        "\n",
        "\n",
        "    def _weighted_encoder_rep(self,\n",
        "                              decoder_hidden: tensor,\n",
        "                              encoder_outputs: tensor) -> tensor:\n",
        "\n",
        "        a = self.attention(decoder_hidden, encoder_outputs)\n",
        "\n",
        "\n",
        "        a = a.unsqueeze(1)\n",
        "\n",
        "\n",
        "        encoder_outputs = encoder_outputs.permute(1, 0, 2)\n",
        "\n",
        "        weighted_encoder_rep = torch.bmm(a, encoder_outputs)\n",
        "\n",
        "        weighted_encoder_rep = weighted_encoder_rep.permute(1, 0, 2)\n",
        "\n",
        "        return weighted_encoder_rep\n",
        "\n",
        "\n",
        "    def forward(self,\n",
        "                input: tensor,\n",
        "                decoder_hidden: tensor,\n",
        "                encoder_outputs: tensor) -> Tuple[tensor]:\n",
        "\n",
        "        #input = [1, batch size]\n",
        "        input = input.unsqueeze(0)\n",
        "\n",
        "\n",
        "        #embedded = [1, batch size, emb dim]\n",
        "        embedded = self.dropout(self.embedding(input))\n",
        "\n",
        "        weighted_encoder_rep = self._weighted_encoder_rep(decoder_hidden,\n",
        "                                                          encoder_outputs)\n",
        "\n",
        "        rnn_input = torch.cat((embedded, weighted_encoder_rep), dim = 2)\n",
        "\n",
        "        output, decoder_hidden = self.rnn(rnn_input, decoder_hidden.unsqueeze(0))\n",
        "\n",
        "        embedded = embedded.squeeze(0)\n",
        "        output = output.squeeze(0)\n",
        "        weighted_encoder_rep = weighted_encoder_rep.squeeze(0)\n",
        "\n",
        "        output = self.out(torch.cat((output,\n",
        "                                     weighted_encoder_rep,\n",
        "                                     embedded), dim = 1))\n",
        "\n",
        "        return output, decoder_hidden.squeeze(0)\n",
        "\n"
      ]
    },
    {
      "cell_type": "markdown",
      "metadata": {
        "id": "gP12pRr-brAM"
      },
      "source": [
        "## Seq2Seq model"
      ]
    },
    {
      "cell_type": "code",
      "execution_count": null,
      "metadata": {
        "id": "4nyQcdJwbrG5"
      },
      "outputs": [],
      "source": [
        "class Seq2Seq(nn.Module):\n",
        "    def __init__(self,\n",
        "                 encoder: nn.Module,\n",
        "                 decoder: nn.Module,\n",
        "                 device: torch.device):\n",
        "        super().__init__()\n",
        "\n",
        "        self.encoder = encoder\n",
        "        self.decoder = decoder\n",
        "        self.device = device\n",
        "\n",
        "    def forward(self,\n",
        "                src: tensor,\n",
        "                trg: tensor,\n",
        "                teacher_forcing_ratio: float = 0.4) -> tensor:\n",
        "\n",
        "        #teacher_forcing_ratio is probability to use teacher forcing\n",
        "        #e.g. if teacher_forcing_ratio is 0.75 we use teacher forcing 75% of the time\n",
        "\n",
        "        batch_size = src.shape[1]\n",
        "        max_len = trg.shape[0]\n",
        "\n",
        "        trg_vocab_size = self.decoder.output_dim\n",
        "\n",
        "        #tensor to store decoder outputs\n",
        "        outputs = torch.zeros(max_len, batch_size, trg_vocab_size).to(self.device)\n",
        "\n",
        "        #encoder_outputs is all hidden states of the input sequence, back and forwards\n",
        "        #hidden is the final forward and backward hidden states, passed through a linear layer\n",
        "        encoder_outputs, hidden = self.encoder(src)\n",
        "\n",
        "        # first input to the decoder is the <sos> token\n",
        "        output = trg[0,:]\n",
        "\n",
        "        for t in range(1, max_len):\n",
        "            #insert input token embedding, previous hidden state and all encoder hidden states\n",
        "            #receive output tensor (predictions) and new hidden state\n",
        "            output, hidden = self.decoder(output, hidden, encoder_outputs)\n",
        "\n",
        "            #place predictions in a tensor holding predictions for each token\n",
        "            outputs[t] = output\n",
        "\n",
        "            #decide if we are going to use teacher forcing or not\n",
        "            teacher_force = random.random() < teacher_forcing_ratio\n",
        "\n",
        "            #get the highest predicted token from our predictions\n",
        "            top1 = output.max(1)[1]\n",
        "\n",
        "            #if teacher forcing, use actual next token as next input\n",
        "            #if not, use predicted token\n",
        "            output = (trg[t] if teacher_force else top1)\n",
        "\n",
        "        # Output shape = [batch size, 512, 4272]\n",
        "        return outputs\n",
        "\n",
        "    def predict(self, src: tensor) -> tensor:\n",
        "\n",
        "        batch_size = src.shape[1]\n",
        "        max_len = 20\n",
        "\n",
        "        trg_vocab_size = self.decoder.output_dim\n",
        "\n",
        "        outputs = torch.ones(max_len, batch_size, trg_vocab_size).to(self.device)\n",
        "\n",
        "        encoder_outputs, hidden = self.encoder(src)\n",
        "\n",
        "        output = src[0,:]\n",
        "\n",
        "        pred = vocab.lookup_indices(['<sos>'])\n",
        "\n",
        "        for t in range(1, max_len):\n",
        "            output, hidden = self.decoder(output, hidden, encoder_outputs)\n",
        "\n",
        "            predicted_token = output.argmax(1)\n",
        "            pred.append(predicted_token)\n",
        "\n",
        "            #outputs[t] = output\n",
        "            output = output.argmax(1)  # Greedily select the token with the highest probability\n",
        "\n",
        "            if predicted_token.item() == vocab['<eos>']:\n",
        "              break\n",
        "\n",
        "\n",
        "        return outputs"
      ]
    },
    {
      "cell_type": "markdown",
      "metadata": {
        "id": "gcN-qCnEdBBT"
      },
      "source": []
    },
    {
      "cell_type": "code",
      "execution_count": null,
      "metadata": {
        "colab": {
          "base_uri": "https://localhost:8080/"
        },
        "id": "6AD5YCQ5dBJT",
        "outputId": "a5ba2b9a-b304-4ad4-c542-9d61497e30f0"
      },
      "outputs": [
        {
          "name": "stdout",
          "output_type": "stream",
          "text": [
            "Seq2Seq(\n",
            "  (encoder): Encoder(\n",
            "    (embedding): Embedding(4272, 128)\n",
            "    (rnn): GRU(128, 256, bidirectional=True)\n",
            "    (fc): Linear(in_features=512, out_features=256, bias=True)\n",
            "    (dropout): Dropout(p=0.5, inplace=False)\n",
            "  )\n",
            "  (decoder): Decoder(\n",
            "    (attention): Attention(\n",
            "      (attn): Linear(in_features=768, out_features=32, bias=True)\n",
            "    )\n",
            "    (embedding): Embedding(4272, 128)\n",
            "    (rnn): GRU(640, 256)\n",
            "    (out): Linear(in_features=896, out_features=4272, bias=True)\n",
            "    (dropout): Dropout(p=0.5, inplace=False)\n",
            "  )\n",
            ")\n",
            "The model has 6,364,112 trainable parameters\n"
          ]
        }
      ],
      "source": [
        "INPUT_DIM = len(vocab)\n",
        "OUTPUT_DIM = INPUT_DIM\n",
        "\n",
        "# >  | Time: 2m 41s Train Loss: 4.933 | Train Perplexity: 138.839 |\n",
        "\n",
        "ENC_EMB_DIM = 128\n",
        "DEC_EMB_DIM = 128\n",
        "ENC_HID_DIM = 256\n",
        "DEC_HID_DIM = 256\n",
        "ATTN_DIM = 32\n",
        "ENC_DROPOUT = 0.5\n",
        "DEC_DROPOUT = 0.5\n",
        "\n",
        "# >  | Time: 2m 30s Train Loss: 5.168 | Train Perplexity: 175.591 |\n",
        "'''\n",
        "ENC_EMB_DIM = 64\n",
        "DEC_EMB_DIM = 64\n",
        "ENC_HID_DIM = 128\n",
        "DEC_HID_DIM = 128\n",
        "ATTN_DIM = 32\n",
        "ENC_DROPOUT = 0.5\n",
        "DEC_DROPOUT = 0.5\n",
        "\n",
        "TEACHER FORCING = 0.4\n",
        "'''\n",
        "enc = Encoder(INPUT_DIM, ENC_EMB_DIM, ENC_HID_DIM, DEC_HID_DIM, ENC_DROPOUT)\n",
        "\n",
        "attn = Attention(ENC_HID_DIM, DEC_HID_DIM, ATTN_DIM)\n",
        "\n",
        "dec = Decoder(OUTPUT_DIM, DEC_EMB_DIM, ENC_HID_DIM, DEC_HID_DIM, DEC_DROPOUT, attn)\n",
        "\n",
        "model = Seq2Seq(enc, dec, device).to(device)\n",
        "\n",
        "\n",
        "# Initialise weights\n",
        "def init_weights(m: nn.Module):\n",
        "    for name, param in m.named_parameters():\n",
        "        if 'weight' in name:\n",
        "            nn.init.normal_(param.data, mean=0, std=0.01) # Initialise weights with values drawn from the normal distribution\n",
        "        else:\n",
        "            nn.init.constant_(param.data, 0) # Initialiase biases to 0\n",
        "\n",
        "\n",
        "print(model.apply(init_weights))\n",
        "\n",
        "optimizer = optim.Adam(model.parameters())\n",
        "\n",
        "# Determine number of paramters\n",
        "def count_parameters(model: nn.Module):\n",
        "    return sum(p.numel() for p in model.parameters() if p.requires_grad)\n",
        "\n",
        "\n",
        "print(f'The model has {count_parameters(model):,} trainable parameters')\n",
        "\n",
        "# Loss function\n",
        "\n",
        "PAD_IDX = vocab.get_stoi()['<pad>']\n",
        "\n",
        "criterion = nn.CrossEntropyLoss(ignore_index=PAD_IDX)"
      ]
    },
    {
      "cell_type": "markdown",
      "metadata": {
        "id": "q5gQjYf6dgz4"
      },
      "source": [
        "## Train and evaluate functions"
      ]
    },
    {
      "cell_type": "code",
      "execution_count": null,
      "metadata": {
        "id": "4ISFbTnmdizI"
      },
      "outputs": [],
      "source": [
        "import time\n",
        "from tqdm import tqdm\n",
        "\n",
        "def train(model: nn.Module,\n",
        "          iterator: torch.utils.data.DataLoader,\n",
        "          optimizer: optim.Optimizer,\n",
        "          criterion: nn.Module,\n",
        "          clip: float):\n",
        "\n",
        "    model.train()\n",
        "\n",
        "    epoch_loss = 0\n",
        "\n",
        "    iterator = tqdm(iterator, desc='Training', leave=False, ncols=100)\n",
        "\n",
        "    for _, (src, trg) in enumerate(iterator):\n",
        "        src, trg = src.to(device), trg.to(device)\n",
        "\n",
        "        optimizer.zero_grad()\n",
        "\n",
        "        output = model(src, trg)\n",
        "\n",
        "        output = output[1:].view(-1, output.shape[-1])\n",
        "\n",
        "        trg = trg[1:].view(-1)\n",
        "\n",
        "        loss = criterion(output, trg)\n",
        "\n",
        "        loss.backward()\n",
        "\n",
        "        torch.nn.utils.clip_grad_norm_(model.parameters(), clip)\n",
        "\n",
        "        optimizer.step()\n",
        "\n",
        "        epoch_loss += loss.item()\n",
        "\n",
        "        # Update the progress bar description with the current loss\n",
        "        iterator.set_postfix(loss=epoch_loss / (_ + 1))\n",
        "\n",
        "    return epoch_loss / len(iterator)\n",
        "\n",
        "\n",
        "def evaluate(model: nn.Module,\n",
        "             iterator: torch.utils.data.DataLoader,\n",
        "             criterion: nn.Module):\n",
        "\n",
        "    model.eval()\n",
        "\n",
        "    epoch_loss = 0\n",
        "\n",
        "    with torch.no_grad():\n",
        "\n",
        "        for _, (src, trg) in enumerate(iterator):\n",
        "            src, trg = src.to(device), trg.to(device)\n",
        "\n",
        "            output = model(src, trg, 0) #turn off teacher forcing\n",
        "\n",
        "            output = output[1:].view(-1, output.shape[-1])\n",
        "            trg = trg[1:].view(-1)\n",
        "\n",
        "            loss = criterion(output, trg)\n",
        "\n",
        "            epoch_loss += loss.item()\n",
        "\n",
        "    return epoch_loss / len(iterator)\n",
        "\n",
        "\n",
        "def epoch_time(start_time: int,\n",
        "               end_time: int):\n",
        "    elapsed_time = end_time - start_time\n",
        "    elapsed_mins = int(elapsed_time / 60)\n",
        "    elapsed_secs = int(elapsed_time - (elapsed_mins * 60))\n",
        "    return elapsed_mins, elapsed_secs"
      ]
    },
    {
      "cell_type": "markdown",
      "metadata": {
        "id": "LTEqh14Vdkv5"
      },
      "source": [
        "##Training"
      ]
    },
    {
      "cell_type": "code",
      "execution_count": null,
      "metadata": {
        "id": "7ewihIkh2MGG"
      },
      "outputs": [],
      "source": [
        "train_losses = []\n",
        "valid_losses = []"
      ]
    },
    {
      "cell_type": "code",
      "execution_count": null,
      "metadata": {
        "colab": {
          "background_save": true,
          "base_uri": "https://localhost:8080/"
        },
        "id": "9RFrolIsdlok",
        "outputId": "db13df8a-eb1b-4558-8efe-1e6da61b7029"
      },
      "outputs": [
        {
          "name": "stderr",
          "output_type": "stream",
          "text": [
            ""
          ]
        },
        {
          "name": "stdout",
          "output_type": "stream",
          "text": [
            "Epoch: 01 | Time: 4m 1s\n",
            "\tTrain Loss: 5.022 | Train Perplexity: 151.675 |\n",
            "\t Val. Loss: 4.880 |   Val Perplexity: 131.652 |\n"
          ]
        },
        {
          "name": "stderr",
          "output_type": "stream",
          "text": [
            ""
          ]
        },
        {
          "name": "stdout",
          "output_type": "stream",
          "text": [
            "Epoch: 02 | Time: 3m 57s\n",
            "\tTrain Loss: 4.226 | Train Perplexity:  68.476 |\n",
            "\t Val. Loss: 4.339 |   Val Perplexity:  76.660 |\n"
          ]
        },
        {
          "name": "stderr",
          "output_type": "stream",
          "text": [
            ""
          ]
        },
        {
          "name": "stdout",
          "output_type": "stream",
          "text": [
            "Epoch: 03 | Time: 3m 57s\n",
            "\tTrain Loss: 3.686 | Train Perplexity:  39.897 |\n",
            "\t Val. Loss: 3.864 |   Val Perplexity:  47.642 |\n"
          ]
        },
        {
          "name": "stderr",
          "output_type": "stream",
          "text": [
            ""
          ]
        },
        {
          "name": "stdout",
          "output_type": "stream",
          "text": [
            "Epoch: 04 | Time: 3m 57s\n",
            "\tTrain Loss: 3.232 | Train Perplexity:  25.339 |\n",
            "\t Val. Loss: 3.457 |   Val Perplexity:  31.729 |\n"
          ]
        },
        {
          "name": "stderr",
          "output_type": "stream",
          "text": [
            ""
          ]
        },
        {
          "name": "stdout",
          "output_type": "stream",
          "text": [
            "Epoch: 05 | Time: 3m 58s\n",
            "\tTrain Loss: 2.899 | Train Perplexity:  18.152 |\n",
            "\t Val. Loss: 3.193 |   Val Perplexity:  24.373 |\n"
          ]
        },
        {
          "name": "stderr",
          "output_type": "stream",
          "text": [
            ""
          ]
        },
        {
          "name": "stdout",
          "output_type": "stream",
          "text": [
            "Epoch: 06 | Time: 3m 58s\n",
            "\tTrain Loss: 2.666 | Train Perplexity:  14.382 |\n",
            "\t Val. Loss: 2.986 |   Val Perplexity:  19.814 |\n"
          ]
        },
        {
          "name": "stderr",
          "output_type": "stream",
          "text": [
            ""
          ]
        },
        {
          "name": "stdout",
          "output_type": "stream",
          "text": [
            "Epoch: 07 | Time: 3m 58s\n",
            "\tTrain Loss: 2.486 | Train Perplexity:  12.019 |\n",
            "\t Val. Loss: 2.846 |   Val Perplexity:  17.211 |\n"
          ]
        },
        {
          "name": "stderr",
          "output_type": "stream",
          "text": [
            ""
          ]
        },
        {
          "name": "stdout",
          "output_type": "stream",
          "text": [
            "Epoch: 08 | Time: 3m 58s\n",
            "\tTrain Loss: 2.337 | Train Perplexity:  10.349 |\n",
            "\t Val. Loss: 2.739 |   Val Perplexity:  15.470 |\n"
          ]
        },
        {
          "name": "stderr",
          "output_type": "stream",
          "text": [
            ""
          ]
        },
        {
          "name": "stdout",
          "output_type": "stream",
          "text": [
            "Epoch: 09 | Time: 3m 57s\n",
            "\tTrain Loss: 2.235 | Train Perplexity:   9.350 |\n",
            "\t Val. Loss: 2.608 |   Val Perplexity:  13.578 |\n"
          ]
        },
        {
          "name": "stderr",
          "output_type": "stream",
          "text": [
            ""
          ]
        },
        {
          "name": "stdout",
          "output_type": "stream",
          "text": [
            "Epoch: 10 | Time: 3m 56s\n",
            "\tTrain Loss: 2.138 | Train Perplexity:   8.485 |\n",
            "\t Val. Loss: 2.535 |   Val Perplexity:  12.619 |\n"
          ]
        },
        {
          "data": {
            "image/png": "[encoded data removed]",
            "text/plain": [
              "<Figure size 640x480 with 1 Axes>"
            ]
          },
          "metadata": {},
          "output_type": "display_data"
        }
      ],
      "source": [
        "import math\n",
        "N_EPOCHS = 10\n",
        "CLIP = 1\n",
        "\n",
        "best_valid_loss = float('inf')\n",
        "\n",
        "for epoch in range(N_EPOCHS):\n",
        "\n",
        "    start_time = time.time()\n",
        "\n",
        "    train_loss = train(model, train_iter, optimizer, criterion, CLIP)\n",
        "    valid_loss = evaluate(model, val_iter, criterion)\n",
        "\n",
        "    end_time = time.time()\n",
        "\n",
        "    epoch_mins, epoch_secs = epoch_time(start_time, end_time)\n",
        "\n",
        "    if valid_loss < best_valid_loss:\n",
        "        best_valid_loss = valid_loss\n",
        "        torch.save(model.state_dict(), 's2s-model.pt')\n",
        "\n",
        "    print(f'Epoch: {epoch+1:02} | Time: {epoch_mins}m {epoch_secs}s')\n",
        "    print(f'\\tTrain Loss: {train_loss:.3f} | Train Perplexity: {math.exp(train_loss):7.3f} |')\n",
        "    print(f'\\t Val. Loss: {valid_loss:.3f} |   Val Perplexity: {math.exp(valid_loss):7.3f} |')\n",
        "    train_losses.append(train_loss)\n",
        "    valid_losses.append(valid_loss)\n",
        "\n",
        "\n",
        "# Plot the losses\n",
        "plt.plot(train_losses, label='Training Loss')\n",
        "plt.plot(valid_losses, label='Validation Loss')\n",
        "plt.xlabel('Epoch')\n",
        "plt.ylabel('Loss')\n",
        "plt.legend()\n",
        "plt.show()\n"
      ]
    },
    {
      "cell_type": "markdown",
      "metadata": {
        "id": "jPplwjk1eJ7M"
      },
      "source": [
        "Loading model weights and evaluating"
      ]
    },
    {
      "cell_type": "code",
      "execution_count": null,
      "metadata": {
        "id": "RdrPfBYBeKDk"
      },
      "outputs": [],
      "source": [
        "# Load the saved model weights\n",
        "model.load_state_dict(torch.load('s2s-model.pt'))\n",
        "\n",
        "test_loss = evaluate(model, test_iter, criterion)\n",
        "\n",
        "print(f'| Test Loss: {test_loss:.3f} | Test Perplexity: {math.exp(test_loss):7.3f} |')"
      ]
    },
    {
      "cell_type": "code",
      "execution_count": null,
      "metadata": {
        "id": "j2nCA6cntKfY"
      },
      "outputs": [],
      "source": [
        "model.eval()\n",
        "\n",
        "src = test_data[2][0].reshape(len(test_data[2][0]),1).to(device)\n",
        "trg = test_data[2][1].reshape(len(test_data[2][1]),1).to(device)\n",
        "\n",
        "src_words = [vocab.get_itos()[token] for token in src]\n",
        "print(src_words)\n",
        "\n",
        "trg_words = [vocab.get_itos()[token] for token in trg]\n",
        "print(trg_words)\n",
        "\n",
        "#print(src)\n",
        "#print(trg)"
      ]
    },
    {
      "cell_type": "code",
      "execution_count": null,
      "metadata": {
        "id": "-NL1OqXLF9Ml"
      },
      "outputs": [],
      "source": [
        "'''\n",
        "def predict_sequence(input, model):\n",
        "  model.eval()\n",
        "  with torch.no_grad():\n",
        "    for data in input:\n",
        "\n",
        "      normalized_input = normalize_input(data)\n",
        "\n",
        "      processed_input = input_process(normalized_input)\n",
        "\n",
        "      input_seq = generate_input_sequence(processed_input)\n",
        "\n",
        "      input_seq = input_seq.unsqueeze(1)\n",
        "\n",
        "\n",
        "      output = model.predict(input_seq)\n",
        "\n",
        "      output_idx = output[1:].squeeze(1).argmax(1)\n",
        "\n",
        "      topk_values, topk_indices = output[1:].squeeze(1).topk(k=1, dim=1)\n",
        "      # This top10 does NOT work with this, only the first one will make sense\n",
        "      # The other ones are out of context as they are generated from the \"main sequence\"\n",
        "      # To fix this, take top 10 predictions from first word and then run the network\n",
        "      # for each word chosen aka 10 different times.\n",
        "      print(f\"PREDICTION FOR SEQUENCE: {data}\")\n",
        "      for row in topk_indices.t():\n",
        "        #print(row)\n",
        "        pred_words = [vocab.get_itos()[token] for token in row]\n",
        "        words_str = data + ' ' + ' '.join(pred_words)\n",
        "        print(words_str, \"\\n\")\n",
        "'''"
      ]
    },
    {
      "cell_type": "code",
      "execution_count": null,
      "metadata": {
        "id": "nOX7IoF2s35Y"
      },
      "outputs": [],
      "source": [
        "def predict_sequence(input, model):\n",
        "  model.eval()\n",
        "  with torch.no_grad():\n",
        "    for data in input:\n",
        "\n",
        "      normalized_input = normalize_input(data)\n",
        "      processed_input = input_process(normalized_input)\n",
        "      input_seq = generate_input_sequence(processed_input)\n",
        "      input_seq = input_seq.unsqueeze(1)\n",
        "\n",
        "\n",
        "      batch_size = 1\n",
        "      max_len = 20\n",
        "\n",
        "      trg_vocab_size = model.decoder.output_dim\n",
        "\n",
        "      outputs = torch.ones(max_len, batch_size, trg_vocab_size).to(device)\n",
        "\n",
        "      encoder_outputs, hidden = model.encoder(input_seq)\n",
        "\n",
        "      output = src[0,:]\n",
        "\n",
        "      pred = []\n",
        "\n",
        "      for t in range(1, max_len):\n",
        "          output, hidden = model.decoder(output, hidden, encoder_outputs)\n",
        "\n",
        "          predicted_token = output.argmax(1)\n",
        "          pred.append(predicted_token)\n",
        "\n",
        "          #outputs[t] = output\n",
        "          output = output.argmax(1)  # Greedily select the token with the highest probability\n",
        "\n",
        "          if predicted_token.item() == vocab['<eos>']:\n",
        "            break\n",
        "\n",
        "      tokens = vocab.lookup_tokens(pred)\n",
        "      return tokens\n",
        "\n"
      ]
    },
    {
      "cell_type": "code",
      "execution_count": null,
      "metadata": {
        "id": "20-09gUMLtoI"
      },
      "outputs": [],
      "source": [
        "device = torch.device(\"cuda:0\" if torch.cuda.is_available() else \"cpu\")\n",
        "model.load_state_dict(torch.load('/content/s2s-model.pt'))\n",
        "\n",
        "model.to(device)\n",
        "predict_sequence(test, model)"
      ]
    },
    {
      "cell_type": "code",
      "execution_count": null,
      "metadata": {
        "id": "wQoGuqrsREjD"
      },
      "outputs": [],
      "source": [
        "texts = [\n",
        "    'here is',\n",
        "    'have a',\n",
        "    'please review',\n",
        "    'please call me',\n",
        "    'thanks for',\n",
        "    'let me',\n",
        "    'Let me know',\n",
        "    'Let me know if you',\n",
        "    'this sounds',\n",
        "    'is this call going to',\n",
        "    'can you get',\n",
        "    'is it okay',\n",
        "    'it should',\n",
        "    'call if there\\'s',\n",
        "    'gave her a',\n",
        "    'i will let',\n",
        "    'i will be',\n",
        "    'may i get a copy of all the',\n",
        "    'how is our trade',\n",
        "    'this looks like a',\n",
        "    'i am fine with the changes',\n",
        "    'please be sure this'\n",
        "]"
      ]
    },
    {
      "cell_type": "code",
      "execution_count": null,
      "metadata": {
        "id": "g3HVQrsoTYU1"
      },
      "outputs": [],
      "source": [
        "for t in texts:\n",
        "\n",
        "  prediction = ' '.join(predict_sequence([t], model))\n",
        "\n",
        "  print(t, prediction)"
      ]
    }
  ],
  "metadata": {
    "accelerator": "GPU",
    "colab": {
      "provenance": [],
      "authorship_tag": "ABX9TyOqWdGg0j8h/Fztreyssfeg",
      "include_colab_link": true
    },
    "kernelspec": {
      "display_name": "Python 3",
      "name": "python3"
    },
    "language_info": {
      "name": "python"
    }
  },
  "nbformat": 4,
  "nbformat_minor": 0
}