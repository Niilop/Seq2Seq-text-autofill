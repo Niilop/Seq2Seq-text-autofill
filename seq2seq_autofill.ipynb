{
  "cells": [
    {
      "cell_type": "markdown",
      "metadata": {
        "id": "view-in-github",
        "colab_type": "text"
      },
      "source": [
        "<a href=\"https://colab.research.google.com/github/Niilop/Seq2Seq-text-autofill/blob/main/seq2seq_autofill.ipynb\" target=\"_parent\"><img src=\"https://colab.research.google.com/assets/colab-badge.svg\" alt=\"Open In Colab\"/></a>"
      ]
    },
    {
      "cell_type": "markdown",
      "metadata": {
        "id": "uGS6I7UqN6ZI"
      },
      "source": [
        "This is a auto fill project made seq2seq model with attention which is trained by email data. The model is trained with source and target pairs, where source is the start sequence of sentence and the target is the ending sequence of a sentence. For example a user might write \"it is nice to\" and the model would predict \"meet you!\". My future plan for this project is to develop runnable code on github which could be ran in a server and then used in a web UI.\n",
        "\n",
        "\n",
        "Inspiration in time of need taken from:\n",
        "\n",
        "https://dl.acm.org/doi/abs/10.1145/3292500.3330723\n",
        "\n",
        "and\n",
        "\n",
        "https://blog.jiayihu.net/gmail-smart-compose-in-keras-and-tensorflow-js/\n"
      ]
    },
    {
      "cell_type": "code",
      "execution_count": null,
      "metadata": {
        "id": "WWDicPSgN8Yj"
      },
      "outputs": [],
      "source": [
        "import torch\n",
        "import torch.nn as nn\n",
        "import torch.optim as optim\n",
        "\n",
        "from torchtext import data, datasets\n",
        "\n",
        "import spacy\n",
        "import numpy as np\n",
        "\n",
        "import random\n",
        "import math\n",
        "import time"
      ]
    },
    {
      "cell_type": "markdown",
      "metadata": {
        "id": "E8M1bWnDN9A2"
      },
      "source": [
        "Random seed for deterministic results if needed"
      ]
    },
    {
      "cell_type": "code",
      "execution_count": null,
      "metadata": {
        "id": "a8xcCq9dN9JP"
      },
      "outputs": [],
      "source": [
        "SEED = 1234\n",
        "\n",
        "random.seed(SEED)\n",
        "np.random.seed(SEED)\n",
        "torch.manual_seed(SEED)\n",
        "torch.cuda.manual_seed(SEED)\n",
        "torch.backends.cudnn.deterministic = True"
      ]
    },
    {
      "cell_type": "markdown",
      "metadata": {
        "id": "e-_W1S40OCVc"
      },
      "source": [
        "We use Spacy tokenizer for this project"
      ]
    },
    {
      "cell_type": "code",
      "execution_count": null,
      "metadata": {
        "colab": {
          "base_uri": "https://localhost:8080/"
        },
        "id": "-P03HcXfOGkt",
        "outputId": "0dd04949-2fa9-4610-a650-c97de7df6e58"
      },
      "outputs": [
        {
          "output_type": "stream",
          "name": "stdout",
          "text": [
            "2024-01-26 13:36:51.371380: E external/local_xla/xla/stream_executor/cuda/cuda_dnn.cc:9261] Unable to register cuDNN factory: Attempting to register factory for plugin cuDNN when one has already been registered\n",
            "2024-01-26 13:36:51.371437: E external/local_xla/xla/stream_executor/cuda/cuda_fft.cc:607] Unable to register cuFFT factory: Attempting to register factory for plugin cuFFT when one has already been registered\n",
            "2024-01-26 13:36:51.373294: E external/local_xla/xla/stream_executor/cuda/cuda_blas.cc:1515] Unable to register cuBLAS factory: Attempting to register factory for plugin cuBLAS when one has already been registered\n",
            "2024-01-26 13:36:52.485484: W tensorflow/compiler/tf2tensorrt/utils/py_utils.cc:38] TF-TRT Warning: Could not find TensorRT\n",
            "Collecting en-core-web-sm==3.6.0\n",
            "  Downloading https://github.com/explosion/spacy-models/releases/download/en_core_web_sm-3.6.0/en_core_web_sm-3.6.0-py3-none-any.whl (12.8 MB)\n",
            "\u001b[2K     \u001b[90m━━━━━━━━━━━━━━━━━━━━━━━━━━━━━━━━━━━━━━━━\u001b[0m \u001b[32m12.8/12.8 MB\u001b[0m \u001b[31m95.3 MB/s\u001b[0m eta \u001b[36m0:00:00\u001b[0m\n",
            "\u001b[?25hRequirement already satisfied: spacy<3.7.0,>=3.6.0 in /usr/local/lib/python3.10/dist-packages (from en-core-web-sm==3.6.0) (3.6.1)\n",
            "Requirement already satisfied: spacy-legacy<3.1.0,>=3.0.11 in /usr/local/lib/python3.10/dist-packages (from spacy<3.7.0,>=3.6.0->en-core-web-sm==3.6.0) (3.0.12)\n",
            "Requirement already satisfied: spacy-loggers<2.0.0,>=1.0.0 in /usr/local/lib/python3.10/dist-packages (from spacy<3.7.0,>=3.6.0->en-core-web-sm==3.6.0) (1.0.5)\n",
            "Requirement already satisfied: murmurhash<1.1.0,>=0.28.0 in /usr/local/lib/python3.10/dist-packages (from spacy<3.7.0,>=3.6.0->en-core-web-sm==3.6.0) (1.0.10)\n",
            "Requirement already satisfied: cymem<2.1.0,>=2.0.2 in /usr/local/lib/python3.10/dist-packages (from spacy<3.7.0,>=3.6.0->en-core-web-sm==3.6.0) (2.0.8)\n",
            "Requirement already satisfied: preshed<3.1.0,>=3.0.2 in /usr/local/lib/python3.10/dist-packages (from spacy<3.7.0,>=3.6.0->en-core-web-sm==3.6.0) (3.0.9)\n",
            "Requirement already satisfied: thinc<8.2.0,>=8.1.8 in /usr/local/lib/python3.10/dist-packages (from spacy<3.7.0,>=3.6.0->en-core-web-sm==3.6.0) (8.1.12)\n",
            "Requirement already satisfied: wasabi<1.2.0,>=0.9.1 in /usr/local/lib/python3.10/dist-packages (from spacy<3.7.0,>=3.6.0->en-core-web-sm==3.6.0) (1.1.2)\n",
            "Requirement already satisfied: srsly<3.0.0,>=2.4.3 in /usr/local/lib/python3.10/dist-packages (from spacy<3.7.0,>=3.6.0->en-core-web-sm==3.6.0) (2.4.8)\n",
            "Requirement already satisfied: catalogue<2.1.0,>=2.0.6 in /usr/local/lib/python3.10/dist-packages (from spacy<3.7.0,>=3.6.0->en-core-web-sm==3.6.0) (2.0.10)\n",
            "Requirement already satisfied: typer<0.10.0,>=0.3.0 in /usr/local/lib/python3.10/dist-packages (from spacy<3.7.0,>=3.6.0->en-core-web-sm==3.6.0) (0.9.0)\n",
            "Requirement already satisfied: pathy>=0.10.0 in /usr/local/lib/python3.10/dist-packages (from spacy<3.7.0,>=3.6.0->en-core-web-sm==3.6.0) (0.11.0)\n",
            "Requirement already satisfied: smart-open<7.0.0,>=5.2.1 in /usr/local/lib/python3.10/dist-packages (from spacy<3.7.0,>=3.6.0->en-core-web-sm==3.6.0) (6.4.0)\n",
            "Requirement already satisfied: tqdm<5.0.0,>=4.38.0 in /usr/local/lib/python3.10/dist-packages (from spacy<3.7.0,>=3.6.0->en-core-web-sm==3.6.0) (4.66.1)\n",
            "Requirement already satisfied: numpy>=1.15.0 in /usr/local/lib/python3.10/dist-packages (from spacy<3.7.0,>=3.6.0->en-core-web-sm==3.6.0) (1.23.5)\n",
            "Requirement already satisfied: requests<3.0.0,>=2.13.0 in /usr/local/lib/python3.10/dist-packages (from spacy<3.7.0,>=3.6.0->en-core-web-sm==3.6.0) (2.31.0)\n",
            "Requirement already satisfied: pydantic!=1.8,!=1.8.1,<3.0.0,>=1.7.4 in /usr/local/lib/python3.10/dist-packages (from spacy<3.7.0,>=3.6.0->en-core-web-sm==3.6.0) (1.10.14)\n",
            "Requirement already satisfied: jinja2 in /usr/local/lib/python3.10/dist-packages (from spacy<3.7.0,>=3.6.0->en-core-web-sm==3.6.0) (3.1.3)\n",
            "Requirement already satisfied: setuptools in /usr/local/lib/python3.10/dist-packages (from spacy<3.7.0,>=3.6.0->en-core-web-sm==3.6.0) (67.7.2)\n",
            "Requirement already satisfied: packaging>=20.0 in /usr/local/lib/python3.10/dist-packages (from spacy<3.7.0,>=3.6.0->en-core-web-sm==3.6.0) (23.2)\n",
            "Requirement already satisfied: langcodes<4.0.0,>=3.2.0 in /usr/local/lib/python3.10/dist-packages (from spacy<3.7.0,>=3.6.0->en-core-web-sm==3.6.0) (3.3.0)\n",
            "Requirement already satisfied: pathlib-abc==0.1.1 in /usr/local/lib/python3.10/dist-packages (from pathy>=0.10.0->spacy<3.7.0,>=3.6.0->en-core-web-sm==3.6.0) (0.1.1)\n",
            "Requirement already satisfied: typing-extensions>=4.2.0 in /usr/local/lib/python3.10/dist-packages (from pydantic!=1.8,!=1.8.1,<3.0.0,>=1.7.4->spacy<3.7.0,>=3.6.0->en-core-web-sm==3.6.0) (4.5.0)\n",
            "Requirement already satisfied: charset-normalizer<4,>=2 in /usr/local/lib/python3.10/dist-packages (from requests<3.0.0,>=2.13.0->spacy<3.7.0,>=3.6.0->en-core-web-sm==3.6.0) (3.3.2)\n",
            "Requirement already satisfied: idna<4,>=2.5 in /usr/local/lib/python3.10/dist-packages (from requests<3.0.0,>=2.13.0->spacy<3.7.0,>=3.6.0->en-core-web-sm==3.6.0) (3.6)\n",
            "Requirement already satisfied: urllib3<3,>=1.21.1 in /usr/local/lib/python3.10/dist-packages (from requests<3.0.0,>=2.13.0->spacy<3.7.0,>=3.6.0->en-core-web-sm==3.6.0) (2.0.7)\n",
            "Requirement already satisfied: certifi>=2017.4.17 in /usr/local/lib/python3.10/dist-packages (from requests<3.0.0,>=2.13.0->spacy<3.7.0,>=3.6.0->en-core-web-sm==3.6.0) (2023.11.17)\n",
            "Requirement already satisfied: blis<0.8.0,>=0.7.8 in /usr/local/lib/python3.10/dist-packages (from thinc<8.2.0,>=8.1.8->spacy<3.7.0,>=3.6.0->en-core-web-sm==3.6.0) (0.7.11)\n",
            "Requirement already satisfied: confection<1.0.0,>=0.0.1 in /usr/local/lib/python3.10/dist-packages (from thinc<8.2.0,>=8.1.8->spacy<3.7.0,>=3.6.0->en-core-web-sm==3.6.0) (0.1.4)\n",
            "Requirement already satisfied: click<9.0.0,>=7.1.1 in /usr/local/lib/python3.10/dist-packages (from typer<0.10.0,>=0.3.0->spacy<3.7.0,>=3.6.0->en-core-web-sm==3.6.0) (8.1.7)\n",
            "Requirement already satisfied: MarkupSafe>=2.0 in /usr/local/lib/python3.10/dist-packages (from jinja2->spacy<3.7.0,>=3.6.0->en-core-web-sm==3.6.0) (2.1.4)\n",
            "\u001b[38;5;2m✔ Download and installation successful\u001b[0m\n",
            "You can now load the package via spacy.load('en_core_web_sm')\n"
          ]
        }
      ],
      "source": [
        "!python3 -m spacy download en_core_web_sm"
      ]
    },
    {
      "cell_type": "markdown",
      "metadata": {
        "id": "6qOLs15vORMe"
      },
      "source": []
    },
    {
      "cell_type": "markdown",
      "metadata": {
        "id": "YZxYF5pIP-sQ"
      },
      "source": [
        "Downloading Amazon product dataset from Kaggle"
      ]
    },
    {
      "cell_type": "code",
      "execution_count": null,
      "metadata": {
        "colab": {
          "base_uri": "https://localhost:8080/"
        },
        "id": "w7u3hsgUQAzW",
        "outputId": "9ab8829e-0942-4625-cf39-ee72a4b08a8e"
      },
      "outputs": [
        {
          "output_type": "stream",
          "name": "stdout",
          "text": [
            "Requirement already satisfied: kaggle in /usr/local/lib/python3.10/dist-packages (1.5.16)\n",
            "Requirement already satisfied: six>=1.10 in /usr/local/lib/python3.10/dist-packages (from kaggle) (1.16.0)\n",
            "Requirement already satisfied: certifi in /usr/local/lib/python3.10/dist-packages (from kaggle) (2023.11.17)\n",
            "Requirement already satisfied: python-dateutil in /usr/local/lib/python3.10/dist-packages (from kaggle) (2.8.2)\n",
            "Requirement already satisfied: requests in /usr/local/lib/python3.10/dist-packages (from kaggle) (2.31.0)\n",
            "Requirement already satisfied: tqdm in /usr/local/lib/python3.10/dist-packages (from kaggle) (4.66.1)\n",
            "Requirement already satisfied: python-slugify in /usr/local/lib/python3.10/dist-packages (from kaggle) (8.0.1)\n",
            "Requirement already satisfied: urllib3 in /usr/local/lib/python3.10/dist-packages (from kaggle) (2.0.7)\n",
            "Requirement already satisfied: bleach in /usr/local/lib/python3.10/dist-packages (from kaggle) (6.1.0)\n",
            "Requirement already satisfied: webencodings in /usr/local/lib/python3.10/dist-packages (from bleach->kaggle) (0.5.1)\n",
            "Requirement already satisfied: text-unidecode>=1.3 in /usr/local/lib/python3.10/dist-packages (from python-slugify->kaggle) (1.3)\n",
            "Requirement already satisfied: charset-normalizer<4,>=2 in /usr/local/lib/python3.10/dist-packages (from requests->kaggle) (3.3.2)\n",
            "Requirement already satisfied: idna<4,>=2.5 in /usr/local/lib/python3.10/dist-packages (from requests->kaggle) (3.6)\n"
          ]
        }
      ],
      "source": [
        "!pip install kaggle"
      ]
    },
    {
      "cell_type": "markdown",
      "metadata": {
        "id": "prVq-3kfRk7b"
      },
      "source": [
        "Upload Kaggle API token from local files"
      ]
    },
    {
      "cell_type": "code",
      "execution_count": null,
      "metadata": {
        "colab": {
          "base_uri": "https://localhost:8080/",
          "height": 91
        },
        "id": "D3alyC7vQyNI",
        "outputId": "e2b83cd9-4c52-4d6c-85ce-2544d853a6ab"
      },
      "outputs": [
        {
          "output_type": "display_data",
          "data": {
            "text/plain": [
              "<IPython.core.display.HTML object>"
            ],
            "text/html": [
              "\n",
              "     <input type=\"file\" id=\"files-45f2984f-7b62-4426-9f4b-4b77ce2899fe\" name=\"files[]\" multiple disabled\n",
              "        style=\"border:none\" />\n",
              "     <output id=\"result-45f2984f-7b62-4426-9f4b-4b77ce2899fe\">\n",
              "      Upload widget is only available when the cell has been executed in the\n",
              "      current browser session. Please rerun this cell to enable.\n",
              "      </output>\n",
              "      <script>// Copyright 2017 Google LLC\n",
              "//\n",
              "// Licensed under the Apache License, Version 2.0 (the \"License\");\n",
              "// you may not use this file except in compliance with the License.\n",
              "// You may obtain a copy of the License at\n",
              "//\n",
              "//      http://www.apache.org/licenses/LICENSE-2.0\n",
              "//\n",
              "// Unless required by applicable law or agreed to in writing, software\n",
              "// distributed under the License is distributed on an \"AS IS\" BASIS,\n",
              "// WITHOUT WARRANTIES OR CONDITIONS OF ANY KIND, either express or implied.\n",
              "// See the License for the specific language governing permissions and\n",
              "// limitations under the License.\n",
              "\n",
              "/**\n",
              " * @fileoverview Helpers for google.colab Python module.\n",
              " */\n",
              "(function(scope) {\n",
              "function span(text, styleAttributes = {}) {\n",
              "  const element = document.createElement('span');\n",
              "  element.textContent = text;\n",
              "  for (const key of Object.keys(styleAttributes)) {\n",
              "    element.style[key] = styleAttributes[key];\n",
              "  }\n",
              "  return element;\n",
              "}\n",
              "\n",
              "// Max number of bytes which will be uploaded at a time.\n",
              "const MAX_PAYLOAD_SIZE = 100 * 1024;\n",
              "\n",
              "function _uploadFiles(inputId, outputId) {\n",
              "  const steps = uploadFilesStep(inputId, outputId);\n",
              "  const outputElement = document.getElementById(outputId);\n",
              "  // Cache steps on the outputElement to make it available for the next call\n",
              "  // to uploadFilesContinue from Python.\n",
              "  outputElement.steps = steps;\n",
              "\n",
              "  return _uploadFilesContinue(outputId);\n",
              "}\n",
              "\n",
              "// This is roughly an async generator (not supported in the browser yet),\n",
              "// where there are multiple asynchronous steps and the Python side is going\n",
              "// to poll for completion of each step.\n",
              "// This uses a Promise to block the python side on completion of each step,\n",
              "// then passes the result of the previous step as the input to the next step.\n",
              "function _uploadFilesContinue(outputId) {\n",
              "  const outputElement = document.getElementById(outputId);\n",
              "  const steps = outputElement.steps;\n",
              "\n",
              "  const next = steps.next(outputElement.lastPromiseValue);\n",
              "  return Promise.resolve(next.value.promise).then((value) => {\n",
              "    // Cache the last promise value to make it available to the next\n",
              "    // step of the generator.\n",
              "    outputElement.lastPromiseValue = value;\n",
              "    return next.value.response;\n",
              "  });\n",
              "}\n",
              "\n",
              "/**\n",
              " * Generator function which is called between each async step of the upload\n",
              " * process.\n",
              " * @param {string} inputId Element ID of the input file picker element.\n",
              " * @param {string} outputId Element ID of the output display.\n",
              " * @return {!Iterable<!Object>} Iterable of next steps.\n",
              " */\n",
              "function* uploadFilesStep(inputId, outputId) {\n",
              "  const inputElement = document.getElementById(inputId);\n",
              "  inputElement.disabled = false;\n",
              "\n",
              "  const outputElement = document.getElementById(outputId);\n",
              "  outputElement.innerHTML = '';\n",
              "\n",
              "  const pickedPromise = new Promise((resolve) => {\n",
              "    inputElement.addEventListener('change', (e) => {\n",
              "      resolve(e.target.files);\n",
              "    });\n",
              "  });\n",
              "\n",
              "  const cancel = document.createElement('button');\n",
              "  inputElement.parentElement.appendChild(cancel);\n",
              "  cancel.textContent = 'Cancel upload';\n",
              "  const cancelPromise = new Promise((resolve) => {\n",
              "    cancel.onclick = () => {\n",
              "      resolve(null);\n",
              "    };\n",
              "  });\n",
              "\n",
              "  // Wait for the user to pick the files.\n",
              "  const files = yield {\n",
              "    promise: Promise.race([pickedPromise, cancelPromise]),\n",
              "    response: {\n",
              "      action: 'starting',\n",
              "    }\n",
              "  };\n",
              "\n",
              "  cancel.remove();\n",
              "\n",
              "  // Disable the input element since further picks are not allowed.\n",
              "  inputElement.disabled = true;\n",
              "\n",
              "  if (!files) {\n",
              "    return {\n",
              "      response: {\n",
              "        action: 'complete',\n",
              "      }\n",
              "    };\n",
              "  }\n",
              "\n",
              "  for (const file of files) {\n",
              "    const li = document.createElement('li');\n",
              "    li.append(span(file.name, {fontWeight: 'bold'}));\n",
              "    li.append(span(\n",
              "        `(${file.type || 'n/a'}) - ${file.size} bytes, ` +\n",
              "        `last modified: ${\n",
              "            file.lastModifiedDate ? file.lastModifiedDate.toLocaleDateString() :\n",
              "                                    'n/a'} - `));\n",
              "    const percent = span('0% done');\n",
              "    li.appendChild(percent);\n",
              "\n",
              "    outputElement.appendChild(li);\n",
              "\n",
              "    const fileDataPromise = new Promise((resolve) => {\n",
              "      const reader = new FileReader();\n",
              "      reader.onload = (e) => {\n",
              "        resolve(e.target.result);\n",
              "      };\n",
              "      reader.readAsArrayBuffer(file);\n",
              "    });\n",
              "    // Wait for the data to be ready.\n",
              "    let fileData = yield {\n",
              "      promise: fileDataPromise,\n",
              "      response: {\n",
              "        action: 'continue',\n",
              "      }\n",
              "    };\n",
              "\n",
              "    // Use a chunked sending to avoid message size limits. See b/62115660.\n",
              "    let position = 0;\n",
              "    do {\n",
              "      const length = Math.min(fileData.byteLength - position, MAX_PAYLOAD_SIZE);\n",
              "      const chunk = new Uint8Array(fileData, position, length);\n",
              "      position += length;\n",
              "\n",
              "      const base64 = btoa(String.fromCharCode.apply(null, chunk));\n",
              "      yield {\n",
              "        response: {\n",
              "          action: 'append',\n",
              "          file: file.name,\n",
              "          data: base64,\n",
              "        },\n",
              "      };\n",
              "\n",
              "      let percentDone = fileData.byteLength === 0 ?\n",
              "          100 :\n",
              "          Math.round((position / fileData.byteLength) * 100);\n",
              "      percent.textContent = `${percentDone}% done`;\n",
              "\n",
              "    } while (position < fileData.byteLength);\n",
              "  }\n",
              "\n",
              "  // All done.\n",
              "  yield {\n",
              "    response: {\n",
              "      action: 'complete',\n",
              "    }\n",
              "  };\n",
              "}\n",
              "\n",
              "scope.google = scope.google || {};\n",
              "scope.google.colab = scope.google.colab || {};\n",
              "scope.google.colab._files = {\n",
              "  _uploadFiles,\n",
              "  _uploadFilesContinue,\n",
              "};\n",
              "})(self);\n",
              "</script> "
            ]
          },
          "metadata": {}
        },
        {
          "output_type": "stream",
          "name": "stdout",
          "text": [
            "Saving kaggle.json to kaggle.json\n"
          ]
        },
        {
          "output_type": "execute_result",
          "data": {
            "text/plain": [
              "{'kaggle.json': b'{\"username\":\"niilopkknen\",\"key\":\"a64107e80baeabe4f3bbb08d1cb21ac4\"}'}"
            ]
          },
          "metadata": {},
          "execution_count": 5
        }
      ],
      "source": [
        "from google.colab import files\n",
        "files.upload()"
      ]
    },
    {
      "cell_type": "code",
      "execution_count": null,
      "metadata": {
        "id": "0ukvcyhEQy3r"
      },
      "outputs": [],
      "source": [
        "!mkdir ~/.kaggle\n",
        "!cp kaggle.json ~/.kaggle/\n",
        "!chmod 600 ~/.kaggle/kaggle.json"
      ]
    },
    {
      "cell_type": "markdown",
      "metadata": {
        "id": "OP-6sOobQ2Ks"
      },
      "source": [
        "Download required data using Kaggle API"
      ]
    },
    {
      "cell_type": "code",
      "execution_count": null,
      "metadata": {
        "colab": {
          "base_uri": "https://localhost:8080/",
          "height": 35
        },
        "id": "Py83Vgq_Q1WT",
        "outputId": "1a8d5235-f0c3-4a32-9efa-51ed73af2bb8"
      },
      "outputs": [
        {
          "output_type": "execute_result",
          "data": {
            "text/plain": [
              "'\\n!mkdir amazon_data\\n!kaggle datasets download -d lokeshparab/amazon-products-dataset\\n!unzip /content/amazon-products-dataset.zip -d /content/amazon_data\\n'"
            ],
            "application/vnd.google.colaboratory.intrinsic+json": {
              "type": "string"
            }
          },
          "metadata": {},
          "execution_count": 7
        }
      ],
      "source": [
        "'''\n",
        "!mkdir amazon_data\n",
        "!kaggle datasets download -d lokeshparab/amazon-products-dataset\n",
        "!unzip /content/amazon-products-dataset.zip -d /content/amazon_data\n",
        "'''"
      ]
    },
    {
      "cell_type": "code",
      "execution_count": null,
      "metadata": {
        "colab": {
          "base_uri": "https://localhost:8080/"
        },
        "id": "-1g2aulLLtnU",
        "outputId": "ce007afa-f439-46fd-b292-762dbfc4a05f"
      },
      "outputs": [
        {
          "output_type": "stream",
          "name": "stdout",
          "text": [
            "Downloading enron-email-dataset.zip to /content\n",
            "100% 357M/358M [00:17<00:00, 19.7MB/s]\n",
            "100% 358M/358M [00:17<00:00, 21.1MB/s]\n"
          ]
        }
      ],
      "source": [
        "!mkdir email_data\n",
        "!kaggle datasets download -d wcukierski/enron-email-dataset"
      ]
    },
    {
      "cell_type": "code",
      "execution_count": null,
      "metadata": {
        "colab": {
          "base_uri": "https://localhost:8080/"
        },
        "id": "7wpqXEG6M0sz",
        "outputId": "367e299a-2ede-420b-f1d7-2899013a4191"
      },
      "outputs": [
        {
          "output_type": "stream",
          "name": "stdout",
          "text": [
            "Archive:  /content/enron-email-dataset.zip\n",
            "  inflating: /content/email_data/emails.csv  \n"
          ]
        }
      ],
      "source": [
        "!unzip /content/enron-email-dataset.zip -d /content/email_data"
      ]
    },
    {
      "cell_type": "markdown",
      "metadata": {
        "id": "QKfAJ3g8UgZ0"
      },
      "source": [
        "Earlier, I used amazon product data but it leads to weird results. Let's change the data to email data and try to train our model to autofill rest of the sentence."
      ]
    },
    {
      "cell_type": "code",
      "execution_count": null,
      "metadata": {
        "colab": {
          "base_uri": "https://localhost:8080/"
        },
        "id": "aC5_Q0b6VOsF",
        "outputId": "44eb1e2e-67d8-4987-f3c1-28078bd41368"
      },
      "outputs": [
        {
          "output_type": "stream",
          "name": "stdout",
          "text": [
            "/content\n"
          ]
        }
      ],
      "source": [
        "import os\n",
        "current_directory = os.getcwd()\n",
        "print(current_directory)"
      ]
    },
    {
      "cell_type": "code",
      "execution_count": null,
      "metadata": {
        "id": "BhmQ4pWzUyLc"
      },
      "outputs": [],
      "source": [
        "import numpy as np\n",
        "import pandas as pd\n",
        "import matplotlib.pyplot as plt\n",
        "\n",
        "emails_df = pd.read_csv('/content/email_data/emails.csv')\n",
        "# Smaller size\n",
        "# Full data is 30 million pairs\n",
        "# 10 000 is 600 000 pairs\n",
        "# 100 000 is 9 million pairs\n",
        "emails_df = emails_df[:50000]"
      ]
    },
    {
      "cell_type": "code",
      "execution_count": null,
      "metadata": {
        "colab": {
          "base_uri": "https://localhost:8080/",
          "height": 424
        },
        "id": "H0bHmgnUV0jq",
        "outputId": "a4af11aa-7548-49c5-f2aa-814654b12e69"
      },
      "outputs": [
        {
          "output_type": "execute_result",
          "data": {
            "text/plain": [
              "                           file  \\\n",
              "0         allen-p/_sent_mail/1.   \n",
              "1        allen-p/_sent_mail/10.   \n",
              "2       allen-p/_sent_mail/100.   \n",
              "3      allen-p/_sent_mail/1000.   \n",
              "4      allen-p/_sent_mail/1001.   \n",
              "...                         ...   \n",
              "49995    cash-m/sent_items/346.   \n",
              "49996    cash-m/sent_items/347.   \n",
              "49997    cash-m/sent_items/348.   \n",
              "49998    cash-m/sent_items/349.   \n",
              "49999     cash-m/sent_items/35.   \n",
              "\n",
              "                                                 message  \n",
              "0      Message-ID: <18782981.1075855378110.JavaMail.e...  \n",
              "1      Message-ID: <15464986.1075855378456.JavaMail.e...  \n",
              "2      Message-ID: <24216240.1075855687451.JavaMail.e...  \n",
              "3      Message-ID: <13505866.1075863688222.JavaMail.e...  \n",
              "4      Message-ID: <30922949.1075863688243.JavaMail.e...  \n",
              "...                                                  ...  \n",
              "49995  Message-ID: <1815718.1075855358574.JavaMail.ev...  \n",
              "49996  Message-ID: <15801367.1075855358596.JavaMail.e...  \n",
              "49997  Message-ID: <23815150.1075855358619.JavaMail.e...  \n",
              "49998  Message-ID: <23974470.1075855358641.JavaMail.e...  \n",
              "49999  Message-ID: <20819626.1075853124190.JavaMail.e...  \n",
              "\n",
              "[50000 rows x 2 columns]"
            ],
            "text/html": [
              "\n",
              "  <div id=\"df-f2bf97a6-9a05-4a8b-aeb6-374df631e256\" class=\"colab-df-container\">\n",
              "    <div>\n",
              "<style scoped>\n",
              "    .dataframe tbody tr th:only-of-type {\n",
              "        vertical-align: middle;\n",
              "    }\n",
              "\n",
              "    .dataframe tbody tr th {\n",
              "        vertical-align: top;\n",
              "    }\n",
              "\n",
              "    .dataframe thead th {\n",
              "        text-align: right;\n",
              "    }\n",
              "</style>\n",
              "<table border=\"1\" class=\"dataframe\">\n",
              "  <thead>\n",
              "    <tr style=\"text-align: right;\">\n",
              "      <th></th>\n",
              "      <th>file</th>\n",
              "      <th>message</th>\n",
              "    </tr>\n",
              "  </thead>\n",
              "  <tbody>\n",
              "    <tr>\n",
              "      <th>0</th>\n",
              "      <td>allen-p/_sent_mail/1.</td>\n",
              "      <td>Message-ID: &lt;18782981.1075855378110.JavaMail.e...</td>\n",
              "    </tr>\n",
              "    <tr>\n",
              "      <th>1</th>\n",
              "      <td>allen-p/_sent_mail/10.</td>\n",
              "      <td>Message-ID: &lt;15464986.1075855378456.JavaMail.e...</td>\n",
              "    </tr>\n",
              "    <tr>\n",
              "      <th>2</th>\n",
              "      <td>allen-p/_sent_mail/100.</td>\n",
              "      <td>Message-ID: &lt;24216240.1075855687451.JavaMail.e...</td>\n",
              "    </tr>\n",
              "    <tr>\n",
              "      <th>3</th>\n",
              "      <td>allen-p/_sent_mail/1000.</td>\n",
              "      <td>Message-ID: &lt;13505866.1075863688222.JavaMail.e...</td>\n",
              "    </tr>\n",
              "    <tr>\n",
              "      <th>4</th>\n",
              "      <td>allen-p/_sent_mail/1001.</td>\n",
              "      <td>Message-ID: &lt;30922949.1075863688243.JavaMail.e...</td>\n",
              "    </tr>\n",
              "    <tr>\n",
              "      <th>...</th>\n",
              "      <td>...</td>\n",
              "      <td>...</td>\n",
              "    </tr>\n",
              "    <tr>\n",
              "      <th>49995</th>\n",
              "      <td>cash-m/sent_items/346.</td>\n",
              "      <td>Message-ID: &lt;1815718.1075855358574.JavaMail.ev...</td>\n",
              "    </tr>\n",
              "    <tr>\n",
              "      <th>49996</th>\n",
              "      <td>cash-m/sent_items/347.</td>\n",
              "      <td>Message-ID: &lt;15801367.1075855358596.JavaMail.e...</td>\n",
              "    </tr>\n",
              "    <tr>\n",
              "      <th>49997</th>\n",
              "      <td>cash-m/sent_items/348.</td>\n",
              "      <td>Message-ID: &lt;23815150.1075855358619.JavaMail.e...</td>\n",
              "    </tr>\n",
              "    <tr>\n",
              "      <th>49998</th>\n",
              "      <td>cash-m/sent_items/349.</td>\n",
              "      <td>Message-ID: &lt;23974470.1075855358641.JavaMail.e...</td>\n",
              "    </tr>\n",
              "    <tr>\n",
              "      <th>49999</th>\n",
              "      <td>cash-m/sent_items/35.</td>\n",
              "      <td>Message-ID: &lt;20819626.1075853124190.JavaMail.e...</td>\n",
              "    </tr>\n",
              "  </tbody>\n",
              "</table>\n",
              "<p>50000 rows × 2 columns</p>\n",
              "</div>\n",
              "    <div class=\"colab-df-buttons\">\n",
              "\n",
              "  <div class=\"colab-df-container\">\n",
              "    <button class=\"colab-df-convert\" onclick=\"convertToInteractive('df-f2bf97a6-9a05-4a8b-aeb6-374df631e256')\"\n",
              "            title=\"Convert this dataframe to an interactive table.\"\n",
              "            style=\"display:none;\">\n",
              "\n",
              "  <svg xmlns=\"http://www.w3.org/2000/svg\" height=\"24px\" viewBox=\"0 -960 960 960\">\n",
              "    <path d=\"M120-120v-720h720v720H120Zm60-500h600v-160H180v160Zm220 220h160v-160H400v160Zm0 220h160v-160H400v160ZM180-400h160v-160H180v160Zm440 0h160v-160H620v160ZM180-180h160v-160H180v160Zm440 0h160v-160H620v160Z\"/>\n",
              "  </svg>\n",
              "    </button>\n",
              "\n",
              "  <style>\n",
              "    .colab-df-container {\n",
              "      display:flex;\n",
              "      gap: 12px;\n",
              "    }\n",
              "\n",
              "    .colab-df-convert {\n",
              "      background-color: #E8F0FE;\n",
              "      border: none;\n",
              "      border-radius: 50%;\n",
              "      cursor: pointer;\n",
              "      display: none;\n",
              "      fill: #1967D2;\n",
              "      height: 32px;\n",
              "      padding: 0 0 0 0;\n",
              "      width: 32px;\n",
              "    }\n",
              "\n",
              "    .colab-df-convert:hover {\n",
              "      background-color: #E2EBFA;\n",
              "      box-shadow: 0px 1px 2px rgba(60, 64, 67, 0.3), 0px 1px 3px 1px rgba(60, 64, 67, 0.15);\n",
              "      fill: #174EA6;\n",
              "    }\n",
              "\n",
              "    .colab-df-buttons div {\n",
              "      margin-bottom: 4px;\n",
              "    }\n",
              "\n",
              "    [theme=dark] .colab-df-convert {\n",
              "      background-color: #3B4455;\n",
              "      fill: #D2E3FC;\n",
              "    }\n",
              "\n",
              "    [theme=dark] .colab-df-convert:hover {\n",
              "      background-color: #434B5C;\n",
              "      box-shadow: 0px 1px 3px 1px rgba(0, 0, 0, 0.15);\n",
              "      filter: drop-shadow(0px 1px 2px rgba(0, 0, 0, 0.3));\n",
              "      fill: #FFFFFF;\n",
              "    }\n",
              "  </style>\n",
              "\n",
              "    <script>\n",
              "      const buttonEl =\n",
              "        document.querySelector('#df-f2bf97a6-9a05-4a8b-aeb6-374df631e256 button.colab-df-convert');\n",
              "      buttonEl.style.display =\n",
              "        google.colab.kernel.accessAllowed ? 'block' : 'none';\n",
              "\n",
              "      async function convertToInteractive(key) {\n",
              "        const element = document.querySelector('#df-f2bf97a6-9a05-4a8b-aeb6-374df631e256');\n",
              "        const dataTable =\n",
              "          await google.colab.kernel.invokeFunction('convertToInteractive',\n",
              "                                                    [key], {});\n",
              "        if (!dataTable) return;\n",
              "\n",
              "        const docLinkHtml = 'Like what you see? Visit the ' +\n",
              "          '<a target=\"_blank\" href=https://colab.research.google.com/notebooks/data_table.ipynb>data table notebook</a>'\n",
              "          + ' to learn more about interactive tables.';\n",
              "        element.innerHTML = '';\n",
              "        dataTable['output_type'] = 'display_data';\n",
              "        await google.colab.output.renderOutput(dataTable, element);\n",
              "        const docLink = document.createElement('div');\n",
              "        docLink.innerHTML = docLinkHtml;\n",
              "        element.appendChild(docLink);\n",
              "      }\n",
              "    </script>\n",
              "  </div>\n",
              "\n",
              "\n",
              "<div id=\"df-b3d2bd61-7e4e-4c51-a31a-146f511ac030\">\n",
              "  <button class=\"colab-df-quickchart\" onclick=\"quickchart('df-b3d2bd61-7e4e-4c51-a31a-146f511ac030')\"\n",
              "            title=\"Suggest charts\"\n",
              "            style=\"display:none;\">\n",
              "\n",
              "<svg xmlns=\"http://www.w3.org/2000/svg\" height=\"24px\"viewBox=\"0 0 24 24\"\n",
              "     width=\"24px\">\n",
              "    <g>\n",
              "        <path d=\"M19 3H5c-1.1 0-2 .9-2 2v14c0 1.1.9 2 2 2h14c1.1 0 2-.9 2-2V5c0-1.1-.9-2-2-2zM9 17H7v-7h2v7zm4 0h-2V7h2v10zm4 0h-2v-4h2v4z\"/>\n",
              "    </g>\n",
              "</svg>\n",
              "  </button>\n",
              "\n",
              "<style>\n",
              "  .colab-df-quickchart {\n",
              "      --bg-color: #E8F0FE;\n",
              "      --fill-color: #1967D2;\n",
              "      --hover-bg-color: #E2EBFA;\n",
              "      --hover-fill-color: #174EA6;\n",
              "      --disabled-fill-color: #AAA;\n",
              "      --disabled-bg-color: #DDD;\n",
              "  }\n",
              "\n",
              "  [theme=dark] .colab-df-quickchart {\n",
              "      --bg-color: #3B4455;\n",
              "      --fill-color: #D2E3FC;\n",
              "      --hover-bg-color: #434B5C;\n",
              "      --hover-fill-color: #FFFFFF;\n",
              "      --disabled-bg-color: #3B4455;\n",
              "      --disabled-fill-color: #666;\n",
              "  }\n",
              "\n",
              "  .colab-df-quickchart {\n",
              "    background-color: var(--bg-color);\n",
              "    border: none;\n",
              "    border-radius: 50%;\n",
              "    cursor: pointer;\n",
              "    display: none;\n",
              "    fill: var(--fill-color);\n",
              "    height: 32px;\n",
              "    padding: 0;\n",
              "    width: 32px;\n",
              "  }\n",
              "\n",
              "  .colab-df-quickchart:hover {\n",
              "    background-color: var(--hover-bg-color);\n",
              "    box-shadow: 0 1px 2px rgba(60, 64, 67, 0.3), 0 1px 3px 1px rgba(60, 64, 67, 0.15);\n",
              "    fill: var(--button-hover-fill-color);\n",
              "  }\n",
              "\n",
              "  .colab-df-quickchart-complete:disabled,\n",
              "  .colab-df-quickchart-complete:disabled:hover {\n",
              "    background-color: var(--disabled-bg-color);\n",
              "    fill: var(--disabled-fill-color);\n",
              "    box-shadow: none;\n",
              "  }\n",
              "\n",
              "  .colab-df-spinner {\n",
              "    border: 2px solid var(--fill-color);\n",
              "    border-color: transparent;\n",
              "    border-bottom-color: var(--fill-color);\n",
              "    animation:\n",
              "      spin 1s steps(1) infinite;\n",
              "  }\n",
              "\n",
              "  @keyframes spin {\n",
              "    0% {\n",
              "      border-color: transparent;\n",
              "      border-bottom-color: var(--fill-color);\n",
              "      border-left-color: var(--fill-color);\n",
              "    }\n",
              "    20% {\n",
              "      border-color: transparent;\n",
              "      border-left-color: var(--fill-color);\n",
              "      border-top-color: var(--fill-color);\n",
              "    }\n",
              "    30% {\n",
              "      border-color: transparent;\n",
              "      border-left-color: var(--fill-color);\n",
              "      border-top-color: var(--fill-color);\n",
              "      border-right-color: var(--fill-color);\n",
              "    }\n",
              "    40% {\n",
              "      border-color: transparent;\n",
              "      border-right-color: var(--fill-color);\n",
              "      border-top-color: var(--fill-color);\n",
              "    }\n",
              "    60% {\n",
              "      border-color: transparent;\n",
              "      border-right-color: var(--fill-color);\n",
              "    }\n",
              "    80% {\n",
              "      border-color: transparent;\n",
              "      border-right-color: var(--fill-color);\n",
              "      border-bottom-color: var(--fill-color);\n",
              "    }\n",
              "    90% {\n",
              "      border-color: transparent;\n",
              "      border-bottom-color: var(--fill-color);\n",
              "    }\n",
              "  }\n",
              "</style>\n",
              "\n",
              "  <script>\n",
              "    async function quickchart(key) {\n",
              "      const quickchartButtonEl =\n",
              "        document.querySelector('#' + key + ' button');\n",
              "      quickchartButtonEl.disabled = true;  // To prevent multiple clicks.\n",
              "      quickchartButtonEl.classList.add('colab-df-spinner');\n",
              "      try {\n",
              "        const charts = await google.colab.kernel.invokeFunction(\n",
              "            'suggestCharts', [key], {});\n",
              "      } catch (error) {\n",
              "        console.error('Error during call to suggestCharts:', error);\n",
              "      }\n",
              "      quickchartButtonEl.classList.remove('colab-df-spinner');\n",
              "      quickchartButtonEl.classList.add('colab-df-quickchart-complete');\n",
              "    }\n",
              "    (() => {\n",
              "      let quickchartButtonEl =\n",
              "        document.querySelector('#df-b3d2bd61-7e4e-4c51-a31a-146f511ac030 button');\n",
              "      quickchartButtonEl.style.display =\n",
              "        google.colab.kernel.accessAllowed ? 'block' : 'none';\n",
              "    })();\n",
              "  </script>\n",
              "</div>\n",
              "    </div>\n",
              "  </div>\n"
            ]
          },
          "metadata": {},
          "execution_count": 12
        }
      ],
      "source": [
        "emails_df"
      ]
    },
    {
      "cell_type": "markdown",
      "metadata": {
        "id": "RV0sBpRQWAbG"
      },
      "source": [
        "We only want name of the products"
      ]
    },
    {
      "cell_type": "code",
      "execution_count": null,
      "metadata": {
        "colab": {
          "base_uri": "https://localhost:8080/"
        },
        "id": "3vDhax9-V83p",
        "outputId": "4657fb96-1003-4ac4-e421-b79cdff8aeb4"
      },
      "outputs": [
        {
          "output_type": "execute_result",
          "data": {
            "text/plain": [
              "0        Message-ID: <18782981.1075855378110.JavaMail.e...\n",
              "1        Message-ID: <15464986.1075855378456.JavaMail.e...\n",
              "2        Message-ID: <24216240.1075855687451.JavaMail.e...\n",
              "3        Message-ID: <13505866.1075863688222.JavaMail.e...\n",
              "4        Message-ID: <30922949.1075863688243.JavaMail.e...\n",
              "                               ...                        \n",
              "49995    Message-ID: <1815718.1075855358574.JavaMail.ev...\n",
              "49996    Message-ID: <15801367.1075855358596.JavaMail.e...\n",
              "49997    Message-ID: <23815150.1075855358619.JavaMail.e...\n",
              "49998    Message-ID: <23974470.1075855358641.JavaMail.e...\n",
              "49999    Message-ID: <20819626.1075853124190.JavaMail.e...\n",
              "Name: message, Length: 50000, dtype: object"
            ]
          },
          "metadata": {},
          "execution_count": 13
        }
      ],
      "source": [
        "emails_df['message']"
      ]
    },
    {
      "cell_type": "code",
      "execution_count": null,
      "metadata": {
        "colab": {
          "base_uri": "https://localhost:8080/"
        },
        "id": "bFkUsBCfPNE_",
        "outputId": "023ef6b4-e170-4bba-faae-a0d2b37c17b5"
      },
      "outputs": [
        {
          "output_type": "stream",
          "name": "stdout",
          "text": [
            "Message-ID: <30795301.1075855687494.JavaMail.evans@thyme>\n",
            "Date: Mon, 16 Oct 2000 06:44:00 -0700 (PDT)\n",
            "From: phillip.allen@enron.com\n",
            "To: zimam@enron.com\n",
            "Subject: FW: fixed forward or other Collar floor gas price terms\n",
            "Mime-Version: 1.0\n",
            "Content-Type: text/plain; charset=us-ascii\n",
            "Content-Transfer-Encoding: 7bit\n",
            "X-From: Phillip K Allen\n",
            "X-To: zimam@enron.com\n",
            "X-cc: \n",
            "X-bcc: \n",
            "X-Folder: \\Phillip_Allen_Dec2000\\Notes Folders\\'sent mail\n",
            "X-Origin: Allen-P\n",
            "X-FileName: pallen.nsf\n",
            "\n",
            "---------------------- Forwarded by Phillip K Allen/HOU/ECT on 10/16/2000 \n",
            "01:42 PM ---------------------------\n",
            "\n",
            "\n",
            "\"Buckner, Buck\" <buck.buckner@honeywell.com> on 10/12/2000 01:12:21 PM\n",
            "To: \"'Pallen@Enron.com'\" <Pallen@Enron.com>\n",
            "cc:  \n",
            "Subject: FW: fixed forward or other Collar floor gas price terms\n",
            "\n",
            "\n",
            "Phillip,\n",
            "\n",
            "> As discussed  during our phone conversation, In a Parallon 75 microturbine\n",
            "> power generation deal for a national accounts customer, I am developing a\n",
            "> proposal to sell power to customer at fixed or collar/floor price. To do\n",
            "> so I need a corresponding term gas price for same. Microturbine is an\n",
            "> onsite generation product developed by Honeywell to generate electricity\n",
            "> on customer site (degen). using natural gas. In doing so,  I need your\n",
            "> best fixed price forward gas price deal for 1, 3, 5, 7 and 10 years for\n",
            "> annual/seasonal supply to microturbines to generate fixed kWh for\n",
            "> customer. We have the opportunity to sell customer kWh 's using\n",
            "> microturbine or sell them turbines themselves. kWh deal must have limited/\n",
            "> no risk forward gas price to make deal work. Therein comes Sempra energy\n",
            "> gas trading, truly you.\n",
            ">\n",
            "> We are proposing installing 180 - 240 units across a large number of\n",
            "> stores (60-100) in San Diego.\n",
            "> Store number varies because of installation hurdles face at small percent.\n",
            ">\n",
            "> For 6-8 hours a day  Microturbine run time:\n",
            "> Gas requirement for 180 microturbines 227 - 302 MMcf per year\n",
            "> Gas requirement for 240 microturbines 302 - 403 MMcf per year\n",
            ">\n",
            "> Gas will likely be consumed from May through September, during peak\n",
            "> electric period.\n",
            "> Gas price required: Burnertip price behind (LDC) San Diego Gas & Electric\n",
            "> Need detail breakout of commodity and transport cost (firm or\n",
            "> interruptible).\n",
            ">\n",
            "> Should you have additional questions, give me a call.\n",
            "> Let me assure you, this is real deal!!\n",
            ">\n",
            "> Buck Buckner, P.E., MBA\n",
            "> Manager, Business Development and Planning\n",
            "> Big Box Retail Sales\n",
            "> Honeywell Power Systems, Inc.\n",
            "> 8725 Pan American Frwy\n",
            "> Albuquerque, NM 87113\n",
            "> 505-798-6424\n",
            "> 505-798-6050x\n",
            "> 505-220-4129\n",
            "> 888/501-3145\n",
            "> \n",
            "\n"
          ]
        }
      ],
      "source": [
        "print(emails_df.iloc[9,1])"
      ]
    },
    {
      "cell_type": "code",
      "execution_count": null,
      "metadata": {
        "id": "f3rcT2lGW5T6"
      },
      "outputs": [],
      "source": [
        "import email\n",
        "# Function to extract email body from the raw email message\n",
        "def extract_email_body(raw_email):\n",
        "    msg = email.message_from_string(raw_email)\n",
        "    return msg.get_payload()\n",
        "\n",
        "# Apply the function to the 'email_message' column\n",
        "emails_df['message'] = emails_df['message'].apply(extract_email_body)"
      ]
    },
    {
      "cell_type": "code",
      "execution_count": null,
      "metadata": {
        "id": "xUTndw1wcK3t"
      },
      "outputs": [],
      "source": [
        "emails = emails_df['message']"
      ]
    },
    {
      "cell_type": "code",
      "execution_count": null,
      "metadata": {
        "id": "kBfGMwxGdIXp"
      },
      "outputs": [],
      "source": [
        "spacy_en = spacy.load('en_core_web_sm')"
      ]
    },
    {
      "cell_type": "markdown",
      "metadata": {
        "id": "kSfXop4mc_xf"
      },
      "source": [
        "Tokenizer function"
      ]
    },
    {
      "cell_type": "code",
      "execution_count": null,
      "metadata": {
        "id": "ir1URtDTc-Kr"
      },
      "outputs": [],
      "source": [
        "def tokeniser(text):\n",
        "  return[tok.text for tok in spacy_en.tokenizer(str(text))]"
      ]
    },
    {
      "cell_type": "code",
      "execution_count": null,
      "metadata": {
        "id": "4uTc4odCfnaK"
      },
      "outputs": [],
      "source": [
        "import re\n",
        "import string\n",
        "from nltk.corpus import stopwords\n",
        "\n",
        "def normalize_df(data):\n",
        "  # Lowercasing\n",
        "  data = data.lower()\n",
        "  # Removing special characters and punctuation\n",
        "  data = re.sub(r'([.,!?]+)', r\" \\1 \", data)\n",
        "  data = re.sub(r\"[^a-zA-Z?.!,']+\", \" \", data)\n",
        "  data = re.sub(r'[\" \"]+', \" \", data)\n",
        "\n",
        "  # Remove forwarded text\n",
        "  data = data.split('forwarded by')[0]\n",
        "\n",
        "  cleaned_data = data.strip()\n",
        "\n",
        "  return cleaned_data\n",
        "\n",
        "def normalize_input(text):\n",
        "\n",
        "  #text = text.lower()\n",
        "  #text = str(text)\n",
        "  #normalized_text = re.sub(r'[^\\w\\s]', '', text)\n",
        "  text = text.lower()\n",
        "  text = re.sub(r'([.,!?]+)', r\" \\1 \", text)\n",
        "  text = re.sub(r\"[^a-zA-Z?.!,']+\", \" \", text)\n",
        "  text = re.sub(r'[\" \"]+', \" \", text)\n",
        "\n",
        "  # Remove forwarded text\n",
        "  text = text.split('forwarded by')[0]\n",
        "\n",
        "  cleaned_text = text.strip()\n",
        "\n",
        "  #cleaned_text = np.char.strip(np.char.replace(cleaned_text, '\\n', ' '))\n",
        "  #cleaned_text = np.char.strip(np.char.replace(cleaned_text, '\\t', ' '))\n",
        "  #normalized_text = np.char.replace(text, '[^\\w\\s]', '')\n",
        "\n",
        "  return cleaned_text"
      ]
    },
    {
      "cell_type": "code",
      "execution_count": null,
      "metadata": {
        "id": "oWcls0wqgWDV"
      },
      "outputs": [],
      "source": [
        "processed_data = list(map(normalize_df, emails))"
      ]
    },
    {
      "cell_type": "markdown",
      "metadata": {
        "id": "gSqQ-yTPeI6_"
      },
      "source": [
        "Generate data set\n",
        "\n",
        "We want to split all sentences to pairs in such way:\n",
        "\n",
        "lets shoot for tuesday at 1145\n",
        "\n",
        "\n",
        "'&lt;sos&gt; lets shoot &lt;eos&gt;' , '&lt;sos&gt; for tuesday at 1145 &lt;eos&gt;'\n",
        "\n",
        "'&lt;sos&gt; lets shoot for &lt;eos&gt;' , '&lt;sos&gt; tuesday at 1145 &lt;eos&gt;'"
      ]
    },
    {
      "cell_type": "code",
      "execution_count": null,
      "metadata": {
        "id": "rNgG_ugkeK-l"
      },
      "outputs": [],
      "source": [
        "import spacy\n",
        "\n",
        "max_words = 20\n",
        "\n",
        "def generate_dataset (data):\n",
        "  pairs = []\n",
        "  all_sentences = []\n",
        "\n",
        "  for text in data:\n",
        "\n",
        "    # Let's split the emails into sentences\n",
        "    sentences = text.split(' . ')\n",
        "    '''\n",
        "    if (len(sentences) > 10):\n",
        "      continue\n",
        "    '''\n",
        "\n",
        "    for sentence in sentences:\n",
        "\n",
        "      all_sentences.append(sentence)\n",
        "\n",
        "      # Lets try to remove names from the emails\n",
        "      sentence = re.sub(\"^\\w+\\s,\\s\", \"\", sentence)  # Remove from the start\n",
        "      sentence = re.sub(r'\\s*,\\s*\\w+\\s*$', '', sentence)  # Remove from the end\n",
        "\n",
        "      words = sentence.split(' ')\n",
        "\n",
        "      # Remove sentences that are over 20 words and sentences that are less than 2 words.\n",
        "      if len(words) > max_words or len(words) < 2:\n",
        "          continue\n",
        "\n",
        "      for i in range(1, len(words) - 1):\n",
        "\n",
        "          input_data = ' '.join(words[:i+1])\n",
        "          output_data = ' '.join(words[i+1:])\n",
        "\n",
        "          data = (input_data, output_data)\n",
        "          pairs.append(data)\n",
        "\n",
        "  return pairs, all_sentences"
      ]
    },
    {
      "cell_type": "code",
      "execution_count": null,
      "metadata": {
        "colab": {
          "base_uri": "https://localhost:8080/"
        },
        "id": "1GCeWaMkpJo0",
        "outputId": "80a42e2c-bf49-4cf8-ef9d-d2ab0468d1d9"
      },
      "outputs": [
        {
          "output_type": "stream",
          "name": "stdout",
          "text": [
            "[\"let's shoot for tuesday at .\"]\n"
          ]
        }
      ],
      "source": [
        "test = [processed_data[4]]\n",
        "print(test)"
      ]
    },
    {
      "cell_type": "code",
      "execution_count": null,
      "metadata": {
        "colab": {
          "base_uri": "https://localhost:8080/"
        },
        "id": "VYnjVLL4pO8x",
        "outputId": "679b5571-a091-43c7-97f2-86a77a630ad5"
      },
      "outputs": [
        {
          "output_type": "execute_result",
          "data": {
            "text/plain": [
              "[(\"let's shoot\", 'for tuesday at .'),\n",
              " (\"let's shoot for\", 'tuesday at .'),\n",
              " (\"let's shoot for tuesday\", 'at .'),\n",
              " (\"let's shoot for tuesday at\", '.')]"
            ]
          },
          "metadata": {},
          "execution_count": 23
        }
      ],
      "source": [
        "example = generate_dataset(test)\n",
        "example[0]"
      ]
    },
    {
      "cell_type": "markdown",
      "metadata": {
        "id": "xJPEbft-vK_z"
      },
      "source": [
        "Generating pairs from the whole dataset\n",
        "\n",
        "Parsing though the dataset and replacing names with <name> tag does take a lot of time so I might have to remove it.\n",
        "\n",
        "runtime for generating datasets was 9 minutes."
      ]
    },
    {
      "cell_type": "code",
      "execution_count": null,
      "metadata": {
        "colab": {
          "base_uri": "https://localhost:8080/"
        },
        "id": "9EkgMghCvP5l",
        "outputId": "41bf6499-c0ab-4c15-8263-7a5be44c749b"
      },
      "outputs": [
        {
          "output_type": "stream",
          "name": "stdout",
          "text": [
            "AMOUNT OF PAIRS:  3171399\n",
            "AMOUNT OF SENTENCES:  736048\n"
          ]
        }
      ],
      "source": [
        "pairs, all_sentences = generate_dataset(processed_data)\n",
        "print(\"AMOUNT OF PAIRS: \", len(pairs))\n",
        "print(\"AMOUNT OF SENTENCES: \", len(all_sentences))"
      ]
    },
    {
      "cell_type": "code",
      "execution_count": null,
      "metadata": {
        "colab": {
          "base_uri": "https://localhost:8080/"
        },
        "id": "hiR_1bmXaDjJ",
        "outputId": "74accd54-c4ac-4827-a7ac-690e8d42e0c9"
      },
      "outputs": [
        {
          "output_type": "execute_result",
          "data": {
            "text/plain": [
              "[('here is', 'our forecast'),\n",
              " ('here is our', 'forecast'),\n",
              " ('traveling to', 'have a business meeting takes the fun out of the trip'),\n",
              " ('traveling to have', 'a business meeting takes the fun out of the trip'),\n",
              " ('traveling to have a', 'business meeting takes the fun out of the trip'),\n",
              " ('traveling to have a business', 'meeting takes the fun out of the trip'),\n",
              " ('traveling to have a business meeting', 'takes the fun out of the trip'),\n",
              " ('traveling to have a business meeting takes', 'the fun out of the trip'),\n",
              " ('traveling to have a business meeting takes the', 'fun out of the trip'),\n",
              " ('traveling to have a business meeting takes the fun', 'out of the trip'),\n",
              " ('traveling to have a business meeting takes the fun out', 'of the trip'),\n",
              " ('traveling to have a business meeting takes the fun out of', 'the trip'),\n",
              " ('traveling to have a business meeting takes the fun out of the', 'trip'),\n",
              " ('especially if', 'you have to prepare a presentation'),\n",
              " ('especially if you', 'have to prepare a presentation'),\n",
              " ('especially if you have', 'to prepare a presentation'),\n",
              " ('especially if you have to', 'prepare a presentation'),\n",
              " ('especially if you have to prepare', 'a presentation'),\n",
              " ('especially if you have to prepare a', 'presentation'),\n",
              " ('i would',\n",
              "  'suggest holding the business plan meetings here then take a trip without any formal business meetings'),\n",
              " ('i would suggest',\n",
              "  'holding the business plan meetings here then take a trip without any formal business meetings'),\n",
              " ('i would suggest holding',\n",
              "  'the business plan meetings here then take a trip without any formal business meetings'),\n",
              " ('i would suggest holding the',\n",
              "  'business plan meetings here then take a trip without any formal business meetings'),\n",
              " ('i would suggest holding the business',\n",
              "  'plan meetings here then take a trip without any formal business meetings'),\n",
              " ('i would suggest holding the business plan',\n",
              "  'meetings here then take a trip without any formal business meetings')]"
            ]
          },
          "metadata": {},
          "execution_count": 25
        }
      ],
      "source": [
        "pairs[:25]"
      ]
    },
    {
      "cell_type": "markdown",
      "metadata": {
        "id": "0CD9n8R-rElw"
      },
      "source": []
    },
    {
      "cell_type": "code",
      "execution_count": null,
      "metadata": {
        "id": "eHjf2IUfcSVX"
      },
      "outputs": [],
      "source": [
        "from torchtext.vocab import build_vocab_from_iterator\n",
        "\n",
        "def yield_tokens(data):\n",
        "  for sentence in data:\n",
        "    yield tokeniser(sentence)\n",
        "\n",
        "vocab = build_vocab_from_iterator(yield_tokens(all_sentences), specials=['<unk>', '<pad>', '<sos>', '<eos>', '<name>'], min_freq=50)\n",
        "vocab.set_default_index(vocab[\"<unk>\"])\n"
      ]
    },
    {
      "cell_type": "code",
      "execution_count": null,
      "metadata": {
        "colab": {
          "base_uri": "https://localhost:8080/"
        },
        "id": "kd4BvmdUdxXJ",
        "outputId": "14284843-f846-4ea8-a397-2f7ce738a972"
      },
      "outputs": [
        {
          "output_type": "stream",
          "name": "stdout",
          "text": [
            "The length of the vocab is 10496\n",
            "The index of '<unk>' is 0\n",
            "['<unk>', '<pad>', '<sos>', '<eos>', '<name>', ',', 'the', 'to', 'and', 'a', 'of', 'in', 'for', 'you', '?', 'i', 'is', 'com', 'on', 'enron', 'that', 'this', 'be', 'will', 'at', 'with', 'from', 'we', \"'s\", 'have', 'are', '.', 'it', 'as', 'your', 'or', 'ect', 'if', 'td', 'not', 'http', 'by', 'font', '!', \"'\", 'e', 'please', 'all', 'he', 'am', 'an', 'has', 'was', 'd', 'subject', 'pm', 'do', 'can', 'our', 'would', 'me', 's', 'time', 'but', 'any', 'new', 'www', 'hou', 'up', 'b', 'message', 'week', 'no', 'they', \"n't\", 'more', 'one', 'may', 'about', 'know', 'out', 'sent', 'image', 'been', 'so', 'get', 'my', 'thanks', 'cc', 'what', 'mail', 'there', 'original', 'size', 'm', 'p', 'us', 'information', 'his', 'these', 'john', 'align', 'like', 'some', 'their', 'which', 'right', 'need', 'see', 'also', 'br', 'meeting', 'should', 'when', 'gas', 'company', 'corp', 're', 'email', 'day', 'let', 'team', 'year', 'other', 'business', 'here', 'who', 'call', 'just', 'tr', 'market', 'last', 'now', 'c', 'its', 'had', 'were', 'free', 'energy', 'sally', 'only', 'game', 'bass', 'power', 'f', 'houston', 'class', 'over', 'th', 'said', 'how', 'back', 'could', 'date', 'eric', 'make', 'work', 'fantasy', 'go', 't', 'next', 'two', 'them', 'contact', 'list', 'way', 'into', 'each', 'click', 'today', 'after', 'than', 'questions', 'monday', 'report', 'updated', 'group', 'trading', 'good', 'net', 'think', 'price', 'x', 'risk', 'want', 'well', 'did', 'friday', 'through', 'help', 'review', 'him', 'first', 'pt', 'office', 'management', 'following', 'take', 'going', 'against', 'use', 'london', '...', 'very', 'href', 'system', 'attached', 'services', 'sportsline', 'buy', 'off', 'still', 'scheduled', 'thursday', 'october', 'november', 'wednesday', 'mailto', 'l', 'available', 'news', 'tuesday', 'per', 'r', 'u', 'face', 'because', 'process', 'order', 'does', 'w', 'k', 'send', 'center', 'start', 'service', 'home', 'football', 'data', 'then', 'ees', 'number', 'great', 'before', 'inc', \"'ll\", 'during', 'mike', 'thank', 'employees', 'most', 'people', 'sunday', 'much', 'best', 'key', 'league', 'width', 'left', 'she', 'forward', 'those', 'n', 'arial', 'active', 'dec', 'december', 'under', 'y', 'deal', 'below', 'asp', 'page', 'bna', 'support', 'david', 'plan', 'operations', 'her', 'rick', 'nbsp', 'end', 'look', 'being', 'cash', 'position', 'where', 'o', 'issues', 'receive', 'received', 'random', 'mark', 'credit', 'offer', 'global', 'change', 'down', 'wr', 'mp', 'play', 'give', 'both', 'name', 'weeks', 'j', 'nyiso', 'owner', 'since', 'made', 'provide', 'site', 'arnold', 'financial', 'state', 'january', 'find', 'view', 'texas', 'thru', 'many', 'g', 'players', 'sat', 'sure', 'access', 'prc', 'beck', 'jeff', 'address', 'season', 'rb', 'until', 'bakernet', 'v', 'while', 'gif', 'days', 'cgi', 'request', 'working', 'html', 'lynn', 'table', 'due', 'long', 'able', 'based', 'script', 'program', 'color', 'larry', 'north', 'images', 'between', 'michael', 'stock', 'note', 'night', 'month', 'michelle', 'development', 'keep', 'again', 'reports', 'helvetica', 'trade', 'america', 'prices', 'check', \"'m\", 'file', 'online', 'current', 'project', 'must', 'such', 'million', 'phone', 'web', 'visit', 'qb', 'yards', 'hope', 'value', 'points', 'even', 'set', 'changes', 'three', 'update', 'place', \"'re\", 'outages', 'markets', 'come', 'york', 'steve', 'might', 'another', 'september', 'top', 'h', 'regarding', 'elink', 'issue', 'however', 'contract', 'point', 'smith', 'ca', 'daily', 'st', 'customer', 'border', 'years', 'around', 'james', 'fax', 'et', 'discuss', 'times', 'na', 'line', 'high', 'continue', 'travel', 'too', 'same', 'account', 'schedule', 'details', 'companies', 'few', 'agreement', 'expected', 'august', 'put', 'better', 'big', 'scott', 'jones', 'agent', 'employee', 'link', 'ct', 'additional', 'world', 'july', \"'ve\", 'co', 'public', 'include', 'possible', 'span', 'cost', 'morning', 'ena', 'real', 'special', 'total', 'products', 'future', 'deals', 'internet', 'conference', 'including', 'natural', 'within', 'meet', 'unsubscribe', 'june', 'comments', 'open', 'every', 'part', 'believe', 'area', 'description', 'bgcolor', 'four', 'enronxgate', 'bob', 'defense', 'bill', 'middle', 'height', 'dynegy', 'communications', 'got', 'intended', 'impact', 'further', 'president', 'doc', 'done', 'jason', 'little', 'needs', 'soon', 'action', 'pay', 'already', 'san', 'copy', 'city', 'chris', 'yahoo', 'looking', 'numbers', 'really', 'style', 'exchange', 'tomorrow', 'don', 'regards', 'book', 'phtml', 'sun', 'fw', 'final', 'person', 'complete', 'performance', 'status', 'transactions', 'hotmail', 'bin', 'return', 'things', 'job', 'used', 'src', 'weekend', 'asked', 'full', 'robert', 'saturday', 'probably', 'fri', 'standard', 'getting', 'room', 'george', 'whether', 'currently', 'share', 'desk', 'customers', 'injury', 'ip', 'player', 'everyone', 'img', 'q', 'term', 'mary', 'aol', 'phillip', 'nov', 'holiday', 'above', 'jan', 'type', 'why', 'allowed', 'own', 'rights', 'march', 'past', 'billion', 'eb', 'months', 'product', 'greg', 'outlook', 'games', 'hours', 'either', 'listed', 'joe', 'move', 'california', 'run', 'says', 'without', 'say', 'basis', 'west', 'money', 'short', 'attend', 'talk', 'non', 'brian', 'text', 'hr', 'policy', 'several', 'info', 'feel', 'reporting', 'brown', 'using', 'options', 'board', 'close', 'unit', 'calendar', 'htm', 'starting', 'case', 'once', 'party', 'discussion', 'legal', 'members', 'street', 'staff', 'early', 'second', 'rd', 'tx', 'blair', 'nsf', 'systems', 'save', 'central', 'quarter', 'results', 'thought', 'copyright', 'pubs', 'form', 'together', 'director', 'sale', 'american', 'level', 'family', 'iso', 'letter', 'april', 'percent', 'oil', 'research', 'yet', 'wanted', 'given', 'less', 'kevin', 'transaction', 'allen', 'manager', 'problem', 'ene', 'limited', 'outage', 'required', 'feedback', 'plans', 'having', 'fyi', 'dear', 'prior', 'recipient', 'anything', 'try', 'notice', 'third', 'interested', 'purpose', 'dlr', 'offers', 'index', 'hotel', 'important', 'likely', 'approval', 'davis', 'follow', 'included', 'opportunity', 'training', 'doing', 'summer', 'join', 'rate', 'old', 'general', 'love', 'interest', 'draft', 'practice', 'tech', 'anyone', 'resources', 'mid', 'provided', 'something', 'held', 'uk', 'purchase', 'shares', 'industry', 'vs', 'field', 'making', 'analyst', 'dow', 'demand', 'building', 'pipeline', 'problems', 'role', 'williams', 'period', 'dinner', 'facility', 'etc', 'security', 'option', 'needed', 'read', 'pager', 'jim', 'investment', 'white', 'dave', 'pdf', 'department', 'others', 'related', 'someone', 'court', \"'d\", 'completed', 'create', 'var', 'later', 'washington', 'yesterday', 'executive', 'jennifer', 'commercial', 'corporate', 'items', 'brent', 'told', 'head', 'costs', 'richard', 'committee', 'decision', 'looks', 'win', \"''\", 'sign', 'ng', 'document', 'amount', 'potential', 'earnings', 'question', 'meetings', 'rates', 'via', 'sell', 'activities', 'europe', 'detailed', 'susan', 'nt', 'late', 'trip', 'gary', 'teams', 'always', 'hour', 'location', 'tom', 'lot', 'groups', 'add', 'hard', 'post', 'car', 'different', 'happy', 'addition', 'effective', 'reserve', 'server', 'bid', 'air', 'hi', 'least', 'reply', 'code', 'contracts', 'event', 'recent', 'nd', '....', 'reserved', 'requested', 'understand', 'although', 'guys', 'org', 'te', 'works', 'bring', 'experience', 'plus', 'show', 'february', 'transmission', 'passing', 'analysis', 'international', 'national', 'fun', 'marketing', 'lon', 'never', 'coming', 'latest', 'delivery', 'eol', 'jpg', 'called', 'weekly', 'tickets', 'signed', 'participants', 'upon', 'user', 'house', 'johnson', 'confidential', 'east', 'campbell', 'website', 'floor', 'chief', 'control', 'though', 'firm', 'discussed', 'south', 'major', 'taking', 'weather', 'content', 'distribution', 'migration', 'sales', 'wo', 'investors', 'specific', 'accounting', 'course', 'act', 'permit', 'enough', 'effort', 'requirements', 'alert', 'leave', 'operating', 'low', 'concerns', 'sap', 'green', 'chairman', 'assets', 'newsletter', 'else', 'far', 'ask', 'frank', 'mr', 'tim', 'production', 'response', 'summary', 'recently', 'commodity', 'large', 'presentation', 'increase', 'ensure', 'ted', 'bush', 'books', 'tell', 'found', 'impacted', 'technology', 'ready', 'entry', 'lead', 'bank', 'thomas', 'afternoon', 'life', 'lunch', 'focus', 'average', 'chance', 'section', 'trying', 'vacation', 'capital', 'posted', 'story', 'receiving', 'ou', 'loss', 'traders', 'pass', 'respond', 'immediately', 'opportunities', 'wish', 'beth', 'ferc', 'updates', 'planning', 'responsible', 'tax', 'member', 'businesses', 'away', 'result', 'source', 'law', 'ny', 'paul', 'users', 'necessary', 'half', 'ed', 'terms', 'fact', 'allow', 'expect', 'according', 'direct', 'oct', 'test', 'side', 'patti', 'wholesale', 'longer', 'william', 'rules', 'yes', 'notes', 'ebs', 'password', 'federal', 'five', 'msn', 'senior', 'capacity', 'environments', 'payment', 'operational', 'storage', 'strong', 'small', 'de', 'taylor', 'appropriate', 'backout', 'miller', 'gift', 'ago', 'government', 'bigplanet', 'cellspacing', 'trades', 'organization', 'clear', 'remember', 'cellpadding', 'black', 'along', 'become', 'luxurylink', 'version', 'card', 'volume', '..', 'miss', 'cell', 'flo', 'beginning', 'wsj', 'cfm', 'couple', 'hear', 'mm', 'commission', 'links', 'edu', 'ut', 'labor', 'cut', 'ahead', 'hall', 'relations', 'running', 'al', 'chicago', 'dallas', 'moving', 'positions', 'wall', 'friends', 'knee', 'simply', 'memo', 'plant', 'proposed', 'school', 'dates', 'idea', 'personal', 'roundtrip', 'country', 'growth', 'paid', 'kim', 'canada', 'includes', 'eott', 'stay', 'assistance', 'outside', 'load', 'across', 'answer', 'kourn', 'trader', 'earlier', 'randy', 'appreciate', 'winter', 'ok', 'jr', 'hot', 'communication', 'annual', 'debt', 'minutes', 'remove', 'live', 'colspan', 'terry', 'martin', 'pretty', 'agreed', 'fid', 'added', 'sorry', 'computer', 'seems', 'playing', 'six', 'officer', 'efforts', 'harry', 'appointment', 'network', 'taken', 'monthly', 'select', 'internal', 'florida', 'privacy', 'units', 'pg', 'shona', 'missed', 'sheila', 'begin', 'certain', 'electricity', 'region', 'directly', 'physical', 'determine', 'ne', 'thing', 'ever', 'resource', 'tonight', 'bonus', 'fine', 'stephen', 'testing', 'fall', 'workers', 'pick', 'united', 'reason', 'analysts', 'application', 'areas', 'applications', 'datek', 'software', 'individual', 'coach', 'ad', 'involved', 'local', 'lower', 'karen', 'agree', 'states', 'worth', 'charges', 'spacer', 'limit', 'charge', 'maybe', 'pjm', 'commissioner', 'statement', 'correct', 'egm', 'vice', 'significant', 'consider', 'mw', 'makes', 'require', 'employment', 'therefore', 'bad', 'rest', 'bryan', 'pre', 'started', 'union', 'session', 'copies', 'reported', 'lisa', 'enter', 'title', 'equity', 'nice', 'savings', 'went', 'otherwise', 'conditions', 'seen', 'events', 'input', 'todd', 'bottom', 'ceo', 'compaq', 'confirmation', 'database', 'benefits', 'anderson', 'baughman', 'care', 'interview', 'release', 'fund', 'portfolio', 'sore', 'agenda', 'standards', 'hold', 'icap', 'technical', 'bige', 'welcome', 'error', 'met', 'administration', 'material', 'means', 'generation', 'injured', 'transwestern', 'cindy', 'lay', 'rank', 'ten', 'light', 'heard', 'press', 'travelocity', 'station', 'india', 'responsibility', 'situation', 'activity', 'chairperson', 'calls', 'emissions', 'barry', 'environmental', 'success', 'z', 'spread', 'everything', 'thoughts', 'water', 'announced', 'ardorny', 'near', 'balance', 'guy', 'funds', 'university', 'participate', 'matt', 'rac', 'andrew', 'matter', 'corporation', 'names', 'nfl', 'paper', 'worked', 'documents', 'nothing', 'quality', 'continental', 'hand', 'ken', 'stop', 'enjoy', 'actually', 'turn', 'dan', 'present', 'follows', 'mba', 'changed', 'assistant', 'aware', 'existing', 'passes', 'southwest', 'ideas', 'ii', 'normal', 'enrononline', 'quick', 'volumes', 'managing', 'former', 'took', 'securities', 'finance', 'hey', 'dpr', 'red', 'approved', 'front', 'electronic', 'valign', 'appears', 'daphneco', 'learn', 'louis', 'media', 'various', 'messaging', 'confirm', 'man', 'cruise', 'higher', 'northern', 'sending', 'epa', 'ews', 'increased', 'transfer', 'miles', 'settlement', 'bestfares', 'mexico', 'indicated', 'portland', 'health', 'providing', 'electric', 'pictures', 'questionable', 'gore', 'box', 'maintenance', 'unless', 'construction', 'requests', 'shanna', 'associated', 'shipping', 'dad', 'pts', 'rather', 'reference', 'apply', 'metals', 'serif', 'ball', 'broadband', 'cover', 'drop', 'louise', 'austin', 'critical', 'fares', 'target', 'ability', 'approximately', 'election', 'associate', 'fill', 'ft', 'kathy', 'andy', 'projects', 'xls', 'easy', 'example', 'main', 'zone', 'private', 'tough', 'doorstep', 'independent', 'mind', 'log', 'model', 'owners', 'resolution', 'writes', 'attachment', 'arizona', 'property', 'comment', 'wants', 'filing', 'sans', 'client', 'crude', 'entire', 'levels', 'survey', 'christmas', 'solid', 'body', 'comes', 'instead', 'remain', 'track', 'compliance', 'economic', 'concern', 'rating', 'expense', 'permits', 'aa', 'lost', 'stocks', 'airlines', 'jordan', 'supply', 'watch', 'write', 'jackson', 'locations', 'origination', 'came', 'revised', 'offices', 'count', 'participation', 'sender', 'industrial', 'jeffrey', 'published', 'files', 'rob', 'sweepsclub', 'bay', 'la', 'prohibited', 'records', 'amazon', 'enews', 'unify', 'usa', 'discussions', 'friend', 'space', 'advance', 'word', 'evening', 'flow', 'understanding', 'contain', 'leading', 'search', 'peter', 'mentioned', 'ankle', 'individuals', 'nng', 'placed', 'fuel', 'specials', 'drive', 'economist', 'miami', 'especially', 'bowl', 'talked', 'selling', 'video', 'kind', 'mailing', 'quickly', 'orders', 'directors', 'vote', 'merger', 'advantage', 'denver', 'recruiting', 'delete', 'gets', 'community', 'asset', 'ets', 'actual', 'among', 'step', 'continues', 'disclosure', 'offered', 'regular', 'causey', 'rushing', 'article', 'round', 'structure', 'written', 'resume', 'previous', 'cbs', 'ffffff', 'almost', 'kc', 'submitted', 'talking', 'sold', 'yourself', 'jay', 'scheduling', 'brenda', 'extra', 'continued', 'feb', 'reviews', 'cd', 'fees', 'agency', 'delivered', 'selected', 'fernley', 'progress', 'sheet', 'choose', 'download', 'outstanding', 'voice', 'detail', 'jean', 'messages', 'insurance', 'buchanan', 'parties', 'verdana', 'attention', 'coal', 'considered', 'coverage', 'matthew', 'seeing', 'procedures', 'wide', 'manage', 'brad', 'park', 'thinking', 'develop', 'personnel', 'provides', 'lines', 'bit', 'el', 'mean', 'laura', 'assume', 'thanksgiving', 'finally', 'leslie', 'town', 'hull', 'pricing', 'core', 'doug', 'fully', 'reuters', 'seattle', 'european', 'sounds', 'agreements', 'payments', 'played', 'promotion', 'master', 'shopping', 'star', 'contained', 'rich', 'facilities', 'benefit', 'history', 'located', 'stewart', 'accounts', 'solutions', 'instructions', 'kitchen', 'solution', 'economy', 'journal', 'pep', 'thompson', 'hit', 'japan', 'environment', 'sitara', 'approach', 'unable', 'ac', 'controls', 'giving', 'initial', 'sec', 'children', 'counterparty', 'proposal', 'shop', 'package', 'quote', 'road', 'fast', 'fee', 'wilson', 'entity', 'managers', 'identified', 'myself', 'suggested', 'utilities', 'format', 'forms', 'pcb', 'item', 'lists', 'attachments', 'flight', 'single', 'francisco', 'notification', 'avoid', 'study', 'goal', 'pool', 'sea', 'spoke', 'epmi', 'budget', 'oh', 'skilling', 'minute', 'named', 'identify', 'issued', 'nymex', 'transportation', 'audit', 'bruce', 'participant', 'saw', 'ward', 'print', 'largest', 'certainly', 'hoskins', 'previously', 'reached', 'common', 'decided', 'overall', 'processing', 'utility', 'huge', 'privileged', 'strategy', 'flowers', 'buying', 'calgary', 'interactive', 'upgrade', 'vegas', 'availability', 'candidates', 'er', 'record', 'deadline', 'limits', 'supervisor', 'cities', 'force', 'futures', 'income', 'padding', 'removed', 'similar', 'spend', 'sources', 'submit', 'dollars', 'guess', 'settlements', 'true', 'investor', 'choice', 'coast', 'compensation', 'curve', 'explorer', 'handle', 'cents', 'primary', 'sarah', 'vp', 'club', 'minimum', 'brought', 'investments', 'respect', 'microsoft', 'alt', 'estate', 'plants', 'wireless', 'murphy', 'glad', 'kansas', 'harris', 'port', 'finteractive', 'lenhart', 'll', 'revenue', 'strategic', 'addressed', 'whole', 'diego', 'importance', 'hopefully', 'mom', 'ff', 'reviewed', 'congratulations', 'official', 'profit', 'tw', 'despite', 'notify', 'base', 'concerned', 'retail', 'behind', 'heads', 'interviews', 'transition', 'calling', 'effect', 'patrick', 'spreadsheet', 'url', 'regulatory', 'auction', 'representative', 'fare', 'improve', 'values', 'entered', 'express', 'leadership', 'ap', 'fraser', 'logistics', 'processes', 'stated', 'suggestions', 'wait', 'counterparties', 'dt', 'associates', 'conduct', 'students', 'created', 'registered', 'design', 'language', 'suggest', 'asking', 'human', 'ext', 'young', 'advise', 'exposure', 'happen', 'confirmed', 'shall', 'spot', 'waiting', 'appear', 'circuit', 'min', 'lewis', 'prepared', 'tony', 'bailey', 'en', 'lee', 'goes', 'oneok', 'telephone', 'ticket', 'wine', 'executed', 'playoffs', 'eim', 'lavorato', 'registration', 'pit', 'super', 'implementation', 'closed', 'cross', 'subscription', 'build', 'speak', 'reduce', 'relationship', 'features', 'released', 'throughout', 'separate', 'catch', 'advice', 'touch', 'double', 'gave', 'billing', 'external', 'feature', 'moved', 'mails', 'relevant', 'closing', 'hourly', 'extension', 'programs', 'msonormal', 'walk', 'edi', 'range', 've', 'sites', 'southern', 'charlie', 'reminder', 'reach', 'receiver', 'takes', 'equipment', 'launch', 'ms', 'planned', 'rental', 'men', 'missing', 'evidence', 'steven', 'sept', 'sue', 'shows', 'apollo', 'oak', 'posting', 'bc', 'foreign', 'quite', 'robinson', 'statements', 'women', 'concerning', 'picture', 'register', 'subscribe', 'backup', 'stuff', 'commitment', 'donna', 'asap', 'clean', 'enw', 'prefer', 'tracking', 'western', 'accept', 'interesting', 'looked', 'offense', 'rice', 'verify', 'biggest', 'den', 'noon', 'responsibilities', 'store', 'behalf', 'profile', 'sessions', 'strictly', 'garcia', 'kelly', 'los', 'cal', 'ryan', 'timothy', 'assist', 'began', 'age', 'sense', 'authorized', 'career', 'pro', 'serve', 'smartmoney', 'mo', 'safety', 'seem', 'willing', 'combined', 'gifts', 'often', 'lineup', 'americas', 'hunter', 'music', 'decide', 'fly', 'folks', 'inside', 'mtg', 'steps', 'shelley', 'caribbean', 'seven', 'carson', 'eastern', 'golf', 'purposes', 'attending', 'carrfut', 'reservation', 'hector', 'priority', 'clearly', 'difficult', 'janet', 'bills', 'returned', 'las', 'immediate', 'traded', 'wells', 'charts', 'contacts', 'schedules', 'fell', 'carries', 'category', 'diamond', 'favorite', 'managed', 'score', 'hearing', 'bar', 'eaeaea', 'emergency', 'fred', 'manual', 'informed', 'boston', 'dollar', 'expenses', 'difference', 'function', 'map', 'mg', 'successful', 'discount', 'peggy', 'tv', 'break', 'ce', 'forwarded', 'phase', 'taxes', 'peak', 'opening', 'highlights', 'none', 'particular', 'shoulder', 'trial', 'exclusive', 'officials', 'raetta', 'recommend', 'matchup', 'zdnet', 'affiliate', 'antonio', 'cleveland', 'forum', 'networks', 'saying', 'hotels', 'mobile', 'reeves', 'sffer', 'shape', 'functions', 'jon', 'filed', 'lots', 'monitor', 'morgan', 'conversation', 'det', 'requires', 'approve', 'knowledge', 'stl', 'busy', 'cause', 'known', 'speed', 'rto', 'invoices', 'reduced', 'chad', 'hill', 'hub', 'spring', 'operation', 'piper', 'angeles', 'kenneth', 'suite', 'consistent', 'contains', 'except', 'linda', 'pr', 'tariff', 'tools', 'food', 'perform', 'county', 'decisions', 'marshall', 'monitoring', 'sector', 'valid', 'dal', 'determined', 'holidays', 'sincerely', 'andrea', 'carter', 'association', 'caught', 'partnerships', 'rose', 'series', 'sports', 'documentation', 'partners', 'positive', 'ubs', 'gov', 'sd', 'accurate', 'attorney', 'blu', 'lng', 'preliminary', 'imceanotes', 'le', 'perhaps', 'pwr', 'bloomberg', 'cap', 'confidence', 'trust', 'developed', 'king', 'aep', 'bedroom', 'hbs', 'kids', 'offering', 'starter', 'deliver', 'logo', 'socal', 'starts', 'claims', 'gb', 'mon', 'definitely', 'opinionjournal', 'blackberry', 'joined', 'phoenix', 'shared', 'timing', 'articles', 'aug', 'led', 'se', 'chi', 'clients', 'england', 'infrastructure', 'kristin', 'affiliates', 'detroit', 'ee', 'fixed', 'hotwire', 'menu', 'nobr', 'tank', 'abc', 'craig', 'ways', 'hello', 'moore', 'paso', 'plays', 'roll', 'college', 'margaret', 'jerry', 'consulting', 'subscribed', 'atlanta', 'focused', 'melissa', 'pending', 'presented', 'announce', 'pleased', 'worldwide', 'dell', 'greater', 'ind', 'stacey', 'bradford', 'fair', 'px', 'banks', 'reservations', 'dial', 'margin', 'gone', 'invite', 'absence', 'excellent', 'healthy', 'war', 'button', 'lwbthemarine', 'opinion', 'serious', 'stephanie', 'delay', 'nation', 'purchased', 'gives', 'ava', 'cancel', 'pacific', 'beach', 'distributed', 'leaders', 'mar', 'replace', 'bonds', 'eight', 'grant', 'husser', 'lexi', 'adams', 'allocation', 'assessment', 'remains', 'stack', 'cases', 'accepted', 'bus', 'won', 'flash', 'md', 'ord', 'background', 'baltimore', 'brief', 'edward', 'goals', 'land', 'valuable', '.....', 'applicable', 'parent', 'liquids', 'rockets', 'selection', 'wrong', 'firms', 'remaining', 'terrell', 'tight', 'trouble', 'wes', 'bureau', 'continuing', 'membership', 'perfect', 'auctions', 'baumbach', 'cst', 'leaving', 'practices', 'cards', 'cn', 'noted', 'poor', 'skills', 'tried', 'expansion', 'northwest', 'sample', 'conducted', 'invitation', 'invoice', 'island', 'llc', 'weight', 'commodities', 'heat', 'ron', 'charles', 'oklahoma', 'sprained', 'az', 'chase', 'developing', 'keith', 'owned', 'caiso', 'daniel', 'direction', 'mailbox', 'toward', 'partner', 'quarterback', 'resort', 'sep', 'eye', 'maintain', 'professional', 'sole', 'sp', 'acceptance', 'assuming', 'bankruptcy', 'nancy', 'nba', 'bids', 'oxley', 'answers', 'award', 'jobs', 'steel', 'claim', 'helpful', 'isc', 'reduction', 'attendees', 'authority', 'swaps', 'div', 'epao', 'nights', 'considering', 'putting', 'requirement', 'losses', 'ones', 'philadelphia', 'travis', 'intercontinentalexchange', 'palm', 'english', 'upcoming', 'consolidated', 'proceed', 'watson', 'investigation', 'jets', 'block', 'derivatives', 'employer', 'foot', 'materials', 'carry', 'emails', 'executives', 'bandwidth', 'guard', 'kowalke', 'seats', 'whom', 'agencies', 'views', 'counsel', 'designed', 'easier', 'graham', 'reasons', 'touchdown', 'christopher', 'cpr', 'baby', 'preferred', 'setting', 'failed', 'ratings', 'dated', 'practiced', 'profits', 'https', 'cand', 'controller', 'invited', 'pressure', 'stand', 'task', 'bet', 'covered', 'herein', 'negative', 'prepare', 'specifically', 'amy', 'dvd', 'fl', 'estimate', 'occur', 'fastow', 'rs', 'sheri', 'cent', 'comfortable', 'fire', 'fit', 'guide', 'picked', 'topics', 'blue', 'integration', 'suffered', 'tb', 'ar', 'nearly', \"o'neal\", 'exactly', 'extremely', 'itself', 'judge', 'orleans', 'ray', 'russell', 'screen', 'buffalo', 'default', 'drew', 'ecom', 'pge', 'sf', 'simple', 'whatever', 'announcement', 'bp', 'district', 'measurement', 'portion', 'cnn', 'dc', 'roster', 'tampa', 'cycle', 'es', 'giants', 'timely', 'dale', 'est', 'hamstring', 'opposing', 'pat', 'risks', 'candidate', 'netco', 'roles', 'stage', 'enpower', 'guarantee', 'shown', 'andersen', 'joint', 'raised', 'receipt', 'rule', 'tag', 'tds', 'acquisition', 'faulk', 'governor', 'anyway', 'flowgo', 'kay', 'showing', 'types', 'blanchard', 'fear', 'generator', 'arrive', 'consideration', 'dr', 'sydney', 'termination', 'actions', 'azurix', 'earn', 'fourth', 'leader', 'shafer', 'bought', 'browser', 'nature', 'contributions', 'diane', 'gerry', 'mia', 'regional', 'appreciated', 'oss', 'rod', 'sampling', 'alan', 'allows', 'cara', 'paying', 'recommendation', 'throw', 'rbs', 'attempt', 'child', 'omaha', 'purchases', 'restore', 'thus', 'collection', 'excited', 'lose', 'notified', 'particularly', 'bal', 'campaign', 'established', 'henry', 'obviously', 'rent', 'rsvp', 'sit', 'spent', 'unfortunately', 'writing', 'del', 'fields', 'marcus', 'returns', 'sometime', 'completion', 'harrison', 'sound', 'windows', 'discrimination', 'division', 'dyson', 'ho', 'login', 'agg', 'automatically', 'howard', 'oakland', 'phi', 'shot', 'emailtextblack', 'esource', 'whose', 'words', 'apparently', 'assignment', 'coordinate', 'partnership', 'path', 'policies', 'warner', 'alternative', 'digital', 'participating', 'raise', 'ben', 'disk', 'pl', 'presto', 'ranks', 'respective', 'rock', 'topic', 'airline', 'enjoyed', 'hedge', 'affairs', 'council', 'estimated', 'liquidity', 'stories', 'ari', 'employers', 'lack', 'neal', 'regard', 'airport', 'confirmations', 'expressed', 'grade', 'specialist', 'communicate', 'juan', 'majority', 'canadian', 'competition', 'criteria', 'elizabeth', 'felt', 'mason', 'mcmahon', 'phillips', 'pipelines', 'committed', 'grand', 'ave', 'encourage', 'turbine', 'wonderful', 'alexander', 'downtown', 'ground', 'jsp', 'secure', 'growing', 'reflect', 'secondary', 'seemed', 'delainey', 'glenn', 'sandra', 'completely', 'ge', 'midwest', 'procedure', 'ranking', 'sort', 'administrative', 'nine', 'obtain', 'australia', 'rt', 'stations', 'evaluation', 'horn', 'koch', 'secretary', 'wrs', 'loan', 'seeking', 'caused', 'cold', 'competitive', 'extended', 'rotation', 'surgery', 'tool', 'votes', 'debbie', 'factor', 'resolve', 'brooks', 'heather', 'reading', 'reviewing', 'implemented', 'jac', 'merchant', 'spec', 'obligation', 'operator', 'ann', 'excel', 'hp', 'os', 'self', 'facilitate', 'built', 'finished', 'kerry', 'supposed', 'tracy', 'violation', 'challenge', 'duke', 'generators', 'ltd', 'maximum', 'orlando', 'seat', 'supporting', 'tnrcc', 'americans', 'arrangements', 'buf', 'contacted', 'safe', 'sharon', 'talks', 'explain', 'length', 'passed', 'connection', 'relied', 'showed', 'sr', 'turned', 'unique', 'wrote', 'happens', 'hpl', 'palmer', 'pull', 'spotlight', 'wire', 'attacks', 'became', 'helps', 'highly', 'leg', 'lets', 'photo', 'possibly', 'carolina', 'domestic', 'offset', 'shawn', 'terminal', 'wayne', 'wti', 'cle', 'expectations', 'ill', 'shankman', 'basic', 'eca', 'keeping', 'perspective', 'talent', 'affect', 'clicking', 'jarnold', 'van', 'clark', 'entergy', 'exciting', 'meter', 'mgmt', 'tennessee', 'chart', 'checking', 'coords', 'yours', 'accrual', 'defined', 'ex', 'jo', 'broker', 'nor', 'whalley', 'accenture', 'ricky', 'favor', 'garner', 'morris', 'rogers', 'bcf', 'downgraded', 'ends', 'usually', 'guest', 'hands', 'rect', 'tour', 'anthony', 'gonzalez', 'implement', 'indian', 'jenny', 'probable', 'swap', 'winner', 'efficient', 'forget', 'gossett', 'realize', 'represent', 'ea', 'ensr', 'estimates', 'foundation', 'happened', 'apr', 'door', 'gray', 'lake', 'wondering', 'dietz', 'exclusives', 'handling', 'herod', 'increases', 'indexes', 'strike', 'beer', 'lloyd', 'match', 'protect', 'served', 'tel', 'camp', 'closely', 'extend', 'god', 'luis', 'nyg', 'solmonson', 'tie', 'addresses', 'ina', 'nyj', 'ongoing', 'overview', 'roger', 'suit', 'amounts', 'customize', 'ran', 'rewards', 'significantly', 'temporary', 'binding', 'changing', 'cheryl', 'corman', 'scribner', 'applied', 'cwhite', 'enforceable', 'forecast', 'malcolm', 'suffering', 'volatility', 'handheld', 'aaron', 'collins', 'consumers', 'declined', 'gain', 'lu', 'moment', 'representatives', 'scoring', 'assigned', 'campus', 'functionality', 'indicate', 'mills', 'replaced', 'compared', 'oasis', 'political', 'warren', 'cynthia', 'joseph', 'method', 'spending', 'throwing', 'heart', 'kick', 'parking', 'platform', 'supported', 'akamaitech', 'contest', 'diligence', 'factors', 'fundamentals', 'increasing', 'reliable', 'apologize', 'dabhol', 'larger', 'li', 'tm', 'amp', 'desks', 'finding', 'findings', 'provider', 'pizzahut', 'recovery', 'reliability', 'catches', 'deposit', 'ehronline', 'ei', 'fexclusive', 'matters', 'mother', 'scope', 'split', 'supreme', 'wind', 'barbara', 'bears', 'operate', 'pipe', 'viewing', 'birthday', 'ebass', 'kendrick', 'knows', 'admin', 'apartment', 'automated', 'presentations', 'quarterly', 'rookie', 'useful', 'administrator', 'alone', 'atl', 'host', 'photos', 'playoff', 'thousands', 'basketball', 'carol', 'consumer', 'cp', 'ipgdirect', 'mmbtu', 'pa', 'son', 'charged', 'complex', 'families', 'gold', 'holding', 'initiative', 'lately', 'richardson', 'minus', 'pc', 'recommendations', 'reserves', 'bobette', 'education', 'failure', 'labour', 'luxury', 'qbs', 'wsjgate', 'brand', 'crisis', 'exercise', 'mcnair', 'recommended', 'reschedule', 'voicemail', 'investing', 'straight', 'hurt', 'il', 'learning', 'measures', 'payroll', 'beyond', 'establish', 'matchups', 'ots', 'panel', 'beat', 'countries', 'expects', 'financing', 'inactive', 'learned', 'minnesota', 'winfree', 'breaking', 'farticles', 'forced', 'fsb', 'ftour', 'hedging', 'jopinemaowsj', 'nonsuburi', 'ranked', 'suburi', 'commerce', 'confidentiality', 'expand', 'ha', 'highest', 'mitchell', 'themselves', 'congestion', 'easily', 'exception', 'glover', 'inform', 'kimberly', 'replacement', 'speaking', 'tips', 'window', 'additionally', 'columbia', 'figure', 'greatly', 'hereto', 'integrity', 'opinions', 'ralph', 'believes', 'cassandra', 'depth', 'entities', 'petroleum', 'tradersnews', 'experienced', 'inventory', 'preferences', 'refer', 'rr', 'rush', 'wa', 'pam', 'followed', 'nytimes', 'rise', 'commoditylogic', 'contribution', 'desktop', 'eddie', 'eel', 'listing', 'touchdowns', 'adjustment', 'bas', 'breakfast', 'carr', 'generally', 'okay', 'cooperation', 'da', 'estoppel', 'solely', 'creative', 'defensive', 'equal', 'gregory', 'hb', 'luck', 'rams', 'anywhere', 'closer', 'helping', 'laws', 'pages', 'performed', 'shipper', 'shirley', 'shively', '......', 'capture', 'requesting', 'sa', 'familiar', 'joining', 'um', 'walls', 'protection', 'zip', 'doubleclick', 'edition', 'fwd', 'improvement', 'julie', 'recount', 'referenced', 'rep', 'asia', 'broken', 'effectively', 'injuries', 'knew', 'legislation', 'lowest', 'errors', 'fo', 'girls', 'manner', 'remote', 'litigation', 'towards', 'affected', 'anytime', 'finish', 'funny', 'lp', 'multiple', 'newly', 'olson', 'ph', 'pittsburgh', 'sz', 'usual', 'worry', 'bye', 'kept', 'ma', 'mcconnell', 'neither', 'places', 'primarily', 'river', 'flat', 'fundamental', 'shareholders', 'social', 'erms', 'gmt', 'marc', 'ops', 'police', 'recognize', 'severance', 'student', 'bear', 'flagstaff', 'interests', 'letters', 'quotes', 'servers', 'signing', 'yard', 'art', 'calculation', 'channel', 'degree', 'faith', 'guidelines', 'hayes', 'jane', 'nysrc', 'pilot', 'preparation', 'promotions', 'rebecca', 'vol', 'entertainment', 'initiated', 'magazine', 'zadow', 'bench', 'christine', 'clearing', 'egroups', 'heading', 'thu', 'cathy', 'creating', 'heavy', 'iii', 'lt', 'pos', 'regions', 'ski', 'venture', 'decline', 'imbalance', 'machine', 'mis', 'nat', 'rebate', 'tanks', 'bettis', 'discounts', 'srrs', 'arthur', 'hesitate', 'obligations', 'reasonable', 'ing', 'organizations', 'phil', 'somewhat', 'engineering', 'nerc', 'ofoto', 'retirement', 'winning', 'arrange', 'facing', 'fired', 'moves', 'sharing', 'donald', 'interns', 'joyce', 'valuation', 'volunteer', 'woodson', 'buyer', 'congress', 'sean', 'transferred', 'usd', 'vernon', 'floors', 'frevert', 'jack', 'losing', 'possibility', 'push', 'rooms', 'adjustments', 'celebrate', 'kent', 'printed', 'statistics', 'surprise', 'worse', 'auth', 'boy', 'hoping', 'represents', 'nahou', 'prevent', 'valued', 'anne', 'colwell', 'copying', 'diamonds', 'formal', 'funding', 'himself', 'nypa', 'troy', 'extent', 'ipayit', 'living', 'max', 'mcnabb', 'moody', 'trademarks', 'wood', 'booked', 'fb', 'jersey', 'produce', 'provisions', 'toe', 'ballots', 'perlman', 'relative', 'transport', 'visiting', 'cin', 'coordinator', 'dot', 'fix', 'headed', 'ice', 'medical', 'nasdaq', 'principal', 'shut', 'wi', 'baker', 'british', 'convenience', 'exec', 'itcapps', 'nyse', 'reserving', 'credits', 'engine', 'excess', 'inn', 'schroeder', 'advised', 'bond', 'initiatives', 'pira', 'allocations', 'eugenio', 'ie', 'jun', 'mention', 'percentage', 'redmond', 'sherry', 'switch', 'terrorist', 'ups', 'bringing', 'derrick', 'doubt', 'simulation', 'stress', 'waste', 'chair', 'danny', 'helped', 'hq', 'johnny', 'kenny', 'mc', 'military', 'regulations', 'staffing', 'stake', 'cuts', 'prime', 'riner', 'spokesman', 'vision', 'wife', 'developments', 'holmes', 'produced', 'ship', 'threat', 'wanda', 'winners', 'pgn', 'santa', 'column', 'dennis', 'gulf', 'noscript', 'contents', 'cook', 'ps', 'shippers', 'supplies', 'toomer', 'checked', 'df', 'jacksonville', 'lycos', 'methodology', 'periods', 'revenues', 'sponsor', 'sullivan', 'bridge', 'bulletin', 'catching', 'emaillink', 'matching', 'neil', 'proxy', 'regardless', 'telephony', 'watters', 'directions', 'elliott', 'ercot', 'freeman', 'gotten', 'insight', 'leads', 'nomination', 'senate', 'surprised', 'trent', 'dwlk', 'industries', 'mena', 'objectives', 'puts', 'bidding', 'bodnar', 'catcontent', 'completing', 'condition', 'dana', 'depending', 'fairly', 'feet', 'measure', 'pain', 'piece', 'sometimes', 'timeline', 'absolutely', 'advanced', 'attack', 'cheatsheets', 'hire', 'memory', 'sellers', 'sufficient', 'fin', 'fort', 'matrix', 'porter', 'proper', 'route', 'smaller', 'toll', 'boys', 'comprehensive', 'deadhead', 'designated', 'dunn', 'heidi', 'otc', 'stats', 'victory', 'achieve', 'adding', 'caroline', 'ended', 'fans', 'stores', 'totals', 'circumstances', 'counter', 'described', 'discussing', 'louisiana', 'newswires', 'properly', 'snow', 'ab', 'begins', 'compressor', 'grow', 'nelson', 'shift', 'soldano', 'somewhere', 'subsidiary', 'beautiful', 'bowen', 'dash', 'dispute', 'eligible', 'featured', 'officers', 'priced', 'sam', 'seller', 'uses', 'cancelled', 'curves', 'hyatt', 'invest', 'loop', 'movie', 'ravens', 'responses', 'awards', 'corner', 'diana', 'evans', 'golden', 'mcloughlin', 'oregon', 'philippe', 'schools', 'terminated', 'bu', 'deep', 'evaluate', 'exceed', 'kyle', 'liz', 'mitigation', 'proprietary', 'announcements', 'ecs', 'functional', 'giant', 'merit', 'minor', 'popular', 'sherriff', 'sweet', 'tms', 'arora', 'confirms', 'directed', 'mutual', 'sanders', 'strength', 'walker', 'yo', 'hiring', 'nick', 'releases', 'structuring', 'template', 'thinks', 'anticipated', 'centers', 'cool', 'lawsuit', 'presence', 'resolved', 'scored', 'slow', 'westbrook', 'amendment', 'chuck', 'cinergy', 'hardware', 'header', 'installed', 'northeast', 'tip', 'tva', 'vince', 'bestbuys', 'filter', 'millions', 'runs', 'smtp', 'aid', 'bestshots', 'chip', 'duties', 'fortune', 'institute', 'pulp', 'strategies', 'berger', 'harassment', 'occurred', 'premium', 'protected', 'slightly', 'tokyo', 'walton', 'aga', 'cincinnati', 'contractor', 'justin', 'kill', 'provision', 'recipients', 'warning', 'accuracy', 'allowing', 'germany', 'representing', 'staying', 'att', 'brady', 'communicated', 'ford', 'hawaii', 'hughes', 'offsite', 'remainder', 'restrictions', 'ending', 'fbestshot', 'mack', 'nguyen', 'offensive', 'pearce', 'salary', 'suggestion', 'truly', 'warm', 'certificate', 'dari', 'dean', 'foster', 'license', 'obtained', 'persons', 'postal', 'publication', 'virus', 'driver', 'shortly', 'treasury', 'approver', 'becoming', 'blocks', 'bradley', 'cruises', 'edge', 'graphics', 'redskins', 'sets', 'teresa', 'appeals', 'dutch', 'folder', 'gerald', 'hernandez', 'outcome', 'preparing', 'stuart', 'arrival', 'ch', 'coles', 'dealing', 'fletcher', 'hu', 'megawatt', 'producers', 'advisory', 'amanda', 'debra', 'expert', 'filled', 'lucy', 'seek', 'smart', 'sub', 'woman', 'banking', 'desire', 'ellen', 'generated', 'lynch', 'rc', 'roy', 'segment', 'surveys', 'ua', 'batch', 'grid', 'jae', 'moss', 'presents', 'relating', 'ss', 'subscribers', 'ts', 'wilkins', 'allocated', 'christi', 'dog', 'guaranteed', 'professionals', 'race', 'returning', 'shareholder', 'slink', 'contractors', 'convenient', 'fed', 'fran', 'penalty', 'permanent', 'scholarship', 'signs', 'spreads', 'zero', 'acquired', 'airfare', 'fox', 'specified', 'alex', 'casino', 'consent', 'darrell', 'drinks', 'flights', 'improved', 'intent', 'sid', 'trans', 'traveling', 'earnest', 'father', 'flows', 'hate', 'hired', 'nv', 'proud', 'dillon', 'domains', 'midland', 'originally', 'reader', 'sex', 'variety', 'ardmore', 'engineer', 'fan', 'hilton', 'hundreds', 'identifying', 'jump', 'models', 'rus', 'telling', 'valley', 'capabilities', 'eagles', 'receivers', 'wonder', 'baxter', 'bledsoe', 'controllers', 'eliminate', 'interim', 'math', 'mine', 'morton', 'mtm', 'numerous', 'reagan', 'ride', 'settings', 'ba', 'brokerage', 'christina', 'colleagues', 'eva', 'happening', 'newpower', 'saving', 'contribute', 'cowboys', 'eat', 'freedom', 'owens', 'pittman', 'rolling', 'shooting', 'campos', 'curry', 'dropped', 'fbestbuy', 'gros', 'hedstrom', 'intranet', 'mudd', 'onto', 'proposals', 'stone', 'traveler', 'virginia', 'viviance', 'auto', 'collect', 'ftd', 'landry', 'newsletters', 'producer', 'reconciliation', 'si', 'accordingly', 'billy', 'disclosed', 'greetings', 'holds', 'lou', 'nggj', 'parker', 'accessing', 'airfares', 'ay', 'chosen', 'collected', 'colorado', 'databases', 'enable', 'interface', 'jerome', 'organizational', 'orientation', 'restructuring', 'scale', 'checks', 'consultant', 'essential', 'figures', 'nominations', 'pallen', 'petition', 'saints', 'upgraded', 'vehicle', 'versus', 'ads', 'attendance', 'curtis', 'deregulation', 'indianapolis', 'involvement', 'module', 'pulled', 'radio', 'rahil', 'reliant', 'risktrac', 'royal', 'saudi', 'strongly', 'wineisit', 'gina', 'jolly', 'littler', 'mapp', 'performing', 'subscriber', 'webb', 'griese', 'jody', 'lotus', 'pension', 'resumes', 'sara', 'telluride', 'downgrade', 'likki', 'modify', 'pace', 'permitting', 'sweeney', 'basically', 'faces', 'forth', 'grbac', 'ir', 'lions', 'roberts', 'sponsorship', 'standing', 'stevens', 'bennett', 'buys', 'explore', 'feeling', 'hag', 'imagine', 'indices', 'install', 'ljm', 'logic', 'opened', 'raymond', 'remediation', 'singapore', 'tested', 'tournament', 'usta', 'vacations', 'adam', 'attempts', 'broad', 'decent', 'destinations', 'editor', 'entitled', 'flores', 'jonathan', 'launched', 'maria', 'mountain', 'science', 'seminar', 'tse', 'contacting', 'cr', 'dick', 'drink', 'enhanced', 'forest', 'judy', 'lobby', 'potentially', 'retention', 'separately', 'sitting', 'speaker', 'upstream', 'warrick', 'zdnetonebox', 'challenges', 'clarification', 'driving', 'entering', 'grab', 'older', 'payable', 'presenting', 'ruling', 'sourcing', 'treatment', 'lawyer', 'listen', 'mcdaniel', 'reductions', 'stanley', 'sunny', 'weak', 'alumni', 'avenue', 'configuration', 'directory', 'gap', 'generate', 'gisb', 'jose', 'kurt', 'modified', 'tab', 'traffic', 'twice', 'wage', 'accomplishments', 'inconsistent', 'instant', 'intelligence', 'jcrew', 'nlrb', 'settle', 'sharp', 'spa', 'totally', 'yr', 'dedicated', 'embedded', 'forwarding', 'gains', 'inspection', 'janzen', 'marketers', 'ml', 'paribas', 'reform', 'revisions', 'sta', 'thur', 'bag', 'calculations', 'cheap', 'civil', 'correctly', 'culture', 'forgot', 'retrieve', 'tammy', 'clarify', 'dead', 'flag', 'multexinvestor', 'nox', 'orange', 'owns', 'pickering', 'pursue', 'reception', 'toronto', 'broncos', 'cable', 'custom', 'demarc', 'departure', 'favre', 'finalize', 'kirk', 'rebounds', 'relationships', 'resorts', 'visa', 'confusion', 'definition', 'downs', 'em', 'german', 'installation', 'maildart', 'mass', 'movies', 'substantial', 'theeconomist', 'workplace', 'amazing', 'anniversary', 'attended', 'courtney', 'demo', 'dorsey', 'heavily', 'instance', 'lite', 'op', 'opt', 'resulting', 'row', 'tree', 'bic', 'categories', 'cs', 'delayed', 'haedicke', 'heating', 'historical', 'idx', 'integrated', 'moscoso', 'uncertainty', 'calpine', 'caps', 'colts', 'espn', 'muhammad', 'organized', 'relief', 'rescheduled', 'sheraton', 'simms', 'unemployment', 'yeah', 'congratulating', 'consecutive', 'introduction', 'ld', 'library', 'meant', 'molly', 'plenty', 'purchasing', 'rosters', 'shtml', 'carefully', 'chapman', 'chat', 'clickathome', 'dissemination', 'fallon', 'formerly', 'headcount', 'keeps', 'lawyers', 'lowry', 'properties', 'ratio', 'shirt', 'sponsored', 'studio', 'unions', 'albrecht', 'calculated', 'chargers', 'christian', 'fx', 'innovative', 'jesus', 'ly', 'mime', 'murray', 'nepco', 'permission', 'shelly', 'spoken', 'theresa', 'twanda', 'activated', 'bn', 'ck', 'foxsports', 'liquid', 'om', 'owe', 'picks', 'providers', 'sells', 'usage', 'virtual', 'virtually', 'audio', 'cast', 'classes', 'cleaning', 'computers', 'covering', 'fight', 'filings', 'nuclear', 'confident', 'damage', 'democrats', 'distribute', 'everybody', 'french', 'houses', 'investorama', 'joy', 'loaded', 'parents', 'renovated', 'ribs', 'showtimes', 'tahoma', 'au', 'bryant', 'distance', 'enhancements', 'experts', 'ownership', 'spp', 'tamara', 'telecom', 'vancouver', 'walters', 'worker', 'alternate', 'cfo', 'enrollment', 'expires', 'fallen', 'formed', 'hosting', 'issuance', 'ole', 'paula', 'solicitation', 'structured', 'dogs', 'dyn', 'ecn', 'exploration', 'finds', 'fr', 'indeed', 'neubauer', 'suppliers', 'display', 'exempt', 'faster', 'grigsby', 'involving', 'spirit', 'carrie', 'coordination', 'donovan', 'duty', 'euro', 'expanded', 'flying', 'initially', 'lc', 'normally', 'ordered', 'sheets', 'situations', 'suspended', 'val', 'wheatley', 'brandon', 'conducting', 'currency', 'falls', 'lenders', 'negotiations', 'pao', 'conversations', 'death', 'dpc', 'exit', 'eyes', 'gops', 'inquiry', 'parts', 'sba', 'anticipate', 'cir', 'comed', 'execution', 'lans', 'livelink', 'ring', 'sensitivity', 'shannon', 'ultimate', 'worst', 'aprs', 'brings', 'concept', 'corrected', 'darveaux', 'france', 'geotools', 'ion', 'neck', 'plaza', 'pros', 'serving', 'tarp', 'technologies', 'tina', 'utilize', 'becomes', 'bold', 'capability', 'carrying', 'db', 'define', 'diversity', 'fellow', 'gcp', 'instruments', 'laden', 'luncheon', 'metal', 'paste', 'schultz', 'watching', 'corey', 'earth', 'fiedler', 'jewelry', 'mckay', 'minister', 'regulated', 'retain', 'traditional', 'tremendous', 'acceptable', 'accommodate', 'booking', 'commentary', 'conflict', 'drug', 'groundwater', 'marketplace', 'monica', 'rid', 'shell', 'superty', 'adjust', 'alliance', 'chances', 'edwards', 'encouraged', 'facts', 'leaf', 'relatively', 'shit', 'smoking', 'updating', 'whenever', 'bed', 'chronicle', 'determining', 'domain', 'emission', 'import', 'jacobs', 'lcampbel', 'nacey', 'personally', 'restaurant', 'ruth', 'scenario', 'seriously', 'subsidiaries', 'utexas', 'counted', 'destination', 'emazing', 'interconnect', 'interval', 'painewebber', 'sc', 'sempra', 'tons', 'tyrone', 'upper', 'benson', 'brnt', 'decoration', 'joel', 'nm', 'objective', 'outline', 'patterson', 'productive', 'quantities', 'stan', 'texaco', 'veteran', 'adequate', 'bjorn', 'bmc', 'bme', 'bnp', 'britt', 'camera', 'choosing', 'floyd', 'frame', 'lives', 'mailings', 'resulted', 'robertson', 'servlet', 'tasks', 'worried', 'zipper', 'backs', 'brunell', 'bullish', 'enhance', 'globalp', 'introduce', 'knight', 'layout', 'lease', 'mailed', 'martha', 'medeles', 'memorial', 'ocean', 'penalties', 'recognition', 'slafontaine', 'xms', 'belden', 'bigger', 'boat', 'century', 'clinton', 'compare', 'hopes', 'indicates', 'laguna', 'meagan', 'mi', 'premier', 'settled', 'toute', 'transfers', 'wade', 'afghanistan', 'anti', 'brett', 'containing', 'dom', 'exp', 'extensive', 'groin', 'influence', 'nj', 'restricted', 'saved', 'solo', 'stars', 'tue', 'typically', 'wp', 'advertising', 'arbitration', 'benningfield', 'classic', 'combination', 'insure', 'interruptible', 'lamar', 'liability', 'mariner', 'marty', 'pack', 'promised', 'signature', 'adeq', 'briefly', 'eei', 'elsewhere', 'granted', 'irs', 'jen', 'lizzette', 'notional', 'rack', 'volunteers', 'ya', 'blow', 'bouman', 'buyers', 'china', 'discover', 'elections', 'everyday', 'ey', 'italy', 'mailer', 'matthews', 'migrate', 'notices', 'ohio', 'pete', 'renee', 'risky', 'tori', 'vendor', 'amid', 'bert', 'christie', 'electrical', 'grace', 'japanese', 'pe', 'professor', 'ref', 'reno', 'rsc', 'shipped', 'studies', 'certified', 'compete', 'dam', 'gss', 'handled', 'inbox', 'rub', 'sick', 'dealbench', 'gay', 'occurs', 'packages', 'perry', 'phones', 'puerto', 'tara', 'tells', 'threw', 'byron', 'device', 'ebay', 'expensive', 'fat', 'gathering', 'intra', 'manhattan', 'marketer', 'monitored', 'necessarily', 'patriots', 'poi', 'removal', 'ross', 'sensitive', 'soil', 'trends', 'unlikely', 'wild', 'afford', 'assignments', 'beverly', 'brazil', 'crazy', 'enterprise', 'forster', 'homes', 'meantime', 'negotiated', 'newspaper', 'pwc', 'suspect', 'ass', 'geneva', 'gentlemen', 'georgewbush', 'intl', 'multi', 'rangel', 'recognized', 'workshops', 'addressing', 'brother', 'continentalairlines', 'cutting', 'deleted', 'depart', 'gorte', 'honor', 'kayne', 'obvious', 'publications', 'quantity', 'reyna', 'seahawks', 'southeast', 'stakeholder', 'thumb', 'unavailable', 'underlying', 'accomplish', 'barney', 'boling', 'discovered', 'edit', 'elpaso', 'emmitt', 'hide', 'itinerary', 'meximullets', 'mt', 'netting', 'plain', 'reflects', 'represented', 'requiring', 'residential', 'reward', 'aspects', 'barber', 'bruised', 'celebration', 'collateral', 'concert', 'covers', 'expanding', 'finalized', 'girl', 'guidance', 'lauderdale', 'medium', 'miso', 'nc', 'outsourcing', 'owa', 'patricia', 'wager', 'wines', 'workshop', 'albany', 'differences', 'draw', 'escape', 'expertise', 'goldman', 'herndon', 'kean', 'michele', 'mile', 'motion', 'powerful', 'ruled', 'sail', 'surrounding', 'thestreet', 'wideout', 'astros', 'ballot', 'conflicts', 'cunningham', 'degrees', 'execute', 'husband', 'inquiries', 'jury', 'maker', 'nicole', 'panelists', 'reyd', 'successfully', 'tied', 'vendors', 'xxxx', 'applies', 'bushton', 'cole', 'delivering', 'drilling', 'eyeforenergy', 'gather', 'gilbert', 'hospital', 'immigration', 'mix', 'nexis', 'ns', 'nw', 'perez', 'slide', 'yowman', 'adjusted', 'chrebet', 'church', 'creation', 'economics', 'falling', 'incredible', 'intcx', 'jake', 'knowing', 'longhorns', 'pics', 'square', 'xp', 'counting', 'crack', 'downstream', 'fauction', 'interviewers', 'midnight', 'nuts', 'prints', 'proceeding', 'processed', 'prompt', 'recorded', 'rough', 'setup', 'supervisors', 'anybody', 'asme', 'balancing', 'bryson', 'certification', 'cheney', 'copied', 'determination', 'doorman', 'exact', 'leagues', 'leverage', 'noticed', 'recall', 'rival', 'sacramento', 'tails', 'taliban', 'topock', 'adds', 'arrangement', 'assess', 'avg', 'bryce', 'catherine', 'cb', 'citizens', 'coo', 'eeoc', 'ellis', 'fresh', 'gained', 'guarantees', 'improving', 'killed', 'ppt', 'rated', 'respectively', 'transmitted', 'waiver', 'asian', 'dietrich', 'judgment', 'lie', 'linhart', 'oba', 'regulators', 'smile', 'sportsbook', 'assure', 'besides', 'carolyn', 'cars', 'dev', 'donations', 'explanation', 'frequently', 'gp', 'incorporate', 'paragraph', 'prove', 'sharpe', 'tammie', 'turning', 'venturatos', 'anna', 'arts', 'checkout', 'clarity', 'component', 'components', 'displayed', 'friendly', 'graduate', 'guests', 'implied', 'incremental', 'jodie', 'junior', 'lsu', 'marvin', 'neutral', 'pleasure', 'rally', 'responded', 'rounders', 'schneider', 'squad', 'treated', 'approx', 'blank', 'damages', 'ebiz', 'entries', 'exist', 'expecting', 'incorrect', 'lucky', 'mexican', 'picking', 'remind', 'scenarios', 'ta', 'talented', 'terrorism', 'wear', 'acquire', 'becky', 'boxes', 'calendars', 'chapter', 'columbus', 'departments', 'gross', 'hawkins', 'hits', 'hudson', 'laid', 'leaves', 'mseb', 'mwh', 'nyc', 'sidelined', 'abel', 'advertisement', 'brokers', 'connect', 'dornan', 'doubtful', 'excellence', 'gon', 'injection', 'ix', 'targeted', 'thurs', 'bk', 'channels', 'connell', 'earthlink', 'edison', 'mkt', 'po', 'prize', 'reg', 'tahoe', 'ton', 'trips', 'workforce', 'acquisitions', 'answered', 'blood', 'cancer', 'carl', 'customized', 'elvis', 'eventually', 'greatest', 'holt', 'imbalances', 'oliver', 'promoted', 'regularly', 'rio', 'sh', 'symbol', 'temperatures', 'averaging', 'bakersfield', 'breakdown', 'cooper', 'costa', 'difficulties', 'dsc', 'entex', 'excluding', 'fifth', 'flowing', 'holdings', 'impossible', 'output', 'pct', 'reflected', 'resigned', 'rolled', 'structures', 'telecommunications', 'attorneys', 'band', 'complaint', 'connected', 'coupon', 'delta', 'disc', 'dolphins', 'extraordinary', 'freight', 'hydro', 'javascript', 'optimistic', 'sgo', 'shaun', 'sulfur', 'un', 'vary', 'brackett', 'citygate', 'electronics', 'ereports', 'fruit', 'generating', 'officially', 'roof', 'sailing', 'truth', 'comply', 'fish', 'interviewing', 'jp', 'locational', 'meanwhile', 'promise', 'prospects', 'realnetworks', 'subsequent', 'switching', 'ultimately', 'bonnie', 'exceptions', 'featuring', 'gramatica', 'jeanie', 'jimmy', 'jul', 'kathryn', 'mistake', 'republican', 'smooth', 'trevino', 'trigger', 'truck', 'understood', 'violations', 'assumed', 'attractive', 'backoffice', 'drawing', 'forbish', 'getaway', 'inconvenience', 'mandatory', 'participated', 'prospect', 'rita', 'tests', 'urgent', 'vulnerable', 'wynn', 'accommodations', 'acknowledge', 'ag', 'audience', 'chiefs', 'gpg', 'hell', 'ibuyit', 'inter', 'lang', 'lumber', 'nokia', 'nuggets', 'qualified', 'revision', 'sandy', 'soft', 'storm', 'wildcats', 'acres', 'briefing', 'creek', 'criminal', 'hilliard', 'hurry', 'impacts', 'kern', 'kitna', 'loads', 'nebraska', 'odds', 'priorities', 'prob', 'samples', 'aggressive', 'aside', 'boost', 'bright', 'communicating', 'creditors', 'dark', 'dependent', 'fiber', 'ga', 'hardy', 'manning', 'marketwatch', 'meaning', 'reps', 'sister', 'soccer', 'strip', 'taste', 'thrash', 'veronica', 'alamo', 'carried', 'consolidation', 'paris', 'recover', 'secured', 'spreadsheets', 'unclear', 'accordance', 'brawner', 'daughter', 'dayne', 'fiscal', 'garden', 'gene', 'jackie', 'nationwide', 'overtime', 'pledge', 'plummer', 'preference', 'prentice', 'preston', 'raiders', 'randall', 'rapid', 'sportingbetusa', 'tn', 'versions', 'arm', 'bath', 'bell', 'blake', 'cl', 'clippers', 'connections', 'deliveries', 'espeak', 'favorable', 'gen', 'incentive', 'julia', 'mercaldo', 'penny', 'reed', 'theater', 'trend', 'unauthorized', 'underway', 'username', 'announces', 'army', 'author', 'bls', 'championship', 'demonstrate', 'disaster', 'fbi', 'increasingly', 'jnpr', 'profiles', 'sdg', 'sectors', 'appeared', 'argentina', 'bargaining', 'begun', 'buddy', 'concur', 'consultants', 'ers', 'focusing', 'gadsden', 'inspirations', 'jhtml', 'jv', 'liabilities', 'loans', 'meaningful', 'referred', 'rushed', 'till', 'trials', 'turkey', 'ty', 'vanderbilt', 'ver', 'wise', 'agents', 'comp', 'dp', 'earliest', 'fantastic', 'fashion', 'finger', 'hayden', 'mcnown', 'memos', 'merrill', 'mostly', 'willie', 'approvals', 'arranged', 'bachelor', 'cat', 'chicken', 'coleman', 'conclusion', 'denied', 'dispatch', 'export', 'feels', 'jill', 'lexis', 'mandell', 'meters', 'myers', 'patience', 'treat', 'viruses', 'warburg', 'wishes', 'aikman', 'assistants', 'balanced', 'contamination', 'conversion', 'dept', 'duration', 'engines', 'equivalent', 'inline', 'museum', 'noise', 'portfolios', 'quickfare', 'trey', 'actively', 'anymore', 'cancun', 'cris', 'engaged', 'eve', 'famous', 'improvements', 'ins', 'islands', 'newark', 'pennsylvania', 'pieces', 'rankings', 'redir', 'voters', 'wins', 'accessible', 'browns', 'bw', 'clayton', 'cliff', 'douglas', 'editorial', 'eia', 'gordon', 'reid', 'remained', 'salomon', 'sexual', 'transco', 'upgrades', 'africa', 'anders', 'bathroom', 'boss', 'challenging', 'consensus', 'cox', 'culpepper', 'decreased', 'driven', 'gardner', 'governing', 'ham', 'hickerson', 'inclusive', 'offline', 'overnight', 'pounds', 'procurement', 'prod', 'sees', 'sutton', 'awarded', 'believed', 'blame', 'bulk', 'currentopermessages', 'deficiency', 'enjoying', 'folders', 'forecasts', 'hat', 'logging', 'miguel', 'opermessages', 'outlined', 'recession', 'suddenly', 'swing', 'uid', 'vanessa', 'ww', 'afx', 'attempting', 'bullet', 'calculate', 'causing', 'decade', 'docs', 'fa', 'formally', 'intend', 'jeremy', 'mission', 'modeling', 'movement', 'navajo', 'proceeds', 'speakers', 'stopped', 'tired', 'validation', 'vehicles', 'vi', 'wellhead', 'wesley', 'allison', 'averaged', 'bibi', 'casey', 'chevrontexaco', 'convention', 'europower', 'fcite', 'garage', 'gs', 'implementing', 'incident', 'laptop', 'lawsuits', 'logon', 'meals', 'michigan', 'politics', 'ramiro', 'responding', 'revealed', 'spe', 'specifics', 'tp', 'albert', 'alstott', 'ant', 'asks', 'beauty', 'cao', 'eu', 'female', 'finances', 'flexibility', 'formula', 'hitting', 'ht', 'lenine', 'maturity', 'onebox', 'pin', 'promo', 'separator', 'shackleton', 'sturm', 'toby', 'additions', 'autry', 'baseball', 'bengals', 'burns', 'ccite', 'deferral', 'frankfurt', 'gun', 'hoteldiscounts', 'iv', 'migrated', 'minimize', 'ot', 'peace', 'portal', 'quiet', 'sooner', 'toc', 'turner', 'wake', 'ahanchian', 'bod', 'captured', 'careful', 'chandler', 'clay', 'cms', 'codes', 'commitments', 'delays', 'forwards', 'hires', 'hubs', 'receptions', 'reviewers', 'russia', 'tower', 'village', 'wh', 'alltel', 'applewhite', 'automatic', 'boards', 'buckner', 'cabrera', 'catalog', 'concussion', 'cotton', 'earl', 'efficiency', 'glen', 'greaney', 'hasselbeck', 'mb', 'norm', 'obtaining', 'par', 'pursuant', 'reality', 'resignation', 'rodney', 'rom', 'struggling', 'visited', 'accurately', 'allan', 'arena', 'bd', 'blvd', 'collective', 'danielle', 'harvey', 'nasd', 'packers', 'proven', 'qualify', 'reportedly', 'robin', 'unfair', 'alma', 'ancillary', 'bridgeline', 'effects', 'ev', 'faced', 'forces', 'gannon', 'harvard', 'hook', 'interviewed', 'justice', 'liable', 'modification', 'norman', 'oncall', 'sharron', 'suits', 'takeover', 'torn', 'victor', 'ypc', 'albuquerque', 'assumption', 'clearance', 'commissioners', 'committees', 'enr', 'evaluated', 'fails', 'georgia', 'graphs', 'hspace', 'ismail', 'jeganathan', 'lift', 'messenger', 'mode', 'nashville', 'originators', 'pcbs', 'prizes', 'reaction', 'readers', 'worldnet', 'accessed', 'arrived', 'authorization', 'bias', 'gd', 'indication', 'insights', 'internally', 'meta', 'mixed', 'recap', 'rotations', 'separators', 'seventh', 'slight', 'specialred', 'throughput', 'upset', 'vickers', 'weekends', 'ai', 'bug', 'davies', 'defenses', 'duncan', 'gdl', 'grandfathered', 'headlines', 'hobby', 'lb', 'nobody', 'producing', 'propose', 'sm', 'staley', 'suggests', 'thrill', 'titles', 'tommy', 'ur', '.......', 'bcdata', 'benjamin', 'citigroup', 'connie', 'coordinating', 'courses', 'deeper', 'dl', 'doctor', 'donation', 'egsc', 'flexible', 'impressive', 'initiate', 'int', 'levee', 'maintained', 'marked', 'mrha', 'pls', 'powers', 'quoted', 'simmons', 'snyder', 'tycholiz', 'yield', 'afraid', 'ase', 'biakabutuka', 'citing', 'depends', 'evite', 'explained', 'incoming', 'lafontaine', 'maharashtra', 'massive', 'offerings', 'osama', 'partial', 'promptly', 'rain', 'rely', 'routes', 'ry', 'vital', 'alliant', 'bearish', 'charset', 'collapse', 'cup', 'dance', 'duran', 'ent', 'fuels', 'hang', 'jefferson', 'junk', 'kathleen', 'lessons', 'linked', 'reliantenergy', 'reputation', 'schoolcraft', 'sgp', 'sturr', 'substring', 'sweepstakes', 'tropical', 'typical', 'voluntary', 'wave', 'ages', 'alice', 'bbb', 'cm', 'curious', 'deserved', 'dudley', 'employed', 'enforcement', 'fighting', 'incorporated', 'jaguars', 'jenkins', 'lagrasta', 'momentum', 'mpr', 'mx', 'ngpl', \"o'rourke\", 'offs', 'projected', 'screens', 'seeks', 'suites', 'alerts', 'assured', 'basics', 'behavior', 'bentley', 'bonuses', 'buyout', 'danielles', 'drinking', 'earned', 'emerging', 'erv', 'invested', 'jonesgranger', 'mvp', 'ncl', 'panthers', 'plane', 'privileges', 'puc', 'res', 'scurlock', 'stretch', 'supplied', 'tables', 'targets', 'ventures', 'walking', 'wright', 'affecting', 'affiliated', 'balances', 'bi', 'bo', 'broke', 'butler', 'certificates', 'hagelmann', 'hicks', 'kaminski', 'lands', 'opposed', 'pakistan', 'philip', 'ppm', 'preserve', 'ptr', 'reimbursement', 'slone', 'vikings', 'yea', 'amarillo', 'arise', 'backed', 'battle', 'breakout', 'concluded', 'elevator', 'elite', 'essentially', 'formation', 'framework', 'hoover', 'incurred', 'methods', 'mhc', 'mirant', 'norma', 'presidential', 'recovering', 'reliance', 'scores', 'sum', 'thrown', 'viewer', 'aronowitz', 'dealings', 'demands', 'difficulty', 'disposal', 'electronically', 'fansonly', 'fleet', 'fowler', 'guides', 'jaime', 'lance', 'llp', 'lmp', 'medcalf', 'missouri', 'modules', 'opec', 'passenger', 'pocket', 'roundtable', 'ruyd', 'snake', 'spraggins', 'steelers', 'wishing', \"ya'll\", 'adopted', 'adverse', 'aggregate', 'awful', 'ballet', 'barnes', 'cancellation', 'corry', 'deadlines', 'ethics', 'hazardous', 'kriste', 'marla', 'pollard', 'profitable', 'receives', 'roman', 'sachs', 'scd', 'sponsors', 'sport', 'torrey', 'tradition', 'txu', 'vermont', 'academy', 'assumptions', 'cas', 'charlotte', 'coaching', 'combine', 'contributed', 'elected', 'enroll', 'fe', 'frt', 'honored', 'involve', 'marcelo', 'multex', 'parkway', 'poll', 'residents', 'rising', 'salt', 'sleep', 'turf', 'wit', 'yellow', 'abramo', 'baja', 'choate', 'cuellar', 'died', 'disclaimer', 'indiana', 'issuing', 'nicolay', 'pulling', 'pw', 'raises', 'reducing', 'relate', 'ufe', 'valdez', 'acquiring', 'appropriately', 'dawn', 'devices', 'ensuring', 'failing', 'identification', 'lifetime', 'loading', 'permitted', 'plc', 'powell', 'pst', 'reboot', 'regulation', 'seasons', 'slides', 'sw', 'titans', 'visor', 'confirming', 'corresponding', 'cubic', 'dream', 'experiencing', 'fail', 'fears', 'ike', 'interceptions', 'locker', 'moon', 'np', 'ourselves', 'pays', 'subcommittee', 'ahman', 'bb', 'bernacik', 'calger', 'coaches', 'comparison', 'consolidate', 'controlled', 'drill', 'entelligence', 'flip', 'hair', 'helpdesk', 'ideal', 'illinois', 'jbass', 'keystone', 'letting', 'mitch', 'nws', 'promote', 'quarters', 'seating', 'seconds', 'sierra', 'species', 'submitting', 'substantially', 'tentative', 'uncertain', 'alleged', 'amir', 'ashley', 'bedrooms', 'beneficial', 'brm', 'cafe', 'chambers', 'cleared', 'competitors', 'dining', 'dry', 'dues', 'eg', 'fleming', 'gc', 'hgm', 'hip', 'honest', 'housing', 'koenig', 'manufacturing', 'marks', 'muhsin', 'negotiating', 'opens', 'peterson', 'promotional', 'reporter', 'stv', 'unchanged', 'alot', 'analytics', 'apart', 'argument', 'coordinated', 'corrections', 'discovery', 'efct', 'flutie', 'kid', 'lindberg', 'linkfromexcel', 'mini', 'notifications', 'subsequently', 'supports', 'tes', 'tiny', 'utilizing', 'va', 'bigfootinteractive', 'bound', 'bull', 'carnival', 'cashion', 'cdt', 'discounted', 'endangered', 'gasoline', 'generes', 'hiemstra', 'importantly', 'informal', 'intensity', 'jet', 'largely', 'ls', 'magic', 'mayor', 'meredith', 'modifications', 'negotiate', 'nitrogen', 'ofo', 'preview', 'publicly', 'query', 'reaching', 'ri', 'sections', 'separation', 'shots', 'skinner', 'stick', 'suzanne', 'tana', 'theriot', 'thousand', 'twenty', 'unknown', 'unlimited', 'verification', 'afterwards', 'amsterdam', 'barker', 'bird', 'bobbi', 'cessac', 'chemical', 'clause', 'consistency', 'crook', 'esa', 'exe', 'hereby', 'kb', 'loved', 'madison', 'marie', 'moulds', 'receipts', 'reggie', 'rentals', 'rocks', 'samson', 'seasonal', 'skill', 'springs', 'supplemental', 'toys', 'wedding', 'angela', 'becker', 'charter', 'darren', 'democratic', 'dilfer', 'illegal', 'introducing', 'lights', 'mayes', 'oz', 'realized', 'sebesta', 'ses', 'television', 'terri', 'threatened', 'travelers', 'troubled', 'alternatives', 'badge', 'bucalo', 'crew', 'deq', 'evaluations', 'gateway', 'goip', 'hodges', 'intern', 'kuykendall', 'lighthouse', 'maggi', 'newswire', 'object', 'recovered', 'rejected', 'representation', 'society', 'terrie', 'validate', 'accessories', 'aucoin', 'bottle', 'buck', 'bucks', 'bunch', 'carriers', 'chinese', 'choices', 'courts', 'divided', 'esmtp', 'farmer', 'helsinki', 'hogan', 'hotdeals', 'iah', 'implications', 'ks', 'lord', 'mage', 'maps', 'milwaukee', 'patient', 'recordkeeping', 'separated', 'simon', 'sought', 'supplier', 'surface', 'accomplished', 'af', 'approaching', 'aw', 'boundary', 'charlene', 'conway', 'cpu', 'creates', 'dsl', 'exists', 'goods', 'institutions', 'italian', 'korea', 'listening', 'milnthorp', 'newest', 'outing', 'overseas', 'ramona', 'rex', 'satisfy', 'specialized', 'tha', 'trees', 'violated', 'acahanchian', 'analytical', 'attach', 'attitude', 'born', 'closure', 'enclosed', 'energynewslive', 'firstname', 'gallon', 'hearst', 'jensen', 'kristen', 'lastname', 'rare', 'sends', 'sides', 'spokeswoman', 'steffes', 'summarized', 'triple', 'turns', 'volatile', 'wars', 'winebid', 'angie', 'credibility', 'describe', 'examples', 'finder', 'fuller', 'gomez', 'impression', 'israel', 'jurevicius', 'komai', 'lock', 'maui', 'onepass', 'rentroll', 'ricki', 'riley', 'strained', 'wrap', 'younger', 'adventure', 'alive', 'av', 'belief', 'beta', 'bland', 'cds', 'concentration', 'declared', 'decrease', 'depend', 'disappointment', 'documented', 'exchanges', 'fewer', 'ignore', 'interstate', 'lindsey', 'montreal', 'nowlan', 'oversight', 'paradise', 'rapidly', 'revert', 'rika', 'slowed', 'tj', 'unusual', 'utah', 'wharton', 'alazing', 'andrews', 'announcing', 'carlos', 'chose', 'comfort', 'commercialization', 'conoco', 'counts', 'crucial', 'feed', 'flu', 'grasshopper', 'hanson', 'highlight', 'isaac', 'jamal', 'ladies', 'leonard', 'memorandum', 'mil', 'population', 'quarterbacks', 'quit', 'rec', 'spain', 'techniques', 'theme', 'tier', 'turbines', 'affects', 'amani', 'amended', 'audits', 'boone', 'butch', 'closes', 'correction', 'cumulative', 'disclose', 'dth', 'fitness', 'gpgfin', 'horton', 'ia', 'lowered', 'nominated', 'ptsize', 'reverse', 'rica', 'struggle', 'tcc', 'terminate', 'tyler', 'vancpower', 'yvette', 'ae', 'anthrax', 'arabia', 'billed', 'cult', 'deluxe', 'denise', 'deposits', 'enro', 'film', 'grown', 'hartford', 'hunt', 'inclusion', 'interconnection', 'lorraine', 'martinez', 'neg', 'observation', 'optimization', 'phantom', 'raising', 'rivers', 'routing', 'shudeish', 'shutdown', 'tagg', 'viewed', 'walden', 'warned', 'wellness', 'wilkens', 'wow', 'xml', 'authorised', 'beaches', 'collecting', 'complimentary', 'condensate', 'conjunction', 'cows', 'debate', 'democrat', 'doubletree', 'elect', 'maatman', 'mainline', 'needles', 'operated', 'reaches', 'recurring', 'rocky', 'roughly', 'selecting', 'tradersnewsenergy', 'unsub', 'warranties', 'wendy', 'alaska', 'app', 'appendix', 'buckley', 'calf', 'cuilla', 'deserve', 'dicarlo', 'diomedes', 'ease', 'expiration', 'exposures', 'harbor', 'inlet', 'interaction', 'intraday', 'licensed', 'lo', 'owed', 'perkins', 'relates', 'rowspan', 'selections', 'shaw', 'speech', 'stream', 'assign', 'avaya', 'barnard', 'barrel', 'bbl', 'cmr', 'constraints', 'exotic', 'explanations', 'freddie', 'gathered', 'hibbard', 'ids', 'jana', 'mess', 'nbateamnews', 'peer', 'principles', 'printing', 'prompted', 'pushing', 'refused', 'repeat', 'rico', 'rogas', 'rtos', 'sansserif', 'satisfaction', 'wang', 'attaching', 'commit', 'coulter', 'designate', 'docid', 'drunk', 'ds', 'electionintegrity', 'establishing', 'fi', 'griffith', 'kicker', 'kingdom', 'lawrence', 'liked', 'married', 'norwegian', 'occasion', 'ordering', 'restart', 'retreat', 'secret', 'stages', 'starters', 'suspension', 'tackle', 'thin', 'threshold', 'tion', 'tk', 'assists', 'blocked', 'canceled', 'cheers', 'cherry', 'congrats', 'consumption', 'descriptions', 'dress', 'goode', 'gourmet', 'jazz', 'lin', 'mastercard', 'merry', 'opted', 'pickup', 'remarks', 'scholarships', 'sing', 'sony', 'tap', 'ti', 'torry', 'unlike', 'wisconsin', 'woods', 'admit', 'arms', 'cornfield', 'differ', 'disease', 'ereport', 'faculty', 'fitch', 'holders', 'hosted', 'icon', 'infinity', 'maintaining', 'manufacturer', 'moorer', 'pk', 'pop', 'projections', 'protest', 'refund', 'shane', 'slot', 'sprint', 'stating', 'swbell', 'train', 'vaughan', 'wages', 'withdrawal', 'buildings', 'cabernet', 'carrier', 'competitor', 'consistently', 'deborah', 'enhancement', 'gaming', 'handspring', 'impressed', 'knicks', 'les', 'linebacker', 'oslo', 'scientech', 'sipc', 'specialists', 'throws', 'upside', 'visitors', 'wellesley', 'advertise', 'advisor', 'aerial', 'agua', 'appreciation', 'argue', 'coral', 'cordially', 'derek', 'drafted', 'elements', 'evaluating', 'jointly', 'makers', 'maximize', 'mortgage', 'parks', 'presidents', 'recruit', 'richter', 'signal', 'starwood', 'stdauto', 'temperature', 'tracey', 'victims', 'visible', 'wallace', 'wil', 'acting', 'advisors', 'agrees', 'brothers', 'carlton', 'cayman', 'cedric', 'crockett', 'denny', 'desired', 'discretion', 'doors', 'exports', 'grants', 'hottest', 'investigations', 'lane', 'lydia', 'manually', 'maureen', 'obidos', 'occasionally', 'prospective', 'prudential', 'questionnaire', 'replied', 'resid', 'satisfactory', 'scrimmage', 'senator', 'severe', 'sky', 'trademark', 'urged', 'utilization', 'waived', 'analyze', 'australian', 'billions', 'birth', 'burke', 'cgoering', 'characteristics', 'chevron', 'cibc', 'contractual', 'corestaff', 'dat', 'dawkins', 'financials', 'imposed', 'jugg', 'limitations', 'lynda', 'ontario', 'protocol', 'recruiter', 'redeem', 'reporters', 'rome', 'shoot', 'shower', 'sir', 'spin', 'stands', 'stayed', 'superior', 'verbal', 'villarreal', 'adt', 'bargain', 'cade', 'campaignmanager', 'confused', 'crowd', 'digitalimpact', 'embassy', 'filling', 'frequent', 'getimage', 'guru', 'hasan', 'hong', 'introduced', 'investigate', 'ira', 'katy', 'ky', 'lateral', 'laundry', 'mcknight', 'mws', 'nordic', 'packet', 'payout', 'quigley', 'shipment', 'vpn', 'weapons', \"'em\", 'aircraft', 'awesome', 'beasley', 'breaks', 'bubba', 'calculating', 'congratulate', 'crawford', 'deemed', 'dozen', 'enabled', 'fastweb', 'historic', 'hoped', 'iris', 'janice', 'kicked', 'maintains', 'mccaffrey', 'merlot', 'metafile', 'metro', 'oc', 'operators', 'oracle', 'ought', 'ours', 'postseason', 'sidelines', 'strikes', 'ticketless', 'xl', 'accepting', 'breaker', 'columnists', 'denne', 'die', 'farm', 'francis', 'fuck', 'gautam', 'issn', 'mdq', 'med', 'minter', 'mistakes', 'observations', 'parameters', 'physically', 'repay', 'sacks', 'spaces', 'sq', 'stephens', 'sys', 'tasting', 'thx', 'tulsa', 'unsecured', 'viable', 'void', 'wagner', 'wanna', 'wearing', 'adobe', 'bets', 'cardinals', 'christa', 'context', 'dominion', 'feeds', 'forever', 'furthermore', 'gem', 'gis', 'globe', 'grateful', 'huynh', 'intercontinental', 'keller', 'lkf', 'luce', 'patten', 'reforms', 'rolls', 'searching', 'wires', 'aggies', 'arbetter', 'bastards', 'berney', 'corporations', 'cpuc', 'deciding', 'donnita', 'elegant', 'flavors', 'forma', 'headquarters', 'ies', 'jessica', 'lady', 'laurel', 'likes', 'listings', 'neville', 'organize', 'overrun', 'practical', 'publishing', 'reese', 'responsive', 'sbct', 'spergon', 'stepped', 'struggled', 'tii', 'travels', 'troubles', 'wanting', 'westin', 'winckowski', 'andre', 'authorities', 'bulls', 'capable', 'colin', 'corpus', 'ddvc', 'drivers', 'dvds', 'faxed', 'gillette', 'holland', 'hunting', 'injections', 'layoffs', 'mcevoy', 'minority', 'norton', 'reorganization', 'restaurants', 'restructure', 'scanned', 'shorts', 'shults', 'simultaneously', 'snaps', 'superbowl', 'willis', 'worksheet', 'blockbuster', 'buses', 'companion', 'composite', 'conservative', 'considerable', 'disabilities', 'excluded', 'expire', 'exxon', 'gel', 'glisan', 'herber', 'iowa', 'janikowski', 'kuehl', 'locate', 'modem', 'mta', 'mulligan', 'nominate', 'profitability', 'removing', 'renegotiate', 'salaries', 'serves', 'slip', 'spencer', 'stakeholders', 'steady', 'tentatively', 'transitional', 'universal', 'wt', 'apparent', 'appeal', 'avantgo', 'calif', 'character', 'coffee', 'convinced', 'crystal', 'diesel', 'doggett', 'enerfax', 'falcons', 'fdic', 'fisher', 'floating', 'gamble', 'lindy', 'logs', 'louisville', 'meets', 'megawatts', 'objects', 'plove', 'ranch', 'ranging', 'reflecting', 'regency', 'roensch', 'solar', 'spiller', 'spots', 'stronger', 'surf', 'tape', 'theatre', 'tran', 'ubsw', 'utilicorp', 'ace', 'banner', 'budgets', 'cisco', 'clinic', 'combining', 'dealer', 'emphasis', 'fidelity', 'forthcoming', 'globalco', 'imag', 'incorrectly', 'interpretation', 'kit', 'mailinfo', 'neighborhood', 'outlet', 'recpt', 'saint', 'stopover', 'thigh', 'tix', 'wholly', 'adeskb', 'admitted', 'ah', 'aim', 'allocate', 'bankers', 'burning', 'ccw', 'circle', 'complicated', 'condo', 'correspondence', 'dashboard', 'delivers', 'dulce', 'edrp', 'engage', 'evil', 'explaining', 'gapinski', 'gorny', 'grew', 'hole', 'informative', 'intelligent', 'kickoff', 'kirby', 'legally', 'maxwell', 'navy', 'pathon', 'plaintiff', 'possibilities', 'proceedings', 'qaeda', 'replacing', 'routine', 'sixth', 'skip', 'sloan', 'splash', 'temporarily', 'ticker', 'tuned', 'vicki', 'videos', 'vlady', 'walt', 'worries', 'zealand', 'accused', 'apartments', 'brookins', 'bs', 'buccaneers', 'clapper', 'coding', 'conservation', 'crossing', 'dans', 'def', 'developers', 'disregard', 'dj', 'doe', 'downside', 'farragut', 'finishing', 'forming', 'fulfill', 'huh', 'imai', 'innovation', 'involves', 'joke', 'keyshawn', 'kong', 'landing', 'martz', 'mouse', 'nsps', 'opposition', 'pan', 'plastics', 'predict', 'prevailing', 'pride', 'princess', 'princeton', 'rail', 'rev', 'shorter', 'sont', 'verified', 'voted', 'watcher', 'winfrey', 'allegations', 'assessed', 'benchmark', 'booth', 'btu', 'computing', 'converted', 'cramer', 'defend', 'definitive', 'destroy', 'drafts', 'exclusively', 'exhibit', 'glass', 'hakim', 'holmgren', 'industrials', 'interception', 'ire', 'josh', 'latin', 'legislature', 'liberal', 'marsters', 'measured', 'minneapolis', 'mouth', 'networking', 'neuner', 'ore', 'probability', 'raptor', 'ratliff', 'richmond', 'rumors', 'savita', 'socalgas', 'somehow', 'succeed', 'tradersnewspower', 'understands', 'administrators', 'approached', 'authorize', 'bates', 'brien', 'ci', 'complaints', 'con', 'config', 'enables', 'excavation', 'financially', 'franklin', 'franks', 'hamilton', 'har', 'heathman', 'hydrocarbons', 'inflation', 'isda', 'jacques', 'lakers', 'lbs', 'longhorn', 'mapping', 'meal', 'mitigate', 'ngas', 'othersite', 'peaker', 'plunged', 'portable', 'proposition', 'sauvignon', 'schoppe', 'scroll', 'sharperimage', 'shoes', 'specially', 'tangie', 'tend', 'terrace', 'terrific', 'tolerance', 'unused', 'vip', 'vlink', 'winters', 'ak', 'anonymous', 'cob', 'concentrations', 'connectivity', 'des', 'didn', 'doctors', 'downgrades', 'dsourceva', 'du', 'edgar', 'examine', 'flowgates', 'halloween', 'haven', 'hess', 'highlighted', 'investools', 'kingman', 'maggie', 'massey', 'mirror', 'neighbors', 'passwords', 'payables', 'pops', 'ppa', 'printer', 'ranelle', 'rounds', 'rude', 'semin', 'shapiro', 'slump', 'smoke', 'tbd', 'tender', 'transcript', 'tucker', 'ugly', 'voting', 'workload', 'zones', 'acrobat', 'aimr', 'appointments', 'archive', 'arguments', 'arriving', 'bahamas', 'bayou', 'bg', 'bldg', 'broader', 'callans', 'casual', 'cdnow', 'celebrating', 'cory', 'critics', 'cuz', 'dd', 'deliverables', 'destruction', 'donahue', 'explains', 'filters', 'flaw', 'insider', 'ish', 'jafry', 'ke', 'kidsave', 'lonestarmusic', 'mcdonald', 'ngl', 'nwng', 'offshore', 'passcode', 'pueblo', 'pushed', 'ravi', 'remedy', 'replies', 'russ', 'scheme', 'terrible', 'tetco', 'turbotax', 'unleaded', 'victoria', 'wildlife', 'woertz', 'atlantic', 'chain', 'charger', 'circulated', 'claimed', 'claudia', 'conf', 'convertible', 'deferred', 'derivative', 'editors', 'empty', 'false', 'fedex', 'ferguson', 'gdp', 'hirl', 'lamphier', 'legacy', 'lion', 'marlin', 'mvc', 'opposite', 'pdx', 'pham', 'pickens', 'playersonly', 'pwcglobal', 'regret', 'religious', 'rib', 'slowly', 'spanish', 'stood', 'suffer', 'thebiz', 'treasurer', 'unprecedented', 'voc', 'withholding', 'attanasio', 'badeer', 'ballroom', 'browse', 'burn', 'colleen', 'compiled', 'cornerback', 'darnell', 'davidson', 'ddglszs', 'desperate', 'di', 'discretionary', 'drops', 'educational', 'equiv', 'expectation', 'faq', 'fraud', 'fro', 'funkhouser', 'geynille', 'harder', 'identifies', 'indicating', 'intention', 'jermaine', 'latter', 'logged', 'loose', 'mad', 'nl', 'nursing', 'patel', 'pizza', 'pound', 'protecting', 'pure', 'seminars', 'sentence', 'shore', 'tawney', 'tee', 'unix', 'achieved', 'african', 'aires', 'amendments', 'assisting', 'barrels', 'bpd', 'buenos', 'csfb', 'dynamic', 'edt', 'ftr', 'galveston', 'hence', 'imports', 'intellectual', 'interfaces', 'irma', 'katherine', 'kidding', 'kohn', 'lubbock', 'meyer', 'mill', 'nortel', 'obsf', 'postponed', 'providence', 'resident', 'revise', 'rudy', 'stable', 'stays', 'tries', 'triggered', 'wchp', 'wealth', 'wizard', 'yardage', 'accountability', 'ami', 'approaches', 'attempted', 'bothered', 'brennan', 'bret', 'cement', 'cfr', 'compile', 'crane', 'cycles', 'damn', 'dolphin', 'dubai', 'elam', 'emc', 'emily', 'erequest', 'extending', 'fmla', 'hansen', 'herald', 'holcombe', 'hunton', 'lauren', 'lim', 'lme', 'mechanism', 'nepool', 'nevada', 'penn', 'personalized', 'pinot', 'prevented', 'prospectus', 'pursuing', 'receivables', 'referring', 'refined', 'rk', 'satisfied', 'shirts', 'sporting', 'stupid', 'subscriptions', 'vladimir', 'archives', 'backing', 'broadcast', 'brock', 'broderick', 'carat', 'cluster', 'convert', 'counties', 'cute', 'disability', 'disney', 'ek', 'encouraging', 'entirely', 'erisa', 'erland', 'excuse', 'explosive', 'exposed', 'factory', 'georgeanne', 'graves', 'hayslett', 'huntley', 'kordell', 'label', 'lesson', 'lucas', 'marginal', 'melodick', 'metrics', 'muscle', 'naomi', 'natgas', 'palace', 'ppmvd', 'privilege', 'pub', 'publish', 'rescue', 'rhodes', 'roper', 'russian', 'slam', 'ssctech', 'streets', 'surely', 'temp', 'tf', 'tribolet', 'wasaff', 'acted', 'aimed', 'apologies', 'argent', 'calc', 'carsons', 'cellular', 'cha', 'chantelle', 'clara', 'connevey', 'correlation', 'dating', 'dedication', 'defining', 'demonstration', 'disclosures', 'dwight', 'editions', 'equally', 'ethink', 'evergreen', 'figured', 'fmtstr', 'hanse', 'hines', 'imperative', 'invites', 'johnnie', 'jumped', 'liberty', 'margins', 'mcclellan', 'mri', 'multipart', 'obj', 'ow', 'papers', 'productivity', 'proposing', 'references', 'repair', 'rmt', 'scene', 'somebody', 'submittal', 'ties', 'totaling', 'vast', 'alberta', 'alleging', 'antitrust', 'appearance', 'applying', 'attract', 'benched', 'bermuda', 'bone', 'boudreaux', 'cabinet', 'carey', 'crown', 'deffner', 'deserves', 'dual', 'engagement', 'enormous', 'episode', 'erwin', 'exceeded', 'gupta', 'holly', 'hollywood', 'independence', 'informational', 'invoicing', 'joanne', 'joey', 'kickers', 'lehman', 'lilly', 'lslwk', 'manages', 'mathews', 'mcgowan', 'oati', 'omahasteaks', 'pmcs', 'proof', 'pump', 'rodriquez', 'satellite', 'scan', 'soeldner', 'sorenson', 'stability', 'stacy', 'stored', 'strain', 'accord', 'aggie', 'amex', 'basket', 'bbc', 'beuerlein', 'bow', 'chips', 'circulate', 'cps', 'cultural', 'daddy', 'devil', 'discontinue', 'efm', 'eh', 'employ', 'flt', 'fool', 'gear', 'gg', 'incur', 'inspections', 'jurisdiction', 'kaufman', 'kentucky', 'killing', 'legislative', 'lifestyle', 'male', 'massachusetts', 'matched', 'moses', 'navigate', 'pac', 'pair', 'perfmgmt', 'pointed', 'portions', 'promises', 'ques', 'rgc', 'rly', 'similarly', 'stern', 'struggles', 'synthetic', 'underground', 'visits', 'wolf', '........', 'acct', 'acreage', 'arthurandersen', 'assurance', 'butcher', 'docket', 'elsa', 'envision', 'exploring', 'finest', 'fishing', 'governance', 'historically', 'investigating', 'ireland', 'kate', 'klein', 'leff', 'leon', 'lober', 'mergers', 'naked', 'operates', 'oronde', 'performances', 'rfp', 'startdoc', 'streaming', 'surprises', 'terminations', 'ul', 'variable', 'voter', 'wash', 'washingtonpost', 'widely', 'actives', 'admission', 'alink', 'appointed', 'arab', 'businesswire', 'caninesolutions', 'clickpaper', 'clock', 'cure', 'curtailment', 'daren', 'deployment', 'diabetes', 'displaying', 'dll', 'dowjones', 'ec', 'element', 'existence', 'fools', 'forecasting', 'gh', 'jesse', 'lined', 'mac', 'merchanting', 'merely', 'mln', 'osha', 'paypal', 'platforms', 'raj', 'respects', 'salesperson', 'shanker', 'sharply', 'signoff', 'standings', 'sylvester', 'terrorists', 'thi', 'tomlinson', 'ust', 'vii', 'wider', 'alvarez', 'assessing', 'climate', 'clothes', 'concepts', 'copper', 'corps', 'diluted', 'docnum', 'donoho', 'downturn', 'easiest', 'eliminated', 'gut', 'holst', 'hotw', 'judgement', 'klap', 'mall', 'minimal', 'nose', 'otcjournal', 'palo', 'paperwork', 'placing', 'plaintiffs', 'plauche', 'pools', 'redraw', 'retained', 'ridge', 'sce', 'startchk', 'stimulus', 'stones', 'terrence', 'accelerate', 'aids', 'assisted', 'betty', 'bike', 'cantrell', 'classmates', 'cleanup', 'comm', 'contests', 'contrary', 'coupons', 'crd', 'credited', 'dfull', 'discharge', 'dol', 'eisenstein', 'elyse', 'enthusiasm', 'eunice', 'excitement', 'experiences', 'fletch', 'flood', 'giambrone', 'graduates', 'horizon', 'indicative', 'intense', 'jamie', 'keen', 'kinds', 'lab', 'louie', 'mcmichael', 'mediation', 'moral', 'nedney', 'nurses', 'nutcracker', 'ocd', 'oppose', 'parallel', 'postings', 'relation', 'sage', 'steaks', 'styles', 'supportive', 'surprisingly', 'suspected', 'symphony', 'toni', 'trucks', 'urge', 'valentine', 'walked', 'architect', 'automation', 'bankrupt', 'basin', 'cheer', 'constructed', 'dist', 'ep', 'equities', 'exceptional', 'extreme', 'favorites', 'gibson', 'hathaway', 'ibm', 'ic', 'iron', 'kimble', 'occupancy', 'outlines', 'pamela', 'pcs', 'permanently', 'pf', 'php', 'phy', 'pic', 'pointing', 'possession', 'qatar', 'ra', 'redenvelopegifts', 'redirect', 'retransmission', 'squeeze', 'standardized', 'streamline', 'ticketmaster', 'trv', 'tt', 'tues', 'valeria', 'verbally', 'vinny', 'violate', 'ws', 'accident', 'acts', 'ada', 'alright', 'approximate', 'bbls', 'becht', 'boeing', 'cam', 'carmen', 'chardonnay', 'cio', 'courtesy', 'dreams', 'dtd', 'efs', 'eur', 'ew', 'expenditures', 'foam', 'forgotten', 'gaskill', 'ian', 'infusion', 'inquire', 'keyword', 'lean', 'lid', 'lohman', 'maryland', 'onsite', 'owen', 'polls', 'pumps', 'recipe', 'renewal', 'sammy', 'segments', 'semi', 'stabilized', 'timelines', 'tor', 'transparent', 'weekdays', 'wesner', 'whitehead', 'woody', 'wycheck', 'afl', 'aqb', 'brick', 'brogan', 'calme', 'causes', 'constrained', 'crowell', 'dbaughm', 'eagle', 'exemption', 'finalizing', 'frankly', 'incomplete', 'indicators', 'justify', 'kero', 'kirkpatrick', 'kris', 'lan', 'marriott', 'mart', 'mckinney', 'merge', 'nervous', 'ngx', 'nron', 'pdt', 'pho', 'plainview', 'powered', 'prison', 'punch', 'questioned', 'retroactive', 'ringblom', 'rollout', 'sanchez', 'schmidt', 'spectacular', 'statewide', 'stopping', 'stressed', 'switches', 'tailgate', 'teacher', 'teachers', 'testaverde', 'tougher', 'wheeler', 'writer', 'advertisers', 'bilateral', 'biological', 'bln', 'bobby', 'celebrity', 'cfa', 'clerk', 'coastal', 'coats', 'colors', 'constantly', 'desmond', 'dis', 'fabulous', 'fatal', 'foods', 'garrison', 'gate', 'happenings', 'hidden', 'janine', 'jdrf', 'keiser', 'killers', 'laugh', 'launching', 'moreno', 'nh', 'obrien', 'observers', 'ol', 'opponent', 'origin', 'ports', 'poullain', 'quickfares', 'refresh', 'reviewer', 'rj', 'sb', 'schwarz', 'silverman', 'sits', 'specify', 'succession', 'tune', 'vietnam', 'waha', 'warehouse', 'weird', 'wing', 'wipe', 'ye', 'acevedo', 'agreeing', 'alternatively', 'amber', 'approving', 'array', 'awhile', 'balls', 'blocking', 'concentrate', 'consequently', 'contracting', 'controlling', 'debts', 'dee', 'doesn', 'drafting', 'ectric', 'eta', 'fitzgerald', 'formats', 'galen', 'hanagriff', 'indemnification', 'interconnects', 'inventories', 'kinser', 'leo', 'mathis', 'measurements', 'mild', 'mobil', 'outperform', 'personals', 'postmaster', 'precious', 'rabbi', 'refers', 'riedel', 'shelby', 'shulklapper', 'silver', 'solve', 'stover', 'terror', 'theory', 'variance', 'verde', 'woes', 'wonders', 'afc', 'airmail', 'anxious', 'arkansas', 'aspect', 'assumes', 'atc', 'awareness', 'banged', 'bugs', 'butinfo', 'constraint', 'denron', 'dest', 'developer', 'dip', 'donate', 'drives', 'elbow', 'eps', 'esther', 'exam', 'excite', 'exclude', 'exercises', 'focuses', 'fullback', 'gibbs', 'giron', 'handed', 'hav', 'ibit', 'internship', 'kaiser', 'kathie', 'kicking', 'levens', 'lqcolombo', 'midamerican', 'ministry', 'mismatch', 'modern', 'nearby', 'nicki', 'obligated', 'pierce', 'plastic', 'premiums', 'reimburse', 'shepherd', 'slowdown', 'stuck', 'summarize', 'sylvia', 'terraso', 'ttc', 'visitor', 'wet', 'wk', 'acc', 'activate', 'architecture', 'ban', 'bitch', 'calibration', 'columns', 'controversy', 'counterparts', 'cousino', 'darron', 'deny', 'departures', 'deployed', 'digest', 'disagree', 'earning', 'eeshou', 'equiva', 'fault', 'fits', 'fossum', 'ftrs', 'furnished', 'gaap', 'galloway', 'gillespie', 'gr', 'hopeful', 'invitations', 'juniper', 'kedwaii', 'kw', 'lived', 'lse', 'moreover', 'msa', 'nevertheless', 'newspapers', 'officialized', 'partly', 'paycheck', 'permian', 'reasonably', 'receivable', 'rn', 'ryder', 'schwieger', 'shanahan', 'sic', 'slower', 'spare', 'sprain', 'strengthen', 'tbs', 'topping', 'transcanada', 'trivia', 'ubswenergy', 'unsure', 'vspace', 'websites', 'wisdom', 'worldcom', 'accountants', 'achievement', 'adrianne', 'aec', 'afp', 'banker', 'bauer', 'britain', 'capitol', 'carswell', 'constitute', 'costly', 'crash', 'css', 'defer', 'durham', 'dykes', 'emailed', 'forbes', 'frerotte', 'greenberg', 'guggenheim', 'hottap', 'huard', 'jacqueline', 'jdf', 'lufthansa', 'mahoney', 'marcos', 'marion', 'merchandise', 'merchants', 'newscast', 'ngo', 'odessa', 'pattern', 'pnr', 'programming', 'railroad', 'realplayer', 'rebound', 'recruitment', 'redundancy', 'renewed', 'santiago', 'sink', 'string', 'suggesting', 'thomson', 'tiki', 'tucson', 'whereby', 'adapt', 'aes', 'armed', 'assembly', 'biz', 'boots', 'bt', 'cfaprogram', 'clardy', 'comparable', 'contracted', 'cyrus', 'danger', 'dealt', 'demanding', 'deutsche', 'dismissed', 'ecc', 'expired', 'gaining', 'generous', 'gonzales', 'granting', 'guessing', 'headline', 'hills', 'hotline', 'incredibly', 'individually', 'iptv', 'jokes', 'laurie', 'machines', 'mainly', 'manchester', 'monkeys', 'montana', 'ncaa', 'nets', 'noble', 'occasions', 'organizing', 'parra', 'raleigh', 'rings', 'sekse', 'seleznov', 'semester', 'sen', 'sj', 'skiing', 'spwy', 'stadium', 'statistical', 'strange', 'timesheet', 'trailing', 'ubspainewebber', 'vincent', 'achieving', 'anticipation', 'apple', 'approves', 'ax', 'blown', 'boise', 'celeste', 'christy', 'colored', 'commissions', 'comprised', 'cooking', 'coon', 'dayao', 'declines', 'dessert', 'disruption', 'eds', 'engram', 'era', 'grass', 'gunther', 'hamlin', 'herman', 'kile', 'lbmp', 'lemmons', 'maine', 'mangum', 'mental', 'moran', 'morse', 'narrow', 'nate', 'newman', 'nigel', 'nom', 'ov', 'oversee', 'promoting', 'richards', 'sql', 'steele', 'tabs', 'tribe', 'warranty', 'weinke', 'yd', 'abu', 'aj', 'akamai', 'ali', 'applicants', 'arbitrage', 'bnpparibas', 'caring', 'charity', 'coalition', 'conclude', 'congressional', 'continent', 'dba', 'describes', 'digit', 'disseminate', 'ecar', 'edgerrin', 'fdd', 'feasibility', 'fp', 'fy', 'garland', 'gloria', 'greeting', 'homepage', 'identical', 'inbound', 'isn', 'janie', 'jeanne', 'kalen', 'koehler', 'laurent', 'legendary', 'locked', 'maher', 'mccarty', 'mso', 'navigation', 'nce', 'ninth', 'nonetheless', 'occurring', 'overwhelming', 'pipes', 'ppi', 'predicted', 'ramesh', 'realistic', 'recording', 'regan', 'replying', 'restated', 'rhonda', 'sad', 'sears', 'slots', 'smartreminders', 'spatti', 'springfield', 'standpoint', 'stellar', 'su', 'templates', 'thuraisingham', 'tracker', 'transferring', 'uncomfortable', 'unrestricted', 'upload', 'zd', 'zimmerman', 'aquila', 'arrested', 'awaiting', 'bargains', 'breast', 'burden', 'buttype', 'chddh', 'cited', 'clearstation', 'coe', 'concrete', 'connecting', 'cream', 'dealers', 'demons', 'dewaynes', 'disklayout', 'dolan', 'economists', 'effectiveness', 'fangming', 'footnote', 'forcing', 'gadd', 'gail', 'glory', 'harm', 'hdg', 'hedged', 'hype', 'inability', 'incentives', 'kalmans', 'karl', 'legale', 'maxdisc', 'onshore', 'outs', 'paige', 'pleus', 'prevention', 'protests', 'proved', 'relax', 'republicans', 'schultea', 'schwab', 'shed', 'slater', 'timeframe', 'tours', 'trevor', 'tribune', 'txt', 'urging', 'usemap', 'virgin', 'warrant', 'whoever', 'xfercite', 'zqmpq', 'adult', 'ate', 'beers', 'bite', 'bmw', 'boswell', 'brain', 'carlson', 'carney', 'chen', 'clubs', 'considerably', 'contingent', 'couch', 'dir', 'displays', 'donnell', 'dworkin', 'enronoptions', 'erik', 'fgt', 'firing', 'freeze', 'gandy', 'graph', 'habitat', 'instrumental', 'kennison', 'ksu', 'labels', 'loves', 'megan', 'mou', 'nicely', 'pagan', 'palazzo', 'payne', 'peoples', 'quantitative', 'recognizing', 'republic', 'robust', 'sentiment', 'shy', 'simpson', 'successes', 'sued', 'surge', 'switched', 'teach', 'territory', 'underwent', 'underwriting', 'unlawful', 'zufferli', 'accelerated', 'accountable', 'acknowledged', 'adewumi', 'analyzing', 'apprised', 'badly', 'bars', 'betancourt', 'blast', 'bot', 'butnum', 'callahan', 'cary', 'charming', 'cline', 'clips', 'closet', 'conferences', 'conservancy', 'consist', 'consists', 'cont', 'decorations', 'defendants', 'detmering', 'disappointing', 'doctype', 'drawn', 'elaine', 'fairmont', 'ffff', 'followup', 'ginger', 'hardly', 'hewitt', 'household', 'instructed', \"int'l\", 'interact', 'latham', 'lucent', 'magazines', 'marilyn', 'mccardell', 'midway', 'mississippi', 'monster', 'nisource', 'notestine', 'nova', 'oxy', 'pas', 'paulo', 'pearson', 'pgas', 'pig', 'pribble', 'rachel', 'rays', 'regis', 'reject', 'shortage', 'slated', 'strangmeier', 'suzanna', 'tanya', 'threats', 'trillion', 'ue', 'unacceptable', 'uncle', 'utilized', 'willingness', 'accompany', 'allegedly', 'beaver', 'boyd', 'cameron', 'candy', 'caplan', 'carroll', 'cccccc', 'claus', 'cleaned', 'defazio', 'definitions', 'destroyed', 'dig', 'dolores', 'eas', 'engineers', 'findlaw', 'frustration', 'gambling', 'gus', 'haul', 'hillary', 'homework', 'hundred', 'judges', 'lastly', 'ligament', 'lindsay', 'luggage', 'mendez', 'milk', 'nid', 'nmed', 'opponents', 'passengers', 'pertaining', 'peyton', 'porch', 'prepay', 'reconcile', 'recounts', 'reminded', 'schaffer', 'scheduler', 'schulte', 'scripts', 'sk', 'strengths', 'struck', 'sustained', 'ter', 'thorough', 'trucking', 'vend', 'villanueva', 'vols', 'akili', 'aluminum', 'argentinc', 'arrives', 'betting', 'blackout', 'borrow', 'cabin', 'canyon', 'concede', 'corruption', 'corteselli', 'damons', 'daunte', 'declare', 'deductions', 'desirable', 'detected', 'dlrs', 'dominant', 'emerge', 'extract', 'fc', 'fence', 'founded', 'graduation', 'ja', 'jfields', 'lengthy', 'lone', 'mdea', 'merits', 'mood', 'mtbe', 'needing', 'nicholas', 'nrg', 'oilstates', 'pensions', 'queue', 'realjukebox', 'sack', 'seal', 'shortages', 'shuttle', 'supporters', 'tariffs', 'tea', 'teleconference', 'tradersnewsindexes', 'transparency', 'undertaken', 'wacker', 'wd', 'whilst', 'zonal', 'accounted', 'affirmative', 'arising', 'autoweb', 'beating', 'carlyle', 'charging', 'configured', 'controversial', 'csv', 'cts', 'darlene', 'elimination', 'enl', 'entrance', 'exceeds', 'fancy', 'feast', 'frustrating', 'fs', 'garza', 'gualy', 'harold', 'indications', 'intel', 'locks', \"ma'afala\", 'mega', 'mercer', 'nextcard', 'notch', 'ons', 'organisation', 'ozzie', 'plachy', 'platinum', 'pose', 'probe', 'pulse', 'qualifications', 'quietly', 'raffle', 'residual', 'root', 'scrutiny', 'sewell', 'sons', 'spacious', 'tba', 'threatening', 'transacted', 'twh', 'underline', 'uniform', 'urban', 'wallet', 'winfreestuff', 'yankee', 'zhiyong', 'adults', 'advances', 'aggregated', 'airways', 'argued', 'bounce', 'butinline', 'butstat', 'buttontflink', 'caller', 'cates', 'checklist', 'clientserv', 'cookies', 'dbuy', 'decides', 'deville', 'dropping', 'eess', 'eliminating', 'emerald', 'exes', 'expedite', 'feeleys', 'fuamatu', 'honey', 'honolulu', 'instances', 'kings', 'lori', 'loser', 'manufacturers', 'mcauliffe', 'mining', 'msg', 'nrgenergy', 'outdoor', 'overcome', 'piping', 'rabon', 'refinery', 'rer', 'reset', 'riding', 'robb', 'sal', 'serc', 'slipped', 'steal', 'suarez', 'suppose', 'surprising', 'thereby', 'thirds', 'timesheets', 'universe', 'unwind', 'vms', 'wg', 'winston', 'yields', 'ameritrade', 'apachi', 'appraisal', 'arb', 'barrow', 'belichick', 'bloom', 'burbank', 'burnett', 'byrd', 'cabos', 'carrillo', 'cautious', 'chang', 'compromise', 'coralie', 'dalton', 'delicious', 'denvers', 'elk', 'expensexms', 'fagan', 'fanatics', 'ferrous', 'fleischer', 'grabstald', 'hearts', 'ih', 'inappropriate', 'insert', 'inserted', 'institutional', 'ka', 'kam', 'kpmg', 'likewise', 'limitation', 'lynne', 'mollie', 'munich', 'municipal', 'niagara', 'packed', 'paint', 'particulate', 'patients', 'pilots', 'pistons', 'pitch', 'pnm', 'preseason', 'publisher', 'quebec', 'rieker', 'roan', 'romantic', 'sanjay', 'showdown', 'supplying', 'survive', 'tata', 'tenure', 'thornton', 'thresa', 'tracks', 'tragedy', 'transact', 'tws', 'unbiased', 'unhappy', 'vessel', 'weakness', 'workout', \"y'\", 'za', 'absolute', 'aq', 'banc', 'bat', 'berlin', 'birmingham', 'bpryj', 'canidate', 'captain', 'cien', 'connecticut', 'constant', 'continuous', 'contributing', 'crm', 'daw', 'defaults', 'distillate', 'eog', 'ere', 'fame', 'fancler', 'float', 'fracture', 'frontcourt', 'gmat', 'hollis', 'idrc', 'independently', 'indexdetail', 'intercompany', 'janette', 'juice', 'kelley', 'klagetoh', 'laying', 'ldc', 'lies', 'maltby', 'mcdyess', 'mgusa', 'minnis', 'mlnum', 'motor', 'opp', 'pederson', 'pulls', 'ram', 'rangers', 'reis', 'relocation', 'ridiculous', 'rm', 'rotate', 'schuler', 'scoop', 'scorer', 'shea', 'sucks', 'suspend', 'timetable', 'upm', 'vaccine', 'wb', 'weighed', 'wherever', 'worthy', 'wrist', 'yeo', 'addressee', 'aglc', 'als', 'aviation', 'belize', 'benz', 'blanket', 'capturing', 'charla', 'claiming', 'communities', 'coordinators', 'copp', 'cx', 'deck', 'delhi', 'desert', 'discusses', 'diverse', 'downloaded', 'dunk', 'ef', 'erin', 'fastest', 'fproduct', 'governments', 'hanging', 'hannon', 'hung', 'kicks', 'kilmer', 'layouts', 'legitimate', 'lenny', 'lows', 'marine', 'matson', 'mccormick', 'mercury', 'monte', 'newsdesk', 'patch', 'pie', 'pleasant', 'poep', 'propane', 'qfsearch', 'representations', 'reside', 'restored', 'restrictive', 'rodeo', 'sharperimagespecials', 'shusser', 'siebel', 'sophisticated', 'stevenson', 'substantive', 'sugar', 'suitable', 'swiss', 'thigpen', 'thinkbank', 'turret', 'twelve', 'warriors', 'webmaster', 'wessex', 'widespread', 'afghan', 'ameren', 'angel', 'anr', 'atkins', 'auditors', 'baseline', 'ble', 'blend', 'breslau', 'bulletins', 'calm', 'charitable', 'chkpt', 'conclusions', 'contention', 'declining', 'defending', 'delaine', 'describing', 'dorothy', 'efficiencies', 'endif', 'enforce', 'eprocurement', 'ermis', 'esp', 'feelings', 'fold', 'geared', 'grilled', 'hbk', 'hillis', 'horns', 'illness', 'instantly', 'ity', 'katz', 'knock', 'krobb', 'lorenz', 'mandated', 'mann', 'mccurley', 'netscape', 'noting', 'observer', 'ordinary', 'packets', 'paladino', 'panic', 'placement', 'planters', 'programme', 'qadry', 'queries', 'quickinspirations', 'rejects', 'repayment', 'resend', 'restatement', 'royjshanker', 'sao', 'scrap', 'sharper', 'spell', 'stanford', 'suisse', 'summarizes', 'svc', 'tate', 'treating', 'tumble', 'turnovers', 'vcf', 'vodka', 'westheimer', 'wgr', 'adopt', 'armstrong', 'arto', 'bdpkj', 'bible', 'bordercolor', 'bridges', 'brunch', 'burned', 'burton', 'centre', 'cf', 'climbed', 'cnnfn', 'completeness', 'completes', 'continually', 'ding', 'emerged', 'encountered', 'essence', 'exeloncorp', 'exhibition', 'fazande', 'fea', 'fitzpatrick', 'fn', 'footer', 'galleria', 'garnett', 'generates', 'hearings', 'hedges', 'heroes', 'hname', 'hotelinfo', 'intro', 'keneally', 'keys', 'kilburn', 'knotestine', 'labeled', 'laser', 'luxurious', 'magnitude', 'marking', 'mcf', 'mgr', 'mixer', 'msmbx', 'nations', 'nominating', 'norway', 'nph', 'oral', 'pelt', 'phases', 'platts', 'proactive', 'psc', 'racing', 'realone', 'rms', 'sl', 'soco', 'song', 'spectator', 'structural', 'sufficiently', 'thirty', 'thomason', 'thoroughly', 'toilet', 'transmit', 'tshimanga', 'unbelievable', 'undergo', 'unfortunate', 'vallarta', 'veterans', 'vu', 'wal', 'walsh', 'welfare', 'wheel', 'yrs', 'arcamax', 'artists', 'baa', 'bengal', 'bpa', 'cart', 'chan', 'cheddar', 'chocolate', 'curless', 'deleting', 'disabled', 'disputes', 'doormats', 'endorsed', \"f't\", 'failures', 'fined', 'frozen', 'fucking', 'gametime', 'gaps', 'garrett', 'girlfriend', 'gl', 'grande', 'hal', 'handy', 'heck', 'holder', 'homeless', 'hrweb', 'inch', 'insist', 'insured', 'irving', 'jorge', 'kennedy', 'keyspan', 'kg', 'killen', 'knudsen', 'loud', 'mechanical', 'mechelle', 'mendelson', 'muller', 'neighbor', 'passport', 'peers', 'plata', 'recommending', 'regulator', 'repairs', 'resolving', 'ro', 'rp', 'scare', 'scr', 'sg', 'signatures', 'slim', 'soliciting', 'stops', 'symbols', 'telegraph', 'ticketing', 'tpy', 'trd', 'uncertainties', 'unresolved', 'vector', 'vis', 'worship', '.........', 'addressees', 'anchordesk', 'annually', 'attributes', 'backfield', 'barlow', 'bcc', 'beside', 'bio', 'bookmark', 'breach', 'breakers', 'broadway', 'bucs', 'cdw', 'chic', 'chung', 'commented', 'crisp', 'cv', 'cypress', 'dailynews', 'decades', 'delegate', 'dozens', 'ela', 'emal', 'enterprises', 'examined', 'fake', 'fina', 'gf', 'goto', 'graphic', 'hampton', 'healthcare', 'hectic', 'highway', 'hotfares', 'hrn', 'hurting', 'integral', 'intervals', 'johanson', 'kodak', 'laferla', 'lodging', 'mailsweeper', 'mallia', 'mandate', 'maurice', 'mlb', 'motivated', 'msnbc', 'ned', 'newsclick', 'oas', 'opal', 'overly', 'panus', 'periodic', 'periodically', 'pixel', 'positioned', 'reads', 'refundable', 'retaliation', 'retire', 'revolutionary', 'roswell', 'severely', 'shifts', 'shim', 'snap', 'soul', 'spinning', 'spokane', 'standby', 'strk', 'submission', 'swept', 'tweed', 'twp', 'wks', 'yanowski', 'youngflesh', 'accompanying', 'alleges', 'allegheny', 'ana', 'analyses', 'animals', 'ao', 'applicability', 'avail', 'balcony', 'ballato', 'barcode', 'bobbie', 'boot', 'bust', 'byrne', 'careerjournal', 'caution', 'champions', 'chick', 'clint', 'conferencing', 'constructive', 'cooperative', 'dialogue', 'dismissal', 'dns', 'duplicate', 'dustin', 'edf', 'eggleston', 'eleven', 'emanuel', 'enis', 'envelope', 'equitable', 'errol', 'eugene', 'everywhere', 'exercised', 'fifty', 'galleryfurniture', 'geographic', 'germane', 'guilty', 'heal', 'inception', 'indivero', 'intends', 'inviting', 'jere', 'kens', 'laveranues', 'lifted', 'lit', 'malicious', 'milestone', 'mktg', 'mutually', 'natalie', 'nightly', 'node', 'nz', 'oops', 'patty', 'petro', 'postpone', 'preferably', 'regain', 'residence', 'rig', 'rmef', 'rsn', 'sager', 'samantha', 'sized', 'skin', 'solicit', 'specifications', 'splnid', 'sponsorbar', 'spreading', 'suns', 'sup', 'surplus', 'tani', 'towers', 'tra', 'travelnow', 'ucla', 'unl', 'urgency', 'vhs', 'victim', 'viking', 'williamson', 'withdraw', 'yep', 'yevgeny', 'abandoned', 'affordable', 'apartmentsearch', 'apt', 'argues', 'atmosphere', 'atoka', 'attendee', 'auditorium', 'berg', 'blaine', 'bnaweb', 'bombay', 'bout', 'brands', 'cannon', 'circumstance', 'collapsed', 'colleges', 'commute', 'competing', 'comprise', 'consultation', 'contrast', 'cooperate', 'creditor', 'crossed', 'crunch', 'cruz', 'dancing', 'depressed', 'djia', 'doubts', 'drag', 'dy', 'eeac', 'eligibility', 'evan', 'felipe', 'films', 'fixing', 'fortson', 'gill', 'grabbing', 'greer', 'hero', 'hotte', 'identity', 'ig', 'interior', 'ipo', 'islip', 'jd', 'jerald', 'joni', 'josephine', 'leaning', 'matheson', 'mature', 'mccarran', 'megasports', 'montgomery', 'motivation', 'motley', 'mounting', 'murder', 'muschar', 'muslim', 'nes', 'novosel', 'originating', 'padron', 'pentagon', 'plug', 'pollution', 'prayer', 'presently', 'proforma', 'prone', 'queen', 'readily', 'referral', 'registering', 'rem', 'researchers', 'ronald', 'rust', 'schedulers', 'scouting', 'sebastian', 'seniors', 'ships', 'spirits', 'studios', 'supportemptyparas', 'tco', 'tone', 'troops', 'walter', 'watts', 'welcomed', 'wording', 'zach', 'acti', 'adp', 'aggregation', 'alabama', 'attws', 'baseload', 'boom', 'brigeda', 'brochure', 'brussels', 'builder', 'builders', 'cab', 'cavazos', 'chanley', 'citizen', 'columnist', 'compatible', 'confirmlogic', 'considerations', 'dangerous', 'deconning', 'deed', 'dfw', 'differential', 'differently', 'dixon', 'ecommerce', 'efficiently', 'emeet', 'enjoyable', 'esearch', 'ethical', 'excise', 'feasible', 'fixes', 'flags', 'flyer', 'fryar', 'goebel', 'grove', 'heim', 'humor', 'humphrey', 'ineffective', 'initiating', 'ios', 'isolated', 'jcox', 'joannie', 'kwi', 'lam', 'landscape', 'lebeau', 'ln', 'lovely', 'loving', 'loyalty', 'marsha', 'monetary', 'observe', 'packaging', 'prayers', 'proving', 'quadriceps', 'repeatedly', 'richey', 'ripe', 'rison', 'router', 'sagel', 'samuel', 'sawyer', 'scared', 'shud', 'sng', 'ther', 'travelling', 'uscourts', 'usda', 'valves', 'venezuela', 'zahir', 'adequately', 'agriculture', 'ailing', 'anchor', 'antioch', 'authorizing', 'bother', 'bowers', 'brant', 'breath', 'cashiola', 'cdfg', 'cert', 'champagne', 'citysearch', 'clip', 'colleague', 'collections', 'confusing', 'cos', 'cu', 'deb', 'demonstrations', 'dinners', 'dramatically', 'eager', 'eating', 'ecm', 'emit', 'energizer', 'enrolled', 'evidenced', 'examination', 'fd', 'ferrari', 'gilley', 'grades', 'grocery', 'hartsoe', 'hass', 'herself', 'hideaway', 'icruise', 'ilan', 'ilo', 'indicator', 'inevitable', 'irish', 'keenan', 'kv', 'ledger', 'lemme', 'limiting', 'lung', 'majordomo', 'measuring', 'negotiation', 'od', 'organizer', 'overdyke', 'payd', 'pdq', 'physician', 'pieper', 'pork', 'powerpoint', 'pray', 'randi', 'refuses', 'remarkable', 'restrict', 'runner', 'shepperd', 'sherri', 'shock', 'singles', 'sol', 'speaks', 'speculation', 'standardize', 'steeler', 'sudden', 'takeoff', 'teb', 'tg', 'transactional', 'treats', 'upstairs', 'vm', 'volunteered', 'wscc', 'accepts', 'aged', 'alignment', 'answering', 'assessments', 'audrey', 'barring', 'binder', 'birds', 'blanco', 'bosien', 'bubble', 'buffet', 'cake', 'cameras', 'candid', 'ceremony', 'championships', 'complement', 'concludes', 'costello', 'crime', 'cws', 'dawgs', 'debit', 'deficiencies', 'der', 'dhabi', 'dice', 'duce', 'ear', 'evenings', 'explosion', 'freeway', 'fu', 'funded', 'gil', 'gridiron', 'gsp', 'handles', 'hare', 'hawaiian', 'hebert', 'heights', 'henderson', 'hug', 'hungry', 'indefinitely', 'inject', 'iwon', 'jamel', 'kari', 'kroner', 'lag', 'leap', 'lesser', 'lex', 'lia', 'logical', 'melba', 'moments', 'movements', 'navigator', 'offsystem', 'ont', 'panama', 'pink', 'principle', 'prudency', 'qwest', 'reck', 'recommends', 'refining', 'reflection', 'reminders', 'renew', 'repeated', 'ronnie', 'sabre', 'schlesinger', 'teammates', 'thereafter', 'thereof', 'totalfinaelf', 'udc', 'vasquez', 'wallstreet', 'weighted', 'wrapped', 'abroad', 'allocating', 'alyson', 'amrn', 'asst', 'astro', 'automate', 'averages', 'avril', 'backups', 'barrett', 'booker', 'bouquet', 'campb', 'champion', 'clerical', 'cmp', 'coin', 'collaborative', 'collier', 'compelling', 'constitution', 'continuation', 'coupled', 'craft', 'dade', 'decon', 'devoted', 'dilger', 'discipline', 'donating', 'dramatic', 'elegance', 'enemy', 'enrondlr', 'ens', 'epenergy', 'exelon', 'fate', 'fiction', 'fla', 'frazier', 'fumble', 'gender', 'gifs', 'griffin', 'guns', 'hawk', 'hrs', 'imelda', 'irena', 'islamic', 'jacob', 'java', 'lend', 'leveraging', 'literally', 'loft', 'madrid', 'matty', 'mauro', 'ment', 'millennium', 'monsters', 'nav', 'nds', 'newer', 'oatt', 'optional', 'osprey', 'pda', 'perfectly', 'performers', 'practicing', 'qty', 'rahul', 'ramsey', 'rationale', 'rocket', 'rtf', 'scam', 'secrets', 'sentinel', 'shifted', 'southard', 'spln', 'stepenovitch', 'stokes', 'summarizing', 'swift', 'tarling', 'tenn', 'tennis', 'tiger', 'tions', 'tragic', 'valderrama', 'vanderjagt', 'varying', 'voltage', 'vous', 'waited', 'watched', 'weaker', 'webcast', 'weil', 'wtd', 'xerox', 'album', 'aldinger', 'animal', 'api', 'artist', 'aruba', 'asbestos', 'bites', 'calculator', 'ceiling', 'commence', 'counterpart', 'cultivation', 'demonstrated', 'dental', 'directive', 'directories', 'divide', 'drift', 'eesa', 'elbertson', 'ema', 'encounter', 'excuses', 'expedited', 'fernands', 'fm', 'friendship', 'fundamentally', 'hank', 'henenberg', 'hopkins', 'imperial', 'imported', 'integrate', 'intuit', 'josey', 'joshua', 'jpmorgan', 'kuo', 'marathon', 'mccoy', 'mckenzie', 'nextpart', 'observed', 'officialization', 'oscar', 'parity', 'patriot', 'pb', 'pcg', 'peerless', 'pet', 'piona', 'prediction', 'prop', 'qu', 'questioning', 'react', 'rebuild', 'rodgers', 'rozen', 'sand', 'scary', 'screening', 'sealed', 'songs', 'spasms', 'statute', 'steering', 'striking', 'subscriberservlet', 'sustainable', 'tcid', 'texasexes', 'tilney', 'ting', 'topica', 'trailer', 'vague', 'wolfe', 'yy', 'antowain', 'apology', 'appliances', 'ation', 'benchmarking', 'berry', 'bestbuy', 'blowing', 'bollinger', 'borrowing', 'cartilage', 'challenged', 'chao', 'cheatsheet', 'clears', 'compan', 'cowboy', \"d'arcy\", 'deduction', 'dellstore', 'detailing', 'diffusion', 'digits', 'dirty', 'disturbed', 'downloads', 'elementary', 'eo', 'extensions', 'felton', 'filename', 'friedwire', 'frost', 'furnish', 'gilchrist', 'guerra', 'heater', 'honestly', 'hrobertson', 'incorporating', 'inherent', 'instruct', 'internships', 'ions', 'islandcasino', 'jared', 'keycode', 'lawmakers', 'leather', 'legs', 'lieu', 'marketrelations', 'marriage', 'marvia', 'mballases', 'melbourne', 'michel', 'monique', 'morale', 'newsid', 'nobles', 'nr', \"o'malley\", 'occupational', 'optical', 'posta', 'puthigai', 'rebounder', 'refinance', 'refuse', 'researching', 'robiskie', 'rykomai', 'shake', 'sherman', 'shine', 'shutterfly', 'soldiers', 'sommer', 'spark', 'sticker', 'substitute', 'summit', 'surfing', 'tfl', 'toyota', 'tricks', 'utilisation', 'vegasinsider', 'vn', 'walks', 'wcom', 'welcoming', 'wn', 'ytd', 'yvonne', 'advocate', 'amend', 'appearing', 'attracted', 'attributed', 'avertir', 'bags', 'beaten', 'bernie', 'broward', 'burgher', 'businessweek', 'canvassing', 'carole', 'cass', 'cells', 'chairs', 'compiling', 'complexity', 'construct', 'convey', 'costing', 'counseling', 'cummings', 'curtail', 'cyber', \"d'en\", 'defender', 'definite', 'deviation', 'dillingham', 'disappointed', 'dts', 'eetm', 'emotional', 'ete', 'explicit', 'extends', 'exxonmobil', 'fnews', 'functioning', 'gasoil', 'gbp', 'genuine', 'gm', 'gn', 'graduated', 'halfback', 'harmon', 'healed', 'helen', 'hsnf', 'immediatement', 'intervention', 'inv', 'investigated', 'investorplace', 'jenwhite', 'kormos', 'kumar', \"l'expediteur\", 'laughing', 'leach', 'maininc', 'marble', 'mcgraw', 'merci', 'mich', 'misleading', 'narsimha', 'native', 'notifying', 'nsp', \"o'brien\", 'outbound', 'outfit', 'outlining', 'paa', 'partielle', 'paths', 'pd', 'pen', 'poised', 'prince', 'que', 'raider', 'razorfish', 'rebuilding', 'religion', 'reluctant', 'reorg', 'retired', 'rh', 'sarita', 'signals', 'sim', 'solis', 'sorted', 'specialty', 'specification', 'streak', 'sunshine', 'suresh', 'svce', 'sweden', 'tang', 'titan', 'trained', 'tuition', 'twist', 'ultra', 'unanimous', 'viability', 'vintage', 'volumetric', 'webber', 'wizards', 'abn', 'abraham', 'adoption', 'alicia', 'alstad', 'aromas', 'asin', 'benefiting', 'bidweek', 'blackouts', 'buckhalter', 'bud', 'burress', 'bypass', 'careers', 'castleman', 'catcher', 'cebryk', 'coffman', 'conner', 'consuming', 'cooling', 'cracks', 'curriculum', 'deactivated', 'democracy', 'deregulated', 'dummy', 'edwin', 'elevated', 'encoding', 'exploit', 'farrago', 'flowed', 'gang', 'ght', 'grabbed', 'harlingen', 'hors', 'hospitality', 'immigrants', 'impacting', 'kermit', 'komp', 'lawson', 'lineman', 'listened', 'loses', 'mask', 'mcfarland', 'memphis', 'midst', 'migrating', 'milestones', 'minds', 'mintz', 'mount', 'newsmax', 'nurse', 'oaks', 'oriented', 'pakistani', 'panels', 'pigging', 'posts', 'pp', 'pregnant', 'presumably', 'progressing', 'prudent', 'quicker', 'retd', 'rovar', 'rutledge', 'sauce', 'sbc', 'sin', 'splitting', 'sponsoring', 'startup', 'stm', 'tenants', 'thanx', 'thibodeaux', 'tho', 'tholt', 'til', 'tonya', 'treo', 'trim', 'uh', 'warrants', 'weapon', 'woltys', 'accountant', 'advantages', 'anita', 'arguing', 'arthroscopic', 'assimilation', 'bellows', 'branch', 'brn', 'bruener', 'cats', 'cecilia', 'clarified', 'cohen', 'complaining', 'concentrates', 'congestionreform', 'consequences', 'conwell', 'cry', 'decontamination', 'desperately', 'develops', 'dexter', 'draws', 'drills', 'dss', 'egs', 'eickenroht', 'essentials', 'excessive', 'faxing', 'felicia', 'fiona', 'friedman', 'gbn', 'geiger', 'grading', 'grandfather', 'handful', 'highs', 'hrabal', 'inspired', 'installations', 'institution', 'jester', 'judith', 'keyboard', 'kidventurecamp', 'kinda', 'kiodex', 'kym', 'lagerstrom', 'licensing', 'likelihood', 'lodge', 'luckily', 'lund', 'maffett', 'matches', 'mccombs', 'mcginnis', 'meade', 'medicine', 'metering', 'methodologies', 'miracles', 'mirrored', 'misunderstanding', 'mor', 'morrison', 'nyseg', 'oth', 'owes', 'percentages', 'performer', 'phx', 'picnic', 'pressing', 'proprietar', 'rance', 'rao', 'rohauer', 'rollover', 'rw', 'scat', 'schwartz', 'scotland', 'scratch', 'showcase', 'sku', 'smoothly', 'sms', 'soldier', 'sour', 'stain', 'standardization', 'subpoena', 'subsidized', 'switzerland', 'teamsters', 'teleconferencing', 'temperton', 'tin', 'totaled', 'toy', 'trusted', 'ubqn', 'unexpected', 'vaughn', 'vault', 'waivers', 'walschlager', 'wellings', 'whereas', 'wired', 'xx', 'yancey', 'aboard', 'accompanied', 'aera', 'albeit', 'applicant', 'apres', 'athletic', 'audiences', 'aurait', 'autorisation', 'baths', 'bhighlig', 'bnaplus', 'bodied', 'breached', 'caf', 'carrington', 'cedar', 'circulation', 'clicks', 'coale', 'cocktail', 'comparing', 'confidentiels', 'conforme', 'cor', 'corrective', 'cpa', 'criticized', 'customizable', \"d'assurer\", 'dawson', 'ddon', 'decommission', 'deloitte', 'destinataires', 'detruire', 'discs', 'dispatched', 'divisions', 'donnie', 'dowell', 'erreur', 'etablis', 'exceptionally', 'expresse', 'filiales', 'finale', 'formaggio', 'fortunately', 'forums', 'funeral', 'funnies', 'gates', 'gco', 'gee', 'goodwill', 'grad', 'guards', 'gutierrez', 'illegally', 'insiders', 'interdite', 'ipe', 'itemhtml', 'jamaica', 'joins', 'jointes', 'journey', 'keavey', \"l'hypothese\", \"l'integrite\", \"l'intention\", \"l'internet\", 'lampi', 'lavo', 'lending', 'lhlink', 'lien', 'lokey', 'lucrative', 'lump', 'manufactured', 'marquez', 'masters', 'mellencamp', 'miranda', 'mkts', 'mmcf', 'modifie', 'neural', 'nipsco', 'norfolk', 'olsen', 'originator', 'pants', 'parsons', 'pepper', 'permettant', 'philosophy', 'pitt', 'prevents', 'printers', 'psi', 'qa', 'recevez', 'refrigerator', 'regarded', 'reiterate', 'responsabilite', 'reunion', 'rewarding', 'sauf', 'scandal', 'sight', 'sodra', 'sooners', 'spouse', 'stark', 'statutory', 'stealing', 'strickland', 'studied', 'studying', 'swaption', 'tactical', 'tail', 'tailback', 'tapes', 'tbody', 'testimony', 'thompsonville', 'titre', 'tks', 'totale', 'toutes', 'traditionally', 'transcontinental', 'trash', 'tribute', 'undergraduate', 'vest', 'villa', 'warwick', 'weekday', 'woodlands', 'worn', 'absent', 'agricultural', 'akers', 'alarm', 'alleviate', 'alliances', 'ashcroft', 'bandwagon', 'barkerde', 'bash', 'beats', 'beef', 'bidder', 'bingoville', 'bitmap', 'blnd', 'blocker', 'bmck', 'buttons', 'butts', 'capone', 'capped', 'cardinal', 'cdn', 'cheaper', 'civic', 'compa', 'compact', 'console', 'container', 'continuity', 'cordes', 'cow', 'dcaf', 'delaney', 'dimensions', 'drawings', 'drip', 'earns', 'eighth', 'epsc', 'evolution', 'farmington', 'forney', 'founder', 'fulton', 'furniture', 'generalist', 'geoff', 'grubbs', 'halftime', 'hodge', 'holes', 'holy', 'howe', 'hubbard', 'icftu', 'iraq', 'jacoby', 'jedi', 'ju', 'kernen', 'larson', 'leased', 'leisure', 'locator', 'longest', 'loveless', 'mavericks', 'mcl', 'mdy', 'milan', 'mitigated', 'monitors', 'nassau', 'nmenergy', 'nod', 'nomlogic', 'northcutt', 'objections', 'opener', 'osr', 'outset', 'overturn', 'owning', 'pact', 'panhandle', 'phys', 'pledges', 'poster', 'premises', 'promising', 'psd', 'pwrteam', 'reversed', 'rivals', 'romance', 'safely', 'sailings', 'salad', 'sandoval', 'settles', 'shrc', 'sizes', 'smu', 'sn', 'sovereign', 'speculative', 'spikes', 'spraberry', 'static', 'statistically', 'summers', 'thankful', 'theodore', 'tunnel', 'undisclosed', 'undoubtedly', 'upgrading', 'utils', 'vineyard', 'vouchers', 'wei', 'weigh', 'whichever', 'witness', 'accumulate', 'achievements', 'administered', 'aligned', 'austintx', 'bekeng', 'boschee', 'brcm', 'bruns', 'bth', 'bundled', 'cargill', 'ceballos', 'cgc', 'claire', 'claudette', 'clothing', 'clyatt', 'clynes', 'cogentrix', 'command', 'crap', 'crenshaw', 'currenex', 'deduct', 'distributions', 'downward', 'eap', 'empire', 'equilon', 'ernie', 'erratic', 'etter', 'festival', 'formulas', 'foundations', 'gallery', 'gottlob', 'grounds', 'harbaugh', 'hendrick', 'hewlett', 'hint', 'hoz', 'hydrocarbon', 'inja', 'inspiration', 'integrating', 'intermediate', 'itcentral', 'johnston', 'korean', 'ladainian', 'lamont', 'lighting', 'lutz', 'mact', 'mario', 'mcgrady', 'mgt', 'mitigating', 'monument', 'mountains', 'orl', 'parlay', 'parliament', 'patd', 'peters', 'ple', 'prefix', 'quad', 'quarantined', 'rarely', 'refusing', 'reiterated', 'releasing', 'renegotiation', 'rerun', 'ricardo', 'sake', 'schnitzer', 'seas', 'sla', 'slagle', 'sleeper', 'solvent', 'soup', 'stab', 'stavinoha', 'sto', 'storey', 'subscribing', 'superstore', 'supervisory', 'tas', 'telephones', 'thode', 'transit', 'trunk', 'undergoing', 'unpaid', 'upward', 'waters', 'wyndham', 'yolanda', 'acapulco', 'activists', 'adrian', 'arco', 'atm', 'baking', 'berm', 'bonneville', 'breathing', 'brewer', 'burrito', 'chateau', 'chavez', 'citibank', 'clauses', 'cnbc', 'commercially', 'constellation', 'contentid', 'ctive', 'damon', 'deliverability', 'designee', 'dfranklin', 'directing', 'filet', 'freerealtime', 'frequency', 'freshman', 'guideline', 'hanovermeasurement', 'hap', 'inclusions', 'inner', 'intercepted', 'iran', 'ith', 'jacket', 'janelle', 'jc', 'jennings', 'ki', 'lyons', 'mailman', 'majors', 'mauricio', 'melinda', 'meltdown', 'micah', 'midpoint', 'nathan', 'nearest', 'nickel', 'nk', \"o'reilly\", 'occasional', 'optic', 'orr', 'outright', 'overhead', 'pastor', 'phoned', 'plunge', 'potter', 'pps', 'preventing', 'province', 'psh', 'qualifying', 'quarantine', 'quiz', 'readings', 'reboots', 'rented', 'restriction', 'rockies', 'rodriguez', 'romero', 'runners', 'scenes', 'scuc', 'shah', 'singh', 'sorrells', 'summaries', 'tjacobs', 'tlid', 'trung', 'tuschman', 'undertake', 'urn', 'vargas', 'vibrant', 'warn', 'withdrawals', 'wong']\n"
          ]
        }
      ],
      "source": [
        "print(\"The length of the vocab is\", len(vocab))\n",
        "print(f\"The index of '<unk>' is {vocab.get_stoi()['<unk>']}\")\n",
        "print(vocab.get_itos())"
      ]
    },
    {
      "cell_type": "markdown",
      "metadata": {
        "id": "RdImbgne6TD6"
      },
      "source": [
        "Process he data. We turn all words in to tokens and change the data type to torch tensors for the PyTorch neural network.\n",
        "\n",
        "~ 600 000 pairs took 40 seconds to process\n",
        "\n",
        "~ 8.9 million pairs took 10.5 minutes\n",
        "\n",
        "~ 3.1 million pairs took 4 minutes"
      ]
    },
    {
      "cell_type": "code",
      "execution_count": null,
      "metadata": {
        "colab": {
          "base_uri": "https://localhost:8080/"
        },
        "id": "45kfdB-Mw4ZS",
        "outputId": "5756003c-4b7a-4e0c-9bee-8289abad1c61"
      },
      "outputs": [
        {
          "output_type": "stream",
          "name": "stdout",
          "text": [
            "Elapsed time: 228.6923 seconds\n",
            "3171399\n"
          ]
        }
      ],
      "source": [
        "def data_process(pairs):\n",
        "\n",
        "  start_time = time.time()\n",
        "\n",
        "  data = [(torch.tensor([vocab[token] for token in tokeniser(src)], dtype=torch.long),\n",
        "        torch.tensor([vocab[token] for token in tokeniser(trg)], dtype=torch.long))\n",
        "        for (src, trg) in pairs]\n",
        "\n",
        "  end_time = time.time()\n",
        "  elapsed_time = end_time - start_time\n",
        "  print(f\"Elapsed time: {elapsed_time:.4f} seconds\")\n",
        "\n",
        "  return data\n",
        "\n",
        "def input_process(input):\n",
        "\n",
        "  input_tensor = torch.tensor([vocab[token] for token in tokeniser(input)],\n",
        "                              dtype=torch.long)\n",
        "  return input_tensor\n",
        "\n",
        "full_data = data_process(pairs)\n",
        "print(len(full_data))"
      ]
    },
    {
      "cell_type": "markdown",
      "metadata": {
        "id": "sJ13PbUZw4tX"
      },
      "source": [
        "Tokenize the set of pairs to source and target data in a way that the neural network can use"
      ]
    },
    {
      "cell_type": "code",
      "execution_count": null,
      "metadata": {
        "colab": {
          "base_uri": "https://localhost:8080/"
        },
        "id": "wmpPqTgOxEJj",
        "outputId": "713406fa-9ad6-44e4-a32e-fca68b065e11"
      },
      "outputs": [
        {
          "output_type": "stream",
          "name": "stdout",
          "text": [
            "(tensor([125,  16]), tensor([  58, 2735]))\n",
            "['here', 'is']\n",
            "['our', 'forecast']\n"
          ]
        }
      ],
      "source": [
        "print(full_data[0])\n",
        "\n",
        "for sentence in full_data[0]:\n",
        "  words = [vocab.get_itos()[token] for token in sentence]\n",
        "  print(words)"
      ]
    },
    {
      "cell_type": "markdown",
      "metadata": {
        "id": "Rde5K3GH4MjZ"
      },
      "source": [
        "Data Loader\n",
        "\n",
        "We generate batches for training using a DataLoader and add sos and eos tokens to the sentences."
      ]
    },
    {
      "cell_type": "code",
      "execution_count": null,
      "metadata": {
        "colab": {
          "base_uri": "https://localhost:8080/"
        },
        "id": "8-zaouZ44Ofo",
        "outputId": "0d9b7bbb-9e00-44d3-9e7c-1b8300537560"
      },
      "outputs": [
        {
          "output_type": "stream",
          "name": "stdout",
          "text": [
            "3171399 2854259 158570\n"
          ]
        }
      ],
      "source": [
        "from torch.nn.utils.rnn import pad_sequence\n",
        "from torch.utils.data import DataLoader, random_split\n",
        "\n",
        "device = torch.device('cuda' if torch.cuda.is_available() else 'cpu')\n",
        "#BATCH_SIZE = 512\n",
        "BATCH_SIZE = 256\n",
        "PAD_IDX = vocab['<pad>']\n",
        "SOS_IDX = vocab['<sos>']\n",
        "EOS_IDX = vocab['<eos>']\n",
        "\n",
        "def generate_batch(data_batch):\n",
        "  src_batch, trg_batch = [], []\n",
        "\n",
        "  for (src_item, trg_item) in data_batch:\n",
        "    src_batch.append(torch.cat([torch.tensor([SOS_IDX]), src_item, torch.tensor([EOS_IDX])], dim=0))\n",
        "    trg_batch.append(torch.cat([torch.tensor([SOS_IDX]), trg_item, torch.tensor([EOS_IDX])], dim=0))\n",
        "\n",
        "  src_batch = pad_sequence(src_batch, padding_value=PAD_IDX)\n",
        "  trg_batch = pad_sequence(trg_batch, padding_value=PAD_IDX)\n",
        "  return src_batch, trg_batch\n",
        "\n",
        "def generate_input_sequence(input_data):\n",
        "  input_data = torch.cat([torch.tensor([SOS_IDX]), input_data, torch.tensor([EOS_IDX])]).to(device)\n",
        "  return input_data\n",
        "\n",
        "# Split the data to train, eval and test\n",
        "\n",
        "size = len(full_data)\n",
        "\n",
        "train_size = int(0.9 * size)\n",
        "test_eval_size = (size - train_size) // 2\n",
        "\n",
        "val_size = size - train_size - test_eval_size*2\n",
        "\n",
        "print(size, train_size, test_eval_size)\n",
        "\n",
        "train_data, test_data, val_data = random_split(full_data, [train_size+val_size, test_eval_size, test_eval_size])\n",
        "\n",
        "\n",
        "train_iter = DataLoader(train_data, batch_size=BATCH_SIZE,\n",
        "                        shuffle=True,\n",
        "                        collate_fn=generate_batch)\n",
        "\n",
        "test_iter = DataLoader(test_data, batch_size=BATCH_SIZE,\n",
        "                        shuffle=True,\n",
        "                        collate_fn=generate_batch)\n",
        "\n",
        "val_iter = DataLoader(val_data, batch_size=BATCH_SIZE,\n",
        "                        shuffle=True,\n",
        "                        collate_fn=generate_batch)"
      ]
    },
    {
      "cell_type": "markdown",
      "metadata": {
        "id": "c7_ymLDPbjWr"
      },
      "source": [
        "## Encoder"
      ]
    },
    {
      "cell_type": "code",
      "execution_count": null,
      "metadata": {
        "id": "IDUkPaFmbjeW"
      },
      "outputs": [],
      "source": [
        "import random\n",
        "from typing import Tuple\n",
        "\n",
        "import torch.nn as nn\n",
        "import torch.optim as optim\n",
        "import torch.nn.functional as F\n",
        "from torch import tensor\n",
        "\n",
        "\n",
        "class Encoder(nn.Module):\n",
        "    def __init__(self,\n",
        "                 input_dim: int,\n",
        "                 emb_dim: int,\n",
        "                 enc_hid_dim: int,\n",
        "                 dec_hid_dim: int,\n",
        "                 dropout: float):\n",
        "        super().__init__()\n",
        "\n",
        "        self.input_dim = input_dim\n",
        "        self.emb_dim = emb_dim\n",
        "        self.enc_hid_dim = enc_hid_dim\n",
        "        self.dec_hid_dim = dec_hid_dim\n",
        "        self.dropout = dropout\n",
        "\n",
        "        # Embedding layer\n",
        "        self.embedding = nn.Embedding(input_dim, emb_dim)\n",
        "\n",
        "        # GRU\n",
        "        self.rnn = nn.GRU(emb_dim, enc_hid_dim, bidirectional = True)\n",
        "\n",
        "        # Fully connected layer\n",
        "        self.fc = nn.Linear(enc_hid_dim * 2, dec_hid_dim)\n",
        "\n",
        "        self.dropout = nn.Dropout(dropout)\n",
        "\n",
        "    def forward(self,\n",
        "                src: tensor) -> Tuple[tensor]:\n",
        "\n",
        "        embedded = self.dropout(self.embedding(src))\n",
        "\n",
        "        # Forward pass through GRU\n",
        "        outputs, hidden = self.rnn(embedded)\n",
        "\n",
        "        hidden_concat = torch.cat((hidden[-2,:,:], hidden[-1,:,:]), dim = 1)\n",
        "\n",
        "        hidden = torch.tanh(self.fc(hidden_concat))\n",
        "\n",
        "        return outputs, hidden"
      ]
    },
    {
      "cell_type": "markdown",
      "metadata": {
        "id": "T1nCT34KblDl"
      },
      "source": [
        "## Attention"
      ]
    },
    {
      "cell_type": "code",
      "execution_count": null,
      "metadata": {
        "id": "wPWLziUpblHP"
      },
      "outputs": [],
      "source": [
        "class Attention(nn.Module):\n",
        "    def __init__(self,\n",
        "                 enc_hid_dim: int,\n",
        "                 dec_hid_dim: int,\n",
        "                 attn_dim: int):\n",
        "        super().__init__()\n",
        "\n",
        "        self.enc_hid_dim = enc_hid_dim\n",
        "        self.dec_hid_dim = dec_hid_dim\n",
        "\n",
        "        self.attn_in = (enc_hid_dim * 2) + dec_hid_dim\n",
        "\n",
        "        self.attn = nn.Linear(self.attn_in, attn_dim)\n",
        "\n",
        "    def forward(self,\n",
        "                decoder_hidden: tensor,\n",
        "                encoder_outputs: tensor) -> tensor:\n",
        "\n",
        "        src_len = encoder_outputs.shape[0]\n",
        "\n",
        "        repeated_decoder_hidden = decoder_hidden.unsqueeze(1).repeat(1, src_len, 1)\n",
        "\n",
        "        encoder_outputs = encoder_outputs.permute(1, 0, 2)\n",
        "\n",
        "        a_score = torch.tanh(self.attn(torch.cat((\n",
        "            repeated_decoder_hidden,\n",
        "            encoder_outputs),\n",
        "            dim = 2)))\n",
        "\n",
        "        attention = torch.sum(a_score, dim=2)\n",
        "\n",
        "        # This gives us the attention over the source sentence\n",
        "        return F.softmax(attention, dim=1)"
      ]
    },
    {
      "cell_type": "markdown",
      "metadata": {
        "id": "BQvx3DfnblMG"
      },
      "source": [
        "## Decoder"
      ]
    },
    {
      "cell_type": "code",
      "execution_count": null,
      "metadata": {
        "id": "RkKpNTPLblTD"
      },
      "outputs": [],
      "source": [
        "class Decoder(nn.Module):\n",
        "    def __init__(self,\n",
        "                 output_dim: int,\n",
        "                 emb_dim: int,\n",
        "                 enc_hid_dim: int,\n",
        "                 dec_hid_dim: int,\n",
        "                 dropout: int,\n",
        "                 attention: nn.Module):\n",
        "        super().__init__()\n",
        "\n",
        "        self.emb_dim = emb_dim\n",
        "        self.enc_hid_dim = enc_hid_dim\n",
        "        self.dec_hid_dim = dec_hid_dim\n",
        "        self.output_dim = output_dim\n",
        "        self.dropout = dropout\n",
        "        self.attention = attention\n",
        "\n",
        "        self.embedding = nn.Embedding(output_dim, emb_dim)\n",
        "\n",
        "        self.rnn = nn.GRU((enc_hid_dim * 2) + emb_dim, dec_hid_dim)\n",
        "\n",
        "        self.out = nn.Linear(self.attention.attn_in + emb_dim, output_dim)\n",
        "\n",
        "        self.dropout = nn.Dropout(dropout)\n",
        "\n",
        "\n",
        "    def _weighted_encoder_rep(self,\n",
        "                              decoder_hidden: tensor,\n",
        "                              encoder_outputs: tensor) -> tensor:\n",
        "\n",
        "        a = self.attention(decoder_hidden, encoder_outputs)\n",
        "\n",
        "\n",
        "        a = a.unsqueeze(1)\n",
        "\n",
        "\n",
        "        encoder_outputs = encoder_outputs.permute(1, 0, 2)\n",
        "\n",
        "        weighted_encoder_rep = torch.bmm(a, encoder_outputs)\n",
        "\n",
        "        weighted_encoder_rep = weighted_encoder_rep.permute(1, 0, 2)\n",
        "\n",
        "        return weighted_encoder_rep\n",
        "\n",
        "\n",
        "    def forward(self,\n",
        "                input: tensor,\n",
        "                decoder_hidden: tensor,\n",
        "                encoder_outputs: tensor) -> Tuple[tensor]:\n",
        "\n",
        "        #input = [1, batch size]\n",
        "        input = input.unsqueeze(0)\n",
        "\n",
        "\n",
        "        #embedded = [1, batch size, emb dim]\n",
        "        embedded = self.dropout(self.embedding(input))\n",
        "\n",
        "        weighted_encoder_rep = self._weighted_encoder_rep(decoder_hidden,\n",
        "                                                          encoder_outputs)\n",
        "\n",
        "        rnn_input = torch.cat((embedded, weighted_encoder_rep), dim = 2)\n",
        "\n",
        "        output, decoder_hidden = self.rnn(rnn_input, decoder_hidden.unsqueeze(0))\n",
        "\n",
        "        embedded = embedded.squeeze(0)\n",
        "        output = output.squeeze(0)\n",
        "        weighted_encoder_rep = weighted_encoder_rep.squeeze(0)\n",
        "\n",
        "        output = self.out(torch.cat((output,\n",
        "                                     weighted_encoder_rep,\n",
        "                                     embedded), dim = 1))\n",
        "\n",
        "        return output, decoder_hidden.squeeze(0)\n",
        "\n"
      ]
    },
    {
      "cell_type": "markdown",
      "metadata": {
        "id": "gP12pRr-brAM"
      },
      "source": [
        "## Seq2Seq model"
      ]
    },
    {
      "cell_type": "code",
      "execution_count": null,
      "metadata": {
        "id": "4nyQcdJwbrG5"
      },
      "outputs": [],
      "source": [
        "class Seq2Seq(nn.Module):\n",
        "    def __init__(self,\n",
        "                 encoder: nn.Module,\n",
        "                 decoder: nn.Module,\n",
        "                 device: torch.device):\n",
        "        super().__init__()\n",
        "\n",
        "        self.encoder = encoder\n",
        "        self.decoder = decoder\n",
        "        self.device = device\n",
        "\n",
        "    def forward(self,\n",
        "                src: tensor,\n",
        "                trg: tensor,\n",
        "                teacher_forcing_ratio: float = 0.4) -> tensor:\n",
        "\n",
        "        #teacher_forcing_ratio is probability to use teacher forcing\n",
        "        #e.g. if teacher_forcing_ratio is 0.75 we use teacher forcing 75% of the time\n",
        "\n",
        "        batch_size = src.shape[1]\n",
        "        max_len = trg.shape[0]\n",
        "\n",
        "        trg_vocab_size = self.decoder.output_dim\n",
        "\n",
        "        #tensor to store decoder outputs\n",
        "        outputs = torch.zeros(max_len, batch_size, trg_vocab_size).to(self.device)\n",
        "\n",
        "        #encoder_outputs is all hidden states of the input sequence, back and forwards\n",
        "        #hidden is the final forward and backward hidden states, passed through a linear layer\n",
        "        encoder_outputs, hidden = self.encoder(src)\n",
        "\n",
        "        # first input to the decoder is the <sos> token\n",
        "        output = trg[0,:]\n",
        "\n",
        "        for t in range(1, max_len):\n",
        "            #insert input token embedding, previous hidden state and all encoder hidden states\n",
        "            #receive output tensor (predictions) and new hidden state\n",
        "            output, hidden = self.decoder(output, hidden, encoder_outputs)\n",
        "\n",
        "            #place predictions in a tensor holding predictions for each token\n",
        "            outputs[t] = output\n",
        "\n",
        "            #decide if we are going to use teacher forcing or not\n",
        "            teacher_force = random.random() < teacher_forcing_ratio\n",
        "\n",
        "            #get the highest predicted token from our predictions\n",
        "            top1 = output.max(1)[1]\n",
        "\n",
        "            #if teacher forcing, use actual next token as next input\n",
        "            #if not, use predicted token\n",
        "            output = (trg[t] if teacher_force else top1)\n",
        "\n",
        "        # Output shape = [batch size, 512, 4272]\n",
        "        return outputs\n",
        "\n",
        "    def predict(self, src: tensor) -> tensor:\n",
        "\n",
        "        batch_size = src.shape[1]\n",
        "        max_len = 20\n",
        "\n",
        "        trg_vocab_size = self.decoder.output_dim\n",
        "\n",
        "        outputs = torch.ones(max_len, batch_size, trg_vocab_size).to(self.device)\n",
        "\n",
        "        encoder_outputs, hidden = self.encoder(src)\n",
        "\n",
        "        output = src[0,:]\n",
        "\n",
        "        pred = vocab.lookup_indices(['<sos>'])\n",
        "\n",
        "        for t in range(1, max_len):\n",
        "            output, hidden = self.decoder(output, hidden, encoder_outputs)\n",
        "\n",
        "            predicted_token = output.argmax(1)\n",
        "            pred.append(predicted_token)\n",
        "\n",
        "            #outputs[t] = output\n",
        "            output = output.argmax(1)  # Greedily select the token with the highest probability\n",
        "\n",
        "            if predicted_token.item() == vocab['<eos>']:\n",
        "              break\n",
        "\n",
        "\n",
        "        return outputs"
      ]
    },
    {
      "cell_type": "markdown",
      "metadata": {
        "id": "gcN-qCnEdBBT"
      },
      "source": []
    },
    {
      "cell_type": "code",
      "execution_count": null,
      "metadata": {
        "colab": {
          "base_uri": "https://localhost:8080/"
        },
        "id": "6AD5YCQ5dBJT",
        "outputId": "fb7adec5-2953-4ae5-c7b3-4aeb86bf6943"
      },
      "outputs": [
        {
          "output_type": "stream",
          "name": "stdout",
          "text": [
            "Seq2Seq(\n",
            "  (encoder): Encoder(\n",
            "    (embedding): Embedding(10496, 128)\n",
            "    (rnn): GRU(128, 256, bidirectional=True)\n",
            "    (fc): Linear(in_features=512, out_features=256, bias=True)\n",
            "    (dropout): Dropout(p=0.5, inplace=False)\n",
            "  )\n",
            "  (decoder): Decoder(\n",
            "    (attention): Attention(\n",
            "      (attn): Linear(in_features=768, out_features=32, bias=True)\n",
            "    )\n",
            "    (embedding): Embedding(10496, 128)\n",
            "    (rnn): GRU(640, 256)\n",
            "    (out): Linear(in_features=896, out_features=10496, bias=True)\n",
            "    (dropout): Dropout(p=0.5, inplace=False)\n",
            "  )\n",
            ")\n",
            "The model has 13,540,384 trainable parameters\n"
          ]
        }
      ],
      "source": [
        "INPUT_DIM = len(vocab)\n",
        "OUTPUT_DIM = INPUT_DIM\n",
        "\n",
        "ENC_EMB_DIM = 128\n",
        "DEC_EMB_DIM = 128\n",
        "ENC_HID_DIM = 256\n",
        "DEC_HID_DIM = 256\n",
        "ATTN_DIM = 32\n",
        "ENC_DROPOUT = 0.5\n",
        "DEC_DROPOUT = 0.5\n",
        "\n",
        "\n",
        "'''\n",
        "# >  | Time: 2m 41s Train Loss: 4.933 | Train Perplexity: 138.839 | 600k data\n",
        "\n",
        "ENC_EMB_DIM = 128\n",
        "DEC_EMB_DIM = 128\n",
        "ENC_HID_DIM = 256\n",
        "DEC_HID_DIM = 256\n",
        "ATTN_DIM = 32\n",
        "ENC_DROPOUT = 0.5\n",
        "DEC_DROPOUT = 0.5\n",
        "\n",
        "TEACHER_FORCING = 0.4\n",
        "# >  | Time: 2m 30s Train Loss: 5.168 | Train Perplexity: 175.591 | 600k data\n",
        "\n",
        "ENC_EMB_DIM = 64\n",
        "DEC_EMB_DIM = 64\n",
        "ENC_HID_DIM = 128\n",
        "DEC_HID_DIM = 128\n",
        "ATTN_DIM = 32\n",
        "ENC_DROPOUT = 0.5\n",
        "DEC_DROPOUT = 0.5\n",
        "\n",
        "TEACHER_FORCING = 0.4\n",
        "'''\n",
        "enc = Encoder(INPUT_DIM, ENC_EMB_DIM, ENC_HID_DIM, DEC_HID_DIM, ENC_DROPOUT)\n",
        "\n",
        "attn = Attention(ENC_HID_DIM, DEC_HID_DIM, ATTN_DIM)\n",
        "\n",
        "dec = Decoder(OUTPUT_DIM, DEC_EMB_DIM, ENC_HID_DIM, DEC_HID_DIM, DEC_DROPOUT, attn)\n",
        "\n",
        "model = Seq2Seq(enc, dec, device).to(device)\n",
        "\n",
        "\n",
        "# Initialise weights\n",
        "def init_weights(m: nn.Module):\n",
        "    for name, param in m.named_parameters():\n",
        "        if 'weight' in name:\n",
        "            nn.init.normal_(param.data, mean=0, std=0.01) # Initialise weights with values drawn from the normal distribution\n",
        "        else:\n",
        "            nn.init.constant_(param.data, 0) # Initialiase biases to 0\n",
        "\n",
        "\n",
        "print(model.apply(init_weights))\n",
        "\n",
        "optimizer = optim.Adam(model.parameters())\n",
        "\n",
        "# Determine number of paramters\n",
        "def count_parameters(model: nn.Module):\n",
        "    return sum(p.numel() for p in model.parameters() if p.requires_grad)\n",
        "\n",
        "\n",
        "print(f'The model has {count_parameters(model):,} trainable parameters')\n",
        "\n",
        "# Loss function\n",
        "\n",
        "PAD_IDX = vocab.get_stoi()['<pad>']\n",
        "\n",
        "criterion = nn.CrossEntropyLoss(ignore_index=PAD_IDX)"
      ]
    },
    {
      "cell_type": "code",
      "source": [],
      "metadata": {
        "id": "az2WqXRuA2yI"
      },
      "execution_count": null,
      "outputs": []
    },
    {
      "cell_type": "markdown",
      "metadata": {
        "id": "q5gQjYf6dgz4"
      },
      "source": [
        "## Train and evaluate functions"
      ]
    },
    {
      "cell_type": "code",
      "execution_count": null,
      "metadata": {
        "id": "4ISFbTnmdizI"
      },
      "outputs": [],
      "source": [
        "import time\n",
        "from tqdm import tqdm\n",
        "\n",
        "def train(model: nn.Module,\n",
        "          iterator: torch.utils.data.DataLoader,\n",
        "          optimizer: optim.Optimizer,\n",
        "          criterion: nn.Module,\n",
        "          clip: float):\n",
        "\n",
        "    model.train()\n",
        "\n",
        "    epoch_loss = 0\n",
        "\n",
        "    iterator = tqdm(iterator, desc='Training', leave=False, ncols=100)\n",
        "\n",
        "    for _, (src, trg) in enumerate(iterator):\n",
        "        src, trg = src.to(device), trg.to(device)\n",
        "\n",
        "        optimizer.zero_grad()\n",
        "\n",
        "        output = model(src, trg)\n",
        "\n",
        "        output = output[1:].view(-1, output.shape[-1])\n",
        "\n",
        "        trg = trg[1:].view(-1)\n",
        "\n",
        "        loss = criterion(output, trg)\n",
        "\n",
        "        loss.backward()\n",
        "\n",
        "        torch.nn.utils.clip_grad_norm_(model.parameters(), clip)\n",
        "\n",
        "        optimizer.step()\n",
        "\n",
        "        epoch_loss += loss.item()\n",
        "\n",
        "        # Update the progress bar description with the current loss\n",
        "        iterator.set_postfix(loss=epoch_loss / (_ + 1))\n",
        "\n",
        "    return epoch_loss / len(iterator)\n",
        "\n",
        "\n",
        "def evaluate(model: nn.Module,\n",
        "             iterator: torch.utils.data.DataLoader,\n",
        "             criterion: nn.Module):\n",
        "\n",
        "    model.eval()\n",
        "\n",
        "    epoch_loss = 0\n",
        "\n",
        "    with torch.no_grad():\n",
        "\n",
        "        for _, (src, trg) in enumerate(iterator):\n",
        "            src, trg = src.to(device), trg.to(device)\n",
        "\n",
        "            output = model(src, trg, 0) #turn off teacher forcing\n",
        "\n",
        "            output = output[1:].view(-1, output.shape[-1])\n",
        "            trg = trg[1:].view(-1)\n",
        "\n",
        "            loss = criterion(output, trg)\n",
        "\n",
        "            epoch_loss += loss.item()\n",
        "\n",
        "    return epoch_loss / len(iterator)\n",
        "\n",
        "\n",
        "def epoch_time(start_time: int,\n",
        "               end_time: int):\n",
        "    elapsed_time = end_time - start_time\n",
        "    elapsed_mins = int(elapsed_time / 60)\n",
        "    elapsed_secs = int(elapsed_time - (elapsed_mins * 60))\n",
        "    return elapsed_mins, elapsed_secs"
      ]
    },
    {
      "cell_type": "markdown",
      "metadata": {
        "id": "LTEqh14Vdkv5"
      },
      "source": [
        "##Training"
      ]
    },
    {
      "cell_type": "code",
      "execution_count": null,
      "metadata": {
        "id": "7ewihIkh2MGG"
      },
      "outputs": [],
      "source": [
        "train_losses = []\n",
        "valid_losses = []"
      ]
    },
    {
      "cell_type": "code",
      "execution_count": null,
      "metadata": {
        "colab": {
          "base_uri": "https://localhost:8080/",
          "height": 718
        },
        "id": "9RFrolIsdlok",
        "outputId": "15280e67-d007-4aa6-b84c-c0fdbedcb122"
      },
      "outputs": [
        {
          "metadata": {
            "tags": null
          },
          "name": "stderr",
          "output_type": "stream",
          "text": [
            ""
          ]
        },
        {
          "metadata": {
            "tags": null
          },
          "name": "stdout",
          "output_type": "stream",
          "text": [
            "Epoch: 01 | Time: 31m 35s\n",
            "\tTrain Loss: 4.419 | Train Perplexity:  83.019 |\n",
            "\t Val. Loss: 4.227 |   Val Perplexity:  68.484 |\n"
          ]
        },
        {
          "metadata": {
            "tags": null
          },
          "name": "stderr",
          "output_type": "stream",
          "text": [
            ""
          ]
        },
        {
          "metadata": {
            "tags": null
          },
          "name": "stdout",
          "output_type": "stream",
          "text": [
            "Epoch: 02 | Time: 31m 12s\n",
            "\tTrain Loss: 3.624 | Train Perplexity:  37.505 |\n",
            "\t Val. Loss: 3.842 |   Val Perplexity:  46.639 |\n"
          ]
        },
        {
          "output_type": "stream",
          "name": "stderr",
          "text": []
        },
        {
          "output_type": "stream",
          "name": "stdout",
          "text": [
            "Epoch: 03 | Time: 31m 13s\n",
            "\tTrain Loss: 3.374 | Train Perplexity:  29.202 |\n",
            "\t Val. Loss: 3.691 |   Val Perplexity:  40.070 |\n"
          ]
        },
        {
          "output_type": "stream",
          "name": "stderr",
          "text": []
        },
        {
          "output_type": "stream",
          "name": "stdout",
          "text": [
            "Epoch: 04 | Time: 31m 23s\n",
            "\tTrain Loss: 3.243 | Train Perplexity:  25.605 |\n",
            "\t Val. Loss: 3.544 |   Val Perplexity:  34.619 |\n"
          ]
        },
        {
          "output_type": "stream",
          "name": "stderr",
          "text": []
        },
        {
          "output_type": "stream",
          "name": "stdout",
          "text": [
            "Epoch: 05 | Time: 31m 12s\n",
            "\tTrain Loss: 3.151 | Train Perplexity:  23.353 |\n",
            "\t Val. Loss: 3.462 |   Val Perplexity:  31.896 |\n"
          ]
        },
        {
          "output_type": "display_data",
          "data": {
            "text/plain": [
              "<Figure size 640x480 with 1 Axes>"
            ],
            "image/png": "[encoded data removed]"
          },
          "metadata": {}
        }
      ],
      "source": [
        "import math\n",
        "N_EPOCHS = 5\n",
        "CLIP = 1\n",
        "\n",
        "best_valid_loss = float('inf')\n",
        "\n",
        "for epoch in range(N_EPOCHS):\n",
        "\n",
        "    start_time = time.time()\n",
        "\n",
        "    train_loss = train(model, train_iter, optimizer, criterion, CLIP)\n",
        "    valid_loss = evaluate(model, val_iter, criterion)\n",
        "\n",
        "    end_time = time.time()\n",
        "\n",
        "    epoch_mins, epoch_secs = epoch_time(start_time, end_time)\n",
        "\n",
        "    if valid_loss < best_valid_loss:\n",
        "        best_valid_loss = valid_loss\n",
        "        torch.save(model.state_dict(), 's2s-model.pt')\n",
        "        torch.save(optimizer.state_dict(), 's2s-optimizer.pt')\n",
        "\n",
        "    print(f'Epoch: {epoch+1:02} | Time: {epoch_mins}m {epoch_secs}s')\n",
        "    print(f'\\tTrain Loss: {train_loss:.3f} | Train Perplexity: {math.exp(train_loss):7.3f} |')\n",
        "    print(f'\\t Val. Loss: {valid_loss:.3f} |   Val Perplexity: {math.exp(valid_loss):7.3f} |')\n",
        "    train_losses.append(train_loss)\n",
        "    valid_losses.append(valid_loss)\n",
        "\n",
        "\n",
        "# Plot the losses\n",
        "plt.plot(train_losses, label='Training Loss')\n",
        "plt.plot(valid_losses, label='Validation Loss')\n",
        "plt.xlabel('Epoch')\n",
        "plt.ylabel('Loss')\n",
        "plt.legend()\n",
        "plt.show()\n"
      ]
    },
    {
      "cell_type": "markdown",
      "metadata": {
        "id": "jPplwjk1eJ7M"
      },
      "source": [
        "Loading model weights and evaluating"
      ]
    },
    {
      "cell_type": "code",
      "execution_count": null,
      "metadata": {
        "id": "RdrPfBYBeKDk",
        "colab": {
          "base_uri": "https://localhost:8080/"
        },
        "outputId": "ea345f42-935d-4728-d182-69e0fb3469a1"
      },
      "outputs": [
        {
          "output_type": "stream",
          "name": "stdout",
          "text": [
            "| Test Loss: 3.464 | Test Perplexity:  31.950 |\n"
          ]
        }
      ],
      "source": [
        "# Load the saved model weights\n",
        "model.load_state_dict(torch.load('s2s-model.pt'))\n",
        "\n",
        "test_loss = evaluate(model, test_iter, criterion)\n",
        "\n",
        "print(f'| Test Loss: {test_loss:.3f} | Test Perplexity: {math.exp(test_loss):7.3f} |')"
      ]
    },
    {
      "cell_type": "code",
      "execution_count": null,
      "metadata": {
        "id": "j2nCA6cntKfY"
      },
      "outputs": [],
      "source": [
        "model.eval()\n",
        "\n",
        "src = test_data[2][0].reshape(len(test_data[2][0]),1).to(device)\n",
        "trg = test_data[2][1].reshape(len(test_data[2][1]),1).to(device)\n",
        "\n",
        "src_words = [vocab.get_itos()[token] for token in src]\n",
        "print(src_words)\n",
        "\n",
        "trg_words = [vocab.get_itos()[token] for token in trg]\n",
        "print(trg_words)\n",
        "\n",
        "#print(src)\n",
        "#print(trg)"
      ]
    },
    {
      "cell_type": "code",
      "execution_count": null,
      "metadata": {
        "id": "-NL1OqXLF9Ml",
        "colab": {
          "base_uri": "https://localhost:8080/",
          "height": 107
        },
        "outputId": "f2a326e0-af28-427b-9819-cf64f5915207"
      },
      "outputs": [
        {
          "output_type": "execute_result",
          "data": {
            "text/plain": [
              "'\\ndef predict_sequence(input, model):\\n  model.eval()\\n  with torch.no_grad():\\n    for data in input:\\n\\n      normalized_input = normalize_input(data)\\n\\n      processed_input = input_process(normalized_input)\\n\\n      input_seq = generate_input_sequence(processed_input)\\n\\n      input_seq = input_seq.unsqueeze(1)\\n\\n\\n      output = model.predict(input_seq)\\n\\n      output_idx = output[1:].squeeze(1).argmax(1)\\n\\n      topk_values, topk_indices = output[1:].squeeze(1).topk(k=1, dim=1)\\n      # This top10 does NOT work with this, only the first one will make sense\\n      # The other ones are out of context as they are generated from the \"main sequence\"\\n      # To fix this, take top 10 predictions from first word and then run the network\\n      # for each word chosen aka 10 different times.\\n      print(f\"PREDICTION FOR SEQUENCE: {data}\")\\n      for row in topk_indices.t():\\n        #print(row)\\n        pred_words = [vocab.get_itos()[token] for token in row]\\n        words_str = data + \\' \\' + \\' \\'.join(pred_words)\\n        print(words_str, \"\\n\")\\n'"
            ],
            "application/vnd.google.colaboratory.intrinsic+json": {
              "type": "string"
            }
          },
          "metadata": {},
          "execution_count": 42
        }
      ],
      "source": [
        "'''\n",
        "def predict_sequence(input, model):\n",
        "  model.eval()\n",
        "  with torch.no_grad():\n",
        "    for data in input:\n",
        "\n",
        "      normalized_input = normalize_input(data)\n",
        "\n",
        "      processed_input = input_process(normalized_input)\n",
        "\n",
        "      input_seq = generate_input_sequence(processed_input)\n",
        "\n",
        "      input_seq = input_seq.unsqueeze(1)\n",
        "\n",
        "\n",
        "      output = model.predict(input_seq)\n",
        "\n",
        "      output_idx = output[1:].squeeze(1).argmax(1)\n",
        "\n",
        "      topk_values, topk_indices = output[1:].squeeze(1).topk(k=1, dim=1)\n",
        "      # This top10 does NOT work with this, only the first one will make sense\n",
        "      # The other ones are out of context as they are generated from the \"main sequence\"\n",
        "      # To fix this, take top 10 predictions from first word and then run the network\n",
        "      # for each word chosen aka 10 different times.\n",
        "      print(f\"PREDICTION FOR SEQUENCE: {data}\")\n",
        "      for row in topk_indices.t():\n",
        "        #print(row)\n",
        "        pred_words = [vocab.get_itos()[token] for token in row]\n",
        "        words_str = data + ' ' + ' '.join(pred_words)\n",
        "        print(words_str, \"\\n\")\n",
        "'''"
      ]
    },
    {
      "cell_type": "code",
      "execution_count": null,
      "metadata": {
        "id": "nOX7IoF2s35Y"
      },
      "outputs": [],
      "source": [
        "def predict_sequence(input, model):\n",
        "  model.eval()\n",
        "  with torch.no_grad():\n",
        "    for data in input:\n",
        "\n",
        "      normalized_input = normalize_input(data)\n",
        "      processed_input = input_process(normalized_input)\n",
        "      input_seq = generate_input_sequence(processed_input)\n",
        "      input_seq = input_seq.unsqueeze(1)\n",
        "\n",
        "\n",
        "      batch_size = 1\n",
        "      max_len = 20\n",
        "\n",
        "      trg_vocab_size = model.decoder.output_dim\n",
        "\n",
        "      outputs = torch.ones(max_len, batch_size, trg_vocab_size).to(device)\n",
        "\n",
        "      encoder_outputs, hidden = model.encoder(input_seq)\n",
        "\n",
        "      output = src[0,:]\n",
        "\n",
        "      pred = []\n",
        "\n",
        "      for t in range(1, max_len):\n",
        "          output, hidden = model.decoder(output, hidden, encoder_outputs)\n",
        "\n",
        "          predicted_token = output.argmax(1)\n",
        "          pred.append(predicted_token)\n",
        "\n",
        "          #outputs[t] = output\n",
        "          output = output.argmax(1)  # Greedily select the token with the highest probability\n",
        "\n",
        "          if predicted_token.item() == vocab['<eos>']:\n",
        "            break\n",
        "\n",
        "      tokens = vocab.lookup_tokens(pred)\n",
        "      return tokens\n",
        "\n"
      ]
    },
    {
      "cell_type": "code",
      "execution_count": null,
      "metadata": {
        "id": "20-09gUMLtoI",
        "colab": {
          "base_uri": "https://localhost:8080/"
        },
        "outputId": "af504b18-166f-492d-f4f5-28edcfce10fa"
      },
      "outputs": [
        {
          "output_type": "execute_result",
          "data": {
            "text/plain": [
              "['you', 'have', '<eos>']"
            ]
          },
          "metadata": {},
          "execution_count": 44
        }
      ],
      "source": [
        "device = torch.device(\"cuda:0\" if torch.cuda.is_available() else \"cpu\")\n",
        "model.load_state_dict(torch.load('/content/s2s-model.pt'))\n",
        "\n",
        "model.to(device)\n",
        "predict_sequence(test, model)"
      ]
    },
    {
      "cell_type": "code",
      "execution_count": null,
      "metadata": {
        "id": "wQoGuqrsREjD"
      },
      "outputs": [],
      "source": [
        "texts = [\n",
        "    'have a good',\n",
        "    'please take',\n",
        "    'let me know if',\n",
        "    'thank you for',\n",
        "    'thank you for the document',\n",
        "    'i will be waiting for',\n",
        "    'our team will',\n",
        "    'lets meet',\n",
        "    'lets meet this',\n",
        "    'i am sure that it will',\n",
        "]"
      ]
    },
    {
      "cell_type": "code",
      "execution_count": null,
      "metadata": {
        "id": "g3HVQrsoTYU1",
        "colab": {
          "base_uri": "https://localhost:8080/"
        },
        "outputId": "96890ee9-8cd5-4d2a-8394-8004ce6f2d82"
      },
      "outputs": [
        {
          "output_type": "stream",
          "name": "stdout",
          "text": [
            "have a good day <eos>\n",
            "please take i have missed it <eos>\n",
            "let me know if you have any questions <eos>\n",
            "thank you for your time <eos>\n",
            "thank you for the document you have to make the <eos>\n",
            "i will be waiting for any information <eos>\n",
            "our team will you be on to <eos>\n",
            "lets meet afternoon <eos>\n",
            "lets meet this needed <eos>\n",
            "i am sure that it will affect your efforts on the <eos>\n",
            "can you look for each of <eos>\n"
          ]
        }
      ],
      "source": [
        "for t in texts:\n",
        "  prediction = ' '.join(predict_sequence([t], model))\n",
        "  print(t, prediction)"
      ]
    },
    {
      "cell_type": "markdown",
      "source": [
        "Some of the responses are quite weird, but there is definetly logic behind most of the autofill answers. I thin seq2seq with attention may be a bit too complex solution for this, and it would be interesting to see what results happen without attention. There could be more hyperparameter tuning still"
      ],
      "metadata": {
        "id": "AuHwiRSQorjq"
      }
    }
  ],
  "metadata": {
    "accelerator": "GPU",
    "colab": {
      "provenance": [],
      "gpuType": "A100",
      "machine_shape": "hm",
      "authorship_tag": "ABX9TyMqfyyYbk66q4epV6HdrP+Q",
      "include_colab_link": true
    },
    "kernelspec": {
      "display_name": "Python 3",
      "name": "python3"
    },
    "language_info": {
      "name": "python"
    }
  },
  "nbformat": 4,
  "nbformat_minor": 0
}