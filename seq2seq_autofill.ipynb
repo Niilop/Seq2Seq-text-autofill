{
  "cells": [
    {
      "cell_type": "markdown",
      "metadata": {
        "id": "view-in-github",
        "colab_type": "text"
      },
      "source": [
        "<a href=\"https://colab.research.google.com/github/Niilop/Seq2Seq-text-autofill/blob/main/seq2seq_autofill.ipynb\" target=\"_parent\"><img src=\"https://colab.research.google.com/assets/colab-badge.svg\" alt=\"Open In Colab\"/></a>"
      ]
    },
    {
      "cell_type": "markdown",
      "metadata": {
        "id": "uGS6I7UqN6ZI"
      },
      "source": []
    },
    {
      "cell_type": "code",
      "execution_count": 1,
      "metadata": {
        "id": "WWDicPSgN8Yj"
      },
      "outputs": [],
      "source": [
        "import torch\n",
        "import torch.nn as nn\n",
        "import torch.optim as optim\n",
        "\n",
        "from torchtext import data, datasets\n",
        "\n",
        "import spacy\n",
        "import numpy as np\n",
        "\n",
        "import random\n",
        "import math\n",
        "import time"
      ]
    },
    {
      "cell_type": "markdown",
      "metadata": {
        "id": "E8M1bWnDN9A2"
      },
      "source": [
        "Random seed for deterministic results i needed"
      ]
    },
    {
      "cell_type": "code",
      "execution_count": 2,
      "metadata": {
        "id": "a8xcCq9dN9JP"
      },
      "outputs": [],
      "source": [
        "SEED = 1234\n",
        "\n",
        "random.seed(SEED)\n",
        "np.random.seed(SEED)\n",
        "torch.manual_seed(SEED)\n",
        "torch.cuda.manual_seed(SEED)\n",
        "torch.backends.cudnn.deterministic = True"
      ]
    },
    {
      "cell_type": "markdown",
      "metadata": {
        "id": "e-_W1S40OCVc"
      },
      "source": [
        "We use Spacy tokenizer for this project"
      ]
    },
    {
      "cell_type": "code",
      "execution_count": 3,
      "metadata": {
        "colab": {
          "base_uri": "https://localhost:8080/"
        },
        "id": "-P03HcXfOGkt",
        "outputId": "e7ff8674-9793-4520-a3c0-24ca05dcb1dd"
      },
      "outputs": [
        {
          "output_type": "stream",
          "name": "stdout",
          "text": [
            "2023-12-30 19:12:17.840348: E external/local_xla/xla/stream_executor/cuda/cuda_dnn.cc:9261] Unable to register cuDNN factory: Attempting to register factory for plugin cuDNN when one has already been registered\n",
            "2023-12-30 19:12:17.840406: E external/local_xla/xla/stream_executor/cuda/cuda_fft.cc:607] Unable to register cuFFT factory: Attempting to register factory for plugin cuFFT when one has already been registered\n",
            "2023-12-30 19:12:17.841560: E external/local_xla/xla/stream_executor/cuda/cuda_blas.cc:1515] Unable to register cuBLAS factory: Attempting to register factory for plugin cuBLAS when one has already been registered\n",
            "2023-12-30 19:12:18.861902: W tensorflow/compiler/tf2tensorrt/utils/py_utils.cc:38] TF-TRT Warning: Could not find TensorRT\n",
            "Collecting en-core-web-sm==3.6.0\n",
            "  Downloading https://github.com/explosion/spacy-models/releases/download/en_core_web_sm-3.6.0/en_core_web_sm-3.6.0-py3-none-any.whl (12.8 MB)\n",
            "\u001b[2K     \u001b[90m━━━━━━━━━━━━━━━━━━━━━━━━━━━━━━━━━━━━━━━━\u001b[0m \u001b[32m12.8/12.8 MB\u001b[0m \u001b[31m55.0 MB/s\u001b[0m eta \u001b[36m0:00:00\u001b[0m\n",
            "\u001b[?25hRequirement already satisfied: spacy<3.7.0,>=3.6.0 in /usr/local/lib/python3.10/dist-packages (from en-core-web-sm==3.6.0) (3.6.1)\n",
            "Requirement already satisfied: spacy-legacy<3.1.0,>=3.0.11 in /usr/local/lib/python3.10/dist-packages (from spacy<3.7.0,>=3.6.0->en-core-web-sm==3.6.0) (3.0.12)\n",
            "Requirement already satisfied: spacy-loggers<2.0.0,>=1.0.0 in /usr/local/lib/python3.10/dist-packages (from spacy<3.7.0,>=3.6.0->en-core-web-sm==3.6.0) (1.0.5)\n",
            "Requirement already satisfied: murmurhash<1.1.0,>=0.28.0 in /usr/local/lib/python3.10/dist-packages (from spacy<3.7.0,>=3.6.0->en-core-web-sm==3.6.0) (1.0.10)\n",
            "Requirement already satisfied: cymem<2.1.0,>=2.0.2 in /usr/local/lib/python3.10/dist-packages (from spacy<3.7.0,>=3.6.0->en-core-web-sm==3.6.0) (2.0.8)\n",
            "Requirement already satisfied: preshed<3.1.0,>=3.0.2 in /usr/local/lib/python3.10/dist-packages (from spacy<3.7.0,>=3.6.0->en-core-web-sm==3.6.0) (3.0.9)\n",
            "Requirement already satisfied: thinc<8.2.0,>=8.1.8 in /usr/local/lib/python3.10/dist-packages (from spacy<3.7.0,>=3.6.0->en-core-web-sm==3.6.0) (8.1.12)\n",
            "Requirement already satisfied: wasabi<1.2.0,>=0.9.1 in /usr/local/lib/python3.10/dist-packages (from spacy<3.7.0,>=3.6.0->en-core-web-sm==3.6.0) (1.1.2)\n",
            "Requirement already satisfied: srsly<3.0.0,>=2.4.3 in /usr/local/lib/python3.10/dist-packages (from spacy<3.7.0,>=3.6.0->en-core-web-sm==3.6.0) (2.4.8)\n",
            "Requirement already satisfied: catalogue<2.1.0,>=2.0.6 in /usr/local/lib/python3.10/dist-packages (from spacy<3.7.0,>=3.6.0->en-core-web-sm==3.6.0) (2.0.10)\n",
            "Requirement already satisfied: typer<0.10.0,>=0.3.0 in /usr/local/lib/python3.10/dist-packages (from spacy<3.7.0,>=3.6.0->en-core-web-sm==3.6.0) (0.9.0)\n",
            "Requirement already satisfied: pathy>=0.10.0 in /usr/local/lib/python3.10/dist-packages (from spacy<3.7.0,>=3.6.0->en-core-web-sm==3.6.0) (0.10.3)\n",
            "Requirement already satisfied: smart-open<7.0.0,>=5.2.1 in /usr/local/lib/python3.10/dist-packages (from spacy<3.7.0,>=3.6.0->en-core-web-sm==3.6.0) (6.4.0)\n",
            "Requirement already satisfied: tqdm<5.0.0,>=4.38.0 in /usr/local/lib/python3.10/dist-packages (from spacy<3.7.0,>=3.6.0->en-core-web-sm==3.6.0) (4.66.1)\n",
            "Requirement already satisfied: numpy>=1.15.0 in /usr/local/lib/python3.10/dist-packages (from spacy<3.7.0,>=3.6.0->en-core-web-sm==3.6.0) (1.23.5)\n",
            "Requirement already satisfied: requests<3.0.0,>=2.13.0 in /usr/local/lib/python3.10/dist-packages (from spacy<3.7.0,>=3.6.0->en-core-web-sm==3.6.0) (2.31.0)\n",
            "Requirement already satisfied: pydantic!=1.8,!=1.8.1,<3.0.0,>=1.7.4 in /usr/local/lib/python3.10/dist-packages (from spacy<3.7.0,>=3.6.0->en-core-web-sm==3.6.0) (1.10.13)\n",
            "Requirement already satisfied: jinja2 in /usr/local/lib/python3.10/dist-packages (from spacy<3.7.0,>=3.6.0->en-core-web-sm==3.6.0) (3.1.2)\n",
            "Requirement already satisfied: setuptools in /usr/local/lib/python3.10/dist-packages (from spacy<3.7.0,>=3.6.0->en-core-web-sm==3.6.0) (67.7.2)\n",
            "Requirement already satisfied: packaging>=20.0 in /usr/local/lib/python3.10/dist-packages (from spacy<3.7.0,>=3.6.0->en-core-web-sm==3.6.0) (23.2)\n",
            "Requirement already satisfied: langcodes<4.0.0,>=3.2.0 in /usr/local/lib/python3.10/dist-packages (from spacy<3.7.0,>=3.6.0->en-core-web-sm==3.6.0) (3.3.0)\n",
            "Requirement already satisfied: typing-extensions>=4.2.0 in /usr/local/lib/python3.10/dist-packages (from pydantic!=1.8,!=1.8.1,<3.0.0,>=1.7.4->spacy<3.7.0,>=3.6.0->en-core-web-sm==3.6.0) (4.5.0)\n",
            "Requirement already satisfied: charset-normalizer<4,>=2 in /usr/local/lib/python3.10/dist-packages (from requests<3.0.0,>=2.13.0->spacy<3.7.0,>=3.6.0->en-core-web-sm==3.6.0) (3.3.2)\n",
            "Requirement already satisfied: idna<4,>=2.5 in /usr/local/lib/python3.10/dist-packages (from requests<3.0.0,>=2.13.0->spacy<3.7.0,>=3.6.0->en-core-web-sm==3.6.0) (3.6)\n",
            "Requirement already satisfied: urllib3<3,>=1.21.1 in /usr/local/lib/python3.10/dist-packages (from requests<3.0.0,>=2.13.0->spacy<3.7.0,>=3.6.0->en-core-web-sm==3.6.0) (2.0.7)\n",
            "Requirement already satisfied: certifi>=2017.4.17 in /usr/local/lib/python3.10/dist-packages (from requests<3.0.0,>=2.13.0->spacy<3.7.0,>=3.6.0->en-core-web-sm==3.6.0) (2023.11.17)\n",
            "Requirement already satisfied: blis<0.8.0,>=0.7.8 in /usr/local/lib/python3.10/dist-packages (from thinc<8.2.0,>=8.1.8->spacy<3.7.0,>=3.6.0->en-core-web-sm==3.6.0) (0.7.11)\n",
            "Requirement already satisfied: confection<1.0.0,>=0.0.1 in /usr/local/lib/python3.10/dist-packages (from thinc<8.2.0,>=8.1.8->spacy<3.7.0,>=3.6.0->en-core-web-sm==3.6.0) (0.1.4)\n",
            "Requirement already satisfied: click<9.0.0,>=7.1.1 in /usr/local/lib/python3.10/dist-packages (from typer<0.10.0,>=0.3.0->spacy<3.7.0,>=3.6.0->en-core-web-sm==3.6.0) (8.1.7)\n",
            "Requirement already satisfied: MarkupSafe>=2.0 in /usr/local/lib/python3.10/dist-packages (from jinja2->spacy<3.7.0,>=3.6.0->en-core-web-sm==3.6.0) (2.1.3)\n",
            "\u001b[38;5;2m✔ Download and installation successful\u001b[0m\n",
            "You can now load the package via spacy.load('en_core_web_sm')\n"
          ]
        }
      ],
      "source": [
        "!python3 -m spacy download en_core_web_sm"
      ]
    },
    {
      "cell_type": "markdown",
      "metadata": {
        "id": "6qOLs15vORMe"
      },
      "source": []
    },
    {
      "cell_type": "markdown",
      "metadata": {
        "id": "YZxYF5pIP-sQ"
      },
      "source": [
        "Downloading Amazon product dataset from Kaggle"
      ]
    },
    {
      "cell_type": "code",
      "execution_count": 4,
      "metadata": {
        "colab": {
          "base_uri": "https://localhost:8080/"
        },
        "id": "w7u3hsgUQAzW",
        "outputId": "3b4a2b9d-614f-4b64-c99a-510f229fb78e"
      },
      "outputs": [
        {
          "output_type": "stream",
          "name": "stdout",
          "text": [
            "Requirement already satisfied: kaggle in /usr/local/lib/python3.10/dist-packages (1.5.16)\n",
            "Requirement already satisfied: six>=1.10 in /usr/local/lib/python3.10/dist-packages (from kaggle) (1.16.0)\n",
            "Requirement already satisfied: certifi in /usr/local/lib/python3.10/dist-packages (from kaggle) (2023.11.17)\n",
            "Requirement already satisfied: python-dateutil in /usr/local/lib/python3.10/dist-packages (from kaggle) (2.8.2)\n",
            "Requirement already satisfied: requests in /usr/local/lib/python3.10/dist-packages (from kaggle) (2.31.0)\n",
            "Requirement already satisfied: tqdm in /usr/local/lib/python3.10/dist-packages (from kaggle) (4.66.1)\n",
            "Requirement already satisfied: python-slugify in /usr/local/lib/python3.10/dist-packages (from kaggle) (8.0.1)\n",
            "Requirement already satisfied: urllib3 in /usr/local/lib/python3.10/dist-packages (from kaggle) (2.0.7)\n",
            "Requirement already satisfied: bleach in /usr/local/lib/python3.10/dist-packages (from kaggle) (6.1.0)\n",
            "Requirement already satisfied: webencodings in /usr/local/lib/python3.10/dist-packages (from bleach->kaggle) (0.5.1)\n",
            "Requirement already satisfied: text-unidecode>=1.3 in /usr/local/lib/python3.10/dist-packages (from python-slugify->kaggle) (1.3)\n",
            "Requirement already satisfied: charset-normalizer<4,>=2 in /usr/local/lib/python3.10/dist-packages (from requests->kaggle) (3.3.2)\n",
            "Requirement already satisfied: idna<4,>=2.5 in /usr/local/lib/python3.10/dist-packages (from requests->kaggle) (3.6)\n"
          ]
        }
      ],
      "source": [
        "!pip install kaggle"
      ]
    },
    {
      "cell_type": "markdown",
      "metadata": {
        "id": "prVq-3kfRk7b"
      },
      "source": [
        "Upload Kaggle API token"
      ]
    },
    {
      "cell_type": "code",
      "execution_count": 6,
      "metadata": {
        "colab": {
          "base_uri": "https://localhost:8080/",
          "height": 89
        },
        "id": "D3alyC7vQyNI",
        "outputId": "6ff925cc-f9f6-4d49-b29b-8cf85eb382d9"
      },
      "outputs": [
        {
          "output_type": "display_data",
          "data": {
            "text/plain": [
              "<IPython.core.display.HTML object>"
            ],
            "text/html": [
              "\n",
              "     <input type=\"file\" id=\"files-ef08f6a1-1295-4e61-bc1e-2edaa399d6b3\" name=\"files[]\" multiple disabled\n",
              "        style=\"border:none\" />\n",
              "     <output id=\"result-ef08f6a1-1295-4e61-bc1e-2edaa399d6b3\">\n",
              "      Upload widget is only available when the cell has been executed in the\n",
              "      current browser session. Please rerun this cell to enable.\n",
              "      </output>\n",
              "      <script>// Copyright 2017 Google LLC\n",
              "//\n",
              "// Licensed under the Apache License, Version 2.0 (the \"License\");\n",
              "// you may not use this file except in compliance with the License.\n",
              "// You may obtain a copy of the License at\n",
              "//\n",
              "//      http://www.apache.org/licenses/LICENSE-2.0\n",
              "//\n",
              "// Unless required by applicable law or agreed to in writing, software\n",
              "// distributed under the License is distributed on an \"AS IS\" BASIS,\n",
              "// WITHOUT WARRANTIES OR CONDITIONS OF ANY KIND, either express or implied.\n",
              "// See the License for the specific language governing permissions and\n",
              "// limitations under the License.\n",
              "\n",
              "/**\n",
              " * @fileoverview Helpers for google.colab Python module.\n",
              " */\n",
              "(function(scope) {\n",
              "function span(text, styleAttributes = {}) {\n",
              "  const element = document.createElement('span');\n",
              "  element.textContent = text;\n",
              "  for (const key of Object.keys(styleAttributes)) {\n",
              "    element.style[key] = styleAttributes[key];\n",
              "  }\n",
              "  return element;\n",
              "}\n",
              "\n",
              "// Max number of bytes which will be uploaded at a time.\n",
              "const MAX_PAYLOAD_SIZE = 100 * 1024;\n",
              "\n",
              "function _uploadFiles(inputId, outputId) {\n",
              "  const steps = uploadFilesStep(inputId, outputId);\n",
              "  const outputElement = document.getElementById(outputId);\n",
              "  // Cache steps on the outputElement to make it available for the next call\n",
              "  // to uploadFilesContinue from Python.\n",
              "  outputElement.steps = steps;\n",
              "\n",
              "  return _uploadFilesContinue(outputId);\n",
              "}\n",
              "\n",
              "// This is roughly an async generator (not supported in the browser yet),\n",
              "// where there are multiple asynchronous steps and the Python side is going\n",
              "// to poll for completion of each step.\n",
              "// This uses a Promise to block the python side on completion of each step,\n",
              "// then passes the result of the previous step as the input to the next step.\n",
              "function _uploadFilesContinue(outputId) {\n",
              "  const outputElement = document.getElementById(outputId);\n",
              "  const steps = outputElement.steps;\n",
              "\n",
              "  const next = steps.next(outputElement.lastPromiseValue);\n",
              "  return Promise.resolve(next.value.promise).then((value) => {\n",
              "    // Cache the last promise value to make it available to the next\n",
              "    // step of the generator.\n",
              "    outputElement.lastPromiseValue = value;\n",
              "    return next.value.response;\n",
              "  });\n",
              "}\n",
              "\n",
              "/**\n",
              " * Generator function which is called between each async step of the upload\n",
              " * process.\n",
              " * @param {string} inputId Element ID of the input file picker element.\n",
              " * @param {string} outputId Element ID of the output display.\n",
              " * @return {!Iterable<!Object>} Iterable of next steps.\n",
              " */\n",
              "function* uploadFilesStep(inputId, outputId) {\n",
              "  const inputElement = document.getElementById(inputId);\n",
              "  inputElement.disabled = false;\n",
              "\n",
              "  const outputElement = document.getElementById(outputId);\n",
              "  outputElement.innerHTML = '';\n",
              "\n",
              "  const pickedPromise = new Promise((resolve) => {\n",
              "    inputElement.addEventListener('change', (e) => {\n",
              "      resolve(e.target.files);\n",
              "    });\n",
              "  });\n",
              "\n",
              "  const cancel = document.createElement('button');\n",
              "  inputElement.parentElement.appendChild(cancel);\n",
              "  cancel.textContent = 'Cancel upload';\n",
              "  const cancelPromise = new Promise((resolve) => {\n",
              "    cancel.onclick = () => {\n",
              "      resolve(null);\n",
              "    };\n",
              "  });\n",
              "\n",
              "  // Wait for the user to pick the files.\n",
              "  const files = yield {\n",
              "    promise: Promise.race([pickedPromise, cancelPromise]),\n",
              "    response: {\n",
              "      action: 'starting',\n",
              "    }\n",
              "  };\n",
              "\n",
              "  cancel.remove();\n",
              "\n",
              "  // Disable the input element since further picks are not allowed.\n",
              "  inputElement.disabled = true;\n",
              "\n",
              "  if (!files) {\n",
              "    return {\n",
              "      response: {\n",
              "        action: 'complete',\n",
              "      }\n",
              "    };\n",
              "  }\n",
              "\n",
              "  for (const file of files) {\n",
              "    const li = document.createElement('li');\n",
              "    li.append(span(file.name, {fontWeight: 'bold'}));\n",
              "    li.append(span(\n",
              "        `(${file.type || 'n/a'}) - ${file.size} bytes, ` +\n",
              "        `last modified: ${\n",
              "            file.lastModifiedDate ? file.lastModifiedDate.toLocaleDateString() :\n",
              "                                    'n/a'} - `));\n",
              "    const percent = span('0% done');\n",
              "    li.appendChild(percent);\n",
              "\n",
              "    outputElement.appendChild(li);\n",
              "\n",
              "    const fileDataPromise = new Promise((resolve) => {\n",
              "      const reader = new FileReader();\n",
              "      reader.onload = (e) => {\n",
              "        resolve(e.target.result);\n",
              "      };\n",
              "      reader.readAsArrayBuffer(file);\n",
              "    });\n",
              "    // Wait for the data to be ready.\n",
              "    let fileData = yield {\n",
              "      promise: fileDataPromise,\n",
              "      response: {\n",
              "        action: 'continue',\n",
              "      }\n",
              "    };\n",
              "\n",
              "    // Use a chunked sending to avoid message size limits. See b/62115660.\n",
              "    let position = 0;\n",
              "    do {\n",
              "      const length = Math.min(fileData.byteLength - position, MAX_PAYLOAD_SIZE);\n",
              "      const chunk = new Uint8Array(fileData, position, length);\n",
              "      position += length;\n",
              "\n",
              "      const base64 = btoa(String.fromCharCode.apply(null, chunk));\n",
              "      yield {\n",
              "        response: {\n",
              "          action: 'append',\n",
              "          file: file.name,\n",
              "          data: base64,\n",
              "        },\n",
              "      };\n",
              "\n",
              "      let percentDone = fileData.byteLength === 0 ?\n",
              "          100 :\n",
              "          Math.round((position / fileData.byteLength) * 100);\n",
              "      percent.textContent = `${percentDone}% done`;\n",
              "\n",
              "    } while (position < fileData.byteLength);\n",
              "  }\n",
              "\n",
              "  // All done.\n",
              "  yield {\n",
              "    response: {\n",
              "      action: 'complete',\n",
              "    }\n",
              "  };\n",
              "}\n",
              "\n",
              "scope.google = scope.google || {};\n",
              "scope.google.colab = scope.google.colab || {};\n",
              "scope.google.colab._files = {\n",
              "  _uploadFiles,\n",
              "  _uploadFilesContinue,\n",
              "};\n",
              "})(self);\n",
              "</script> "
            ]
          },
          "metadata": {}
        },
        {
          "output_type": "stream",
          "name": "stdout",
          "text": [
            "Saving kaggle.json to kaggle.json\n"
          ]
        },
        {
          "output_type": "execute_result",
          "data": {
            "text/plain": [
              "{'kaggle.json': b'{\"username\":\"niilopkknen\",\"key\":\"b5d82ed4550ac7c2a5b6a897bb44fb17\"}'}"
            ]
          },
          "metadata": {},
          "execution_count": 6
        }
      ],
      "source": [
        "from google.colab import files\n",
        "files.upload()"
      ]
    },
    {
      "cell_type": "code",
      "execution_count": 7,
      "metadata": {
        "id": "0ukvcyhEQy3r"
      },
      "outputs": [],
      "source": [
        "!mkdir ~/.kaggle\n",
        "!cp kaggle.json ~/.kaggle/\n",
        "!chmod 600 ~/.kaggle/kaggle.json"
      ]
    },
    {
      "cell_type": "markdown",
      "metadata": {
        "id": "OP-6sOobQ2Ks"
      },
      "source": [
        "Download required data using Kaggle API"
      ]
    },
    {
      "cell_type": "code",
      "execution_count": 8,
      "metadata": {
        "colab": {
          "base_uri": "https://localhost:8080/"
        },
        "id": "Py83Vgq_Q1WT",
        "outputId": "78e3bb3e-6870-4bac-f134-5e5ce90d8259"
      },
      "outputs": [
        {
          "output_type": "stream",
          "name": "stdout",
          "text": [
            "Downloading amazon-products-dataset.zip to /content\n",
            " 95% 76.0M/79.7M [00:02<00:00, 42.8MB/s]\n",
            "100% 79.7M/79.7M [00:02<00:00, 33.1MB/s]\n",
            "Archive:  /content/amazon-products-dataset.zip\n",
            "  inflating: /content/amazon_data/Air Conditioners.csv  \n",
            "  inflating: /content/amazon_data/All Appliances.csv  \n",
            "  inflating: /content/amazon_data/All Books.csv  \n",
            "  inflating: /content/amazon_data/All Car and Motorbike Products.csv  \n",
            "  inflating: /content/amazon_data/All Electronics.csv  \n",
            "  inflating: /content/amazon_data/All English.csv  \n",
            "  inflating: /content/amazon_data/All Exercise and Fitness.csv  \n",
            "  inflating: /content/amazon_data/All Grocery and Gourmet Foods.csv  \n",
            "  inflating: /content/amazon_data/All Hindi.csv  \n",
            "  inflating: /content/amazon_data/All Home and Kitchen.csv  \n",
            "  inflating: /content/amazon_data/All Movies and TV Shows.csv  \n",
            "  inflating: /content/amazon_data/All Music.csv  \n",
            "  inflating: /content/amazon_data/All Pet Supplies.csv  \n",
            "  inflating: /content/amazon_data/All Sports Fitness and Outdoors.csv  \n",
            "  inflating: /content/amazon_data/All Video Games.csv  \n",
            "  inflating: /content/amazon_data/Amazon Fashion.csv  \n",
            "  inflating: /content/amazon_data/Amazon Pharmacy.csv  \n",
            "  inflating: /content/amazon_data/Amazon-Products.csv  \n",
            "  inflating: /content/amazon_data/Baby Bath Skin and Grooming.csv  \n",
            "  inflating: /content/amazon_data/Baby Fashion.csv  \n",
            "  inflating: /content/amazon_data/Baby Products.csv  \n",
            "  inflating: /content/amazon_data/Backpacks.csv  \n",
            "  inflating: /content/amazon_data/Badminton.csv  \n",
            "  inflating: /content/amazon_data/Bags and Luggage.csv  \n",
            "  inflating: /content/amazon_data/Ballerinas.csv  \n",
            "  inflating: /content/amazon_data/Beauty and Grooming.csv  \n",
            "  inflating: /content/amazon_data/Bedroom Linen.csv  \n",
            "  inflating: /content/amazon_data/Blu-ray.csv  \n",
            "  inflating: /content/amazon_data/Camera Accessories.csv  \n",
            "  inflating: /content/amazon_data/Cameras.csv  \n",
            "  inflating: /content/amazon_data/Camping and Hiking.csv  \n",
            "  inflating: /content/amazon_data/Car Accessories.csv  \n",
            "  inflating: /content/amazon_data/Car Electronics.csv  \n",
            "  inflating: /content/amazon_data/Car Parts.csv  \n",
            "  inflating: /content/amazon_data/Car and Bike Care.csv  \n",
            "  inflating: /content/amazon_data/Cardio Equipment.csv  \n",
            "  inflating: /content/amazon_data/Casual Shoes.csv  \n",
            "  inflating: /content/amazon_data/Childrens Books.csv  \n",
            "  inflating: /content/amazon_data/Clothing.csv  \n",
            "  inflating: /content/amazon_data/Coffee Tea and Beverages.csv  \n",
            "  inflating: /content/amazon_data/Cricket.csv  \n",
            "  inflating: /content/amazon_data/Cycling.csv  \n",
            "  inflating: /content/amazon_data/Diapers.csv  \n",
            "  inflating: /content/amazon_data/Diet and Nutrition.csv  \n",
            "  inflating: /content/amazon_data/Dog supplies.csv  \n",
            "  inflating: /content/amazon_data/Entertainment Collectibles.csv  \n",
            "  inflating: /content/amazon_data/Ethnic Wear.csv  \n",
            "  inflating: /content/amazon_data/Exam Central.csv  \n",
            "  inflating: /content/amazon_data/Fashion Sales and Deals.csv  \n",
            "  inflating: /content/amazon_data/Fashion Sandals.csv  \n",
            "  inflating: /content/amazon_data/Fashion and Silver Jewellery.csv  \n",
            "  inflating: /content/amazon_data/Fiction Books.csv  \n",
            "  inflating: /content/amazon_data/Film Songs.csv  \n",
            "  inflating: /content/amazon_data/Fine Art.csv  \n",
            "  inflating: /content/amazon_data/Fitness Accessories.csv  \n",
            "  inflating: /content/amazon_data/Football.csv  \n",
            "  inflating: /content/amazon_data/Formal Shoes.csv  \n",
            "  inflating: /content/amazon_data/Furniture.csv  \n",
            "  inflating: /content/amazon_data/Gaming Accessories.csv  \n",
            "  inflating: /content/amazon_data/Gaming Consoles.csv  \n",
            "  inflating: /content/amazon_data/Garden and Outdoors.csv  \n",
            "  inflating: /content/amazon_data/Gold and Diamond Jewellery.csv  \n",
            "  inflating: /content/amazon_data/Handbags and Clutches.csv  \n",
            "  inflating: /content/amazon_data/Headphones.csv  \n",
            "  inflating: /content/amazon_data/Health and Personal Care.csv  \n",
            "  inflating: /content/amazon_data/Heating and Cooling Appliances.csv  \n",
            "  inflating: /content/amazon_data/Home Audio and Theater.csv  \n",
            "  inflating: /content/amazon_data/Home Dcor.csv  \n",
            "  inflating: /content/amazon_data/Home Entertainment Systems.csv  \n",
            "  inflating: /content/amazon_data/Home Furnishing.csv  \n",
            "  inflating: /content/amazon_data/Home Improvement.csv  \n",
            "  inflating: /content/amazon_data/Home Storage.csv  \n",
            "  inflating: /content/amazon_data/Household Supplies.csv  \n",
            "  inflating: /content/amazon_data/Indian Classical.csv  \n",
            "  inflating: /content/amazon_data/Indian Language Books.csv  \n",
            "  inflating: /content/amazon_data/Indoor Lighting.csv  \n",
            "  inflating: /content/amazon_data/Industrial and Scientific Supplies.csv  \n",
            "  inflating: /content/amazon_data/Innerwear.csv  \n",
            "  inflating: /content/amazon_data/International Music.csv  \n",
            "  inflating: /content/amazon_data/International Toy Store.csv  \n",
            "  inflating: /content/amazon_data/Janitorial and Sanitation Supplies.csv  \n",
            "  inflating: /content/amazon_data/Jeans.csv  \n",
            "  inflating: /content/amazon_data/Jewellery.csv  \n",
            "  inflating: /content/amazon_data/Kids Clothing.csv  \n",
            "  inflating: /content/amazon_data/Kids Fashion.csv  \n",
            "  inflating: /content/amazon_data/Kids Shoes.csv  \n",
            "  inflating: /content/amazon_data/Kids Watches.csv  \n",
            "  inflating: /content/amazon_data/Kindle eBooks.csv  \n",
            "  inflating: /content/amazon_data/Kitchen Storage and Containers.csv  \n",
            "  inflating: /content/amazon_data/Kitchen and Dining.csv  \n",
            "  inflating: /content/amazon_data/Kitchen and Home Appliances.csv  \n",
            "  inflating: /content/amazon_data/Lab and Scientific.csv  \n",
            "  inflating: /content/amazon_data/Lingerie and Nightwear.csv  \n",
            "  inflating: /content/amazon_data/Luxury Beauty.csv  \n",
            "  inflating: /content/amazon_data/Make-up.csv  \n",
            "  inflating: /content/amazon_data/Mens Fashion.csv  \n",
            "  inflating: /content/amazon_data/Motorbike Accessories and Parts.csv  \n",
            "  inflating: /content/amazon_data/Musical Instruments and Professional Audio.csv  \n",
            "  inflating: /content/amazon_data/Nursing and Feeding.csv  \n",
            "  inflating: /content/amazon_data/PC Games.csv  \n",
            "  inflating: /content/amazon_data/Pantry.csv  \n",
            "  inflating: /content/amazon_data/Personal Care Appliances.csv  \n",
            "  inflating: /content/amazon_data/Refrigerators.csv  \n",
            "  inflating: /content/amazon_data/Refurbished and Open Box.csv  \n",
            "  inflating: /content/amazon_data/Rucksacks.csv  \n",
            "  inflating: /content/amazon_data/Running.csv  \n",
            "  inflating: /content/amazon_data/STEM Toys Store.csv  \n",
            "  inflating: /content/amazon_data/School Bags.csv  \n",
            "  inflating: /content/amazon_data/School Textbooks.csv  \n",
            "  inflating: /content/amazon_data/Security Cameras.csv  \n",
            "  inflating: /content/amazon_data/Sewing and Craft Supplies.csv  \n",
            "  inflating: /content/amazon_data/Shirts.csv  \n",
            "  inflating: /content/amazon_data/Shoes.csv  \n",
            "  inflating: /content/amazon_data/Snack Foods.csv  \n",
            "  inflating: /content/amazon_data/Speakers.csv  \n",
            "  inflating: /content/amazon_data/Sports Collectibles.csv  \n",
            "  inflating: /content/amazon_data/Sports Shoes.csv  \n",
            "  inflating: /content/amazon_data/Sportswear.csv  \n",
            "  inflating: /content/amazon_data/Strength Training.csv  \n",
            "  inflating: /content/amazon_data/Strollers and Prams.csv  \n",
            "  inflating: /content/amazon_data/Subscribe and Save.csv  \n",
            "  inflating: /content/amazon_data/Suitcases and Trolley Bags.csv  \n",
            "  inflating: /content/amazon_data/Sunglasses.csv  \n",
            "  inflating: /content/amazon_data/T-shirts and Polos.csv  \n",
            "  inflating: /content/amazon_data/Televisions.csv  \n",
            "  inflating: /content/amazon_data/Test Measure and Inspect.csv  \n",
            "  inflating: /content/amazon_data/Textbooks.csv  \n",
            "  inflating: /content/amazon_data/The Designer Boutique.csv  \n",
            "  inflating: /content/amazon_data/Toys Gifting Store.csv  \n",
            "  inflating: /content/amazon_data/Toys and Games.csv  \n",
            "  inflating: /content/amazon_data/Travel Accessories.csv  \n",
            "  inflating: /content/amazon_data/Travel Duffles.csv  \n",
            "  inflating: /content/amazon_data/Value Bazaar.csv  \n",
            "  inflating: /content/amazon_data/Video Games Deals.csv  \n",
            "  inflating: /content/amazon_data/Wallets.csv  \n",
            "  inflating: /content/amazon_data/Washing Machines.csv  \n",
            "  inflating: /content/amazon_data/Watches.csv  \n",
            "  inflating: /content/amazon_data/Western Wear.csv  \n",
            "  inflating: /content/amazon_data/Womens Fashion.csv  \n",
            "  inflating: /content/amazon_data/Yoga.csv  \n"
          ]
        }
      ],
      "source": [
        "!mkdir amazon_data\n",
        "!kaggle datasets download -d lokeshparab/amazon-products-dataset\n",
        "!unzip /content/amazon-products-dataset.zip -d /content/amazon_data"
      ]
    },
    {
      "cell_type": "markdown",
      "metadata": {
        "id": "QKfAJ3g8UgZ0"
      },
      "source": [
        "We will choose \"All Electronics\" data for now and it contains 8000 unique general electronic products."
      ]
    },
    {
      "cell_type": "code",
      "execution_count": 9,
      "metadata": {
        "colab": {
          "base_uri": "https://localhost:8080/"
        },
        "id": "aC5_Q0b6VOsF",
        "outputId": "c741096f-68b7-4816-d043-cd7e568e1f95"
      },
      "outputs": [
        {
          "output_type": "stream",
          "name": "stdout",
          "text": [
            "/content\n"
          ]
        }
      ],
      "source": [
        "import os\n",
        "current_directory = os.getcwd()\n",
        "print(current_directory)"
      ]
    },
    {
      "cell_type": "code",
      "execution_count": 10,
      "metadata": {
        "id": "BhmQ4pWzUyLc"
      },
      "outputs": [],
      "source": [
        "import numpy as np\n",
        "import pandas as pd\n",
        "import matplotlib.pyplot as plt\n",
        "\n",
        "electronics_df = pd.read_csv('/content/amazon_data/All Electronics.csv')"
      ]
    },
    {
      "cell_type": "code",
      "execution_count": 11,
      "metadata": {
        "colab": {
          "base_uri": "https://localhost:8080/",
          "height": 424
        },
        "id": "H0bHmgnUV0jq",
        "outputId": "6521732c-19c1-4d74-d241-3a831cb8547c"
      },
      "outputs": [
        {
          "output_type": "execute_result",
          "data": {
            "text/plain": [
              "                                                   name        main_category  \\\n",
              "0     Redmi 10 Power (Power Black, 8GB RAM, 128GB St...  tv, audio & cameras   \n",
              "1     OnePlus Nord CE 2 Lite 5G (Blue Tide, 6GB RAM,...  tv, audio & cameras   \n",
              "2     OnePlus Bullets Z2 Bluetooth Wireless in Ear E...  tv, audio & cameras   \n",
              "3     Samsung Galaxy M33 5G (Mystique Green, 6GB, 12...  tv, audio & cameras   \n",
              "4     OnePlus Nord CE 2 Lite 5G (Black Dusk, 6GB RAM...  tv, audio & cameras   \n",
              "...                                                 ...                  ...   \n",
              "9595  PALAY® BTS Backpack For Boys Kpop BTS Bangtan ...  tv, audio & cameras   \n",
              "9596  MOCA iPad Air 5th Generation Case 2022 / iPad ...  tv, audio & cameras   \n",
              "9597  ZEBRONICS Zeb-Sound Bomb 5 TWS V5.0 Bluetooth ...  tv, audio & cameras   \n",
              "9598  LINQS® Original NXP Chip | Waterproof NFC Tag ...  tv, audio & cameras   \n",
              "9599  Pragati Systems® Medium Grain 24x36 Inch 10 Oz...  tv, audio & cameras   \n",
              "\n",
              "         sub_category                                              image  \\\n",
              "0     All Electronics  https://m.media-amazon.com/images/I/81eM15lVcJ...   \n",
              "1     All Electronics  https://m.media-amazon.com/images/I/71AvQd3Vzq...   \n",
              "2     All Electronics  https://m.media-amazon.com/images/I/51UhwaQXCp...   \n",
              "3     All Electronics  https://m.media-amazon.com/images/I/81I3w4J6yj...   \n",
              "4     All Electronics  https://m.media-amazon.com/images/I/71V--WZVUI...   \n",
              "...               ...                                                ...   \n",
              "9595  All Electronics  https://m.media-amazon.com/images/W/IMAGERENDE...   \n",
              "9596  All Electronics  https://m.media-amazon.com/images/W/IMAGERENDE...   \n",
              "9597  All Electronics  https://m.media-amazon.com/images/W/IMAGERENDE...   \n",
              "9598  All Electronics  https://m.media-amazon.com/images/W/IMAGERENDE...   \n",
              "9599  All Electronics  https://m.media-amazon.com/images/W/IMAGERENDE...   \n",
              "\n",
              "                                                   link ratings no_of_ratings  \\\n",
              "0     https://www.amazon.in/Redmi-Power-Black-128GB-...     4.0           965   \n",
              "1     https://www.amazon.in/OnePlus-Nord-Lite-128GB-...     4.3       113,956   \n",
              "2     https://www.amazon.in/Oneplus-Bluetooth-Wirele...     4.2        90,304   \n",
              "3     https://www.amazon.in/Samsung-Mystique-Storage...     4.1        24,863   \n",
              "4     https://www.amazon.in/OnePlus-Nord-Black-128GB...     4.3       113,956   \n",
              "...                                                 ...     ...           ...   \n",
              "9595  https://www.amazon.in/PALAY%C2%AE-Backpack-Ban...     4.1            37   \n",
              "9596  https://www.amazon.in/MOCA-Protective-Generati...     4.2         1,133   \n",
              "9597  https://www.amazon.in/Zebronics-Zeb-Sound-Blue...     3.5         3,177   \n",
              "9598  https://www.amazon.in/LINQS-Sticker-Smartrac-C...     3.6           210   \n",
              "9599  https://www.amazon.in/Pragati-Systems-Stretche...     4.5           938   \n",
              "\n",
              "     discount_price actual_price  \n",
              "0           ₹10,999      ₹18,999  \n",
              "1           ₹18,999      ₹19,999  \n",
              "2            ₹1,999       ₹2,299  \n",
              "3           ₹15,999      ₹24,999  \n",
              "4           ₹18,999      ₹19,999  \n",
              "...             ...          ...  \n",
              "9595         ₹1,710       ₹2,491  \n",
              "9596           ₹475       ₹1,999  \n",
              "9597           ₹962       ₹3,999  \n",
              "9598           ₹400       ₹1,000  \n",
              "9599           ₹940       ₹1,120  \n",
              "\n",
              "[9600 rows x 9 columns]"
            ],
            "text/html": [
              "\n",
              "  <div id=\"df-7ab3ccf7-c76c-49a0-9453-c4c52a1a92f8\" class=\"colab-df-container\">\n",
              "    <div>\n",
              "<style scoped>\n",
              "    .dataframe tbody tr th:only-of-type {\n",
              "        vertical-align: middle;\n",
              "    }\n",
              "\n",
              "    .dataframe tbody tr th {\n",
              "        vertical-align: top;\n",
              "    }\n",
              "\n",
              "    .dataframe thead th {\n",
              "        text-align: right;\n",
              "    }\n",
              "</style>\n",
              "<table border=\"1\" class=\"dataframe\">\n",
              "  <thead>\n",
              "    <tr style=\"text-align: right;\">\n",
              "      <th></th>\n",
              "      <th>name</th>\n",
              "      <th>main_category</th>\n",
              "      <th>sub_category</th>\n",
              "      <th>image</th>\n",
              "      <th>link</th>\n",
              "      <th>ratings</th>\n",
              "      <th>no_of_ratings</th>\n",
              "      <th>discount_price</th>\n",
              "      <th>actual_price</th>\n",
              "    </tr>\n",
              "  </thead>\n",
              "  <tbody>\n",
              "    <tr>\n",
              "      <th>0</th>\n",
              "      <td>Redmi 10 Power (Power Black, 8GB RAM, 128GB St...</td>\n",
              "      <td>tv, audio &amp; cameras</td>\n",
              "      <td>All Electronics</td>\n",
              "      <td>https://m.media-amazon.com/images/I/81eM15lVcJ...</td>\n",
              "      <td>https://www.amazon.in/Redmi-Power-Black-128GB-...</td>\n",
              "      <td>4.0</td>\n",
              "      <td>965</td>\n",
              "      <td>₹10,999</td>\n",
              "      <td>₹18,999</td>\n",
              "    </tr>\n",
              "    <tr>\n",
              "      <th>1</th>\n",
              "      <td>OnePlus Nord CE 2 Lite 5G (Blue Tide, 6GB RAM,...</td>\n",
              "      <td>tv, audio &amp; cameras</td>\n",
              "      <td>All Electronics</td>\n",
              "      <td>https://m.media-amazon.com/images/I/71AvQd3Vzq...</td>\n",
              "      <td>https://www.amazon.in/OnePlus-Nord-Lite-128GB-...</td>\n",
              "      <td>4.3</td>\n",
              "      <td>113,956</td>\n",
              "      <td>₹18,999</td>\n",
              "      <td>₹19,999</td>\n",
              "    </tr>\n",
              "    <tr>\n",
              "      <th>2</th>\n",
              "      <td>OnePlus Bullets Z2 Bluetooth Wireless in Ear E...</td>\n",
              "      <td>tv, audio &amp; cameras</td>\n",
              "      <td>All Electronics</td>\n",
              "      <td>https://m.media-amazon.com/images/I/51UhwaQXCp...</td>\n",
              "      <td>https://www.amazon.in/Oneplus-Bluetooth-Wirele...</td>\n",
              "      <td>4.2</td>\n",
              "      <td>90,304</td>\n",
              "      <td>₹1,999</td>\n",
              "      <td>₹2,299</td>\n",
              "    </tr>\n",
              "    <tr>\n",
              "      <th>3</th>\n",
              "      <td>Samsung Galaxy M33 5G (Mystique Green, 6GB, 12...</td>\n",
              "      <td>tv, audio &amp; cameras</td>\n",
              "      <td>All Electronics</td>\n",
              "      <td>https://m.media-amazon.com/images/I/81I3w4J6yj...</td>\n",
              "      <td>https://www.amazon.in/Samsung-Mystique-Storage...</td>\n",
              "      <td>4.1</td>\n",
              "      <td>24,863</td>\n",
              "      <td>₹15,999</td>\n",
              "      <td>₹24,999</td>\n",
              "    </tr>\n",
              "    <tr>\n",
              "      <th>4</th>\n",
              "      <td>OnePlus Nord CE 2 Lite 5G (Black Dusk, 6GB RAM...</td>\n",
              "      <td>tv, audio &amp; cameras</td>\n",
              "      <td>All Electronics</td>\n",
              "      <td>https://m.media-amazon.com/images/I/71V--WZVUI...</td>\n",
              "      <td>https://www.amazon.in/OnePlus-Nord-Black-128GB...</td>\n",
              "      <td>4.3</td>\n",
              "      <td>113,956</td>\n",
              "      <td>₹18,999</td>\n",
              "      <td>₹19,999</td>\n",
              "    </tr>\n",
              "    <tr>\n",
              "      <th>...</th>\n",
              "      <td>...</td>\n",
              "      <td>...</td>\n",
              "      <td>...</td>\n",
              "      <td>...</td>\n",
              "      <td>...</td>\n",
              "      <td>...</td>\n",
              "      <td>...</td>\n",
              "      <td>...</td>\n",
              "      <td>...</td>\n",
              "    </tr>\n",
              "    <tr>\n",
              "      <th>9595</th>\n",
              "      <td>PALAY® BTS Backpack For Boys Kpop BTS Bangtan ...</td>\n",
              "      <td>tv, audio &amp; cameras</td>\n",
              "      <td>All Electronics</td>\n",
              "      <td>https://m.media-amazon.com/images/W/IMAGERENDE...</td>\n",
              "      <td>https://www.amazon.in/PALAY%C2%AE-Backpack-Ban...</td>\n",
              "      <td>4.1</td>\n",
              "      <td>37</td>\n",
              "      <td>₹1,710</td>\n",
              "      <td>₹2,491</td>\n",
              "    </tr>\n",
              "    <tr>\n",
              "      <th>9596</th>\n",
              "      <td>MOCA iPad Air 5th Generation Case 2022 / iPad ...</td>\n",
              "      <td>tv, audio &amp; cameras</td>\n",
              "      <td>All Electronics</td>\n",
              "      <td>https://m.media-amazon.com/images/W/IMAGERENDE...</td>\n",
              "      <td>https://www.amazon.in/MOCA-Protective-Generati...</td>\n",
              "      <td>4.2</td>\n",
              "      <td>1,133</td>\n",
              "      <td>₹475</td>\n",
              "      <td>₹1,999</td>\n",
              "    </tr>\n",
              "    <tr>\n",
              "      <th>9597</th>\n",
              "      <td>ZEBRONICS Zeb-Sound Bomb 5 TWS V5.0 Bluetooth ...</td>\n",
              "      <td>tv, audio &amp; cameras</td>\n",
              "      <td>All Electronics</td>\n",
              "      <td>https://m.media-amazon.com/images/W/IMAGERENDE...</td>\n",
              "      <td>https://www.amazon.in/Zebronics-Zeb-Sound-Blue...</td>\n",
              "      <td>3.5</td>\n",
              "      <td>3,177</td>\n",
              "      <td>₹962</td>\n",
              "      <td>₹3,999</td>\n",
              "    </tr>\n",
              "    <tr>\n",
              "      <th>9598</th>\n",
              "      <td>LINQS® Original NXP Chip | Waterproof NFC Tag ...</td>\n",
              "      <td>tv, audio &amp; cameras</td>\n",
              "      <td>All Electronics</td>\n",
              "      <td>https://m.media-amazon.com/images/W/IMAGERENDE...</td>\n",
              "      <td>https://www.amazon.in/LINQS-Sticker-Smartrac-C...</td>\n",
              "      <td>3.6</td>\n",
              "      <td>210</td>\n",
              "      <td>₹400</td>\n",
              "      <td>₹1,000</td>\n",
              "    </tr>\n",
              "    <tr>\n",
              "      <th>9599</th>\n",
              "      <td>Pragati Systems® Medium Grain 24x36 Inch 10 Oz...</td>\n",
              "      <td>tv, audio &amp; cameras</td>\n",
              "      <td>All Electronics</td>\n",
              "      <td>https://m.media-amazon.com/images/W/IMAGERENDE...</td>\n",
              "      <td>https://www.amazon.in/Pragati-Systems-Stretche...</td>\n",
              "      <td>4.5</td>\n",
              "      <td>938</td>\n",
              "      <td>₹940</td>\n",
              "      <td>₹1,120</td>\n",
              "    </tr>\n",
              "  </tbody>\n",
              "</table>\n",
              "<p>9600 rows × 9 columns</p>\n",
              "</div>\n",
              "    <div class=\"colab-df-buttons\">\n",
              "\n",
              "  <div class=\"colab-df-container\">\n",
              "    <button class=\"colab-df-convert\" onclick=\"convertToInteractive('df-7ab3ccf7-c76c-49a0-9453-c4c52a1a92f8')\"\n",
              "            title=\"Convert this dataframe to an interactive table.\"\n",
              "            style=\"display:none;\">\n",
              "\n",
              "  <svg xmlns=\"http://www.w3.org/2000/svg\" height=\"24px\" viewBox=\"0 -960 960 960\">\n",
              "    <path d=\"M120-120v-720h720v720H120Zm60-500h600v-160H180v160Zm220 220h160v-160H400v160Zm0 220h160v-160H400v160ZM180-400h160v-160H180v160Zm440 0h160v-160H620v160ZM180-180h160v-160H180v160Zm440 0h160v-160H620v160Z\"/>\n",
              "  </svg>\n",
              "    </button>\n",
              "\n",
              "  <style>\n",
              "    .colab-df-container {\n",
              "      display:flex;\n",
              "      gap: 12px;\n",
              "    }\n",
              "\n",
              "    .colab-df-convert {\n",
              "      background-color: #E8F0FE;\n",
              "      border: none;\n",
              "      border-radius: 50%;\n",
              "      cursor: pointer;\n",
              "      display: none;\n",
              "      fill: #1967D2;\n",
              "      height: 32px;\n",
              "      padding: 0 0 0 0;\n",
              "      width: 32px;\n",
              "    }\n",
              "\n",
              "    .colab-df-convert:hover {\n",
              "      background-color: #E2EBFA;\n",
              "      box-shadow: 0px 1px 2px rgba(60, 64, 67, 0.3), 0px 1px 3px 1px rgba(60, 64, 67, 0.15);\n",
              "      fill: #174EA6;\n",
              "    }\n",
              "\n",
              "    .colab-df-buttons div {\n",
              "      margin-bottom: 4px;\n",
              "    }\n",
              "\n",
              "    [theme=dark] .colab-df-convert {\n",
              "      background-color: #3B4455;\n",
              "      fill: #D2E3FC;\n",
              "    }\n",
              "\n",
              "    [theme=dark] .colab-df-convert:hover {\n",
              "      background-color: #434B5C;\n",
              "      box-shadow: 0px 1px 3px 1px rgba(0, 0, 0, 0.15);\n",
              "      filter: drop-shadow(0px 1px 2px rgba(0, 0, 0, 0.3));\n",
              "      fill: #FFFFFF;\n",
              "    }\n",
              "  </style>\n",
              "\n",
              "    <script>\n",
              "      const buttonEl =\n",
              "        document.querySelector('#df-7ab3ccf7-c76c-49a0-9453-c4c52a1a92f8 button.colab-df-convert');\n",
              "      buttonEl.style.display =\n",
              "        google.colab.kernel.accessAllowed ? 'block' : 'none';\n",
              "\n",
              "      async function convertToInteractive(key) {\n",
              "        const element = document.querySelector('#df-7ab3ccf7-c76c-49a0-9453-c4c52a1a92f8');\n",
              "        const dataTable =\n",
              "          await google.colab.kernel.invokeFunction('convertToInteractive',\n",
              "                                                    [key], {});\n",
              "        if (!dataTable) return;\n",
              "\n",
              "        const docLinkHtml = 'Like what you see? Visit the ' +\n",
              "          '<a target=\"_blank\" href=https://colab.research.google.com/notebooks/data_table.ipynb>data table notebook</a>'\n",
              "          + ' to learn more about interactive tables.';\n",
              "        element.innerHTML = '';\n",
              "        dataTable['output_type'] = 'display_data';\n",
              "        await google.colab.output.renderOutput(dataTable, element);\n",
              "        const docLink = document.createElement('div');\n",
              "        docLink.innerHTML = docLinkHtml;\n",
              "        element.appendChild(docLink);\n",
              "      }\n",
              "    </script>\n",
              "  </div>\n",
              "\n",
              "\n",
              "<div id=\"df-23b58308-d9d7-4109-a7ab-69b625ab9afa\">\n",
              "  <button class=\"colab-df-quickchart\" onclick=\"quickchart('df-23b58308-d9d7-4109-a7ab-69b625ab9afa')\"\n",
              "            title=\"Suggest charts\"\n",
              "            style=\"display:none;\">\n",
              "\n",
              "<svg xmlns=\"http://www.w3.org/2000/svg\" height=\"24px\"viewBox=\"0 0 24 24\"\n",
              "     width=\"24px\">\n",
              "    <g>\n",
              "        <path d=\"M19 3H5c-1.1 0-2 .9-2 2v14c0 1.1.9 2 2 2h14c1.1 0 2-.9 2-2V5c0-1.1-.9-2-2-2zM9 17H7v-7h2v7zm4 0h-2V7h2v10zm4 0h-2v-4h2v4z\"/>\n",
              "    </g>\n",
              "</svg>\n",
              "  </button>\n",
              "\n",
              "<style>\n",
              "  .colab-df-quickchart {\n",
              "      --bg-color: #E8F0FE;\n",
              "      --fill-color: #1967D2;\n",
              "      --hover-bg-color: #E2EBFA;\n",
              "      --hover-fill-color: #174EA6;\n",
              "      --disabled-fill-color: #AAA;\n",
              "      --disabled-bg-color: #DDD;\n",
              "  }\n",
              "\n",
              "  [theme=dark] .colab-df-quickchart {\n",
              "      --bg-color: #3B4455;\n",
              "      --fill-color: #D2E3FC;\n",
              "      --hover-bg-color: #434B5C;\n",
              "      --hover-fill-color: #FFFFFF;\n",
              "      --disabled-bg-color: #3B4455;\n",
              "      --disabled-fill-color: #666;\n",
              "  }\n",
              "\n",
              "  .colab-df-quickchart {\n",
              "    background-color: var(--bg-color);\n",
              "    border: none;\n",
              "    border-radius: 50%;\n",
              "    cursor: pointer;\n",
              "    display: none;\n",
              "    fill: var(--fill-color);\n",
              "    height: 32px;\n",
              "    padding: 0;\n",
              "    width: 32px;\n",
              "  }\n",
              "\n",
              "  .colab-df-quickchart:hover {\n",
              "    background-color: var(--hover-bg-color);\n",
              "    box-shadow: 0 1px 2px rgba(60, 64, 67, 0.3), 0 1px 3px 1px rgba(60, 64, 67, 0.15);\n",
              "    fill: var(--button-hover-fill-color);\n",
              "  }\n",
              "\n",
              "  .colab-df-quickchart-complete:disabled,\n",
              "  .colab-df-quickchart-complete:disabled:hover {\n",
              "    background-color: var(--disabled-bg-color);\n",
              "    fill: var(--disabled-fill-color);\n",
              "    box-shadow: none;\n",
              "  }\n",
              "\n",
              "  .colab-df-spinner {\n",
              "    border: 2px solid var(--fill-color);\n",
              "    border-color: transparent;\n",
              "    border-bottom-color: var(--fill-color);\n",
              "    animation:\n",
              "      spin 1s steps(1) infinite;\n",
              "  }\n",
              "\n",
              "  @keyframes spin {\n",
              "    0% {\n",
              "      border-color: transparent;\n",
              "      border-bottom-color: var(--fill-color);\n",
              "      border-left-color: var(--fill-color);\n",
              "    }\n",
              "    20% {\n",
              "      border-color: transparent;\n",
              "      border-left-color: var(--fill-color);\n",
              "      border-top-color: var(--fill-color);\n",
              "    }\n",
              "    30% {\n",
              "      border-color: transparent;\n",
              "      border-left-color: var(--fill-color);\n",
              "      border-top-color: var(--fill-color);\n",
              "      border-right-color: var(--fill-color);\n",
              "    }\n",
              "    40% {\n",
              "      border-color: transparent;\n",
              "      border-right-color: var(--fill-color);\n",
              "      border-top-color: var(--fill-color);\n",
              "    }\n",
              "    60% {\n",
              "      border-color: transparent;\n",
              "      border-right-color: var(--fill-color);\n",
              "    }\n",
              "    80% {\n",
              "      border-color: transparent;\n",
              "      border-right-color: var(--fill-color);\n",
              "      border-bottom-color: var(--fill-color);\n",
              "    }\n",
              "    90% {\n",
              "      border-color: transparent;\n",
              "      border-bottom-color: var(--fill-color);\n",
              "    }\n",
              "  }\n",
              "</style>\n",
              "\n",
              "  <script>\n",
              "    async function quickchart(key) {\n",
              "      const quickchartButtonEl =\n",
              "        document.querySelector('#' + key + ' button');\n",
              "      quickchartButtonEl.disabled = true;  // To prevent multiple clicks.\n",
              "      quickchartButtonEl.classList.add('colab-df-spinner');\n",
              "      try {\n",
              "        const charts = await google.colab.kernel.invokeFunction(\n",
              "            'suggestCharts', [key], {});\n",
              "      } catch (error) {\n",
              "        console.error('Error during call to suggestCharts:', error);\n",
              "      }\n",
              "      quickchartButtonEl.classList.remove('colab-df-spinner');\n",
              "      quickchartButtonEl.classList.add('colab-df-quickchart-complete');\n",
              "    }\n",
              "    (() => {\n",
              "      let quickchartButtonEl =\n",
              "        document.querySelector('#df-23b58308-d9d7-4109-a7ab-69b625ab9afa button');\n",
              "      quickchartButtonEl.style.display =\n",
              "        google.colab.kernel.accessAllowed ? 'block' : 'none';\n",
              "    })();\n",
              "  </script>\n",
              "</div>\n",
              "    </div>\n",
              "  </div>\n"
            ]
          },
          "metadata": {},
          "execution_count": 11
        }
      ],
      "source": [
        "electronics_df"
      ]
    },
    {
      "cell_type": "markdown",
      "metadata": {
        "id": "RV0sBpRQWAbG"
      },
      "source": [
        "We only want name of the products"
      ]
    },
    {
      "cell_type": "code",
      "execution_count": 12,
      "metadata": {
        "colab": {
          "base_uri": "https://localhost:8080/"
        },
        "id": "3vDhax9-V83p",
        "outputId": "667a8feb-8038-44ce-d7b2-8426b3cd25fe"
      },
      "outputs": [
        {
          "output_type": "execute_result",
          "data": {
            "text/plain": [
              "0       Redmi 10 Power (Power Black, 8GB RAM, 128GB St...\n",
              "1       OnePlus Nord CE 2 Lite 5G (Blue Tide, 6GB RAM,...\n",
              "2       OnePlus Bullets Z2 Bluetooth Wireless in Ear E...\n",
              "3       Samsung Galaxy M33 5G (Mystique Green, 6GB, 12...\n",
              "4       OnePlus Nord CE 2 Lite 5G (Black Dusk, 6GB RAM...\n",
              "                              ...                        \n",
              "9595    PALAY® BTS Backpack For Boys Kpop BTS Bangtan ...\n",
              "9596    MOCA iPad Air 5th Generation Case 2022 / iPad ...\n",
              "9597    ZEBRONICS Zeb-Sound Bomb 5 TWS V5.0 Bluetooth ...\n",
              "9598    LINQS® Original NXP Chip | Waterproof NFC Tag ...\n",
              "9599    Pragati Systems® Medium Grain 24x36 Inch 10 Oz...\n",
              "Name: name, Length: 9600, dtype: object"
            ]
          },
          "metadata": {},
          "execution_count": 12
        }
      ],
      "source": [
        "electronics_df['name']"
      ]
    },
    {
      "cell_type": "markdown",
      "metadata": {
        "id": "qOCWZi2ZXMNJ"
      },
      "source": [
        "Convert all names to an array"
      ]
    },
    {
      "cell_type": "code",
      "execution_count": 13,
      "metadata": {
        "id": "2bM2_qZLXOTf"
      },
      "outputs": [],
      "source": [
        "products = electronics_df['name']"
      ]
    },
    {
      "cell_type": "code",
      "execution_count": 14,
      "metadata": {
        "id": "kBfGMwxGdIXp"
      },
      "outputs": [],
      "source": [
        "spacy_en = spacy.load('en_core_web_sm')"
      ]
    },
    {
      "cell_type": "markdown",
      "metadata": {
        "id": "kSfXop4mc_xf"
      },
      "source": [
        "Tokenizer function"
      ]
    },
    {
      "cell_type": "code",
      "execution_count": 15,
      "metadata": {
        "id": "ir1URtDTc-Kr"
      },
      "outputs": [],
      "source": [
        "def tokeniser(text):\n",
        "  return[tok.text for tok in spacy_en.tokenizer(text)]"
      ]
    },
    {
      "cell_type": "code",
      "execution_count": 16,
      "metadata": {
        "id": "4uTc4odCfnaK"
      },
      "outputs": [],
      "source": [
        "import re\n",
        "import string\n",
        "from nltk.corpus import stopwords\n",
        "\n",
        "def normalize_df(data):\n",
        "  # Lowercasing\n",
        "  data = data.str.lower()\n",
        "  # Removing special characters and punctuation\n",
        "  data = data.apply(lambda x: re.sub(r'[^\\w\\s]', '', x))\n",
        "  return data\n",
        "\n",
        "def normalize_input(text):\n",
        "\n",
        "  text = text.lower()\n",
        "\n",
        "  normalized_text = re.sub(r'[^\\w\\s]', '', text)\n",
        "\n",
        "  return normalized_text"
      ]
    },
    {
      "cell_type": "code",
      "execution_count": 17,
      "metadata": {
        "id": "oWcls0wqgWDV"
      },
      "outputs": [],
      "source": [
        "processed_data = normalize_df(products)"
      ]
    },
    {
      "cell_type": "code",
      "execution_count": 18,
      "metadata": {
        "id": "eHjf2IUfcSVX"
      },
      "outputs": [],
      "source": [
        "from torchtext.vocab import build_vocab_from_iterator\n",
        "\n",
        "def yield_tokens(data):\n",
        "  for sentence in data:\n",
        "    yield tokeniser(sentence)\n",
        "\n",
        "vocab = build_vocab_from_iterator(yield_tokens(processed_data), specials=['<unk>', '<pad>', '<sos>', '<eos>'], min_freq=2)\n",
        "vocab.set_default_index(vocab[\"<unk>\"])\n"
      ]
    },
    {
      "cell_type": "code",
      "execution_count": 19,
      "metadata": {
        "colab": {
          "base_uri": "https://localhost:8080/"
        },
        "id": "kd4BvmdUdxXJ",
        "outputId": "a3eed4e3-fedf-49e2-cd56-ee8fa5d7a1e3"
      },
      "outputs": [
        {
          "output_type": "stream",
          "name": "stdout",
          "text": [
            "The length of the vocab is 6552\n",
            "The index of '<unk>' is 0\n",
            "['<unk>', '<pad>', '<sos>', '<eos>', ' ', 'for', 'with', 'cover', 'case', 'usb', 'and', 'black', 'gb', 'compatible', 'back', 'to', 'wireless', 'bluetooth', 'pro', '5', 'cable', 'laptop', '2', 'g', 'iphone', 'in', 'samsung', 'smart', 'mm', 'c', 'charging', 'galaxy', '4', 'watch', 'inch', '1', 'ear', 'charger', 'camera', 'adapter', 'fast', '3', 'screen', 'of', 'mic', 'mobile', 'stand', 'holder', 'type', 'ultra', 'pack', 'hd', 'cm', 'phone', 'protection', 'protector', 'portable', 'glass', 'display', '6', 'dual', '8', 'tempered', 'blue', 'power', 'led', 'ram', 'battery', 'pen', 'oneplus', 'earbuds', 'soft', 'edge', 'remote', 'storage', '10', '14', 'gaming', '7', 'full', 'silicone', 'tv', '12', 'clear', 'mouse', 'wired', '360', 'apple', 'band', 'boat', 'tpu', '13', 'plus', 'mi', 'redmi', 'audio', 'mini', 'all', 'bag', 'ipad', '30', 'playtime', 'thegiftkart', 'table', 'design', 'upto', 'speaker', 'gen', 'amazon', 'hard', 'noise', 'shockproof', 'wifi', 'kit', 'flip', '11', 'earphones', 'pad', 'car', 'calling', 'drive', 'air', 'tablet', '128', 'x', 'white', 'crystal', 'keyboard', 'm', 'smartwatch', 'card', 'universal', 'matte', 'transparent', '20', 'charge', 'data', 'spigen', 'leather', 'mount', 'adjustable', 'light', 'pc', 'degree', '50', 'set', 'protective', 'hp', 'zebronics', '32', 'hdmi', 'i', 'headphones', 'bass', 'typec', 'inches', 'note', 'series', 'a', 'foldable', 'strap', 'slim', 'hours', 'up', 'control', 'magnetic', 'flexible', 'touch', 'port', 'sound', '35', 'max', 'backpack', 'metal', 't', 'wall', 'realme', 'ball', '9', 'desk', 'easy', 'plug', 'sports', 'travel', 'android', 'hybrid', 'micro', '4k', 'proof', 'buds', 'premium', '64', 'guard', 'home', 'warranty', 'coverage', 'high', 'lcd', 'men', 'speed', 'free', 'nord', 'digital', 'headphone', 'male', 'tab', 'voice', 'waterproof', 'color', 'truly', 'office', 'tripod', 'ink', 'monitor', 'original', 'water', 'one', 'cord', '15', '100', '156', 'brand', 'india', 'lens', 'portronics', 'finish', 'macbook', 'stereo', 'bumper', 'earphone', 'no', 'modes', 'braided', 'computer', 'fhd', 'fireboltt', 'green', 'amazonbasics', 'size', 'women', 'lite', 'pd', 'solimo', 'writing', 'pouch', 'ring', 'true', '24', 'ac', 'basics', 'desktop', 'grey', 'inbuilt', 'delivery', 'ssd', 'tws', 'inear', 'red', 's', 'box', 'mode', 'quick', 'extended', 'google', 'fit', 'external', 'lenovo', 'shock', 'spo2', 'sync', 'aux', 'sandisk', 'kids', 'lightning', 'replacement', 'small', 'year', '25', 'meter', 'video', '2022', 'body', 'flash', 'heart', 'sleeve', '2021', 'anti', 'extension', 'fan', 'super', 'tough', 'xiaomi', '20w', 'board', 'converter', 'nylon', 'jack', 'liquid', 'rate', '40', 'builtin', 'pin', 'generation', 'long', 'on', 'sounce', 'support', 'jbl', 'multipurpose', 'output', 'amoled', 'certified', 'dpi', 'feet', 'rgb', 'windows', 'enc', 'ai', 'bank', 'drivers', 'over', 'optical', 'ports', 'smartphone', '16', 'female', 'rechargeable', '1080p', 'fm', 'lightweight', 'mah', 'pixel', 'armor', 'printer', 'rugged', 'sd', 'stick', 'airpods', 'bed', 'gold', 'neckband', 'pencil', 'prime', 'ptron', 'installation', 'tabletop', '256', 'colour', 'iqoo', 'large', 'not', 'playback', 'resistant', 'ethernet', 'cedo', 'colorfit', 'hub', 'memory', 'poly', 'sim', 'low', 'pens', 'call', 'pikkme', 'renewed', 'single', 'study', 'made', 'new', 'notebook', 'organizer', 'cleaning', 'selfie', 'silver', 'by', 'headset', 'laptops', 'phones', 'tracker', 'vivo', 'core', 'microphone', 'multi', 'robustrion', 'tb', '60', 'email', 'music', 'newly', 'receiver', 'supports', 'thin', 'launched', '45', 'b', 'fitness', 'switch', 'drawing', 'from', 'pcs', 'professional', 'sony', 'edition', 'l', 'p', 'silicon', 'smartphones', 'sport', 'carbonate', 'tracking', 'triple', 'ce', 'deep', 'latency', 's23', 'se', 'stylus', '2020', 'tplink', '44', 'd', 'processor', 'sensor', 'technology', '3d', 'ft', 'only', 'oppo', 'the', 'button', 'connector', 'dell', 'extra', 'life', 'opentech', 'parker', 'popio', 'soundbar', 'fe', 'multifunction', 'nokia', 'otg', 'straps', 'aluminium', 'hdd', 'intel', 'ergonomic', 'esr', 'f', 'function', 'proelite', 'w', 'aluminum', 'router', 'steel', '169', 'boult', 'essentials', 'gizga', 'input', 'mac', 'rockerz', '18', '21', 'advanced', 'airdopes', 'alexa', 'ips', 'keypad', 'or', 'play', '500', 'designed', 'ghz', 'logitech', 'socket', '31', 'active', 'batteries', 'bt', 'canon', 'cleaner', 'device', 'dust', 'keys', 'sata', 'usbc', '\\xa0', 'assistant', 'gel', 'hrs', 'pocket', 'radio', 'self', '2nd', 'amazfit', 'compact', 'cup', 'height', 'nano', '6a', 'accessories', 'double', 'heavy', 'pu', 'roller', '80', 'amozo', 'auto', 'days', 'devices', 'grip', 'security', 'trifold', '24ghz', 'brush', 'cartridge', 'channel', 'girls', 'model', 'paper', 'plastic', 'r', 'rubber', 'side', '150', '65w', 'm2', 'multimedia', 'pages', 'powerful', 'splitter', 'wallet', '105', 'acrylic', 'boys', 'expandable', 'gsm', 'mat', 'ready', 'rs', 'signature', '3a', 'aa', 'alkaline', 'base', 'kickstand', 'm31', 'multiple', 'system', 'tech', '300', 'a4', 'backup', 'cancellation', 'classic', 'duty', 'gps', 'included', 'onsitego', 'physical', 'ambrane', 'bump', 'buttons', 'combo', 'driver', 'go', 'metallic', 'neo', 'night', 'pulse', 'spiral', 'standard', 'wooden', '61', 'activity', 'appliances', 'chip', 'dark', 'duracell', 'lg', 'quad', 'rubberised', 'tablets', 'amd', 'antislip', 'm21', 'network', 'nits', 'pixels', 'rj45', 'stainless', 'thermoplastic', 'tray', 'vga', '102', 'assorted', 'edges', 'fabric', 'fire', 'lithium', 'panasonic', 'personal', 'player', 'polycarbonate', 'polyurethane', 'smooth', 'solid', 'wave', 'ant', 'cctv', 'cooling', 'faces', 'pockets', 's20', 'skin', '65', 'aaa', 'art', 'disk', 'dolby', 'dyazo', 'reader', 'rom', 'school', 'bands', 'handle', 'hero', 'ios', 'm33', 'meters', 'padded', 'photography', 'rear', 'release', 'shades', 'watt', '51', 'business', 'casio', 'durable', 'electronic', 'lapster', 'm10', 'multicolor', 'paint', 'perfect', 'poco', 'qc', 'sleep', 'vision', '3in1', 'bags', 'best', 'carrying', 'cell', 'dongle', 'm13', 'mfi', 'point', 'sheets', 'silent', 'speakers', 'way', 'angle', 'brown', 'calls', 'clip', 'dock', 'fabercastell', 'fits', 'helio', 'm1', 'qualcomm', 'recording', 'rms', 'suitable', 'supcares', 'tukzer', 'wayona', '1000', '104', '42', '55', 'bassheads', 'cosmic', 'drop', 'landline', 'sockets', 'wi', '19', '5th', '9th', 'beetel', 'dslr', 'gigabit', 'lights', 'mbps', 'messenger', 'narzo', 'ninja', 'nonslip', 'pieces', 'round', 's21', 'tizum', 'ultrahybrid', 'wire', '18w', 'bottle', 'byte', 'college', 'cost', 'hand', 'imagine', 'live', 'loop', 'navy', 'offers', 'strong', 'supporting', 'volume', 'work', 'wow', 'years', '48', '5000', 'action', 'adhesive', 'arm', 'bike', 'bip', 'cameras', 'carry', 'egotude', 'gift', 'gts', 'guitar', 'indicator', 'lighting', 'nothing', 'outdoor', 'print', 'seagate', 'shoulder', 'snapdragon', 'studio', 'use', '200', 'basic', 'beast', 'cello', 'digitek', 'e', 'gopro', 'lee', 'lining', 'range', 'resolution', 's22', 'sleek', 'stone', 'u', '10a', '22', '240', '60w', '8th', '90', 'bassbuds', 'brustro', 'colors', 'comfortable', 'corded', 'dash', 'enx', 'esports', 'exchange', 'fine', 'ipx7', 'monitoring', 'motion', 'top', 'unisex', 'y', '120', 'asus', 'cam', 'cloud', 'emiadditional', 'internal', 'ipx5', 'magic', 'magsafe', 'mp', 'plan', 'plated', 'real', 'ryzen', 'state', 'transfer', 'ups', 'wd', 'western', '109', '85', 'a1', 'a23', 'app', 'asap', 'backlit', 'belkin', 'bracket', 'ca', 'carbon', 'casual', 'cushion', 'dc', 'instant', 'ip68', 'key', 'stylish', 'total', '120hz', '12v', '17', '41', '480mbps', '49', '550', 'acer', 'blood', 'book', 'built', 'cancelling', 'gear', 'i5', 'international', 'other', 'rotation', 'subwoofer', 'tape', 'time', '185', '3rd', '5w', '87', 'amkette', 'antiscratch', 'big', 'brightness', 'calculator', 'cellular', 'dynamic', 'kg', 'lan', 'line', 'mechanical', 'midnight', 'phantom', 'stickers', 'strip', 'surge', 'theft', 'vector', 'z6', '43', 'amp', 'bar', 'connectivity', 'doodle', 'h', 'household', 'humble', 'inside', 'lock', 'mirror', 'powered', 'stress', 'tip', 'translucent', 'truke', 'tune', 'usba', 'view', 'xr', '1080', '156inch', '15w', '2019', '27', '40h', '4th', 'adaptor', 'cartoon', 'ddr4', 'dedicated', 'deer', 'extender', 'front', 'grade', 'ip', 'ipod', 'ipx4', 'lap', 'lohaya', 'ltrs', 'm30s', 'mesh', 'pairing', 'performance', 'photo', 'polyester', 'rapid', 'talk', 'urbn', 'vegan', '33', '3962', '450', '50mp', '5y', '7th', 'camel', 'care', 'cordless', 'cute', 'diary', 'dimensity', 'ideal', 'individual', 'laser', 'mgrj', 'microfiber', 'motorola', 'mp3', 'multicolour', 'pressure', 'redgear', 'students', 'tank', 'thermal', 'uhd', 'usa', 'warp', 'webcam', 'wecool', 'without', '101', '10w', '11th', '25w', '9a', 'allinone', 'an', 'blaupunkt', 'camlin', 'coin', 'crown', 'dashboard', 'detachable', 'ez', 'fastrack', 'gadget', 'm32', 'panel', 'quality', 'refill', 'reflex', 'sky', 'v50', 'wrist', 'your', 'yr', '108', '1920', '250', '70', '9h', 'a8', 'background', 'bound', 'briefcase', 'eating', 'elv', 'eq', 'essential', 'eye', 'f41', 'feature', 'fo', 'folding', 'fountain', 'glue', 'hook', 'keychain', 'lapdesk', 'lava', 'more', 'my', 'polymer', 'rotating', 'ruled', 'scratch', 'slot', 'star', 'storm', 'toner', 'version', 'watts', '10000', '11r', '12w', '133', '183', '38', '60hz', 'adjustment', 'always', 'anc', 'antiglare', 'backdrop', 'buckle', 'dualcolor', 'each', 'electronics', 'f23', 'film', 'fujifilm', 'hello', 'hr', 'ii', 'instax', 'latest', 'length', 'level', 'lte', 'months', 'quantum', 'shell', 'slate', 'space', 'uk', 'works', '100mbs', '178', '25inch', '30w', '46', '5000mah', '50ms', '53', 'a7', 'airtel', 'biggest', 'curved', 'detection', 'envie', 'extendable', 'graphics', 'highspeed', 'honor', 'laserjet', 'may', 'neoprene', 'pilot', 'pr', 'printed', 'purple', 'ram512', 'rich', 'split', 'sticker', 'storite', 'sturdy', 'supported', 'tilt', 'unbreakable', 'vary', 'wide', 'winble', 'wings', '10r', '110', '141', '24h', '2way', 'adults', 'aeidess', 'aircase', 'archer', 'artists', 'ba', 'buzz', 'carvaan', 'conditioner', 'connect', 'dr', 'electric', 'extreme', 'fedus', 'games', 'hyper', 'id116', 'inefable', 'internet', 'iwatch', 'konnect', 'm04', 'm53', 'microsd', 'mobiles', 'myvn', 'notes', 'nvme', 'o', 'printing', 'projector', 'recorder', 'recovery', 's8', 'saregama', 'setup', 'st', 'tablebed', 'tablefoldable', 'toshiba', 'v', 'v2', 'xtend', 'zone', '100w', '10gbps', '1200', '1600', '4a', '97', 'artist', 'bomb', 'cables', 'cards', 'chrome', 'clamp', 'classmate', 'co', 'colours', 'crucial', 'de', 'doubledicestore', 'equalizer', 'face', 'finger', 'fitbit', 'folx', 'gray', 'ideapad', 'immersive', 'lamp', 'largest', 'm51', 'machine', 'medium', 'mics', 'mobistyle', 'mousepad', 'multifunctional', 'n', 'non', 'pads', 'party', 'philips', 'ram64', 'retractable', 's6', 'safety', 'speeds', 'splash', 'style', 'tecno', 'velvet', 'write', '1212', '2k', '2mp', '3v', '48mp', '512', '52', 'acoustic', 'aqua', 'assistance', 'capacity', 'cms', 'compartment', 'controls', 'curve', 'ddr3', 'doms', 'drawer', 'enclosure', 'handsfree', 'inner', 'kabeer', 'ma', 'marker', 'master', 'military', 'ml', 'month', 'oraimo', 'orange', 'painting', 'pencils', 'pendrive', 'ps4', 'reading', 'saver', 'slide', 'tvs', 'uhsi', 'upgraded', 'vinyl', '125', '2in1', '33w', '36', '635', '6th', '7seven', '9r', 'a5', 'alloy', 'any', 'auxiliary', 'bestor', 'breakfast', 'cas', 'cat6', 'ch', 'class', 'cp', 'craft', 'ct', 'cut', 'dynotrek', 'echo', 'exclusive', 'file', 'foam', 'force', 'frameless', 'functional', 'gaiatop', 'halolock', 'head', 'helmet', 'ifb', 'layer', 'leds', 'mb', 'min', 'models', 'multidevice', 'multiport', 'nm', 'oneassist', 'portableergonomic', 'privacy', 'pronote', 'pvc', 's1', 'scanner', 'shockabsorbing', 'short', 'sticky', 'stitched', 'striff', 'strings', 'tagg', 'tangle', 'telescope', 'toys', 'tpupc', 'uhs', 'uniball', '1313', '170', '2018', '8gb512', 'a14', 'ac1200', 'aroma', 'atmos', 'belt', 'bis', 'brother', 'cloth', 'compatibility', 'connection', 'connectors', 'cooler', 'cradle', 'crossvolt', 'cushioned', 'diy', 'epson', 'fall', 'flat', 'fur', 'gt', 'handheld', 'iii', 'infinity', 'karaoke', 'm12', 'media', 'mediatek', 'mins', 'mivi', 'monochrome', 'multiplug', 'oil', 'out', 'oxygen', 'pebble', 'plate', 'quiet', 'refresh', 'repellent', 'resistance', 'scan', 'spike', 'spy', 'surface', 'telephone', 'theatre', 'titanium', 'tr', 'transpa', 'vooc', 'xbox', 'yellow', '139', '20000', '20000mah', '23', '480', '5v', 'a3', 'adisa', 'agaro', 'baby', 'canvas', 'cat', 'charcoal', 'click', 'compati', 'controller', 'dial', 'dry', 'enabled', 'faux', 'genuine', 'gm', 'hdr', 'inline', 'inverter', 'jaden', 'jar', 'journal', 'kindle', 'kokuyo', 'lapt', 'like', 'load', 'monitors', 'neck', 'nimh', 'os', 'password', 'pla', 'precision', 'pro13', 'ram128', 'rest', 'retina', 'reusable', 'sketch', 'square', 'standstudy', 'surround', 'temperature', 'trim', 'trimmer', 'ventilated', 'wine', 'womens', 'wood', 'youtube', 'zeb', '10000mah', '106', '1414', '143', '181', '24a', '40ms', '600', '67', '68', '71', '9i', 'artis', 'automatic', 'based', 'bulb', 'caller', 'capacitive', 'ceptics', 'continuous', 'crysendo', 'cushions', 'earpads', 'enco', 'fashionury', 'fibre', 'flex', 'game', 'hidden', 'hifi', 'hindi', 'hot', 'just', 'k', 'lapto', 'luxor', 'microedge', 'most', 'motorcycle', 'octa', 'orei', 'pa', 'pair', 'pidilite', 'plugs', 'products', 'pure', 'purpose', 'rain', 'read', 'rearview', 'rotatable', 'rpm', 'rts', 'scooty', 'sensitivity', 'shutter', 'smudge', 'ssdwindows', 'streaming', 'subject', 'sweatproof', 'tabelito', 'thunderbolt', 'tool', 'tools', 'transmission', 'two', 'ultimate', 'vemigon', 'x1', '07', '10th', '140', '1920x1080', '1st', '300mbps', '400', '40hrs', '6000mah', '700', 'a12', 'al', 'antiskid', 'apsara', 'blast', 'blaze', 'boost', 'bose', 'buddy', 'bullet', 'cablecreation', 'capture', 'chin', 'copy', 'cov', 'drives', 'edgetoedge', 'etc', 'fiber', 'frame', 'frontier', 'gamepad', 'generic', 'gimbal', 'half', 'hotspot', 'indoor', 'instacharge10', 'kodak', 'lasting', 'le', 'lead', 'legs', 'lipolymer', 'management', 'mart', 'mens', 'mhz', 'microsdxc', 'moca', 'modem', 'moon', 'moto', 'ms', 'mtr', 'multilayer', 'nand', 'navigation', 'pattern', 'pcie', 'per', 'prolet', 'raised', 'removable', 'return', 'reversible', 'rounded', 's10', 'scooter', 'sense', 'sling', 'spillresistant', 'step', 'swapkart', 'usb30', 'virtual', 'wit', 'wristband', 'zapcase', 'zoom', '05', '1050mbs', '129', '225', '225w', '28', '32h', '5a', '5gbps', '6s', '75', '800', '8k', '90hz', '95', 'aavante', 'abs', 'ambidextrous', 'bennett', 'bezelless', 'bionic', 'bl', 'bravia', 'cap', 'charg', 'computers', 'convertible', 'count', 'crossbeats', 'designer', 'direct', 'duo', 'europe', 'fashion', 'fossil', 'frost', 'fusion', 'gadgets', 'glide', 'group', 'handmade', 'house', 'jgd', 'kitchen', 'laptopmacbook', 'magnet', 'markers', 'memo', 'militarygrade', 'mint', 'mirrorless', 'mo', 'module', 'mounted', 'msd', 'ocean', 'off', 'ofixo', 'outlet', 'palm', 'pink', 'programmable', 'protect', 'pubg', 'rainbow', 'rapidotzz', 'ringke', 'screens', 'screw', 'segment', 'silicone_transparent', 'sjcam', 'stabilizer', 'station', 'sticks', 'switches', 'synthetic', 'syska', 'tabl', 'tangent', 'tata', 'theater', 'vaku', 'verilux', 'verve', 'vintage', 'volta', 'whiteboard', 'xs', 'xt', 'zouk', '  ', '123', '144hz', '175', '192', '2023', '220', '30h', '45w', '50i', '6000', 'a50', 'advantage', 'amplifier', 'angles', 'antilost', 'arc', 'arctic', 'area', 'as', 'backlight', 'between', 'cartridges', 'check', 'clicks', 'cotton', 'credit', 'daily', 'digit', 'dji', 'environmental', 'eos', 'erasable', 'eva', 'eveready', 'everyday', 'evo', 'except', 'f9', 'fevicryl', 'flix', 'focus', 'freesync', 'friendly', 'fully', 'glossy', 'gtr', 'hammer', 'hands', 'hold', 'hz', 'i3', 'integrated', 'invincible', 'ip67', 'juarez', 'latitude', 'launch', 'logo', 'ltr', 'm30', 'm4', 'material', 'mbs', 'micromax', 'passive', 'pavilion', 'pentonic', 'piece', 'pixma', 'pl', 'pods', 'protec', 'qc30', 'qubo', 'quirk', 'ram256', 're', 'regular', 'riser', 'roll', 's7', 's9', 'scotch', 'sheet', 'shooting', 'sierra', 'smps', 'sodimm', 'sp02', 'suction', 'swivel', 'syga', 'tanglefree', 'tf', 'tft', 'toad', 'touchscreen', 'toy', 'trans', 'units', 'upgrade', 'us', 'v52', 'v7', 'vent', 'versa', 'vertical', 'vr', 'wat', 'wifilte', 'winder', 'wiro', 'worldwide', 'wuxga', 'x3', 'xtreme', 'yogi', 'zebsound', '11i', '11s', '126', '12h', '15s', '16w', '196', '2500w', '2e', '2pack', '3200mhz', '330', '3556', '39', '5in1', '7s', '9v', 'a51', 'adaptercharger', 'adapto', 'antenna', 'appearance', 'bicycle', 'bluerigger', 'bluetoothfmamaux', 'bobo', 'boom', 'cart', 'children', 'chromebook', 'compatib', 'cool', 'correct', 'czartech', 'dimmable', 'dot', 'earbud', 'electvision', 'eraser', 'evolve', 'f1', 'gorilla', 'govo', 'grand', 'graphic', 'graphite', 'handlebar', 'handles', 'hdtv', 'health', 'hires', 'ho', 'inkjet', 'inspiron', 'iron', 'later', 'levels', 'linc', 'luxe', 'm31s', 'million', 'movie', 'native', 'notebooks', 'ola', 'oled', 'organiser', 'parental', 'paste', 'patch', 'piano', 'pibox', 'platinum', 'qled', 'ra', 'rated', 'ratin', 'rca', 'realtime', 'rotate', 'same', 'sand', 'saving', 'sdhc', 'sensitive', 'shoot', 'sided', 'single_band', 'sized', 'slip', 'sm', 'smartwatches', 'smoked', 'spark', 'spin', 'steps', 'strips', 'supply', 'systems', 't7', 'techlife', 'thumb', 'transmitter', 'tricolor', 'usage', 'uv', 'value', 'vibrant', 'volt', 'volte', 'vs104', 'vu', 'washing', 'watches', 'wesley', 'will', 'within', 'working', 'x2', 'xl', 'zebcounty', 'zero', '\\xa0 ', '10s', '11office', '124', '14inch', '160', '16gb512', '1750', '191', '2000', '24hrs', '255', '26', '2a', '2x', '3200', '34', '350', '360rotatable', '396', '3i', '4000', '54', '6400', '66', '80w', '8192', '99', 'a1822', 'a33', 'a50s', 'a71', 'aboutthefit', 'acid', 'acko', 'activa', 'airpod', 'alert', 'armour', 'at', 'backpackoffice', 'backu', 'bagbackpack', 'bas', 'batteryfree', 'be', 'binocular', 'binoculars', 'birthday', 'boards', 'breakfas', 'breathing', 'bu', 'canada', 'caseology', 'casing', 'character', 'coaxial', 'comfort', 'corner', 'covers', 'creative', 'customizable', 'decor', 'definition', 'deskjet', 'docking', 'dth', 'duopods', 'dustproof', 'eartips', 'ef', 'embox', 'euro', 'evofox', 'f04', 'f12', 'f62', 'fa', 'filter', 'flair', 'flow', 'foldabe', 'gadgetbite', 'golden', 'hour', 'interface', 'ir', 'kangaro', 'learning', 'leatherette', 'li', 'liramark', 'm8', 'microwave', 'milestone', 'mobilife', 'modelow', 'mountable', 'nb119', 'nontoxic', 'omnidirectional', 'onear', 'onoff', 'orico', 'osmo', 'oven', 'overear', 'pan', 'pcmaclaptop', 'plus14', 'powerbank', 'price', 'pro14', 'protectors', 'punchy', 'px', 'quess', 'quietcomfort', 'radeon', 'raegr', 'rejection', 'reynolds', 'rotational', 'satellite', 'sennheiser', 'services', 'skyvik', 'softtouch', 'software', 'solo', 'specialty', 'standing', 'starlight', 'steam', 'store', 'supervooc', 'sweat', 'tabletmobile', 'tarkan', 'television', 'tips', 'tra', 'travelling', 'tube', 'tygot', 'u3', 'ui', 'vivobook', 'vox', 'wa', 'wear', 'weight', 'world', 'yamaha', 'z2', 'zitel', '09', '103', '1061', '11x', '14w', '173', '180', '20222021', '210', '297', '2n', '3000', '32hrs', '35h', '35l', '368', '3w', '45ms', '50a', '5500u', '72', '75hz', '85inch', 'a04e', 'a2179', 'a2337', 'a73', 'allnew', 'anchor', 'armband', 'astigo', 'atm', 'av', 'b6', 'bagbusiness', 'bagcollege', 'bagschool', 'benq', 'borderless', 'both', 'cab', 'calligraphy', 'cellphone', 'chain', 'colorful', 'com', 'comp', 'compat', 'compatibl', 'condenser', 'consistent', 'conversion', 'copier', 'cove', 'cpu', 'cr2032', 'cruzer', 'ctype', 'daddario', 'dlink', 'document', 'door', 'duplex', 'electroplating', 'elegant', 'elite', 'embroidery', 'endurance', 'enhanced', 'evm', 'f11', 'factor', 'fans', 'fingerprint', 'g25', 'g99', 'gain', 'gan', 'glitter', 'hair', 'handwriting', 'handy', 'hanging', 'honeywell', 'hoteon', 'ic', 'indicators', 'installati', 'ipho', 'iphones', 'kadence', 'keyfobs', 'ki', 'kingston', 'lavalier', 'lazy', 'lemon', 'm3', 'm5', 'main', 'massive', 'match', 'maximum', 'metre', 'mobi', 'monopod', 'motors', 'mult', 'mx', 'mystic', 'natural', 'navneet', 'neon', 'nib', 'nikon', 'noisefit', 'number', 'oblivion', 'octacore', 'omron', 'online', 'operated', 'optik', 'outemu', 'pain', 'pantilt', 'paperless', 'patchlan', 'photoshoot', 'pigment', 'pop', 'precise', 'proredmi', 'protecti', 'protectio', 'quink', 'razer', 'redragon', 'refrigerator', 'relief', 'rem', 'right', 'ringer', 'routers', 'royal', 'scales', 'sdxc', 'service', 'shadow', 'sizes', 'sleepwake', 'slots', 'smartphonesaction', 'solero', 'sonata', 'stardust', 'stream', 'student', 'superfast', 'syncing', 'telescopic', 'texture', 'textured', 'thick', 'thunder', 'titan', 'tones', 'tower', 'trekking', 'u10', 'unruled', 'visionary', 'vlogging', 'vw', 'w26', 'wearables', 'wheel', 'wifi4', 'wind', 'windshield', 'wipro', 'worlds', 'wrap', 'wrinkle', 'z', 'zebbro', '003', '100ml', '10hrs', '120w', '12th', '1300', '140mbs', '142', '150mbps', '199', '1ms', '20hrs', '2400', '242', '264', '315', '36w', '40w', '448', '550mhz', '58', '5e', '5s', '60h', '60hrs', '65a', '7100', '810', 'a1823', 'a32', 'a52', 'access', 'adapt', 'additional', 'adofys', 'ailkin', 'airbass', 'allday', 'alpine', 'alwayson', 'amale', 'antiexplosion', 'bezel', 'bracelet', 'breakfa', 'brick', 'brushes', 'c31', 'cache', 'caddy', 'caprigo', 'cason', 'ceramic', 'cl', 'cold', 'comes', 'cyan', 'd20', 'da', 'dazzle', 'deco', 'des', 'disc', 'discharge', 'displayport', 'dome', 'dualband', 'duster', 'ecotank', 'edg', 'edyell', 'eneloop', 'enote', 'epaal', 'ev', 'expansion', 'fd', 'firebolt', 'firestick', 'fixed', 'floor', 'functions', 'fusionx', 'g37', 'gap', 'gbps', 'gen2', 'gifting', 'glowing', 'gooseneck', 'gr', 'gun', 'gym', 'hang', 'he', 'heads', 'hiffin', 'highlighter', 'hispeed', 'huawei', 'hypercharge', 'iclever', 'imac', 'imou', 'includes', 'indi', 'indication', 'invisible', 'ip55', 'iris', 'isolation', 'japan', 'jet', 'jio', 'jumbo', 'jupiter', 'k20', 'kapaver', 'keycap', 'la', 'label', 'ledlcd', 'lithium_polymer', 'ltg', 'm52', 'magfit', 'magnifier', 'mains', 'makeup', 'mantra', 'maono', 'marble', 'max13', 'maxpoco', 'me', 'membrane', 'micron', 'milanese', 'min150', 'miracase', 'mon', 'monitorin', 'multiangle', 'multicompatibility', 'mumimo', 'mystique', 'netflix', 'nfc', 'nitro', 'one94store', 'palette', 'parking', 'passport', 'pastel', 'pctpu', 'pentel', 'picture', 'plasma', 'please', 'po', 'posh', 'preloaded', 'probass', 'professionals', 'profile', 'proiphone', 'promax', 'qicertified', 'rack', 'ram32', 'random', 'redtech', 'refr', 'reinforced', 'retro', 'rod', 'ruffpad', 'running', 'samoled', 'scissor', 'scissors', 'scooters', 'shade', 'shape', 'shops', 'simple', 'skype', 'smartp', 'sofa', 'sonic', 'spor', 'stable', 'stan', 'starter', 'swing', 'syncwire', 'syvo', 'tapo', 'tcl', 'temperedglass', 'thinkpad', 'three', 'tkl', 'torch', 'toslink', 'tribit', 'truhold', 'tuf', 'turbo', 'udimm', 'usb20', 'utp', 'v27', 'va', 'voltage', 'vostro', 'watch5', 'xe', 'xlr', 'y12', 'y15', 'y16', 'y17', 'yantralay', 'youva', 'zebthunder', 'zen', 'zipper', 'zorbes', 'zoul', '108mp', '112', '1184', '121', '121v2', '136', '14s', '15000', '150mbs', '152', '15v', '165hz', '172', '200mbs', '200w', '2017', '20182017', '202', '215', '215bt', '230nc', '240v', '2500mah', '25d', '260', '29', '3110', '3axis', '3button', '3x', '3y', '44w', '458', '45l', '48h', '48hrs', '4k30hz', '50h', '525', '6in1', '70mai', '7in1', '870', '88', '8gb256', '8mp', '900', '90mbs', '920', 'a31', 'a400', 'a53', 'above', 'accessory', 'adap', 'adapte', 'adaptive', 'adjust', 'adobe', 'aesthetic', 'alarm', 'androi', 'ansi', 'antennas', 'antisweat', 'antitheft', 'assist', 'assistance118', 'beam', 'beat', 'better', 'bigger', 'binder', 'blac', 'blades', 'bold', 'bolt', 'boltove', 'bright', 'btg', 'cabl', 'callas', 'camsdrones', 'cancella', 'canvio', 'carabiner', 'cases', 'cc', 'celeron', 'chest', 'chroma', 'coated', 'collar', 'command', 'compa', 'compass', 'cont', 'crafts', 'crayons', 'customized', 'cutter', 'daikin', 'deg', 'dev', 'digitaltv', 'distance', 'documents', 'drax', 'dri', 'drum', 'dubai', 'dummy', 'dvr', 'eco', 'ecr', 'energizer', 'engineers', 'entertainment', 'envous', 'ergo', 'eterno', 'exactly', 'features', 'fl', 'flight', 'floral', 'fms1210', 'folder', 'food', 'frosted', 'fuse', 'g4', 'g5', 'ga', 'gifts', 'gladiator', 'gorogue', 'groomers', 'grooming', 'hi', 'hikvision', 'hisense', 'hong', 'hoss', 'huion', 'human', 'ibell', 'ikall', 'inch396', 'inch7', 'indian', 'inst', 'installa', 'instruments', 'iphon', 'itronix', 'jabra', 'jiofi', 'journey', 'k50i', 'keycaps', 'king', 'kinsound', 'kong', 'laptopss', 'less', 'ligh', 'linlo', 'lithiumion', 'litres', 'lloyd', 'locking', 'lovers', 'loxxo', 'luggage', 'manual', 'maps', 'marvik', 'mc', 'minutes', 'mobiletablet', 'modesk', 'mono', 'mounting', 'n300', 'nishtech', 'nonrechargeable', 'notification', 'oboe', 'octane', 'octrix', 'ojos', 'orchid', 'palazzo', 'permanent', 'pho', 'phoenix', 'playing', 'plixio', 'printme', 'product', 'proffisy', 'qc35', 'readers', 'realcase', 'repeater', 'replaceable', 'res', 'riatech', 'rj11', 'rose', 'rucksack', 'rust', 's10e', 's3', 'saco', 'safari', 'safe', 'sc', 'schuko', 'scientific', 'scribble', 'seagull', 'server', 'shake', 'shavers', 'shoe', 'shopee', 'si', 'sleeves', 'smallest', 'smashtronics', 'smx200', 'smx200x205x207', 'songs', 'sounddrum', 'spatial', 'spo', 'spray', 'ssdwin', 'stationery', 'surveillance', 't1', 't500', 'ta', 'techonto', 'tested', 'tubes', 'u1', 'ukulele', 'ultraslim', 'unigen', 'uninterrupted', 'unique', 'unit', 'vibration', 'voltas', 'walldesk', 'waterresistant', 'wo', 'workout', 'xppen', 'yellowinc', 'yellowing', 'zebbang', 'zebjuke', 'zinc', '02', '03', '1000mbps', '10c', '10ml', '120mbs', '12a', '130mbs', '13133', '132', '1366', '138', '144', '1440', '147', '148', '1500', '156inches', '15inch', '1600mhz', '16a', '18h', '195v', '2000mah', '2030', '2032', '220v', '2280', '24k', '2565', '2666mhz', '30a', '30hr', '360degree', '381', '3mp', '3s', '3yrs', '441', '47', '4in1', '4k60hz', '4th3rd', '500ml', '50hrs', '545', '550nits150', '5600h', '580', '5x', '60ms', '61key', '66w', '678', '680', '6858', '6hrs', '7200', '80ms', '8100', '88a', '9c', '9rt', '9th8th7th', 'a13', 'a1893', 'a30s', 'abyss', 'ac750', 'aceshley', 'activ', 'ada', 'aes', 'ahuja', 'airvent', 'akai', 'alignmaster', 'ambi', 'american', 'angled', 'anime', 'aodpremium', 'apps', 'aspire', 'bagunisex', 'balle', 'barcode', 'batt', 'batte', 'battery5', 'before', 'beige', 'bigpassport', 'billion', 'binding', 'bird', 'bit', 'bkn', 'blackred', 'blocker', 'bluetoo', 'border', 'boya', 'brightness60', 'bronze', 'bt53', 'bts', 'bubble', 'buds2', 'c01', 'c35', 'cakes', 'callmate', 'camping', 'carbonateblack', 'careflection', 'cha', 'chairman', 'champ', 'char', 'chargeradapter', 'chargers', 'china', 'cl19', 'clavier', 'cli', 'clips', 'clock', 'compar', 'compartments', 'console', 'contains', 'correction', 'cosmos', 'couch', 'coveripad', 'crayon', 'cus', 'custom', 'cvc', 'd2q', 'dashcam', 'devic', 'di', 'display500', 'dnd', 'dotted', 'dp', 'driv', 'dtr', 'dua', 'dual_band', 'dusk', 'dvd', 'eagle', 'earcups', 'ecosmos', 'effects', 'elastic', 'elements', 'emerald', 'encrypti', 'eti', 'european', 'evs', 'ewriter', 'ex', 'f21s', 'fax', 'ffs', 'fi', 'files', 'fill', 'fireproof', 'firetv', 'first', 'flagship', 'flexsoft', 'fold', 'folders', 'forest', 'forza', 'fps', 'fun', 'fury', 'g3', 'gbs', 'gi790', 'glare', 'glasses', 'glove', 'glow', 'gorillapod', 'grams', 'halo', 'hardness', 'hardware', 'harman', 'heat', 'heater', 'heightadjustable', 'hiking', 'holders', 'holding', 'holds', 'hole', 'holes', 'hooks', 'horizon', 'horizontal', 'hunter', 'hyperx', 'i7', 'iec', 'ignite', 'inc', 'inclu', 'indias', 'infinite', 'insta360', 'install', 'interstellar', 'ip54', 'ipa', 'ironfix', 'j7', 'jetlife', 'jk', 'kingone', 'knife', 'kyosei', 'lab', 'laptopsss', 'laptoptable', 'lavie', 'leaf', 'legend', 'lightening', 'liter', 'ls', 'lumens', 'luxury', 'm02', 'm5m6', 'magicbook', 'mate', 'matlek', 'maya', 'mbps5', 'mechanism', 'megapixel', 'meyaar', 'mice', 'microb', 'mini13', 'modern', 'modes100', 'modes247', 'moments', 'monit', 'monitorspo2', 'moonwalk', 'morningvale', 'motherboard', 'mport', 'n1', 'n4020', 'nav', 'ne', 'nebula', 'newlike', 'nintendo', 'noisecancelling', 'onida', 'onumtz', 'orum', 'ouxus', 'overhead', 'p35', 'packaging', 'paperwhite', 'peiroks', 'phon', 'photos', 'pick', 'pins', 'placing', 'planner', 'por', 'porta', 'portablefoldable', 'ppi', 'pps', 'printers', 'project', 'proo', 'propro', 'prote', 'ps3', 'ps5', 'punch', 'qhd', 'quotes', 'qz', 'reality', 'remot', 'rewritable', 'rfid', 'rings', 'rtx', 'rubberized', 'ruff', 'run', 'rupee', 's22s21s21', 'satchel', 'satellites', 'scale', 'se2', 'seamless', 'secro', 'select', 'ser', 'settop', 'shaped', 'shield', 'shift', 'shocked', 'shots', 'sides', 'simmtronics', 'sl', 'slr', 'smp610p615', 'snap', 'solutions', 'sp', 'spacious', 'splitwindow', 'sponge', 'spring', 'spykart', 'starry', 'stellar', 'stock', 'swappable', 'swimming', 't100', 't55', 'temper', 'than', 'thread', 'times', 'tin', 'tombow', 'toolfree', 'tourister', 'transp', 'transpar', 'transpare', 'transparen', 'trendy', 'tri', 'twoway', 'uae', 'ultragear', 'ultraultra', 'ultravu', 'ultrawide', 'umbrella', 'urban', 'v15', 'v20', 'v5', 'vacuum', 'ver', 'vero', 'versioncar', 'vguard', 'vid', 'visiting', 'vlog', 'wal', 'warm', 'watching', 'watercolour', 'wax', 'weatherproof', 'whole', 'widescreen', 'wildhorn', 'wolf', 'wonder', 'wooum', 'wps', 'xp7810', 'y1s', 'y68', 'yoga', 'you', 'zebvita', 'zinq', '01', '10001', '1010', '1050', '10werun', '10x', '113', '116', '11intel', '127', '12mp', '135', '14131211', '141313', '1415', '1440p', '146', '156inch396', '161', '164', '165', '167', '1820w', '18gbps', '18month', '1meter', '1x', '2016', '20182021', '20212', '2022202120202018', '203', '20h', '20l', '2300mah', '230v', '23w', '245', '247', '24inch', '24w', '24x7', '2560', '25db', '279', '27w', '28h', '28hrs', '2ghz', '2male', '2s', '30000', '3020', '304', '3050', '30db', '30hrs', '30usb', '320', '3243', '32bit', '3310', '335', '35hrs', '35w', '378', '38w', '3day', '3foot', '3pin', '466', '4ktv', '4mic', '4mp', '4pack', '4pl', '4port', '500w', '51ch', '545mbs', '55w', '5th4th', '5th6th', '5v4a', '600mhz', '62', '620', '63', '67w', '6806', '690', '6feet', '6h', '6month', '6pcs', '730', '768', '8000', '802', '81', '8200', '84', '867', '8a', '8hrs', '8pin', '8w', '96', 'a15', 'a2338', 'a2681', 'a30', 'a52s', 'a70', 'aac', 'adapters', 'adjustabl', 'advance', 'afemale', 'afritee', 'aio', 'airtag', 'alex', 'alpha', 'alum', 'amf311ww', 'amirite', 'anthems', 'antis', 'apc', 'aptx', 'ardith', 'assi', 'assured', 'aster', 'ather', 'au', 'auno', 'australia', 'autodetect', 'b11', 'bac', 'backpacks', 'bange', 'bay', 'blackblue', 'blade', 'blister', 'blower', 'blueto', 'bodyanimated', 'bombastic', 'bookmarks', 'boostedbass', 'booster', 'bottles', 'br', 'branded', 'broadbandwifi', 'brolaviya', 'bt51', 'buil', 'build', 'builtinbright', 'bus', 'bx500', 'bym1', 'c200si', 'c50hi', 'cabinet', 'callinghindi', 'camcorder', 'came', 'can', 'cash', 'cc388a', 'cert', 'chargin', 'chhota', 'chisel', 'cinema', 'circuit', 'cmos', 'codersparadise', 'compound', 'con', 'conductive', 'contr', 'convection', 'coolcold', 'copper', 'corners', 'corsair', 'costar', 'counter', 'coupler', 'coverag', 'create', 'crest', 'crispr', 'curtain', 'cutaway', 'cuts', 'cutting', 'cx', 'cyber', 'd116', 'damage', 'day', 'dealfreez', 'desi', 'desig', 'deuce', 'devcomm', 'development', 'devi', 'different', 'dispenser', 'displayupto', 'dizo', 'dj', 'does', 'dots', 'ds', 'duke', 'during', 'dynamo', 'ea', 'eachfull', 'earbudstws', 'earpho', 'effect', 'egate', 'eller', 'elzzi', 'embossed', 'emi', 'endure', 'energel', 'enflamo', 'enterprise', 'envelope', 'equinox', 'equipped', 'erase', 'ergonomically', 'evolta', 'evotech', 'executive', 'exercise', 'experience', 'ezviz', 'f22', 'fac20', 'fake', 'fas', 'fc12', 'fentico', 'fingerprintproof', 'floro', 'flower', 'fluorescent', 'flycatcher', 'fmbtaux', 'fno01', 'foot', 'frexcez', 'frixion', 'fuze', 'g8', 'g96', 'gal', 'gamesbp', 'ge', 'geforce', 'gen3rd', 'geometry', 'gloled', 'goldmedal', 'goldplated', 'grain', 'greatdio', 'greyish', 'gsync', 'gtx', 'guru', 'habit', 'hammonds', 'handed', 'harmonics', 'harness', 'harry', 'havells', 'haze', 'hb', 'hddssd', 'hea', 'heavyduty', 'highcapacity', 'hitachi', 'holster', 'hom', 'homeoffice', 'hynix', 'i31115g4', 'i8', 'i9', 'ice', 'iffalcon', 'igrip', 'illuminated', 'image', 'immortal', 'impact', 'imported', 'incl', 'include', 'including', 'index', 'indo', 'industry', 'initial', 'instacharg', 'installatio', 'inte', 'interactions', 'interchangeable', 'intercom', 'ionix', 'ip65', 'iphoneipad', 'ipx', 'ipx6', 'irusu', 'is', 'isi', 'ivory', 'ixpand', 'jawgrip', 'jb', 'jebison', 'jotter', 'junkyard', 'jxl', 'k100', 'k380', 'kanget', 'kevlar', 'keyring', 'kraft', 'labels', 'layers', 'lcdled', 'leading', 'leads', 'lenses', 'lf', 'lidbox', 'liion', 'lime', 'lindenwood', 'litre', 'longer', 'loud', 'lowfe', 'lunagariya', 'm221', 'm23', 'm6', 'mackbook', 'magnifying', 'magsafecompatible', 'map', 'marshall', 'masaba', 'mavro', 'maxima', 'maxnote', 'mbps24', 'melt', 'memeho', 'memoryfoam', 'menoffice', 'menwomen', 'merayo', 'mercerized', 'mfp', 'mg', 'micred', 'microfibre', 'microware', 'mini1212', 'mixed', 'mobil', 'monocolour', 'morpho', 'moshking', 'motivation', 'motor', 'mounts', 'mtk', 'multicoloured', 'musical', 'nataraj', 'net', 'never', 'nextgen', 'nik', 'noise_colorfit', 'noncraking', 'nonmodular', 'nonprogrammable', 'notecards', 'notepad', 'now', 'nvidia', 'oaky', 'offer', 'officehomeschool', 'omega', 'onyx', 'operating', 'optional', 'options', 'oram', 'osaka', 'ot', 'otoroys', 'overnighter', 'oxlaw', 'p1007', 'p1108', 'pacman', 'pairs', 'pastels', 'patented', 'pe20quick', 'pet', 'philippines', 'phonetablet', 'play13', 'playtim', 'pluss7', 'pocke', 'polycarbonateblue', 'polycarbonatetransparent', 'poster', 'pragati', 'pride', 'primed', 'prism', 'pro12', 'proair', 'projectors', 'puller', 'puloka', 'qocxrrin', 'rage', 'rating', 'ream', 'redclip', 'refills', 'reflector', 'reliance', 'reload', 'required', 'resista', 'resistancemultiple', 'rhymestore', 'rissachi', 'roam', 'roaming', 'roarx', 'rosewood', 'rou', 's2', 'sakura', 'santé', 'scr', 'scree', 'scrolling', 'sdtf', 'semi', 'sens', 'settings', 'shelf', 'shine', 'shortcut', 'show', 'sidrum', 'sil', 'silic', 'siz', 'skadioo', 'slider', 'slipproof', 'sma', 'smar', 'smartpho', 'smartwatchalexa', 'smoke', 'smx205', 'smx207', 'snugfit', 'so', 'solution', 'special', 'speedy', 'spen', 'spices', 'spinbot', 'sporty', 'stapler', 'stinger', 'stm', 'string', 'stud', 'superior', 'supplypsu', 'swift', 'swiss', 'switc', 'tabs', 'talker', 'tan', 'tango', 'tantra', 'tbx606f', 'techclear', 'technotip', 'telca', 'tenda', 'thicken', 'thickness', 'timer', 'tou', 'touchpad', 'tpublack', 'trail', 'transcend', 'trend', 'trigger', 'tripodmini', 'troni', 'tuned', 'twist', 'typea', 'types', 'tyre', 'u2', 'ufs', 'ul', 'ultima', 'ultr', 'ultralight', 'ultralong', 'ultraprolink', 'un', 'un1que', 'undated', 'unicorn', 'unidirectional', 'univers', 'upix', 'v11', 'v380', 'v53', 'vault', 'vesa', 'vi', 'vide', 'vintage2', 'volts', 'wan', 'warpdash', 'watch4', 'watchfacesinbuilt', 'wearable', 'web', 'wideangle', 'wif', 'wildcraft', 'windowsmac', 'wipes', 'wir', 'wires', 'wmk', 'woodenwriting', 'woofer', 'wristbands', 'x10', 'x12n', 'x5', 'xxl', 'yellowingresistant', 'yi', 'youth', 'zebbuds', 'zipline', '005', '025', '04', '06', '08', '1000mah', '1000mbs', '1001', '10011500', '10100', '1012', '1015', '10150mins', '1017', '1020', '102inch', '1036', '105w', '109inch2769', '10day', '10k', '10mins15hrs', '10y', '11111128', '1112', '115', '1155', '11d', '12000', '1200d', '1200mbps', '1211', '12800', '1296p', '130nc', '13120', '1333mhz', '133inch3374', '13inches', '13iphone', '1413', '1416', '141inches', '1440w', '145', '14hour', '14inch356', '14inches', '14iphone', '15001', '1500w', '15012000', '156inches396', '15min15hrs', '160w', '169429', '16x', '188', '190', '190mbs', '1year', '1yr', '20012500', '200d', '20202022', '20222019', '20222020', '202220212020', '204pin', '20pcs', '20s', '220v5060hz', '221', '238', '24mp', '2500', '25013000', '254', '2591', '25k', '2631', '2660', '2669', '2695', '27000mah', '2794', '27inch6858', '28l', '2b', '2line', '2mtr', '2pcs', '30001', '30014000', '303', '3040', '30hz', '30l', '31a', '320x385', '3250u', '326', '328', '329', '32db', '330anc', '334a', '3500', '3500mbs', '356', '3600', '365', '3683', '368x448px', '37l', '393anc', '3g4g5', '3usb', '3way', '3x5', '40000', '40015000', '429', '42h', '45h', '48gbps', '4b', '4pro', '4w', '4way', '50000mah', '50016000', '500bt', '5011000', '50w', '510', '5490', '550r', '55500u', '558', '57', '5c', '5k', '5ml', '60017000', '600mah', '600nits', '600va', '6045', '60mbs', '635cm25inch', '644', '654', '65ms', '65watt', '66s77881011', '67tempered', '682', '69', '6956', '6x9', '720p', '73', '74', '7500', '78', '805', '8210', '860', '8inch', '8pack', '9000', '90x', '9156', '98', '980', '9ml', 'a10', 'a1466', 'a1932', 'a1954', 'a21s', 'a2251', 'a2289', 'a2442', 'a25', 'a350', 'a500s', 'a550', 'a74', 'a78', 'aaaa', 'ac1300', 'ac600', 'accuracy', 'ace', 'acry', 'acs', 'acti', 'adaptercompatible', 'adas', 'adata', 'addmax', 'adlynlife', 'ae2', 'affix', 'ag', 'aienabled', 'ajm', 'alcraft', 'alifiya', 'alignment', 'ambient', 'analog', 'animo', 'anmr19ba', 'antifray', 'ap', 'applicator', 'arrival', 'artistix', 'assistant50', 'astronomical', 'attachment', 'atx', 'augen', 'autoalign', 'available', 'axmon', 'azure', 'b210', 'baatein', 'babymoon', 'backups', 'bagcase', 'bagneeds', 'bagrucksack', 'bagtravel', 'ballpoint', 'bangtan', 'barracuda', 'batteriesantileak', 'be100', 'beads', 'beard', 'bedfoldable', 'bedside', 'bestinclass', 'beta', 'bgmi', 'bla', 'blackgrey', 'bladeless', 'blank', 'block', 'bluet', 'bm4', 'boldfit', 'boltt', 'bookmark', 'boosted', 'boostedspeed', 'boosterhotspot', 'born', 'boxes', 'bp', 'breathable', 'breathe', 'bri', 'broadband', 'broadcast', 'brushless', 'bt50', 'bullets', 'bumps', 'c100si', 'c12', 'c16', 'cajon', 'cake', 'callingbright', 'camo', 'cams', 'candy', 'captain', 'cars', 'casecandy', 'casened', 'cec', 'ceiling', 'certificates', 'chamber', 'chargi', 'cheetah', 'cheque', 'child', 'chromakey', 'chromebookp', 'cigarette', 'cinematic', 'cl22', 'clapbox', 'clasy', 'claw', 'cle', 'clea', 'clipon', 'clipper', 'clos', 'closing', 'cn10', 'coach', 'cod', 'codec', 'coloured', 'colourful', 'colouring', 'colourup', 'commercial', 'companion', 'company', 'compartm', 'compliant', 'composite', 'cona', 'conbre', 'conductivity', 'conference', 'configuration', 'conquer', 'conserve', 'consumption', 'contro', 'controlpu', 'cor', 'cords', 'cotbolt', 'cr', 'cricket', 'crust', 'cs6', 'cube', 'curv', 'customis', 'customization', 'cyrill', 'cz48', 'd2', 'dac', 'dagger', 'dahsha', 'dailyobjects', 'dangler', 'dashwarp', 'datatraveler', 'deathadder', 'decorating', 'delta', 'demon', 'dependable', 'designs', 'detect', 'devicesled', 'diffuser', 'digiway', 'dim', 'din', 'dip', 'dirac', 'displayai', 'diva', 'doublesided', 'drizzling', 'dryerase', 'dseeupscale', 'dslrslr', 'dts', 'dudao', 'dvi', 'dzert', 'e27', 'e5470', 'earpod', 'eas', 'easyfone', 'echoalexa', 'educational', 'efficient', 'el', 'elago', 'electra', 'electrical', 'en', 'encenvironmental', 'energy', 'engli', 'ensave', 'epabx', 'esp8266', 'etzin', 'eu', 'everycom', 'exam', 'exce', 'exceptional', 'exodia', 'exposures', 'f13', 'f20', 'f3', 'f4', 'fabrica', 'fabtec', 'fac', 'false', 'fan3', 'fashionable', 'fatmug', 'featherlite', 'feed', 'feel', 'feet3', 'fevicol', 'fineliner', 'fitted', 'flexi', 'floating', 'fluid', 'four', 'framed', 'friendzon', 'fullmosa', 'fullsized', 'functi', 'g40', 'g60', 'g85', 'g8x', 'gam', 'gamin', 'gateway', 'gb512', 'general', 'genie', 'genius', 'gionee', 'girl', 'glass9h', 'glassscreen', 'glastr', 'global', 'glun', 'god', 'godrej', 'gokixx', 'gpu', 'gram', 'great', 'grid', 'gsensor', 'gt52', 'gtb315', 'gts2', 'guardextension', 'haier', 'hakuho', 'hanger', 'hanumex', 'hardevablack', 'hbe', 'hdcp', 'heights', 'highperformance', 'hippy', 'hola', 'holde', 'holderpouchbag', 'honeycomb', 'hood', 'hotkeys', 'hsr', 'huami', 'hush', 'hw', 'hypersync', 'i3i5i7', 'icasso', 'inbuiltfm', 'incar', 'inches396', 'inchipad', 'indrico', 'inflator', 'infrared', 'inovera', 'inox', 'inr', 'insta', 'instacharge', 'installat', 'int38c', 'integrat', 'intelligent', 'intern', 'ipv6', 'iv', 'iwp', 'j', 'j8', 'jade', 'jam', 'jiyamart', 'juke', 'kettle', 'keyc', 'keych', 'kgs', 'kidsrakhicolorful', 'knight', 'kpop', 'kratos', 'kurtzy', 'l21', 'lamination', 'lanyard', 'laprite', 'laptop8', 'laptop8gb512', 'laptopintel', 'laptoppc', 'laptoptablet', 'lavender', 'ledhdsmart', 'ledlcdmonitor', 'leg', 'library', 'lifelong', 'lig', 'lighter', 'lightest', 'lightweigh', 'link', 'linux', 'litenote', 'lithium_ion', 'loading', 'locator', 'logger', 'longdimm', 'longlasting', 'lost', 'lp', 'lpx', 'lugs', 'lunars', 'luxur', 'm02s', 'm1136', 'm20', 'm235', 'm42', 'm50', 'm62', 'macos', 'macro', 'macros', 'mad', 'magenta', 'magn', 'magneti', 'magnetism', 'magnets', 'magnification', 'make', 'making', 'malefemale', 'maped', 'maruti', 'mateband', 'matrix', 'matt', 'maxell', 'maxultraultra', 'mdf', 'measurement', 'measuring', 'mega', 'melbon', 'mem', 'membership', 'mems', 'menwomenblack', 'met', 'micblack', 'micblue', 'microsoft', 'microusb', 'mimo', 'mini11', 'mini12', 'minimalist', 'mix', 'mixer', 'mizi', 'mob', 'mobilelaptop', 'mobimint', 'modeswidget', 'monito', 'moonlight', 'mosquito', 'motivational', 'mousepadcushion', 'mouth', 'movable', 'mso', 'mu', 'muffs', 'multicolored', 'multiplayer', 'multipoint', 'multisystem', 'musicbot', 'mylio', 'name', 'navigator', 'netgear', 'newtechno', 'nexdigitron', 'next', 'nickel', 'nodemcu', 'nonstick', 'nos', 'noworries', 'offbeat', 'ohuhu', 'olive', 'open', 'operation', 'opteo', 'option', 'optiplex', 'organizers', 'orientation', 'outlets', 'overall', 'oxypulseultranav', 'p11', 'p1106', 'pacific', 'packing', 'packs', 'padtablet', 'pagaria', 'pairin', 'panoramic', 'paperfeel', 'paperkraft', 'paraspapermart', 'parent', 'pclaptop', 'pcmac', 'pdqc', 'pe', 'peak', 'pearl', 'pedal', 'ph', 'pi', 'plain', 'plantronics', 'platform', 'playbackup', 'playtime10', 'playtimepowerful', 'plush', 'posit', 'postit', 'potter', 'powerbuds', 'pre', 'prodot', 'programma', 'prom1', 'props', 'prot', 'protectorspike', 'protein', 'ptz', 'pul', 'q', 'q2', 'qc15', 'qc25', 'qi', 'qianlink', 'quill', 'rabbit', 'radiator', 'raincover', 'rank', 'rap', 'rat', 'ratio', 'rebound', 'recharge', 'record', 'refillable', 'refractor', 'reliable', 'reminders', 'remotewhite', 'repellant', 'reset', 'rexez', 'ric', 'risers', 'robotic', 'rogue', 'room', 'rs500110000', 'rub', 'rubberi', 'ruler', 'rush', 's21s21s21', 's4', 's5', 'saleon', 'sapphire', 'scarters', 'scope', 'scrapbook', 'scrapbooking', 'scratchresistant', 'screenkeys', 'se26se54', 'sea', 'seat', 'sen', 'senior', 'sensors', 'serial', 'sh', 'share', 'sharing', 'shiny', 'shooti', 'shower', 'shredder', 'shreenova', 'shuffle', 'signal', 'silicone_clear', 'sing', 'sketching', 'skid', 'skypearll', 'smartph', 'smartphon', 'smartwat', 'smp610', 'sn570', 'snake', 'softly', 'solar', 'soopii', 'sos', 'sou', 'soun', 'sound50', 'spacesaving', 'speaker24', 'spectra', 'speedlite', 'speedster', 'speedtype', 'sportredmi', 'sprintx', 'squif', 'srgb', 'ssd4', 'ssdintegrated', 'ssdintel', 'standy', 'stationary', 'stealodeal', 'stealth', 'stickon', 'storage90hz', 'stores', 'str', 'strapband', 'strapssmart', 'strauss', 'strike', 'stronger', 'subscription', 'sunset', 'sup', 'superspeed', 'suppo', 'switcher', 'switchextension', 'switching', 'swiveltomute', 'syn', 't20', 't3u', 't450', 'tag', 'tap', 'tbx306f', 'tbx306x', 'tbx606x', 'te', 'teal', 'tearable', 'tec', 'techmount', 'texet', 'th', 'thekiteco', 'theme', 'thermometer', 'thinkcentre', 'thinq', 'thumbs', 'thump', 'thx', 'thxin', 'tiktok', 'tiny', 'tipped', 'titu', 'tlc', 'toddler', 'tokdis', 'ton', 'toothbrush', 'touc', 'tp', 'track', 'training', 'tran', 'transparency', 'trending', 'trex', 'triangular', 'triggers', 'trigrip', 'trimax', 'trinetra', 'trip', 'trolley', 'trs', 'truck', 'trutalk', 'truview', 'tuarso', 'turbovolt', 'turron', 'tuv', 'tweeter', 'twin', 'twofinger', 'typ', 'ubon', 'ulanzi', 'ultraquiet', 'ultraseamless', 'ultrathin', 'unlock', 'updated', 'upt', 'usb3', 'usbmicro', 'usbtype', 'usm', 'utility', 'v236w', 'v3', 'various', 'vengeance', 'vervenix', 'vibez', 'videography', 'videos', 'viewing', 'vine', 'vmt', 'voic', 'vonzee', 'voyee', 'vs', 'vs201', 'waist', 'wake', 'walnut', 'warra', 'warrant', 'wash', 'washable', 'watc', 'watchfacesbp', 'wate', 'watercolor', 'waterdust', 'watersweat', 'wedding', 'weeks', 'wfc500', 'whch510', 'wic100', 'window', 'wirel', 'wirele', 'wireles', 'wmidnight', 'wound', 'wrapping', 'writable', 'writer', 'wupto', 'x12s', 'x4', 'x70', 'xbass', 'xcharge', 'xsound', 'xstream', 'xtore', 'y100', 'y20', 'y22', 'y75', 'yellowfin', 'yield', 'yuva', 'z25', 'z3', 'z40', 'zarala', 'zcharge', 'zebcompanion', 'zebduke', 'zebduke1', 'zebevolve', 'zebjaguar', 'zebra', 'zebwarrior', 'zenfone', 'zepp', 'zip', '\\xa0  ', '0', '045', '1000112500', '1000dpi', '1000hz', '1000v2', '100240v', '100gt', '100hrs', '101001000', '1018', '1022', '107', '1080p30fps', '1095inch2781cm1', '10digit', '10h', '10inch', '10min', '10mins100mins', '1100', '1100d', '11108187', '1152', '1160', '11amd', '11inch', '11ms', '11mso', '11xsxs', '1200dpi', '120h', '120v', '125v', '1280', '12hrs', '12inch', '12months', '12pack', '12pcs', '12tf', '130', '1300mah', '131', '133inch', '134', '13hrs', '13inch', '13mini1313', '141148', '14131', '14131211x8', '14inches356', '14v', '15000amp', '1500d', '151', '155', '156396', '1563962', '156inch14inch', '158', '15a', '15h', '15meter', '15w3a', '160024003200', '1610', '1650', '165v', '16942', '169inch', '16gauge', '16h', '16hrs', '170mbs', '17hrs', '17inch', '1800r', '180mbs', '1820', '1855', '18day', '195', '1black', '1dd', '1mp', '1plus', '1x16', '1x8', '2001', '201', '20162021', '20182017air', '202120202018', '20232022', '205', '20k', '20min100', '20ml', '20mmwatch', '20note', '20pack', '20x', '2100', '2159', '21a', '21l', '22e', '230', '2300', '2304', '2335', '23a', '23ghz', '242729', '2450', '245v2', '246', '24amp', '24g5', '24l', '2500w10a', '2501', '250ml', '250nits', '250v', '2550', '255f', '25hrs', '2600mah', '261', '2666', '267', '2694', '274', '2800mah', '28k', '2933mhz', '298', '2air', '2galaxy', '2k144hz', '2m6', '2meter', '2oxypulsebeat', '2pin', '2rca', '2rx8', '2year', '30000mah', '3010', '3050u', '30fps', '30ml', '30x60', '31c', '31l', '31type', '320385', '324', '325', '32gbcamera', '32l', '32x27x03cms', '32y1', '33hrs', '340', '340gms', '3420', '343', '345', '3458', '348', '34a', '34amp', '35000', '3500mah', '3556cms', '3558', '357', '360w', '365a', '37', '3810', '38c', '38l', '390', '392', '392a', '394', '3ac', '3k', '3mi', '3pack', '3pcs', '40000mah', '4064', '40db', '40gbps', '40hours', '40l', '40x60', '4128', '413anc', '420', '430', '43v', '43w', '440', '440mm42mm44mm46', '445', '44mm40', '4500', '450x', '450x450', '455', '4699', '472', '4800', '4800h', '4d', '4ft12', '4pcs', '4socket', '4th3rd2nd', '4x', '4x2800mah', '500ma', '5060hzcharging', '50ml', '50pcs', '510bt', '520', '5310', '5400', '5461', '550mbs', '5558', '5565', '557', '55inch', '56', '5600k', '57k', '58mmx25mtr2inch', '5atm', '5dbi', '5ghz', '5gs20', '5mins75hrs', '5ms', '5nos', '5on', '5port', '5v24a', '6008', '600i', '600x300x2', '604', '60fps', '60inch', '612', '618', '621', '625', '6300u', '6310', '652', '655', '669', '678x1112136', '6b', '6ft2', '6gbs', '6inch', '6on', '6slot', '6socket', '6th5th', '6vy95aa', '7000mah', '7010', '70w', '720', '7390', '7400', '7480', '750', '750mbps', '76', '760nc', '778', '795', '796l', '7ah', '7d', '7inch', '7note', '80012001600', '80019000', '805xl', '80gsm', '8128', '8200mah', '850', '868', '87wusb', '887', '888', '8b', '8in1', '8k60hz', '8x10', '8x12', '900110000', '90w', '92', '950', '9500ws', '99a9i44a55a6a6', '9n', 'a02', 'a04', 'a04s', 'a1369', 'a1932a2179', 'a2', 'a2337m1', 'a24', 'a2779', 'a325', 'a500', 'a6', 'a750', 'a9', 'ab', 'abstract', 'ac100240v', 'ac132a', 'ac1750', 'ac3', 'ac32fhd', 'acci', 'acm', 'act', 'acura', 'ad', 'adam', 'adapterarcher', 'add', 'adjustment78', 'adjustments', 'adsorption', 'adult', 'ae2i', 'ae2w', 'aesthetics', 'affordable', 'ag3', 'against', 'ahead', 'aine', 'airair', 'airedge', 'airtags', 'ajanta', 'ajjas', 'ajo', 'akg', 'alcohol', 'allaround', 'allextreme', 'allin1', 'allweather', 'along', 'alphanumeric', 'also', 'alternate', 'aluminu', 'amazf', 'amazinghind', 'amblitz', 'america', 'ampere', 'analysis', 'ancupto', 'andia', 'andro', 'angel', 'anmr600', 'anniversary', 'answer', 'antidust', 'antifouling', 'antighosting', 'antigla', 'antipressure', 'antiradiation', 'antishock', 'antisli', 'antonia', 'anything', 'apcsa', 'apollo', 'appl', 'appledelllenovoasushpsamsungm', 'appledelllenovoasushpsamsungmimacbookul', 'approved', 'approx', 'aramid', 'arduino', 'ares', 'arm14', 'armorite', 'array', 'artbriz', 'articulating', 'asapfast', 'aspro', 'ass', 'assistan', 'aston', 'astro', 'athlon', 'atom', 'attached', 'autoduplex', 'auxusb', 'aviation', 'awc02', 'ax1500', 'b15', 'b17', 'b22', 'b2b', 'b5', 'backdropphotoshoot', 'backgroundvideo', 'backward', 'bajaj', 'bambalio', 'bamboo', 'banksfast', 'barrel', 'barrett', 'basesailor', 'basewaterproof', 'bash', 'basilisk', 'bass13', 'bassoholic', 'bat', 'batter', 'batteriesinput', 'batterywireless', 'battlemods', 'bea', 'beautiful', 'bectro', 'beginners', 'belief', 'beltsstraps', 'bendable', 'bgmifree', 'bidirectional', 'bikes', 'binatone', 'bingo', 'biometric', 'bipbip', 'bitzag', 'blackorange', 'blacktricolor', 'blackwhite', 'blackwire', 'blanc', 'blaxstoc', 'blending', 'blessbe', 'blocking', 'blotter', 'blu', 'bluetoothreceiver', 'bluetoth', 'bmale', 'bmicro', 'bn6813897a', 'boardextension', 'bonace', 'bond', 'bookbags', 'boomx', 'boosty', 'bopp', 'bottleupto', 'bowiemall', 'boxwireless', 'brandsolimo', 'brass', 'bravo', 'brig', 'brionoisefit', 'brizberry', 'brt', 'brushwood', 'btangle', 'bthd', 'btv50', 'btw100', 'btw20', 'btw300', 'bubblefree', 'budding', 'bug', 'bui', 'builtinwin', 'builtinwindows', 'bulldog', 'bum', 'but', 'buttons2wa', 'buy', 'buyer', 'bxs', 'c1', 'c15', 'c3', 'c30', 'c3070w', 'c33', 'c41', 'c50', 'cableadapterconnector', 'cableblack', 'cablecord', 'cableleash', 'caldipree', 'calendar', 'calling18', 'calorie', 'camer', 'camerafish', 'camerasmax', 'camouflage', 'camshield', 'canad', 'cancell', 'cancellatio', 'cancellationaienc', 'cancellationenc', 'capacitystorage', 'capital', 'carabinr', 'carbonateback', 'cardioid', 'cards24', 'caribbean', 'carr', 'casefriendly', 'casingblack', 'casiotone', 'cass', 'cast', 'castell', 'cat5e', 'cat7cat6cat5e', 'cddvd', 'cddvdohp', 'cddvdrom', 'cdm²colour', 'celebration', 'cellution', 'celsius', 'centering', 'centimeters', 'certified13', 'certified4', 'cezo', 'chalks', 'change', 'channels', 'charge10hrs', 'charge2', 'charger141313', 'charger3a', 'chargerpower', 'chargingadapter', 'chargingdata', 'chargingtangle', 'chiclet', 'chip20', 'chipset', 'cion', 'circleversion', 'circular', 'cl16', 'cl3', 'cl9', 'clamps', 'classes', 'classy', 'clean', 'cleaners', 'clicker', 'clo', 'closure', 'clutch', 'cmicro', 'coating', 'cobalt', 'code', 'coffee', 'coloring', 'complete', 'concert', 'conduction', 'conne', 'connectai', 'connected', 'connectivityusb', 'connectorconverteradapter', 'consoles', 'container', 'contrast10', 'controlled', 'controllers', 'conv', 'convenient', 'convert', 'convertor', 'converts', 'cooking', 'coral', 'cores', 'cosmo', 'cosmus', 'costume', 'counti', 'countr', 'country', 'courier', 'covera', 'covercase', 'coverluxury', 'cp2102', 'craftdev', 'cream', 'creation', 'creme', 'crisp', 'crochet', 'croiky', 'cross', 'crossbody', 'cry', 'cryofuze', 'csr', 'ctx700', 'cuba', 'cum', 'cusb', 'cuzor', 'cycle', 'cz600', 'cz71', 'd30', 'dawnlight', 'daynight', 'dc024', 'ddr2', 'deals', 'debit', 'deck', 'decoration', 'degrees', 'delivers', 'deluxe', 'derwent', 'designclea', 'deskmat', 'desktops', 'detail', 'die', 'diecast', 'digway', 'dime', 'dimm', 'directly', 'dish', 'dishankart', 'disp', 'displa', 'display2', 'display24x7', 'displayalexa', 'displayradeon', 'displaytws', 'dive', 'dlna', 'dogs', 'dragonwar', 'drift', 'drivecompatible', 'driverfull', 'drl', 'drywipe', 'dtron', 'dtsx', 'dualcore', 'dualmode', 'dualport', 'duct', 'dulcet', 'dur', 'durbin', 'dustless', 'dvrs', 'e4', 'e5440', 'e6', 'e6540', 'e7440', 'e7450', 'earph', 'earphonesblack', 'earphonesindi', 'earpiece', 'earpiecevoice', 'earplugs', 'earth', 'ebook', 'echoa', 'ecr11aa2800', 'ecr20', 'ed', 'edhe', 'editin', 'editionm30s', 'edx', 'egift', 'ehs64', 'eis', 'elasto', 'electroplated', 'eleg11', 'elephantboat', 'em01', 'emallee', 'emberton', 'emera', 'emergency', 'emilydeals', 'enel14', 'enfield', 'engine', 'english', 'enlinea', 'enotepad', 'enter', 'enterprises', 'env', 'envelopes', 'enviornomental', 'envy', 'enxtech30h', 'enzo', 'episkey', 'erasers', 'ergon', 'erh', 'eridanus', 'eslate', 'esp32', 'espwroom32', 'eternal', 'eve', 'evm25', 'excellent', 'executives', 'expanders', 'expanding', 'experie', 'expression', 'exte', 'extensa', 'f15', 'f18', 'f1k', 'faceplate', 'faces100', 'falcon', 'famous', 'farfield', 'farraige', 'faster', 'fatcherry', 'fateh', 'fc17', 'feast', 'feather', 'featureblue', 'felt', 'fh', 'filters', 'finautica', 'finder', 'fire_bolt', 'fireblade', 'firefly', 'five', 'fixator', 'fixer', 'fizz', 'flame', 'flashcharge', 'flashing', 'flashlight', 'flashy', 'flexfive', 'flexib', 'flicker', 'floatpad', 'florican', 'fog', 'foldup', 'folio', 'formal', 'format', 'formation', 'fortniteiphoneandroid', 'fox', 'foxin', 'fp', 'fre', 'freefire', 'freshdcart', 'frostfree', 'fsg2030', 'ftc', 'fuji', 'ful', 'fullyautomatic', 'fullyfunctional', 'func', 'funct', 'functionsmembrane', 'funny', 'furniture', 'fute', 'future', 'fx1', 'fxcharge', 'g11', 'g2012', 'g21', 'g3000', 'g52', 'g82', 'galactic', 'galax', 'galaxylenovo', 'gamers', 'gammix', 'gamut', 'gelly', 'gem', 'gen1', 'gen7th', 'geocarter', 'geometric', 'germany', 'geysers', 'gf07', 'gi', 'giftmax', 'give', 'gloss', 'gloves', 'gm320', 'gm400w', 'gm600', 'gobass', 'gobuds', 'godox', 'goggle', 'gon', 'good', 'gopr', 'gosurround', 'gradea', 'graffiti', 'graphicsmso', 'graphicswin', 'greatness', 'gree', 'greeting', 'greeva', 'grips', 'gs430', 'gst', 'gsw6', 'gtpoco', 'guaranteed', 'guest', 'guide', 'guitars', 'gw2480', 'gw2780', 'gx20k11840', 'h11', 'h1100', 'h12348', 'h265', 'h50', 'h94', 'ha', 'haile', 'hangable', 'hardnessultra', 'hardwire', 'harissons', 'harmonica', 'hawk', 'hddblack', 'hddscameracard', 'hdmi2av', 'hdmiarc', 'hdmienabled', 'hdmiusb', 'headband', 'headph', 'headpho', 'headphones40', 'headphones94db', 'headphonesearphones', 'hedge', 'helm', 'hero10', 'highden', 'highly', 'highresolution', 'hilfiger', 'hiquality', 'hitechpoint', 'hitecpoint', 'hol', 'holdertripod', 'holi', 'homava', 'homeofficegaming', 'homeschoo', 'hop', 'hotltype', 'hq', 'hrx', 'hs6810pro', 'htpc', 'hubtype', 'hussell', 'hyperspeed', 'i31215u', 'iball', 'ibm', 'ieds', 'ieee', 'ifitech', 'ikat', 'ikis', 'im1000d', 'imageclass', 'impex', 'in1', 'inbox', 'inch25', 'inch35', 'inches35', 'incoming', 'increase', 'indestructible', 'indicator3', 'injected', 'injection', 'inn', 'inout', 'ins', 'inspire', 'inspired', 'intelligen', 'interactive', 'invento', 'invicto', 'inwall', 'ion', 'ipadsamsung', 'iphoneandroid', 'isoelite', 'isolating', 'istuff365', 'it', 'italian', 'itel', 'ivoltaa', 'iw', 'iwatc', 'j1j2j3j4j5j6j7a3a4a5a6a7a8a9on', 'jazz', 'jetstream', 'jiofiber', 'jnkc', 'joker', 'joto', 'juicer', 'justec', 'jute', 'k30', 'k400', 'k580', 'k617', 'k9', 'karbonn', 'kavana', 'kb', 'ke', 'keeps', 'kent', 'key2a', 'keyboar', 'keyboards', 'keycha', 'keystone', 'keystrokes', 'kf432c16bb8', 'khadi', 'khr', 'kia', 'kid', 'kidney', 'killer', 'kiss', 'kitty', 'kneadable', 'knob', 'knobblack', 'ko', 'kodakthomson', 'krevia', 'krisons', 'kumara', 'kz', 'l30', 'l3101', 'l3110', 'l3150', 'l4150', 'l4160', 'l6160', 'l6170', 'l6190', 'lakeer', 'laminated', 'laminationlaminating', 'laminator', 'languages', 'laptop12th', 'laptop16gb512', 'laptopalexa', 'laptopcomputer', 'laptopdesktop', 'laptopmobile', 'laptopschargers', 'lasercut', 'lauret', 'lazi', 'lblink', 'lbp', 'lc', 'left', 'leica', 'len', 'lengthblack', 'lense', 'letter', 'lga', 'lga1150', 'lga1155', 'lga1200', 'lid', 'life5', 'lightsync', 'lightweight3', 'lip', 'lipiworld', 'litebip', 'liters', 'litexiaomi', 'lithiumpolymer', 'logi', 'looking', 'louder', 'louis', 'loupe', 'lr41', 'lr44', 'lr626', 'lr736', 'lripl', 'lseries', 'ltrsvolume', 'ltz', 'lumina', 'lxcn', 'lyf', 'm01', 'm1005', 'm1213nf', 'm126nw', 'm1a2337', 'm21m21', 'm241', 'm2m1', 'm2s', 'm40', 'm59', 'm5y1k', 'm7', 'm71', 'm73', 'm90', 'machd', 'mag', 'magfix', 'magicx', 'magne', 'magnova', 'mandala', 'mapping', 'mark', 'maroon', 'matx', 'maverick', 'max11', 'max1212', 'max1313', 'maxmini', 'maxninja', 'maxriter', 'maxsound', 'maxx', 'mazk', 'mdrex155ap', 'mdrxb55ap', 'medical', 'meeting', 'megabits_per_second', 'melamine', 'menwomenbrown', 'menwomennavy', 'merch', 'mercury', 'mermaid', 'metalic', 'meteoroid', 'mettalix', 'mexa', 'mficertified', 'mfs', 'mfs100', 'mg2', 'micjazzy', 'micr', 'micraging', 'microbial', 'microknit', 'microtextured', 'microusbconnector', 'micshareport', 'mid', 'mil', 'mildliner', 'mini13pro13', 'minimalistic', 'miracast', 'mirroring', 'mmak', 'mobitussion', 'mod', 'mode40ms', 'mode50ms', 'modelp4', 'modesleep', 'modesuper', 'moist', 'molded', 'moni', 'monocular', 'monster', 'monstrous', 'mont', 'montclad', 'monthly', 'moonlit', 'morepen', 'morofy', 'motif', 'motorcyc', 'motorized', 'moulded', 'mounttablet', 'moving', 'moxly', 'mp44', 'mp80', 'mr', 'ms116', 'mstick', 'multiconnectivity', 'multimode', 'mupc500h', 'mutlicolor', 'mwswfm', 'mx1', 'mx4', 'mx500', 'nanny', 'needle', 'needs', 'neoflex', 'networking', 'newborn', 'newspaper', 'nibs', 'nicd', 'nightstand', 'nihara', 'nillkin', 'nimhnicd', 'ninjaninja', 'nisun', 'nitho', 'nivia', 'nocxtun', 'noisecanceling', 'noiseless', 'noisereducing', 'noncracking', 'nonecc', 'nonmagnetic', 'nons', 'note10plus', 'noting', 'nova', 'noymi', 'ntag213', 'num', 'numbers', 'numeric', 'numlock', 'nuton', 'nv', 'oak', 'oakter', 'obage', 'object', 'oddy', 'ofdma', 'offic', 'offices', 'officeschooltravelbusiness', 'officetravelcollege', 'oiloco', 'olas1', 'old', 'olicom', 'om', 'omoton', 'onboard', 'oncraves', 'onelap', 'ops', 'opt', 'opti', 'optic', 'oral', 'orbit', 'orbiter', 'order', 'organ', 'organi', 'origami', 'orpat', 'oth', 'otoscope', 'ov', 'overheating', 'overload', 'ox', 'oxford', 'p1008', 'p3', 'padmini', 'page', 'pai', 'palay', 'pandora', 'papers', 'parallax', 'paring', 'partybox', 'partymate', 'partypal', 'pass', 'passi', 'pc310600', 'pc312800', 'pc3l12800', 'pcconnecte', 'pcmaclap', 'pcmonitorlcdled', 'pcps3', 'pdtype', 'peach', 'pei', 'peppy', 'perkey', 'personalized', 'pf2104', 'phonetablets', 'phonetvlaptoptabletsp', 'pigma', 'pigtail', 'pinnaclz', 'pinzo', 'pixe', 'pixelartz', 'pkst', 'plantbased', 'plasticblack', 'plating', 'playbac', 'playback12', 'playbackbeast', 'players', 'playful', 'playpause', 'playwall', 'plugandplay', 'plugin', 'plus7', 'plus8', 'plusiphone', 'plusnote', 'plustab', 'plusxrxr', 'pmma', 'podcasting', 'pointstationary', 'pol', 'polestar', 'police', 'polling', 'polycarbonateback', 'polycarbonatetranspare', 'polyplastic', 'polyurethane_clear', 'portm', 'porttravel', 'posca', 'post', 'pova', 'pow', 'powder', 'powerlink', 'powerpak', 'powerredmi', 'powers', 'ppm', 'premiumtextured', 'premoistened', 'presentation', 'press', 'pressed', 'prevents', 'priefy', 'primepoco', 'printersmonitor', 'prints', 'printscancopyhigh', 'pro365', 'procalling', 'production', 'projection', 'prolite', 'prolook', 'prompt', 'proninja', 'prooneplus', 'propods', 'prorealme', 'protech', 'protected', 'protection480mbps', 'protectiv', 'protectorcamera', 'protectorhd', 'protectorheadphone', 'protectorwire', 'protects', 'proy17u10vivo', 'ps', 'pt', 'ptc', 'puff', 'puffy', 'pull', 'puma', 'punnkfunnk', 'purse', 'push', 'q1', 'q10', 'q2612a', 'q2s', 'qatalitic', 'qc2', 'quadmics', 'qui', 'qvga', 'racket', 'ram1600mhz', 'ranger', 'rapidlink', 'razz', 'rc802v', 'rd', 'read130mbs', 'rec', 'recei', 'rechargable', 'rectangular', 'recurve', 'redeemable', 'reduction', 'refined', 'regal', 'regional', 'relay', 'remotex', 'renata', 'reno', 'reno22z2freno', 'renooppo', 'repair', 'repairpet', 'repla', 'report', 'resi', 'resist', 'resonate', 'response', 'reverse', 'reward', 'rg', 'ribbon', 'ribbons', 'ringlight', 'rj', 'rma183', 'ro', 'rockers', 'rocket', 'rog', 'rohs', 'rolling', 'rolls', 'root', 'rousrie', 'route', 'routerups', 'rs232', 'rs40000', 'runbt', 'runtime', 's22s21s20', 'sa', 'sa510', 'sa76', 'sa78', 'sad40', 'safeseed', 'saffron', 'salonfinish', 'sams', 'samvardhan', 'sangra', 'sansui', 'sattva', 'sba10', 'sba15', 'sba20', 'sbip', 'scannin', 'scented', 'schoo', 'schoollaptopcollegeoffice', 'score', 'scout', 'scra', 'scratchfree', 'scratchresi', 'screwdriver', 'scroll', 'sdmicro', 'sealed', 'secure', 'seek', 'selector', 'selfi', 'sellingal', 'serv', 'setting', 'sevenaire', 'sharp', 'sheaffer', 'shelter', 'shi', 'shimmer', 'shoc', 'shockp', 'shockpro', 'shot', 'shuban', 'shut', 'sid', 'signi', 'sili', 'silico', 'silicone_black', 'siliconeblack', 'silicontransparent', 'singlefunction', 'sinloe', 'sixfire', 'sk', 'skinsticker', 'skullcandy', 'skyfall', 'skyshop', 'sleevelaptop', 'sliding', 'slovic', 'sm315', 'smp615', 'smt295', 'smudgefree', 'smx200nzseinu', 'snapcha', 'snapcharg', 'snares', 'snoozehub', 'sock', 'socketuniversal', 'softbox', 'solotravel', 'song', 'sonia', 'sonicbass', 'soomio', 'soundlink', 'source', 'spaceship', 'spartan', 'spdif', 'spe', 'speakerinbuilt', 'speakerphone', 'spectre', 'spee', 'speedometer', 'speedsusb', 'spiffysky', 'spill', 'splashproof', 'sportster', 'sportswatch', 'sq', 'sr41', 'srealme', 'ssd14', 'ssdnow', 'ssdwi', 'sta', 'stabilo', 'stamp', 'standalone', 'standmulti', 'staples', 'starlit', 'stars', 'steady', 'stethoscope', 'stickselfie', 'stok', 'storagebathroom', 'storio', 'stormbox', 'straight', 'straightener', 'strap7', 'street27', 'strength', 'stretched', 'strontium', 'stuffcool', 'stump', 'stunning', 'stxxor', 'stylfit', 'su', 'subton', 'subwoofe', 'sucker', 'suit', 'suite', 'summer', 'sunburn', 'sunburst', 'sunglasses', 'supercapacitor', 'superlight', 'superman', 'supportable', 'suspension', 'sustain', 'sustainable', 'suzuki', 'sw', 'swabs', 'swim', 'switch1', 'switche', 'switchhub', 'sx', 'symbol', 'sync10', 'synqe', 't10', 't21', 't210', 't241', 't510t515', 'tabletpa', 'tacker', 'tally', 'talotech', 'tamper', 'tangentbeat', 'tavakkal', 'tax', 'tbx606v', 'teachers', 'tech185', 'technica', 'technical', 'technologies', 'techshield', 'terabyte', 'tethering', 'texas', 'textile', 'textliner', 'tf600', 'thank', 'that', 'things', 'thoughts', 'through', 'thunderb', 'thunderbolt3', 'tide', 'tidy', 'tied', 'tieout', 'tl', 'tlwa855re', 'tm', 'tm2280e', 'today', 'tommy', 'tone', 'toploader', 'tornado', 'towel', 'tpe', 'trac', 'tracing', 'tracke', 'traditional', 'trajectory', 'transparentsides', 'traveling', 'trimincludes', 'trio', 'tripl', 'trrs', 'truebuds', 'truehue', 'trueupgrade', 'trust', 'tsc', 'turf', 'turnaround', 'turquoise', 'tvara', 'tvpcprojectorstab', 'ty', 'typewriter', 'uasp', 'ub150', 'ub157', 'uba', 'ufo', 'ugreen', 'uhuru', 'ultramini', 'ultranoise', 'ultranote', 'ultras20s20s20', 'unbuffered', 'under', 'underarm', 'underwater', 'uni', 'unibody', 'uniflo', 'unifying', 'unigear', 'uport', 'uppercase', 'upreale', 'uprolite', 'urbanmade', 'urbanplay', 'usb32', 'usbpowered', 'user', 'uses', 'v150w', 'v165w', 'v17v17', 'v222w', 'v51', 'v5s', 'v9', 'valex', 'valve', 'variety', 'veikk', 'veneer', 'ventilation', 'versatile', 'vfiber', 'vfx', 'vg', 'vhs', 'via', 'videoblack', 'videocon', 'violet', 'viscosity', 'visio', 'vivid', 'vkb', 'vlogpov', 'vmps', 'voi', 'voice50', 'voicefm', 'vol', 'vpn', 'vrb', 'vs204', 'vs303', 'w26plus', 'w30', 'wacom', 'walkent', 'warr', 'watchbt', 'waterman', 'waterpro', 'waterresistance', 'waves', 'wdbhdw0', 'wds', 'webca', 'weights', 'well', 'westinghouse', 'wfxb700', 'wh1000xm5', 'whirlpool', 'whitegrey', 'whxb910n', 'wic200', 'wic310', 'wii', 'win', 'windo', 'windowsmaclinux', 'winmac', 'wisely', 'wixb400', 'wolpin', 'wom', 'woman', 'womenpremium', 'worison', 'woven', 'wrapcover', 'writting', 'ws', 'wsilver', 'wuasp', 'wva', 'wzatco', 'x200', 'x30', 'x360', 'x513', 'x5600c', 'x6', 'x606v', 'x7', 'x73', 'x778', 'x8', 'xcite', 'xech', 'xgrip', 'xiran', 'xp', 'xpg', 'xxrxs', 'xxs', 'xzor', 'y20i', 'y21lv7', 'y31', 'y51', 'y53', 'y55', 'y56', 'y6v11', 'ycharge', 'yodel', 'yumin', 'z15', 'z20', 'z5', 'zebcomfort', 'zebfit7220ch', 'zebfun', 'zebgrace', 'zebma5222', 'zebtransformer', 'zebtransformerm', 'zebtulip', 'zeiss', 'zippered', 'zoook', 'zxn']\n"
          ]
        }
      ],
      "source": [
        "print(\"The length of the vocab is\", len(vocab))\n",
        "print(f\"The index of '<unk>' is {vocab.get_stoi()['<unk>']}\")\n",
        "print(vocab.get_itos())"
      ]
    },
    {
      "cell_type": "markdown",
      "metadata": {
        "id": "gSqQ-yTPeI6_"
      },
      "source": [
        "Generate data set\n",
        "\n",
        "We want to split all sentences to pairs in such way:\n",
        "\n",
        "oneplus nord ce 2 lite 5g black dusk 6gb ram 128gb storage\n",
        "\n",
        "'&lt;sos&gt; oneplus nord &lt;eos&gt;' , '&lt;sos&gt; ce 2 lite 5g black dusk 6gb ram 128gb storage &lt;eos&gt;'\n",
        "\n",
        "'&lt;sos&gt; oneplus nord ce &lt;eos&gt;' , '&lt;sos&gt; 2 lite 5g black dusk 6gb ram 128gb storage &lt;eos&gt;'"
      ]
    },
    {
      "cell_type": "code",
      "execution_count": 20,
      "metadata": {
        "id": "rNgG_ugkeK-l"
      },
      "outputs": [],
      "source": [
        "max_words = 20\n",
        "\n",
        "def generate_dataset (data):\n",
        "  pairs = []\n",
        "  SRC = []\n",
        "  TRG = []\n",
        "  sentences = []\n",
        "\n",
        "  for text in data:\n",
        "\n",
        "    sentences.append(text)\n",
        "    words = text.split(' ')\n",
        "\n",
        "    for i in range(1, len(words) - 1):\n",
        "\n",
        "        input_data = ' '.join(words[:i+1])\n",
        "        output_data = ' '.join(words[i+1:])\n",
        "\n",
        "        #SRC.append(input_data)\n",
        "        #TRG.append(output_data)\n",
        "        data = (input_data, output_data)\n",
        "        pairs.append(data)\n",
        "\n",
        "  return pairs, sentences"
      ]
    },
    {
      "cell_type": "code",
      "execution_count": 21,
      "metadata": {
        "colab": {
          "base_uri": "https://localhost:8080/"
        },
        "id": "1GCeWaMkpJo0",
        "outputId": "41dc3b57-9bc1-4a25-fc77-10257fc41862"
      },
      "outputs": [
        {
          "output_type": "execute_result",
          "data": {
            "text/plain": [
              "4    oneplus nord ce 2 lite 5g black dusk 6gb ram 1...\n",
              "Name: name, dtype: object"
            ]
          },
          "metadata": {},
          "execution_count": 21
        }
      ],
      "source": [
        "test = processed_data[[4]]\n",
        "test"
      ]
    },
    {
      "cell_type": "code",
      "execution_count": 22,
      "metadata": {
        "colab": {
          "base_uri": "https://localhost:8080/"
        },
        "id": "VYnjVLL4pO8x",
        "outputId": "ed6a0265-27a5-42e3-8528-5c2312fe0f12"
      },
      "outputs": [
        {
          "output_type": "execute_result",
          "data": {
            "text/plain": [
              "([('oneplus nord', 'ce 2 lite 5g black dusk 6gb ram 128gb storage'),\n",
              "  ('oneplus nord ce', '2 lite 5g black dusk 6gb ram 128gb storage'),\n",
              "  ('oneplus nord ce 2', 'lite 5g black dusk 6gb ram 128gb storage'),\n",
              "  ('oneplus nord ce 2 lite', '5g black dusk 6gb ram 128gb storage'),\n",
              "  ('oneplus nord ce 2 lite 5g', 'black dusk 6gb ram 128gb storage'),\n",
              "  ('oneplus nord ce 2 lite 5g black', 'dusk 6gb ram 128gb storage'),\n",
              "  ('oneplus nord ce 2 lite 5g black dusk', '6gb ram 128gb storage'),\n",
              "  ('oneplus nord ce 2 lite 5g black dusk 6gb', 'ram 128gb storage'),\n",
              "  ('oneplus nord ce 2 lite 5g black dusk 6gb ram', '128gb storage'),\n",
              "  ('oneplus nord ce 2 lite 5g black dusk 6gb ram 128gb', 'storage')],\n",
              " ['oneplus nord ce 2 lite 5g black dusk 6gb ram 128gb storage'])"
            ]
          },
          "metadata": {},
          "execution_count": 22
        }
      ],
      "source": [
        "example = generate_dataset(test)\n",
        "example"
      ]
    },
    {
      "cell_type": "markdown",
      "metadata": {
        "id": "xJPEbft-vK_z"
      },
      "source": [
        "Generating pairs from the whole dataset"
      ]
    },
    {
      "cell_type": "code",
      "execution_count": 23,
      "metadata": {
        "id": "9EkgMghCvP5l"
      },
      "outputs": [],
      "source": [
        "pairs, sentence = generate_dataset(processed_data)"
      ]
    },
    {
      "cell_type": "markdown",
      "metadata": {
        "id": "RdImbgne6TD6"
      },
      "source": [
        "Process he data. We turn all words in to tokens and change the data type to torch tensors for the PyTorch neural network."
      ]
    },
    {
      "cell_type": "code",
      "execution_count": 24,
      "metadata": {
        "colab": {
          "base_uri": "https://localhost:8080/"
        },
        "id": "45kfdB-Mw4ZS",
        "outputId": "43047ddb-8603-423d-a07c-53fb23a62a75"
      },
      "outputs": [
        {
          "output_type": "stream",
          "name": "stdout",
          "text": [
            "148690\n"
          ]
        }
      ],
      "source": [
        "def data_process(pairs):\n",
        "  data = []\n",
        "  for (src, trg) in pairs:\n",
        "\n",
        "    src_tensor = torch.tensor([vocab[token] for token in tokeniser(src)],\n",
        "                            dtype=torch.long)\n",
        "\n",
        "    trg_tensor = torch.tensor([vocab[token] for token in tokeniser(trg)],\n",
        "                            dtype=torch.long)\n",
        "    data.append((src_tensor, trg_tensor))\n",
        "  return data\n",
        "\n",
        "full_data = data_process(pairs)\n",
        "print(len(full_data))\n",
        "\n",
        "def input_process(input):\n",
        "\n",
        "  input_tensor = torch.tensor([vocab[token] for token in tokeniser(input)],\n",
        "                              dtype=torch.long)\n",
        "  return input_tensor\n",
        "\n",
        "full_data = data_process(pairs)"
      ]
    },
    {
      "cell_type": "markdown",
      "metadata": {
        "id": "sJ13PbUZw4tX"
      },
      "source": [
        "Tokenize the set of pairs to source and target data in a way that the neural network can use"
      ]
    },
    {
      "cell_type": "code",
      "execution_count": 25,
      "metadata": {
        "colab": {
          "base_uri": "https://localhost:8080/"
        },
        "id": "wmpPqTgOxEJj",
        "outputId": "1fb145ad-2edc-48bb-b665-41b12410fb90"
      },
      "outputs": [
        {
          "output_type": "stream",
          "name": "stdout",
          "text": [
            "(tensor([94, 75]), tensor([ 64,  64,  11,  61,  12,  66, 123,  12,  74]))\n",
            "['redmi', '10']\n",
            "['power', 'power', 'black', '8', 'gb', 'ram', '128', 'gb', 'storage']\n"
          ]
        }
      ],
      "source": [
        "print(full_data[0])\n",
        "\n",
        "for sentence in full_data[0]:\n",
        "  words = [vocab.get_itos()[token] for token in sentence]\n",
        "  print(words)"
      ]
    },
    {
      "cell_type": "markdown",
      "metadata": {
        "id": "Rde5K3GH4MjZ"
      },
      "source": [
        "Data Loader\n",
        "\n",
        "We generate batches for training using a DataLoader and add sos and eos tokens to the sentences."
      ]
    },
    {
      "cell_type": "code",
      "execution_count": 55,
      "metadata": {
        "id": "8-zaouZ44Ofo"
      },
      "outputs": [],
      "source": [
        "from torch.nn.utils.rnn import pad_sequence\n",
        "from torch.utils.data import DataLoader, random_split\n",
        "\n",
        "device = torch.device('cuda' if torch.cuda.is_available() else 'cpu')\n",
        "\n",
        "BATCH_SIZE = 128\n",
        "PAD_IDX = vocab['<pad>']\n",
        "SOS_IDX = vocab['<sos>']\n",
        "EOS_IDX = vocab['<eos>']\n",
        "\n",
        "def generate_batch(data_batch):\n",
        "  src_batch, trg_batch = [], []\n",
        "\n",
        "  for (src_item, trg_item) in data_batch:\n",
        "    src_batch.append(torch.cat([torch.tensor([SOS_IDX]), src_item, torch.tensor([EOS_IDX])], dim=0))\n",
        "    trg_batch.append(torch.cat([torch.tensor([SOS_IDX]), trg_item, torch.tensor([EOS_IDX])], dim=0))\n",
        "\n",
        "  src_batch = pad_sequence(src_batch, padding_value=PAD_IDX)\n",
        "  trg_batch = pad_sequence(trg_batch, padding_value=PAD_IDX)\n",
        "  return src_batch, trg_batch\n",
        "\n",
        "def generate_input_sequence(input_data):\n",
        "  input_data = torch.cat([torch.tensor([SOS_IDX]), input_data, torch.tensor([EOS_IDX])]).to(device)\n",
        "  return input_data\n",
        "\n",
        "# Split the data to train, eval and test\n",
        "\n",
        "size = len(full_data)\n",
        "train_size = int(0.9 * size)\n",
        "test_eval_size = (size - train_size) // 2\n",
        "\n",
        "train_data, test_data, val_data = random_split(full_data, [train_size+1, test_eval_size, test_eval_size])\n",
        "\n",
        "\n",
        "train_iter = DataLoader(train_data, batch_size=BATCH_SIZE,\n",
        "                        shuffle=True,\n",
        "                        collate_fn=generate_batch)\n",
        "\n",
        "test_iter = DataLoader(test_data, batch_size=BATCH_SIZE,\n",
        "                        shuffle=True,\n",
        "                        collate_fn=generate_batch)\n",
        "\n",
        "val_iter = DataLoader(val_data, batch_size=BATCH_SIZE,\n",
        "                        shuffle=True,\n",
        "                        collate_fn=generate_batch)"
      ]
    },
    {
      "cell_type": "markdown",
      "metadata": {
        "id": "c7_ymLDPbjWr"
      },
      "source": [
        "## Encoder"
      ]
    },
    {
      "cell_type": "code",
      "execution_count": 56,
      "metadata": {
        "id": "IDUkPaFmbjeW"
      },
      "outputs": [],
      "source": [
        "import random\n",
        "from typing import Tuple\n",
        "\n",
        "import torch.nn as nn\n",
        "import torch.optim as optim\n",
        "import torch.nn.functional as F\n",
        "from torch import tensor\n",
        "\n",
        "\n",
        "class Encoder(nn.Module):\n",
        "    def __init__(self,\n",
        "                 input_dim: int,\n",
        "                 emb_dim: int,\n",
        "                 enc_hid_dim: int,\n",
        "                 dec_hid_dim: int,\n",
        "                 dropout: float):\n",
        "        super().__init__()\n",
        "\n",
        "        self.input_dim = input_dim\n",
        "        self.emb_dim = emb_dim\n",
        "        self.enc_hid_dim = enc_hid_dim\n",
        "        self.dec_hid_dim = dec_hid_dim\n",
        "        self.dropout = dropout\n",
        "\n",
        "        # Embedding layer\n",
        "        self.embedding = nn.Embedding(input_dim, emb_dim)\n",
        "\n",
        "        # GRU\n",
        "        self.rnn = nn.GRU(emb_dim, enc_hid_dim, bidirectional = True)\n",
        "\n",
        "        # Fully connected layer\n",
        "        self.fc = nn.Linear(enc_hid_dim * 2, dec_hid_dim)\n",
        "\n",
        "        self.dropout = nn.Dropout(dropout)\n",
        "\n",
        "    def forward(self,\n",
        "                src: tensor) -> Tuple[tensor]:\n",
        "\n",
        "        embedded = self.dropout(self.embedding(src))\n",
        "\n",
        "        # Forward pass through GRU\n",
        "        outputs, hidden = self.rnn(embedded)\n",
        "\n",
        "        hidden_concat = torch.cat((hidden[-2,:,:], hidden[-1,:,:]), dim = 1)\n",
        "\n",
        "        hidden = torch.tanh(self.fc(hidden_concat))\n",
        "\n",
        "        return outputs, hidden"
      ]
    },
    {
      "cell_type": "markdown",
      "metadata": {
        "id": "T1nCT34KblDl"
      },
      "source": [
        "## Attention"
      ]
    },
    {
      "cell_type": "code",
      "execution_count": 57,
      "metadata": {
        "id": "wPWLziUpblHP"
      },
      "outputs": [],
      "source": [
        "class Attention(nn.Module):\n",
        "    def __init__(self,\n",
        "                 enc_hid_dim: int,\n",
        "                 dec_hid_dim: int,\n",
        "                 attn_dim: int):\n",
        "        super().__init__()\n",
        "\n",
        "        self.enc_hid_dim = enc_hid_dim\n",
        "        self.dec_hid_dim = dec_hid_dim\n",
        "\n",
        "        self.attn_in = (enc_hid_dim * 2) + dec_hid_dim\n",
        "\n",
        "        self.attn = nn.Linear(self.attn_in, attn_dim)\n",
        "\n",
        "    def forward(self,\n",
        "                decoder_hidden: tensor,\n",
        "                encoder_outputs: tensor) -> tensor:\n",
        "\n",
        "        src_len = encoder_outputs.shape[0]\n",
        "\n",
        "        repeated_decoder_hidden = decoder_hidden.unsqueeze(1).repeat(1, src_len, 1)\n",
        "\n",
        "        encoder_outputs = encoder_outputs.permute(1, 0, 2)\n",
        "\n",
        "        a_score = torch.tanh(self.attn(torch.cat((\n",
        "            repeated_decoder_hidden,\n",
        "            encoder_outputs),\n",
        "            dim = 2)))\n",
        "\n",
        "        attention = torch.sum(a_score, dim=2)\n",
        "\n",
        "        # This gives us the attention over the source sentence\n",
        "        return F.softmax(attention, dim=1)"
      ]
    },
    {
      "cell_type": "markdown",
      "metadata": {
        "id": "BQvx3DfnblMG"
      },
      "source": [
        "## Decoder"
      ]
    },
    {
      "cell_type": "code",
      "execution_count": 58,
      "metadata": {
        "id": "RkKpNTPLblTD"
      },
      "outputs": [],
      "source": [
        "class Decoder(nn.Module):\n",
        "    def __init__(self,\n",
        "                 output_dim: int,\n",
        "                 emb_dim: int,\n",
        "                 enc_hid_dim: int,\n",
        "                 dec_hid_dim: int,\n",
        "                 dropout: int,\n",
        "                 attention: nn.Module):\n",
        "        super().__init__()\n",
        "\n",
        "        self.emb_dim = emb_dim\n",
        "        self.enc_hid_dim = enc_hid_dim\n",
        "        self.dec_hid_dim = dec_hid_dim\n",
        "        self.output_dim = output_dim\n",
        "        self.dropout = dropout\n",
        "        self.attention = attention\n",
        "\n",
        "        self.embedding = nn.Embedding(output_dim, emb_dim)\n",
        "\n",
        "        self.rnn = nn.GRU((enc_hid_dim * 2) + emb_dim, dec_hid_dim)\n",
        "\n",
        "        self.out = nn.Linear(self.attention.attn_in + emb_dim, output_dim)\n",
        "\n",
        "        self.dropout = nn.Dropout(dropout)\n",
        "\n",
        "\n",
        "    def _weighted_encoder_rep(self,\n",
        "                              decoder_hidden: tensor,\n",
        "                              encoder_outputs: tensor) -> tensor:\n",
        "\n",
        "        a = self.attention(decoder_hidden, encoder_outputs)\n",
        "\n",
        "\n",
        "        a = a.unsqueeze(1)\n",
        "\n",
        "\n",
        "        encoder_outputs = encoder_outputs.permute(1, 0, 2)\n",
        "\n",
        "        weighted_encoder_rep = torch.bmm(a, encoder_outputs)\n",
        "\n",
        "        weighted_encoder_rep = weighted_encoder_rep.permute(1, 0, 2)\n",
        "\n",
        "        return weighted_encoder_rep\n",
        "\n",
        "\n",
        "    def forward(self,\n",
        "                input: tensor,\n",
        "                decoder_hidden: tensor,\n",
        "                encoder_outputs: tensor) -> Tuple[tensor]:\n",
        "\n",
        "        #input = [1, batch size]\n",
        "        input = input.unsqueeze(0)\n",
        "\n",
        "\n",
        "        #embedded = [1, batch size, emb dim]\n",
        "        embedded = self.dropout(self.embedding(input))\n",
        "\n",
        "        weighted_encoder_rep = self._weighted_encoder_rep(decoder_hidden,\n",
        "                                                          encoder_outputs)\n",
        "\n",
        "        rnn_input = torch.cat((embedded, weighted_encoder_rep), dim = 2)\n",
        "\n",
        "        output, decoder_hidden = self.rnn(rnn_input, decoder_hidden.unsqueeze(0))\n",
        "\n",
        "        embedded = embedded.squeeze(0)\n",
        "        output = output.squeeze(0)\n",
        "        weighted_encoder_rep = weighted_encoder_rep.squeeze(0)\n",
        "\n",
        "        output = self.out(torch.cat((output,\n",
        "                                     weighted_encoder_rep,\n",
        "                                     embedded), dim = 1))\n",
        "\n",
        "        return output, decoder_hidden.squeeze(0)\n",
        "\n"
      ]
    },
    {
      "cell_type": "markdown",
      "metadata": {
        "id": "gP12pRr-brAM"
      },
      "source": [
        "## Seq2Seq model"
      ]
    },
    {
      "cell_type": "code",
      "execution_count": 59,
      "metadata": {
        "id": "4nyQcdJwbrG5"
      },
      "outputs": [],
      "source": [
        "class Seq2Seq(nn.Module):\n",
        "    def __init__(self,\n",
        "                 encoder: nn.Module,\n",
        "                 decoder: nn.Module,\n",
        "                 device: torch.device):\n",
        "        super().__init__()\n",
        "\n",
        "        self.encoder = encoder\n",
        "        self.decoder = decoder\n",
        "        self.device = device\n",
        "\n",
        "    def forward(self,\n",
        "                src: tensor,\n",
        "                trg: tensor,\n",
        "                teacher_forcing_ratio: float = 0.5) -> tensor:\n",
        "\n",
        "        #teacher_forcing_ratio is probability to use teacher forcing\n",
        "        #e.g. if teacher_forcing_ratio is 0.75 we use teacher forcing 75% of the time\n",
        "\n",
        "        batch_size = src.shape[1]\n",
        "        max_len = trg.shape[0]\n",
        "        trg_vocab_size = self.decoder.output_dim\n",
        "\n",
        "        #tensor to store decoder outputs\n",
        "        outputs = torch.zeros(max_len, batch_size, trg_vocab_size).to(self.device)\n",
        "\n",
        "        #encoder_outputs is all hidden states of the input sequence, back and forwards\n",
        "        #hidden is the final forward and backward hidden states, passed through a linear layer\n",
        "        encoder_outputs, hidden = self.encoder(src)\n",
        "\n",
        "        # first input to the decoder is the <sos> token\n",
        "        output = trg[0,:]\n",
        "\n",
        "        for t in range(1, max_len):\n",
        "            #insert input token embedding, previous hidden state and all encoder hidden states\n",
        "            #receive output tensor (predictions) and new hidden state\n",
        "            output, hidden = self.decoder(output, hidden, encoder_outputs)\n",
        "\n",
        "            #place predictions in a tensor holding predictions for each token\n",
        "            outputs[t] = output\n",
        "\n",
        "            #decide if we are going to use teacher forcing or not\n",
        "            teacher_force = random.random() < teacher_forcing_ratio\n",
        "\n",
        "            #get the highest predicted token from our predictions\n",
        "            top1 = output.max(1)[1]\n",
        "\n",
        "            #if teacher forcing, use actual next token as next input\n",
        "            #if not, use predicted token\n",
        "            output = (trg[t] if teacher_force else top1)\n",
        "\n",
        "        return outputs\n",
        "\n",
        "    def predict(self, src: tensor) -> tensor:\n",
        "\n",
        "        batch_size = src.shape[1]\n",
        "        max_len = trg.shape[0]\n",
        "\n",
        "        trg_vocab_size = self.decoder.output_dim\n",
        "\n",
        "        outputs = torch.zeros(max_len, batch_size, trg_vocab_size).to(self.device)\n",
        "\n",
        "        encoder_outputs, hidden = self.encoder(src)\n",
        "\n",
        "        output = trg[0,:]\n",
        "\n",
        "        for t in range(1, max_len):\n",
        "            output, hidden = self.decoder(output, hidden, encoder_outputs)\n",
        "            outputs[t] = output\n",
        "\n",
        "            output = output.argmax(1)  # Greedily select the token with the highest probability\n",
        "\n",
        "        return outputs"
      ]
    },
    {
      "cell_type": "markdown",
      "metadata": {
        "id": "gcN-qCnEdBBT"
      },
      "source": []
    },
    {
      "cell_type": "code",
      "execution_count": 60,
      "metadata": {
        "colab": {
          "base_uri": "https://localhost:8080/"
        },
        "id": "6AD5YCQ5dBJT",
        "outputId": "b2f554d1-6b9b-483d-df37-3bd59006c4d7"
      },
      "outputs": [
        {
          "output_type": "stream",
          "name": "stdout",
          "text": [
            "Seq2Seq(\n",
            "  (encoder): Encoder(\n",
            "    (embedding): Embedding(6552, 128)\n",
            "    (rnn): GRU(128, 256, bidirectional=True)\n",
            "    (fc): Linear(in_features=512, out_features=256, bias=True)\n",
            "    (dropout): Dropout(p=0.5, inplace=False)\n",
            "  )\n",
            "  (decoder): Decoder(\n",
            "    (attention): Attention(\n",
            "      (attn): Linear(in_features=768, out_features=32, bias=True)\n",
            "    )\n",
            "    (embedding): Embedding(6552, 128)\n",
            "    (rnn): GRU(640, 256)\n",
            "    (out): Linear(in_features=896, out_features=6552, bias=True)\n",
            "    (dropout): Dropout(p=0.5, inplace=False)\n",
            "  )\n",
            ")\n",
            "The model has 8,992,952 trainable parameters\n"
          ]
        }
      ],
      "source": [
        "INPUT_DIM = len(vocab)\n",
        "OUTPUT_DIM = INPUT_DIM\n",
        "\n",
        "# > 12 mins | Test Loss: 3.063 | Test Perplexity:  21.394 |\n",
        "# ENC_EMB_DIM = 256\n",
        "# DEC_EMB_DIM = 256\n",
        "# ENC_HID_DIM = 512\n",
        "# DEC_HID_DIM = 512\n",
        "# ATTN_DIM = 64\n",
        "# ENC_DROPOUT = 0.5\n",
        "# DEC_DROPOUT = 0.5\n",
        "\n",
        "ENC_EMB_DIM = 128\n",
        "DEC_EMB_DIM = 128\n",
        "ENC_HID_DIM = 256\n",
        "DEC_HID_DIM = 256\n",
        "ATTN_DIM = 32\n",
        "ENC_DROPOUT = 0.5\n",
        "DEC_DROPOUT = 0.5\n",
        "\n",
        "enc = Encoder(INPUT_DIM, ENC_EMB_DIM, ENC_HID_DIM, DEC_HID_DIM, ENC_DROPOUT)\n",
        "\n",
        "attn = Attention(ENC_HID_DIM, DEC_HID_DIM, ATTN_DIM)\n",
        "\n",
        "dec = Decoder(OUTPUT_DIM, DEC_EMB_DIM, ENC_HID_DIM, DEC_HID_DIM, DEC_DROPOUT, attn)\n",
        "\n",
        "model = Seq2Seq(enc, dec, device).to(device)\n",
        "\n",
        "\n",
        "# Initialise weights\n",
        "def init_weights(m: nn.Module):\n",
        "    for name, param in m.named_parameters():\n",
        "        if 'weight' in name:\n",
        "            nn.init.normal_(param.data, mean=0, std=0.01) # Initialise weights with values drawn from the normal distribution\n",
        "        else:\n",
        "            nn.init.constant_(param.data, 0) # Initialiase biases to 0\n",
        "\n",
        "\n",
        "print(model.apply(init_weights))\n",
        "\n",
        "optimizer = optim.Adam(model.parameters())\n",
        "\n",
        "# Determine number of paramters\n",
        "def count_parameters(model: nn.Module):\n",
        "    return sum(p.numel() for p in model.parameters() if p.requires_grad)\n",
        "\n",
        "\n",
        "print(f'The model has {count_parameters(model):,} trainable parameters')\n",
        "\n",
        "# Loss function\n",
        "\n",
        "PAD_IDX = vocab.get_stoi()['<pad>']\n",
        "\n",
        "criterion = nn.CrossEntropyLoss(ignore_index=PAD_IDX)"
      ]
    },
    {
      "cell_type": "markdown",
      "metadata": {
        "id": "q5gQjYf6dgz4"
      },
      "source": [
        "## Train and evaluate functions"
      ]
    },
    {
      "cell_type": "code",
      "execution_count": 61,
      "metadata": {
        "id": "4ISFbTnmdizI"
      },
      "outputs": [],
      "source": [
        "import time\n",
        "\n",
        "def train(model: nn.Module,\n",
        "          iterator: torch.utils.data.DataLoader,\n",
        "          optimizer: optim.Optimizer,\n",
        "          criterion: nn.Module,\n",
        "          clip: float):\n",
        "\n",
        "    model.train()\n",
        "\n",
        "    epoch_loss = 0\n",
        "\n",
        "    for _, (src, trg) in enumerate(iterator):\n",
        "        src, trg = src.to(device), trg.to(device)\n",
        "\n",
        "        optimizer.zero_grad()\n",
        "\n",
        "        output = model(src, trg)\n",
        "\n",
        "        output = output[1:].view(-1, output.shape[-1])\n",
        "        trg = trg[1:].view(-1)\n",
        "\n",
        "        loss = criterion(output, trg)\n",
        "\n",
        "        loss.backward()\n",
        "\n",
        "        torch.nn.utils.clip_grad_norm_(model.parameters(), clip)\n",
        "\n",
        "        optimizer.step()\n",
        "\n",
        "        epoch_loss += loss.item()\n",
        "\n",
        "    return epoch_loss / len(iterator)\n",
        "\n",
        "\n",
        "def evaluate(model: nn.Module,\n",
        "             iterator: torch.utils.data.DataLoader,\n",
        "             criterion: nn.Module):\n",
        "\n",
        "    model.eval()\n",
        "\n",
        "    epoch_loss = 0\n",
        "\n",
        "    with torch.no_grad():\n",
        "\n",
        "        for _, (src, trg) in enumerate(iterator):\n",
        "            src, trg = src.to(device), trg.to(device)\n",
        "\n",
        "            output = model(src, trg, 0) #turn off teacher forcing\n",
        "\n",
        "            output = output[1:].view(-1, output.shape[-1])\n",
        "            trg = trg[1:].view(-1)\n",
        "\n",
        "            loss = criterion(output, trg)\n",
        "\n",
        "            epoch_loss += loss.item()\n",
        "\n",
        "    return epoch_loss / len(iterator)\n",
        "\n",
        "\n",
        "def epoch_time(start_time: int,\n",
        "               end_time: int):\n",
        "    elapsed_time = end_time - start_time\n",
        "    elapsed_mins = int(elapsed_time / 60)\n",
        "    elapsed_secs = int(elapsed_time - (elapsed_mins * 60))\n",
        "    return elapsed_mins, elapsed_secs"
      ]
    },
    {
      "cell_type": "markdown",
      "metadata": {
        "id": "LTEqh14Vdkv5"
      },
      "source": [
        "##Training"
      ]
    },
    {
      "cell_type": "code",
      "execution_count": null,
      "metadata": {
        "id": "9RFrolIsdlok",
        "colab": {
          "base_uri": "https://localhost:8080/"
        },
        "outputId": "6787f711-4bcf-4284-842a-25537c6da943"
      },
      "outputs": [
        {
          "output_type": "stream",
          "name": "stdout",
          "text": [
            "Epoch: 01 | Time: 3m 0s\n",
            "\tTrain Loss: 5.221 | Train Perplexity: 185.152 |\n",
            "\t Val. Loss: 4.978 |   Val Perplexity: 145.255 |\n",
            "Epoch: 02 | Time: 2m 59s\n",
            "\tTrain Loss: 3.750 | Train Perplexity:  42.524 |\n",
            "\t Val. Loss: 4.250 |   Val Perplexity:  70.079 |\n"
          ]
        }
      ],
      "source": [
        "import math\n",
        "\n",
        "N_EPOCHS = 10\n",
        "CLIP = 1\n",
        "\n",
        "best_valid_loss = float('inf')\n",
        "\n",
        "for epoch in range(N_EPOCHS):\n",
        "\n",
        "    start_time = time.time()\n",
        "\n",
        "    train_loss = train(model, train_iter, optimizer, criterion, CLIP)\n",
        "    valid_loss = evaluate(model, val_iter, criterion)\n",
        "\n",
        "    end_time = time.time()\n",
        "\n",
        "    epoch_mins, epoch_secs = epoch_time(start_time, end_time)\n",
        "\n",
        "    if valid_loss < best_valid_loss:\n",
        "        best_valid_loss = valid_loss\n",
        "        torch.save(model.state_dict(), 's2s-model.pt')\n",
        "\n",
        "    print(f'Epoch: {epoch+1:02} | Time: {epoch_mins}m {epoch_secs}s')\n",
        "    print(f'\\tTrain Loss: {train_loss:.3f} | Train Perplexity: {math.exp(train_loss):7.3f} |')\n",
        "    print(f'\\t Val. Loss: {valid_loss:.3f} |   Val Perplexity: {math.exp(valid_loss):7.3f} |')"
      ]
    },
    {
      "cell_type": "markdown",
      "metadata": {
        "id": "jPplwjk1eJ7M"
      },
      "source": [
        "Loading model weights and evaluating"
      ]
    },
    {
      "cell_type": "code",
      "execution_count": null,
      "metadata": {
        "id": "RdrPfBYBeKDk"
      },
      "outputs": [],
      "source": [
        "# Load the saved model weights\n",
        "#model.load_state_dict(torch.load('s2s-model.pt'))\n",
        "\n",
        "test_loss = evaluate(model, test_iter, criterion)\n",
        "\n",
        "print(f'| Test Loss: {test_loss:.3f} | Test Perplexity: {math.exp(test_loss):7.3f} |')"
      ]
    },
    {
      "cell_type": "code",
      "execution_count": null,
      "metadata": {
        "id": "j2nCA6cntKfY"
      },
      "outputs": [],
      "source": [
        "src = test_data[2][0].reshape(len(test_data[2][0]),1).to(device)\n",
        "trg = test_data[2][1].reshape(len(test_data[2][1]),1).to(device)\n",
        "\n",
        "src_words = [vocab.get_itos()[token] for token in src]\n",
        "print(src_words)\n",
        "\n",
        "trg_words = [vocab.get_itos()[token] for token in trg]\n",
        "print(trg_words)\n",
        "\n",
        "#print(src)\n",
        "#print(trg)"
      ]
    },
    {
      "cell_type": "code",
      "execution_count": null,
      "metadata": {
        "id": "ZzrpNgDgueRM"
      },
      "outputs": [],
      "source": [
        "output=model(src, trg)\n",
        "\n",
        "output_idx = output[1:].squeeze(1).argmax(1)\n",
        "\n",
        "print(output_idx)\n",
        "\n",
        "pred_words = [vocab.get_itos()[token] for token in output_idx]\n",
        "print(pred_words)"
      ]
    },
    {
      "cell_type": "code",
      "execution_count": null,
      "metadata": {
        "id": "nGlZO9BxE0_Q"
      },
      "outputs": [],
      "source": [
        "test = [\"Samsung\"]\n"
      ]
    },
    {
      "cell_type": "code",
      "execution_count": null,
      "metadata": {
        "id": "-Ad22D5IJ_xb"
      },
      "outputs": [],
      "source": [
        "def process_input():\n",
        "  pass"
      ]
    },
    {
      "cell_type": "code",
      "execution_count": null,
      "metadata": {
        "id": "-NL1OqXLF9Ml"
      },
      "outputs": [],
      "source": [
        "def predict_sequence(input, model):\n",
        "  for data in input:\n",
        "\n",
        "    normalized_input = normalize_input(data)\n",
        "    processed_input = input_process(normalized_input)\n",
        "    input_seq = generate_input_sequence(processed_input)\n",
        "    input_seq = input_seq.unsqueeze(1)\n",
        "\n",
        "    model.eval()\n",
        "    with torch.no_grad():\n",
        "      output = model.predict(input_seq)\n",
        "\n",
        "    output_idx = output[1:].squeeze(1).argmax(1)\n",
        "\n",
        "    topk_values, topk_indices = output[1:].squeeze(1).topk(k=10, dim=1)\n",
        "\n",
        "    print(f\"TOP 10 PREDICTIONS FOR SEQUENCE: {data}\")\n",
        "    for row in topk_indices.t():\n",
        "\n",
        "      pred_words = [vocab.get_itos()[token] for token in row]\n",
        "      words_str = data + ' ' + ' '.join(pred_words)\n",
        "      print(words_str)"
      ]
    },
    {
      "cell_type": "code",
      "execution_count": null,
      "metadata": {
        "id": "20-09gUMLtoI"
      },
      "outputs": [],
      "source": [
        "device = torch.device(\"cuda:0\" if torch.cuda.is_available() else \"cpu\")\n",
        "model.eval()\n",
        "model.to(device)\n",
        "predict_sequence(test, model)"
      ]
    }
  ],
  "metadata": {
    "colab": {
      "provenance": [],
      "gpuType": "T4",
      "authorship_tag": "ABX9TyOJhWzcSwcvrgMGOo4aGqFV",
      "include_colab_link": true
    },
    "kernelspec": {
      "display_name": "Python 3",
      "name": "python3"
    },
    "language_info": {
      "name": "python"
    },
    "accelerator": "GPU"
  },
  "nbformat": 4,
  "nbformat_minor": 0
}